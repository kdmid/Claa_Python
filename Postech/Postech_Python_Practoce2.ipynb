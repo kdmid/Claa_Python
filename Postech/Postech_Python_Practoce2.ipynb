{
  "nbformat": 4,
  "nbformat_minor": 0,
  "metadata": {
    "colab": {
      "name": "Postech_Python_Practoce2.ipynb",
      "provenance": [],
      "authorship_tag": "ABX9TyN1HeunHB5QFL84cv/lQ7W1",
      "include_colab_link": true
    },
    "kernelspec": {
      "name": "python3",
      "display_name": "Python 3"
    }
  },
  "cells": [
    {
      "cell_type": "markdown",
      "metadata": {
        "id": "view-in-github",
        "colab_type": "text"
      },
      "source": [
        "<a href=\"https://colab.research.google.com/github/kdmid/Class_Python/blob/main/Postech/Postech_Python_Practoce2.ipynb\" target=\"_parent\"><img src=\"https://colab.research.google.com/assets/colab-badge.svg\" alt=\"Open In Colab\"/></a>"
      ]
    },
    {
      "cell_type": "markdown",
      "metadata": {
        "id": "aroXqIuEB9Sw"
      },
      "source": [
        "# 반복문 for, while"
      ]
    },
    {
      "cell_type": "markdown",
      "metadata": {
        "id": "xhgpM2N4CP3c"
      },
      "source": [
        "## for\n",
        "- 반복적이고 지루한 작업은 컴퓨터를 이용하여 자동화\n",
        "- for: 리스트나 튜플, 문자열의 첫 번째 요소부터 마지막 요소까지 차례로 변수에 대입되어 \"수행할 문장1\", \"수행할 문장2\" 등이 수행\n",
        "```\n",
        "for 변수 in 리스트(또는 튜플, 문자열):\n",
        "    수행할 문장1\n",
        "    수행할 문장2\n",
        "```"
      ]
    },
    {
      "cell_type": "code",
      "metadata": {
        "colab": {
          "base_uri": "https://localhost:8080/"
        },
        "id": "9hkyhad-Bbmz",
        "outputId": "e9ef9b7d-bc78-4920-ffc2-4235dd72f903"
      },
      "source": [
        "for x in range(5) :\n",
        "  print(\"Hello Python~!!\")"
      ],
      "execution_count": null,
      "outputs": [
        {
          "output_type": "stream",
          "text": [
            "Hello Python~!!\n",
            "Hello Python~!!\n",
            "Hello Python~!!\n",
            "Hello Python~!!\n",
            "Hello Python~!!\n"
          ],
          "name": "stdout"
        }
      ]
    },
    {
      "cell_type": "markdown",
      "metadata": {
        "id": "hjyfOUEdCdmJ"
      },
      "source": [
        "## range()함수\n",
        "- range(start, stop)와 같이 호출하면 start부터 시작하여서 (stop-1)까지의 정수가 생성\n",
        "- stop은 포함되지 않음\n",
        "- start부터 stop-1까지 step의 간격으로 정수들을 생성\n",
        "- start와 step이 대괄호로 싸여져 있는데 이는 생략할 수 있다는 의미\n",
        "- range(10)하면 0부터 9까지의 정수가 생성\n",
        "```\n",
        "range([start,] stop [,step])\n",
        "```"
      ]
    },
    {
      "cell_type": "code",
      "metadata": {
        "colab": {
          "base_uri": "https://localhost:8080/"
        },
        "id": "NVe7VyoDCPhG",
        "outputId": "a61a2099-e779-4639-d0c7-6d18430da800"
      },
      "source": [
        "sum = 0\n",
        "\n",
        "for x in range(10) : # 0~9\n",
        "  sum = sum + x\n",
        "\n",
        "print(sum)"
      ],
      "execution_count": null,
      "outputs": [
        {
          "output_type": "stream",
          "text": [
            "45\n"
          ],
          "name": "stdout"
        }
      ]
    },
    {
      "cell_type": "markdown",
      "metadata": {
        "id": "ukAz1tJODB86"
      },
      "source": [
        "- range() 함수는 지정된 범위의 값을 반환\n",
        "- range() 함수를 이용하면 특정 구간의 정수들을 생성"
      ]
    },
    {
      "cell_type": "code",
      "metadata": {
        "colab": {
          "base_uri": "https://localhost:8080/"
        },
        "id": "p53WPdc9C9k_",
        "outputId": "d5448fc4-6ed1-4b48-ee85-d0145076af96"
      },
      "source": [
        "sum = 0\n",
        "\n",
        "for x in range(1,11,1) :\n",
        "  sum = sum + x\n",
        "\n",
        "print(sum)"
      ],
      "execution_count": null,
      "outputs": [
        {
          "output_type": "stream",
          "text": [
            "55\n"
          ],
          "name": "stdout"
        }
      ]
    },
    {
      "cell_type": "markdown",
      "metadata": {
        "id": "Gfi4YsmdDISt"
      },
      "source": [
        "## 데이터 구조 : 리스트 (데이터들의 목록)"
      ]
    },
    {
      "cell_type": "code",
      "metadata": {
        "colab": {
          "base_uri": "https://localhost:8080/"
        },
        "id": "rhUw8fKtDJc7",
        "outputId": "9e66d179-ee09-44c0-afee-4ec00c77c372"
      },
      "source": [
        "for x in [0, 1, 2, 3, 4, 5, 6, 7, 8, 9] :\n",
        "  print(x, end=\" \") # end=\" \"는 가로로 출력하게 해준다."
      ],
      "execution_count": null,
      "outputs": [
        {
          "output_type": "stream",
          "text": [
            "0 1 2 3 4 5 6 7 8 9 "
          ],
          "name": "stdout"
        }
      ]
    },
    {
      "cell_type": "code",
      "metadata": {
        "colab": {
          "base_uri": "https://localhost:8080/"
        },
        "id": "XrZDESQ_DgCL",
        "outputId": "c050dd99-c576-450a-c080-d1f5dfc1c3a0"
      },
      "source": [
        "for name in [\"포닉스\", \"넙죽이\", \"눈송이\", \"독수리\" ]:\n",
        "  print(\"안녕! \" + name)"
      ],
      "execution_count": null,
      "outputs": [
        {
          "output_type": "stream",
          "text": [
            "안녕! 포닉스\n",
            "안녕! 넙죽이\n",
            "안녕! 눈송이\n",
            "안녕! 독수리\n"
          ],
          "name": "stdout"
        }
      ]
    },
    {
      "cell_type": "markdown",
      "metadata": {
        "id": "OwOoFET6DyeE"
      },
      "source": [
        "## 문자열 반복\n",
        "- 문자열도 시퀀스의 일부분\n",
        "- 문자열을 대상으로 반복문을 만들 수 있음\n"
      ]
    },
    {
      "cell_type": "code",
      "metadata": {
        "colab": {
          "base_uri": "https://localhost:8080/"
        },
        "id": "wbzRN6sXDkGn",
        "outputId": "2bbddb63-ff36-4497-b9be-b4c86f49874c"
      },
      "source": [
        "for c in \"abcdef\":\n",
        "  print(c, end=\" \")"
      ],
      "execution_count": null,
      "outputs": [
        {
          "output_type": "stream",
          "text": [
            "a b c d e f "
          ],
          "name": "stdout"
        }
      ]
    },
    {
      "cell_type": "markdown",
      "metadata": {
        "id": "ZxOuyBpwEEps"
      },
      "source": [
        "## while\n",
        "- 조건의 결과(참 또는 거짓)에 따라 특정 부분의 처리를 반복 실행하는 제어문장\n",
        "- 조건문이 참인 동안에 while문 아래에 속하는 문장들이 반복해서 수행\n",
        "\n",
        "```\n",
        "while 조건문:\n",
        "    수행할 문장1\n",
        "    수행할 문장2\n",
        "    수행할 문장3\n",
        "```"
      ]
    },
    {
      "cell_type": "code",
      "metadata": {
        "colab": {
          "base_uri": "https://localhost:8080/"
        },
        "id": "_p-j4z0NEPNN",
        "outputId": "dcd65ec9-a3ca-495d-b849-4d8680b6367d"
      },
      "source": [
        "i = 0;\n",
        "while i < 5 :\n",
        "  print(\"Hello Python~!!\")\n",
        "  i = i + 1\n",
        "print(\"반복이 종료되었습니다.\")"
      ],
      "execution_count": null,
      "outputs": [
        {
          "output_type": "stream",
          "text": [
            "Hello Python~!!\n",
            "Hello Python~!!\n",
            "Hello Python~!!\n",
            "Hello Python~!!\n",
            "Hello Python~!!\n",
            "반복이 종료되었습니다.\n"
          ],
          "name": "stdout"
        }
      ]
    },
    {
      "cell_type": "markdown",
      "metadata": {
        "id": "Z49jvIB7EMFP"
      },
      "source": [
        "## 분기문(Jump Statement)\n",
        "- 반복문 탈출하는 break문"
      ]
    },
    {
      "cell_type": "code",
      "metadata": {
        "colab": {
          "base_uri": "https://localhost:8080/"
        },
        "id": "vceafFVBEbID",
        "outputId": "aaf0486b-05f9-4975-a029-bc00717cd4cd"
      },
      "source": [
        "for i in range(1,100) :\n",
        "  print(\"for문을 %d번 실행 \" % i)\n",
        "  break"
      ],
      "execution_count": null,
      "outputs": [
        {
          "output_type": "stream",
          "text": [
            "for문을 1번 실행 \n"
          ],
          "name": "stdout"
        }
      ]
    },
    {
      "cell_type": "markdown",
      "metadata": {
        "id": "tIzSuNq6Em_a"
      },
      "source": [
        "- 반복문으로 다시 돌아가는 continue문\n",
        "    - continue문을 만나면 무조건 블록의 남은 부분을 건너뛰고 반복문의 처음으로 돌아감\n",
        "\n",
        "- 예제: 1~100까지의 합을 구하되 1 +2 +4 +5 +7 +8 +10 +…과 같이 3의 배수를 건너뛰고(=제외하고) 더하는 프로그램\n"
      ]
    },
    {
      "cell_type": "code",
      "metadata": {
        "colab": {
          "base_uri": "https://localhost:8080/"
        },
        "id": "GEq95tN4Eqmq",
        "outputId": "53b57e60-39df-43cc-c9fd-a61530079603"
      },
      "source": [
        "hap, i = 0,0\n",
        "for i in range(1,101) :\n",
        "  if i % 3 == 0:\n",
        "    continue\n",
        "  hap +=i\n",
        "\n",
        "print(\"1~100의 합계(3의 배수 제외) : %d\" % hap)\n"
      ],
      "execution_count": null,
      "outputs": [
        {
          "output_type": "stream",
          "text": [
            "1~100의 합계(3의 배수 제외) : 3367\n"
          ],
          "name": "stdout"
        }
      ]
    },
    {
      "cell_type": "markdown",
      "metadata": {
        "id": "jk58sOm0FkKe"
      },
      "source": [
        "- 예제 실습 : 정수들의 합\n",
        "    - 1부터 사용자가 입력한 수 n까지 더해서 (1+2+3+...+n)을 계산하는 프로그램을 작성 (for 문 사용)"
      ]
    },
    {
      "cell_type": "code",
      "metadata": {
        "colab": {
          "base_uri": "https://localhost:8080/"
        },
        "id": "PZn8wGT7FMEz",
        "outputId": "845fe187-b3de-4f21-a813-048c0d957ea3"
      },
      "source": [
        "# 반복을 이용한 정수합 프로그램\n",
        "sum = 0\n",
        "\n",
        "limit=int(input(\"어디까지 계산할까요: \"))\n",
        "for i in range(1, limit+1) :\n",
        "  sum += i\n",
        "\n",
        "print(\"1부터 \", limit, \"까지의 정수의 합= \", sum)"
      ],
      "execution_count": null,
      "outputs": [
        {
          "output_type": "stream",
          "text": [
            "어디까지 계산할까요: 777\n",
            "1부터  777 까지의 정수의 합=  302253\n"
          ],
          "name": "stdout"
        }
      ]
    },
    {
      "cell_type": "markdown",
      "metadata": {
        "id": "7yjRSStaF--7"
      },
      "source": [
        "- 예제 실습 : 팩토리얼 계산\n",
        "    - for문을 이용하여서 팩토리얼을 계산\n",
        "    - 팩토리얼 n!은 1부터 n까지의 정수를 모두 곱한 것을 의미\n",
        "    - n! = 1×2×3×……×(n-1)×n이다. "
      ]
    },
    {
      "cell_type": "code",
      "metadata": {
        "colab": {
          "base_uri": "https://localhost:8080/"
        },
        "id": "6t6K9fNSGHeK",
        "outputId": "e3421f22-565d-4173-fa97-b44052f90c06"
      },
      "source": [
        "# 반복을 이용한 팩토리얼 구하기\n",
        "fact=1.0\n",
        "\n",
        "n = int(input(\"정수를 입력하시오: \"))\n",
        "for i in range(1, n+1) :\n",
        "  fact = fact * i;\n",
        "\n",
        "print(n,\"!은\", fact, \"이다.\")"
      ],
      "execution_count": null,
      "outputs": [
        {
          "output_type": "stream",
          "text": [
            "정수를 입력하시오: 10\n",
            "10 !은 3628800.0 이다.\n"
          ],
          "name": "stdout"
        }
      ]
    },
    {
      "cell_type": "markdown",
      "metadata": {
        "id": "kSUbIrpJGVmh"
      },
      "source": [
        "- 예제실습: 자리수의 합\n",
        "    - 정수 안의 각 자리수의 합을 계산하는 프로그램을 작성\n",
        "    - 예를 들어서 1234라면 (1+2+3+4)를 계산"
      ]
    },
    {
      "cell_type": "code",
      "metadata": {
        "colab": {
          "base_uri": "https://localhost:8080/"
        },
        "id": "NE_0ygRWcPtS",
        "outputId": "25fd235b-6fd5-415f-beb1-8498cf396c70"
      },
      "source": [
        "number = 1234\n",
        "sum = 0;\n",
        "while number > 0 :\n",
        "    digit = number % 10\n",
        "    sum = sum + digit\n",
        "    number = number // 10\n",
        "print(\"자리수의 합은 %d입니다.\" % sum)"
      ],
      "execution_count": null,
      "outputs": [
        {
          "output_type": "stream",
          "text": [
            "자리수의 합은 10입니다.\n"
          ],
          "name": "stdout"
        }
      ]
    },
    {
      "cell_type": "markdown",
      "metadata": {
        "id": "M-Gd5eOgc4k1"
      },
      "source": [
        "- 예제 실습: 숫자 맞추기 게임\n",
        "    - 컴퓨터가 선택한 숫자를 사용자가 맞추는 게임\n",
        "    - 입력한 숫자가 선택한 숫자보다 높은 수인지 낮은 수인지 정보 제공\n",
        "    - 시도 횟수 제공\n"
      ]
    },
    {
      "cell_type": "code",
      "metadata": {
        "colab": {
          "base_uri": "https://localhost:8080/"
        },
        "id": "RRuqZcFPdDNt",
        "outputId": "8285f4d7-0cdb-45db-90f5-7d3e5aeeebef"
      },
      "source": [
        "import random\n",
        "\n",
        "tries = 0\n",
        "number = random.randint(1, 100)\n",
        "\n",
        "print(\"1부터 100 사이의 숫자를 맞추시오\")\n",
        "\n",
        "while tries < 10:\n",
        "  guess = int(input(\"숫자를 입력하시오: \"))\n",
        "  tries = tries + 1\n",
        "  if guess < number:\n",
        "    print(\"낮음!\")\n",
        "  elif guess > number:\n",
        "    print(\"높음!\")\n",
        "  else:\n",
        "    break\n",
        "if guess == number:\n",
        "  print(\"축하합니다. 시도횟수=\", tries)\n",
        "else:\n",
        "  print(\"정답은 \", number)"
      ],
      "execution_count": null,
      "outputs": [
        {
          "output_type": "stream",
          "text": [
            "1부터 100 사이의 숫자를 맞추시오\n",
            "숫자를 입력하시오: 40\n",
            "낮음!\n",
            "숫자를 입력하시오: 87\n",
            "높음!\n",
            "숫자를 입력하시오: 52\n",
            "낮음!\n",
            "숫자를 입력하시오: 66\n",
            "낮음!\n",
            "숫자를 입력하시오: 70\n",
            "낮음!\n",
            "숫자를 입력하시오: 75\n",
            "높음!\n",
            "숫자를 입력하시오: 73\n",
            "낮음!\n",
            "숫자를 입력하시오: 74\n",
            "축하합니다. 시도횟수= 8\n"
          ],
          "name": "stdout"
        }
      ]
    },
    {
      "cell_type": "markdown",
      "metadata": {
        "id": "HlXxA1BgdaXH"
      },
      "source": [
        "- 예제 실습: 커피 자판기(실행)"
      ]
    },
    {
      "cell_type": "code",
      "metadata": {
        "colab": {
          "base_uri": "https://localhost:8080/",
          "height": 134
        },
        "id": "0MS89JnAded2",
        "outputId": "0c6c98a6-31bb-46a1-946f-bd39d7c41e09"
      },
      "source": [
        "coffee = 10\n",
        "money = 300\n",
        "\n",
        "while money:\n",
        "  print(\"돈을 받았으니 커피를 줍니다.\")\n",
        "  coffee = coffee ‐ 1\n",
        "  print(\"남은 커피의 양은 %d개입니다.\" % coffee)\n",
        "  if not coffee:\n",
        "    print(\"커피가 다 떨어졌습니다. 판매를 중지합니다.\")\n",
        "    break"
      ],
      "execution_count": null,
      "outputs": [
        {
          "output_type": "error",
          "ename": "SyntaxError",
          "evalue": "ignored",
          "traceback": [
            "\u001b[0;36m  File \u001b[0;32m\"<ipython-input-6-7842a924c1de>\"\u001b[0;36m, line \u001b[0;32m6\u001b[0m\n\u001b[0;31m    coffee = coffee ‐ 1\u001b[0m\n\u001b[0m                    ^\u001b[0m\n\u001b[0;31mSyntaxError\u001b[0m\u001b[0;31m:\u001b[0m invalid character in identifier\n"
          ]
        }
      ]
    },
    {
      "cell_type": "markdown",
      "metadata": {
        "id": "F-Ai3rNif8t5"
      },
      "source": [
        "# 함수 개념"
      ]
    },
    {
      "cell_type": "markdown",
      "metadata": {
        "id": "tOhk8CQpgEH_"
      },
      "source": [
        "## 함수의 개념\n",
        "\n",
        "- 함수(function)는 독립적으로 수행하는 프로그램 단위로 특정 작업을 수행하는 명령어들의 모음에 이름을 붙인 것\n",
        "\n",
        "- 프로그램에서 반복적으로 수행되는 기능을 함수로 만들어 호출\n",
        "\n",
        "- 함수는 작업에 필요한 데이터(매개변수)를 전달받을 수 있으며, 작업이 완료된 후에는 작업의 결과를 호출자에게 반환할 수 있음"
      ]
    },
    {
      "cell_type": "markdown",
      "metadata": {
        "id": "azNTA7l6gNn4"
      },
      "source": [
        "## 함수의 필요성\n",
        "\n",
        "- 함수는 문제 해결의 방법\n",
        "- 주어진 문제를 작은 문제, 즉 여러 함수로 나누어 생각할 수 있으므로 함수를 만드는 것은 문제 해결의 하나의 방법\n",
        "- 함수 이용의 장점\n",
        "- 함수로 구성된 프로그램은 함수 단위로 구성되어 있어, 읽기 쉽고, 이해하기 쉬움\n",
        "- 이미 정의된 함수는 여러 번 호출이 가능하므로 소스의 중복을 최소화하여 프로그램의 양을 줄이는 효과"
      ]
    },
    {
      "cell_type": "markdown",
      "metadata": {
        "id": "wliXMi_txkIK"
      },
      "source": [
        "## 함수 정의(Python)\n",
        "- 함수 정의는 def로 시작하고 콜론(:)으로 끝냄\n",
        "- 함수의 시작과 끝은 코드의 들여쓰기로 구분\n",
        "- 시작과 끝을 명시해 줄 필요가 없음\n",
        "\n",
        "```\n",
        "def 함수이름 (입력 인수) :\n",
        "  수행할 문장\n",
        "  …\n",
        "  return 반환값\n",
        "```\n",
        "\n",
        "- 함수 정의 문법\n",
        "\n",
        "```\n",
        "def 함수이름 (Argument list …):\n",
        "  수행문(statements)\n",
        "  return <반환값>\n",
        "```\n",
        "\n",
        "- 간단한 함수 선언해 보기\n",
        "    - 입력 받은 2개의 매개변수(인수)를 서로 더한 값을 리턴\n",
        "\n",
        "```\n",
        "def add(a, b):\n",
        "  return a+b\n",
        ">>> add(10, 10)\n",
        "20\n",
        "```"
      ]
    },
    {
      "cell_type": "markdown",
      "metadata": {
        "id": "OGwd_2tZ0hoR"
      },
      "source": [
        "## 함수 정의와 함수 호출"
      ]
    },
    {
      "cell_type": "code",
      "metadata": {
        "colab": {
          "base_uri": "https://localhost:8080/"
        },
        "id": "8agROGq654xn",
        "outputId": "9dfbec8a-46b4-4f28-c4cc-568b4f34894a"
      },
      "source": [
        "#함수 정의\n",
        "def add(a, b) :\n",
        "  result = a + b\n",
        "  return result\n",
        "  \n",
        "#함수 호출\n",
        "sum = add(100, 200)\n",
        "print(sum)"
      ],
      "execution_count": null,
      "outputs": [
        {
          "output_type": "stream",
          "text": [
            "300\n"
          ],
          "name": "stdout"
        }
      ]
    },
    {
      "cell_type": "markdown",
      "metadata": {
        "id": "gdj8IpMW0yiA"
      },
      "source": [
        "## 함수 매개변수와 반환 값\n",
        "- 입력 값과 반환 값이 없는 함수\n",
        "\n",
        "```\n",
        "def say():\n",
        "  print(\"hello\")\n",
        "```\n",
        "    - None을 반환\n",
        "\n",
        "- 입력 값은 없고 반환 값이 있는 함수\n",
        "\n",
        "```\n",
        "def say():\n",
        "  return(\"hello\" )\n",
        "```"
      ]
    },
    {
      "cell_type": "markdown",
      "metadata": {
        "id": "HJFQkVvw1F6J"
      },
      "source": [
        "## 함수 작성 예시\n",
        "- 정수의 거듭제곱값을 계산하여 반환하는 함수 작성 ( ** 연산자 사용가능)"
      ]
    },
    {
      "cell_type": "code",
      "metadata": {
        "colab": {
          "base_uri": "https://localhost:8080/"
        },
        "id": "jvxIxOjkeQE5",
        "outputId": "0bcffa5d-4904-4ccc-900f-3d5487d812b3"
      },
      "source": [
        "def power(x, y):\n",
        "  result = 1\n",
        "  for i in range(y):\n",
        "    result = result * x\n",
        "  return result\n",
        "  \n",
        "print(power(10, 2))"
      ],
      "execution_count": null,
      "outputs": [
        {
          "output_type": "stream",
          "text": [
            "100\n"
          ],
          "name": "stdout"
        }
      ]
    },
    {
      "cell_type": "markdown",
      "metadata": {
        "id": "SUiU0NYd1eSY"
      },
      "source": [
        "## 함수를 이용할 때 주의할 점\n",
        "- 파이썬 인터프리터는 함수가 정의되면 함수 안의 문장들은 즉시 실행하지 않음\n",
        "- 함수 정의가 아닌 문장들은 즉시 실행"
      ]
    },
    {
      "cell_type": "code",
      "metadata": {
        "colab": {
          "base_uri": "https://localhost:8080/"
        },
        "id": "6h4bEze_1nqU",
        "outputId": "c1859eb0-444f-4c37-9990-53a1e6d5f52a"
      },
      "source": [
        "print(power(10, 2))\n",
        "\n",
        "def power(x, y):\n",
        "  result = 1\n",
        "  for i in range(y):\n",
        "    result = result * x\n",
        "  return result"
      ],
      "execution_count": null,
      "outputs": [
        {
          "output_type": "stream",
          "text": [
            "100\n"
          ],
          "name": "stdout"
        }
      ]
    },
    {
      "cell_type": "markdown",
      "metadata": {
        "id": "WRGhQL5Jf7ph"
      },
      "source": [
        "## 함수 작성 예시(2)\n",
        "- 정수의 거듭제곱값을 계산하여 반환하는 함수 작성 ( ** 연산자 사용가능)\n",
        "- main() 함수 호출 활용"
      ]
    },
    {
      "cell_type": "code",
      "metadata": {
        "colab": {
          "base_uri": "https://localhost:8080/"
        },
        "id": "XMyfp0Ub2AiY",
        "outputId": "c434a1fe-a7f3-49eb-d5bc-c6286b2b26a8"
      },
      "source": [
        "def main():\n",
        "  print(power(10, 2))\n",
        "\n",
        "def power(x, y):\n",
        "  result = 1\n",
        "  for i in range(y):\n",
        "    result = result * x\n",
        "  return result\n",
        "\n",
        "main()"
      ],
      "execution_count": null,
      "outputs": [
        {
          "output_type": "stream",
          "text": [
            "100\n"
          ],
          "name": "stdout"
        }
      ]
    },
    {
      "cell_type": "markdown",
      "metadata": {
        "id": "LBzW9wLR4NkO"
      },
      "source": [
        "## 함수 실습"
      ]
    },
    {
      "cell_type": "code",
      "metadata": {
        "colab": {
          "base_uri": "https://localhost:8080/"
        },
        "id": "qcWTT5XG7zeN",
        "outputId": "4cc4c9bc-fc74-4c92-9e37-1f1565e8843d"
      },
      "source": [
        "# 함수\n",
        "def add(a,b):\n",
        "  return a+b\n",
        "\n",
        "def swap(a,b):\n",
        "  a,b = b,a\n",
        "  return a,b\n",
        "\n",
        "# 시작코드\n",
        "a = int(input(\"정수1 입력: \"))\n",
        "b = int(input(\"정수2 입력: \"))\n",
        "sum = add(a,b)\n",
        "average = sum / 2\n",
        "print(\"두 수의 합 : \", sum)\n",
        "print(\"두 수의 평균 : \", average)\n",
        "a, b = swap(a, b)\n",
        "print(\"두 수의 교환 : \", a, b)"
      ],
      "execution_count": null,
      "outputs": [
        {
          "output_type": "stream",
          "text": [
            "정수1 입력: 80\n",
            "정수2 입력: 90\n",
            "두 수의 합 :  170\n",
            "두 수의 평균 :  85.0\n",
            "두 수의 교환 :  90 80\n"
          ],
          "name": "stdout"
        }
      ]
    },
    {
      "cell_type": "markdown",
      "metadata": {
        "id": "dvTkuXdO-MRe"
      },
      "source": [
        "## 리스트\n",
        "\n",
        "- 리스트는 여러 개의 데이터를 하나의 이름으로 관리할 수 있는 데이터 구조\n",
        "- 서로 다른 데이터 타입의 데이터를 하나의 리스트이름으로 관리 가능"
      ]
    },
    {
      "cell_type": "code",
      "metadata": {
        "colab": {
          "base_uri": "https://localhost:8080/"
        },
        "id": "3eSMyqzV-O4T",
        "outputId": "a0e84d43-59a5-4652-c68c-7b926c23ffb3"
      },
      "source": [
        "fruit = ['banana', 'apple', 'orange']\n",
        "'apple' in fruit"
      ],
      "execution_count": 1,
      "outputs": [
        {
          "output_type": "execute_result",
          "data": {
            "text/plain": [
              "True"
            ]
          },
          "metadata": {
            "tags": []
          },
          "execution_count": 1
        }
      ]
    },
    {
      "cell_type": "code",
      "metadata": {
        "colab": {
          "base_uri": "https://localhost:8080/"
        },
        "id": "BP-TKxwu-TDg",
        "outputId": "92314710-4928-4be1-bfe4-36b4558c1552"
      },
      "source": [
        "'cherry' in fruit"
      ],
      "execution_count": 2,
      "outputs": [
        {
          "output_type": "execute_result",
          "data": {
            "text/plain": [
              "False"
            ]
          },
          "metadata": {
            "tags": []
          },
          "execution_count": 2
        }
      ]
    },
    {
      "cell_type": "code",
      "metadata": {
        "colab": {
          "base_uri": "https://localhost:8080/"
        },
        "id": "dVvPPj71-Ym0",
        "outputId": "092fb125-9529-4acf-9cc2-3c43862dfa38"
      },
      "source": [
        "scores = [ 32, 56, 64, 72, 12, 37, 98, 77, 59, 69]\n",
        "\n",
        "for element in scores:\n",
        "  print(element, end=' ')"
      ],
      "execution_count": 4,
      "outputs": [
        {
          "output_type": "stream",
          "text": [
            "32 56 64 72 12 37 98 77 59 69 "
          ],
          "name": "stdout"
        }
      ]
    },
    {
      "cell_type": "code",
      "metadata": {
        "colab": {
          "base_uri": "https://localhost:8080/"
        },
        "id": "x-fY8nvQBtxk",
        "outputId": "06f1581f-ee12-45d5-b0a9-bed2a2131437"
      },
      "source": [
        "STUDENTS = 5\n",
        "\n",
        "scores = []\n",
        "scoreSum = 0\n",
        "\n",
        "for i in range(STUDENTS):\n",
        "  value = int(input(\"성적을 입력하세요: \"))\n",
        "  scores.append(value) #리스트에 값을 추가\n",
        "  scoreSum += value\n",
        "\n",
        "scoreAvg = scoreSum / len(scores)\n",
        "highScoreStudents = 0\n",
        "for i in range(len(scores)):\n",
        "  if scores[i] >= 80:\n",
        "    highScoreStudents += 1\n",
        "    \n",
        "print(\"성적 평균은\", scoreAvg, \"입니다.\")\n",
        "print(\"80점 이상 성적을 받은 학생은\", highScoreStudents, \"명입니다.\")"
      ],
      "execution_count": 5,
      "outputs": [
        {
          "output_type": "stream",
          "text": [
            "성적을 입력하세요: 75\n",
            "성적을 입력하세요: 85\n",
            "성적을 입력하세요: 42\n",
            "성적을 입력하세요: 91\n",
            "성적을 입력하세요: 64\n",
            "성적 평균은 71.4 입니다.\n",
            "80점 이상 성적을 받은 학생은 2 명입니다.\n"
          ],
          "name": "stdout"
        }
      ]
    },
    {
      "cell_type": "code",
      "metadata": {
        "colab": {
          "base_uri": "https://localhost:8080/"
        },
        "id": "tijNotrHDzWx",
        "outputId": "fb69b4f3-f8a8-4928-e56e-0aa3b9cb8286"
      },
      "source": [
        "Names = []\n",
        "while True:\n",
        "  name = input(\"학생 이름을 입력하세요: \")\n",
        "  if name == \"\" :\n",
        "    break\n",
        "  Names.append(name)\n",
        "  \n",
        "print(\"학생 이름:\")\n",
        "for name in Names:\n",
        "  ㅇprint(name, end=\", \")"
      ],
      "execution_count": 6,
      "outputs": [
        {
          "output_type": "stream",
          "text": [
            "학생 이름을 입력하세요: 슬기\n",
            "학생 이름을 입력하세요: 예리\n",
            "학생 이름을 입력하세요: 조이\n",
            "학생 이름을 입력하세요: 아이린\n",
            "학생 이름을 입력하세요: 웬디\n",
            "학생 이름을 입력하세요: \n",
            "학생 이름:\n",
            "슬기, 예리, 조이, 아이린, 웬디, "
          ],
          "name": "stdout"
        }
      ]
    },
    {
      "cell_type": "code",
      "metadata": {
        "colab": {
          "base_uri": "https://localhost:8080/"
        },
        "id": "N1jx8B5QEU3F",
        "outputId": "387aac86-82aa-44c8-9533-3ef619d055bb"
      },
      "source": [
        "scores = [32,56,64,72,12,37,98,77,59,69]\n",
        "\n",
        "count = 0\n",
        "for element in scores:\n",
        "  if element >= 70:\n",
        "    count += 1\n",
        "\n",
        "print(count)"
      ],
      "execution_count": 7,
      "outputs": [
        {
          "output_type": "stream",
          "text": [
            "3\n"
          ],
          "name": "stdout"
        }
      ]
    },
    {
      "cell_type": "markdown",
      "metadata": {
        "id": "c0p8mX7ME7Jv"
      },
      "source": [
        "## 데이터 구조\n",
        "\n",
        "- 프로그램에서 자료들을 저장하는 여러 가지 구조들이 있다. 이를 자료 구조(data structure)라 부른다.\n",
        "- 파이썬에는 리스트, 튜플, 딕셔너리, 문자열 등 다양한 데이터 구조를 기본으로 사용할 수 있도록 제공한다."
      ]
    },
    {
      "cell_type": "markdown",
      "metadata": {
        "id": "gLkQCZoiFUWv"
      },
      "source": [
        "리스트 예제"
      ]
    },
    {
      "cell_type": "code",
      "metadata": {
        "colab": {
          "base_uri": "https://localhost:8080/"
        },
        "id": "oyBGOXnJE_8I",
        "outputId": "76fcd5c6-19d5-447b-8f09-4e9d890d94ad"
      },
      "source": [
        "menu = 0\n",
        "friends = []\n",
        "while menu != 9:\n",
        "  print(\"‐‐‐‐‐‐‐‐‐‐‐‐‐‐‐‐‐‐‐‐\")\n",
        "  print(\"1. 친구 리스트 출력\")\n",
        "  print(\"2. 친구추가\")\n",
        "  print(\"3. 친구삭제\")\n",
        "  print(\"4. 이름변경\")\n",
        "  print(\"9. 종료\")\n",
        "  menu = int(input(\"메뉴를 선택하시오: \"))\n",
        "  if menu == 1:\n",
        "    print(friends)\n",
        "  elif menu== 2:\n",
        "    name = input(\"이름을 입력하시오: \")\n",
        "    friends.append(name)\n",
        "  elif menu == 3:\n",
        "    del_name = input(\"삭제하고 싶은 이름을 입력하시오: \")\n",
        "    if del_name in friends:\n",
        "      friends.remove(del_name)\n",
        "    else:\n",
        "      print(\"이름이 발견되지 않았음\")\n",
        "  elif menu == 4:\n",
        "    old_name = input(\"변경하고 싶은 이름을 입력하시오: \")\n",
        "    if old_name in friends:\n",
        "      index = friends.index(old_name)\n",
        "      new_name = input(\"새로운 이름을 입력하시오: \")\n",
        "      friends[index] = new_name\n",
        "    else:\n",
        "      print(\"이름이 발견되지 않았음\")"
      ],
      "execution_count": 10,
      "outputs": [
        {
          "output_type": "stream",
          "text": [
            "‐‐‐‐‐‐‐‐‐‐‐‐‐‐‐‐‐‐‐‐\n",
            "1. 친구 리스트 출력\n",
            "2. 친구추가\n",
            "3. 친구삭제\n",
            "4. 이름변경\n",
            "9. 종료\n",
            "메뉴를 선택하시오: 2\n",
            "이름을 입력하시오: 아린\n",
            "‐‐‐‐‐‐‐‐‐‐‐‐‐‐‐‐‐‐‐‐\n",
            "1. 친구 리스트 출력\n",
            "2. 친구추가\n",
            "3. 친구삭제\n",
            "4. 이름변경\n",
            "9. 종료\n",
            "메뉴를 선택하시오: 1\n",
            "['아린']\n",
            "‐‐‐‐‐‐‐‐‐‐‐‐‐‐‐‐‐‐‐‐\n",
            "1. 친구 리스트 출력\n",
            "2. 친구추가\n",
            "3. 친구삭제\n",
            "4. 이름변경\n",
            "9. 종료\n",
            "메뉴를 선택하시오: 9\n"
          ],
          "name": "stdout"
        }
      ]
    },
    {
      "cell_type": "markdown",
      "metadata": {
        "id": "P5LNtY2bGfYd"
      },
      "source": [
        "튜플 : 튜플(tuple)은 변경될 수 없는 리스트"
      ]
    },
    {
      "cell_type": "code",
      "metadata": {
        "colab": {
          "base_uri": "https://localhost:8080/"
        },
        "id": "ABDWg1DPGoTB",
        "outputId": "2c1f8b7e-fb2a-460e-ec36-63b571a2a135"
      },
      "source": [
        "colors = (\"red\", \"green\", \"blue\")\n",
        "colors"
      ],
      "execution_count": 11,
      "outputs": [
        {
          "output_type": "execute_result",
          "data": {
            "text/plain": [
              "('red', 'green', 'blue')"
            ]
          },
          "metadata": {
            "tags": []
          },
          "execution_count": 11
        }
      ]
    },
    {
      "cell_type": "code",
      "metadata": {
        "colab": {
          "base_uri": "https://localhost:8080/"
        },
        "id": "URKMPdA0GtQA",
        "outputId": "79382fe3-22dc-440d-d39d-8417a7479efa"
      },
      "source": [
        "numbers = (1, 2, 3, 4, 5 )\n",
        "numbers"
      ],
      "execution_count": 12,
      "outputs": [
        {
          "output_type": "execute_result",
          "data": {
            "text/plain": [
              "(1, 2, 3, 4, 5)"
            ]
          },
          "metadata": {
            "tags": []
          },
          "execution_count": 12
        }
      ]
    },
    {
      "cell_type": "markdown",
      "metadata": {
        "id": "tpVB_TcnGvRB"
      },
      "source": [
        "튜플은 값을 변경할 수 없음"
      ]
    },
    {
      "cell_type": "code",
      "metadata": {
        "colab": {
          "base_uri": "https://localhost:8080/",
          "height": 134
        },
        "id": "HWpZ6U8sGv4E",
        "outputId": "4d136e1d-a80f-4597-f457-36374880e99c"
      },
      "source": [
        "t1 = (1, 2, 3, 4, 5)\n",
        "t1[0] = 100\n",
        "Traceback (most recent call last):\n",
        "  File \"<pyshell#11>\", line 1, in <module>\n",
        "    t1[0]=100"
      ],
      "execution_count": 13,
      "outputs": [
        {
          "output_type": "error",
          "ename": "SyntaxError",
          "evalue": "ignored",
          "traceback": [
            "\u001b[0;36m  File \u001b[0;32m\"<ipython-input-13-e67199dc8d7c>\"\u001b[0;36m, line \u001b[0;32m3\u001b[0m\n\u001b[0;31m    Traceback (most recent call last):\u001b[0m\n\u001b[0m                         ^\u001b[0m\n\u001b[0;31mSyntaxError\u001b[0m\u001b[0;31m:\u001b[0m invalid syntax\n"
          ]
        }
      ]
    },
    {
      "cell_type": "code",
      "metadata": {
        "colab": {
          "base_uri": "https://localhost:8080/"
        },
        "id": "P9A_ZhzIG4zu",
        "outputId": "bbf1744d-cf01-4283-8368-6d44985c0ca3"
      },
      "source": [
        "numbers = ( 1, 2, 3, 4, 5 )\n",
        "colors = (\"red\", \"green\", \"blue\")\n",
        "t = numbers + colors\n",
        "\n",
        "t"
      ],
      "execution_count": 14,
      "outputs": [
        {
          "output_type": "execute_result",
          "data": {
            "text/plain": [
              "(1, 2, 3, 4, 5, 'red', 'green', 'blue')"
            ]
          },
          "metadata": {
            "tags": []
          },
          "execution_count": 14
        }
      ]
    },
    {
      "cell_type": "markdown",
      "metadata": {
        "id": "Sb7fXb0XG-1-"
      },
      "source": [
        "딕셔너리"
      ]
    },
    {
      "cell_type": "code",
      "metadata": {
        "colab": {
          "base_uri": "https://localhost:8080/"
        },
        "id": "DXSjTiGMHBkX",
        "outputId": "147f781a-888b-4181-e598-97736503e325"
      },
      "source": [
        "contacts = {'Kim':'01012345678', 'Park':'01012345679', 'Lee':'01012345680' }\n",
        "contacts"
      ],
      "execution_count": 15,
      "outputs": [
        {
          "output_type": "execute_result",
          "data": {
            "text/plain": [
              "{'Kim': '01012345678', 'Lee': '01012345680', 'Park': '01012345679'}"
            ]
          },
          "metadata": {
            "tags": []
          },
          "execution_count": 15
        }
      ]
    },
    {
      "cell_type": "code",
      "metadata": {
        "colab": {
          "base_uri": "https://localhost:8080/",
          "height": 35
        },
        "id": "Wuqcjy9_HSRQ",
        "outputId": "d0f3d853-5128-4bc7-84e4-b71c2fd6dfad"
      },
      "source": [
        "contacts = {'Kim':'01012345678', 'Park':'01012345679', 'Lee':'01012345680' }\n",
        "contacts['Kim']"
      ],
      "execution_count": 16,
      "outputs": [
        {
          "output_type": "execute_result",
          "data": {
            "application/vnd.google.colaboratory.intrinsic+json": {
              "type": "string"
            },
            "text/plain": [
              "'01012345678'"
            ]
          },
          "metadata": {
            "tags": []
          },
          "execution_count": 16
        }
      ]
    },
    {
      "cell_type": "code",
      "metadata": {
        "colab": {
          "base_uri": "https://localhost:8080/",
          "height": 35
        },
        "id": "F_W47gJGHWIn",
        "outputId": "642d3f7b-e460-4dc5-8a05-96a15d5bb600"
      },
      "source": [
        "contacts.get('Kim')"
      ],
      "execution_count": 17,
      "outputs": [
        {
          "output_type": "execute_result",
          "data": {
            "application/vnd.google.colaboratory.intrinsic+json": {
              "type": "string"
            },
            "text/plain": [
              "'01012345678'"
            ]
          },
          "metadata": {
            "tags": []
          },
          "execution_count": 17
        }
      ]
    },
    {
      "cell_type": "code",
      "metadata": {
        "colab": {
          "base_uri": "https://localhost:8080/"
        },
        "id": "l8v6eHMOHb5Q",
        "outputId": "da109e5a-24db-4250-8c5f-6712be6bbb3f"
      },
      "source": [
        "if \"Kim\" in contacts:\n",
        "  print(\"키가 딕셔너리에 있음\")"
      ],
      "execution_count": 18,
      "outputs": [
        {
          "output_type": "stream",
          "text": [
            "키가 딕셔너리에 있음\n"
          ],
          "name": "stdout"
        }
      ]
    },
    {
      "cell_type": "code",
      "metadata": {
        "colab": {
          "base_uri": "https://localhost:8080/"
        },
        "id": "7dfYSPa-HfDm",
        "outputId": "7f3bd762-fdc9-43e9-e354-ef00286f25f9"
      },
      "source": [
        "scores = { 'Korean': 80, 'Math': 90, 'English': 80}\n",
        "for item in scores.items():\n",
        "  print(item)"
      ],
      "execution_count": 19,
      "outputs": [
        {
          "output_type": "stream",
          "text": [
            "('Korean', 80)\n",
            "('Math', 90)\n",
            "('English', 80)\n"
          ],
          "name": "stdout"
        }
      ]
    },
    {
      "cell_type": "markdown",
      "metadata": {
        "id": "HNuVH7vHHvBN"
      },
      "source": [
        "문자열\n",
        "- 문자 열은 문자들의 시퀀스로 정의\n",
        "- 글자들이 실(string)로 묶여 있는 것이 문자열"
      ]
    },
    {
      "cell_type": "code",
      "metadata": {
        "colab": {
          "base_uri": "https://localhost:8080/"
        },
        "id": "MHio3lDuHyfX",
        "outputId": "a57de3b6-c4ec-42ae-8c6e-b135525f1aef"
      },
      "source": [
        "word = 'abcdef'\n",
        "print(word[0])\n",
        "print(word[5])"
      ],
      "execution_count": 20,
      "outputs": [
        {
          "output_type": "stream",
          "text": [
            "a\n",
            "f\n"
          ],
          "name": "stdout"
        }
      ]
    },
    {
      "cell_type": "markdown",
      "metadata": {
        "id": "vEeTvKkkILxs"
      },
      "source": [
        "슬라이싱"
      ]
    },
    {
      "cell_type": "code",
      "metadata": {
        "colab": {
          "base_uri": "https://localhost:8080/"
        },
        "id": "LqQjwE8aINWB",
        "outputId": "9b3aa57b-b4bf-4079-d420-f79a4671be84"
      },
      "source": [
        "word = 'Python'\n",
        "print(word[0:2])\n",
        "print(word[2:5])"
      ],
      "execution_count": 21,
      "outputs": [
        {
          "output_type": "stream",
          "text": [
            "Py\n",
            "tho\n"
          ],
          "name": "stdout"
        }
      ]
    },
    {
      "cell_type": "markdown",
      "metadata": {
        "id": "Nbzn6ucLIVRa"
      },
      "source": [
        "in 연산자와 not in 연산자"
      ]
    },
    {
      "cell_type": "code",
      "metadata": {
        "colab": {
          "base_uri": "https://localhost:8080/"
        },
        "id": "y0OFm-hKIWBM",
        "outputId": "323d4d74-a859-48ce-f28d-db9f70361398"
      },
      "source": [
        "s=\"Love will find a way.\"\n",
        "\"Love\" in s"
      ],
      "execution_count": 22,
      "outputs": [
        {
          "output_type": "execute_result",
          "data": {
            "text/plain": [
              "True"
            ]
          },
          "metadata": {
            "tags": []
          },
          "execution_count": 22
        }
      ]
    }
  ]
}