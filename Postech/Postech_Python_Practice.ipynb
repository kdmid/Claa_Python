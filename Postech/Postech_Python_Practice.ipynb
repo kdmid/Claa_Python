{
  "nbformat": 4,
  "nbformat_minor": 0,
  "metadata": {
    "colab": {
      "name": "Postech_Python_Practice.ipynb",
      "provenance": [],
      "authorship_tag": "ABX9TyNbfI7TTDwbnhzKjbLO6BbL",
      "include_colab_link": true
    },
    "kernelspec": {
      "name": "python3",
      "display_name": "Python 3"
    }
  },
  "cells": [
    {
      "cell_type": "markdown",
      "metadata": {
        "id": "view-in-github",
        "colab_type": "text"
      },
      "source": [
        "<a href=\"https://colab.research.google.com/github/kdmid/Class_Python/blob/main/Postech/Postech_Python_Practice.ipynb\" target=\"_parent\"><img src=\"https://colab.research.google.com/assets/colab-badge.svg\" alt=\"Open In Colab\"/></a>"
      ]
    },
    {
      "cell_type": "markdown",
      "metadata": {
        "id": "oNNyK5NQs5lH"
      },
      "source": [
        "# 변수와 메모리\n",
        "- 파이썬에서 변수의 데이터 형식은 값을 넣는 순간마다 변경될 수 있\n",
        "는 유연한 구조"
      ]
    },
    {
      "cell_type": "code",
      "metadata": {
        "id": "5l0VoOICl_z5",
        "outputId": "70190afc-7243-4ab9-ba25-e2f93ab3488a",
        "colab": {
          "base_uri": "https://localhost:8080/"
        }
      },
      "source": [
        "a = 10 #정수형\n",
        "type(a)"
      ],
      "execution_count": 2,
      "outputs": [
        {
          "output_type": "execute_result",
          "data": {
            "text/plain": [
              "int"
            ]
          },
          "metadata": {
            "tags": []
          },
          "execution_count": 2
        }
      ]
    },
    {
      "cell_type": "code",
      "metadata": {
        "id": "XpqswEm4mWIW",
        "outputId": "15b14084-68b8-4820-eff1-b3b733704d0d",
        "colab": {
          "base_uri": "https://localhost:8080/"
        }
      },
      "source": [
        " a = 10.5 #실수형\n",
        "type(a)"
      ],
      "execution_count": 3,
      "outputs": [
        {
          "output_type": "execute_result",
          "data": {
            "text/plain": [
              "float"
            ]
          },
          "metadata": {
            "tags": []
          },
          "execution_count": 3
        }
      ]
    },
    {
      "cell_type": "markdown",
      "metadata": {
        "id": "AalRoaNFtZEe"
      },
      "source": [
        "- 변수에는 다른 변수의 값도 저장 가능"
      ]
    },
    {
      "cell_type": "code",
      "metadata": {
        "id": "ElH8GmeLtZ8G",
        "outputId": "1bbef176-5fe5-4878-93b2-a391d26d6709",
        "colab": {
          "base_uri": "https://localhost:8080/"
        }
      },
      "source": [
        "width = 10\n",
        "height = 20\n",
        "area = width * height\n",
        "print(area)"
      ],
      "execution_count": 4,
      "outputs": [
        {
          "output_type": "stream",
          "text": [
            "200\n"
          ],
          "name": "stdout"
        }
      ]
    },
    {
      "cell_type": "markdown",
      "metadata": {
        "id": "viqM7NjztglF"
      },
      "source": [
        "- 문자열, 실수 저장"
      ]
    },
    {
      "cell_type": "code",
      "metadata": {
        "id": "4pVaZKP4thY2",
        "outputId": "05a992c2-81bc-438d-b7f7-493b78038a22",
        "colab": {
          "base_uri": "https://localhost:8080/"
        }
      },
      "source": [
        "s = '안녕하세요?'\n",
        "print(s)"
      ],
      "execution_count": 5,
      "outputs": [
        {
          "output_type": "stream",
          "text": [
            "안녕하세요?\n"
          ],
          "name": "stdout"
        }
      ]
    },
    {
      "cell_type": "code",
      "metadata": {
        "id": "VJu_UR0Etoek",
        "outputId": "13040549-b493-4d30-c2f5-82aa65dc0d15",
        "colab": {
          "base_uri": "https://localhost:8080/"
        }
      },
      "source": [
        "pi = 3.141592\n",
        "print(pi)"
      ],
      "execution_count": 6,
      "outputs": [
        {
          "output_type": "stream",
          "text": [
            "3.141592\n"
          ],
          "name": "stdout"
        }
      ]
    },
    {
      "cell_type": "markdown",
      "metadata": {
        "id": "WlsMOFGVtznF"
      },
      "source": [
        "- 문제 해결 : 변수 x 와 변수 y의 값을 서로 바꾸는 프로그램을 작성\n",
        "- 다음과 같은 프로그램으로는 변수의 값을 교환할 수 없음\n",
        "- 왜 그럴까? 그리고 해결 방법은 무엇일까?\n",
        "\n",
        "      a = 10 # a : 10  \n",
        "      b = 20 # b : 20  \n",
        "      a = b # a : 20  \n",
        "      b = a # b : 20  "
      ]
    },
    {
      "cell_type": "markdown",
      "metadata": {
        "id": "riSu1r1QuMQZ"
      },
      "source": [
        "- 해결 방법 1"
      ]
    },
    {
      "cell_type": "code",
      "metadata": {
        "id": "b51-emMluPaY",
        "outputId": "6a3c4af1-afb1-4c89-a376-a03b93f565db",
        "colab": {
          "base_uri": "https://localhost:8080/"
        }
      },
      "source": [
        "x = 90\n",
        "y = 95\n",
        "print(x, y)"
      ],
      "execution_count": 7,
      "outputs": [
        {
          "output_type": "stream",
          "text": [
            "90 95\n"
          ],
          "name": "stdout"
        }
      ]
    },
    {
      "cell_type": "code",
      "metadata": {
        "id": "TNhaxuM0uXdX",
        "outputId": "3dd73e36-4328-4208-ca4a-77053b2abcb4",
        "colab": {
          "base_uri": "https://localhost:8080/"
        }
      },
      "source": [
        "temp= x\n",
        "x = y\n",
        "y= temp\n",
        "print(x, y)"
      ],
      "execution_count": 8,
      "outputs": [
        {
          "output_type": "stream",
          "text": [
            "95 90\n"
          ],
          "name": "stdout"
        }
      ]
    },
    {
      "cell_type": "markdown",
      "metadata": {
        "id": "0nZZVHgkuaNk"
      },
      "source": [
        "- 해결 방법 2"
      ]
    },
    {
      "cell_type": "code",
      "metadata": {
        "id": "twuidCuuub8M",
        "outputId": "31781810-8436-4761-afc4-9a6c51191b6a",
        "colab": {
          "base_uri": "https://localhost:8080/"
        }
      },
      "source": [
        "a = 10\n",
        "b = 20\n",
        "a,b = b,a\n",
        "print (a,b)"
      ],
      "execution_count": 9,
      "outputs": [
        {
          "output_type": "stream",
          "text": [
            "20 10\n"
          ],
          "name": "stdout"
        }
      ]
    },
    {
      "cell_type": "markdown",
      "metadata": {
        "id": "AcB0temquowA"
      },
      "source": [
        "# 입출력 \n",
        "- 입력 함수 : `input()`\n",
        "- 출력함수 : `print()`\n"
      ]
    },
    {
      "cell_type": "code",
      "metadata": {
        "id": "eu6pIbhgv7_q",
        "outputId": "712bcc84-e831-4aae-d727-8f66366d3152",
        "colab": {
          "base_uri": "https://localhost:8080/"
        }
      },
      "source": [
        "name = input('이름을 입력해주세요: ')\n",
        "print(name, \"님 만나서 반갑습니다.\")"
      ],
      "execution_count": 12,
      "outputs": [
        {
          "output_type": "stream",
          "text": [
            "이름을 입력해주세요: 포닉스\n",
            "포닉스 님 만나서 반갑습니다.\n"
          ],
          "name": "stdout"
        }
      ]
    },
    {
      "cell_type": "code",
      "metadata": {
        "id": "5w4nZibUwOUF",
        "outputId": "f9457863-ebe0-4430-f841-cbf54f60c348",
        "colab": {
          "base_uri": "https://localhost:8080/"
        }
      },
      "source": [
        "x = input(\"첫 번째 정수: \")\n",
        "y = input(\"두 번째 정수: \")\n",
        "sum = x + y\n",
        "print(\"합은 \", sum)"
      ],
      "execution_count": 14,
      "outputs": [
        {
          "output_type": "stream",
          "text": [
            "첫 번째 정수: 10\n",
            "두 번째 정수: 20\n",
            "합은  1020\n"
          ],
          "name": "stdout"
        }
      ]
    },
    {
      "cell_type": "markdown",
      "metadata": {
        "id": "gnH8at8TwTBC"
      },
      "source": [
        "- `input`만 입력하게 될 경우 문자형으로 인식하게 된다.\n",
        "- 따라서 `int`을 넣어 정수형으로 인식하게끔 만들어줘야 한다."
      ]
    },
    {
      "cell_type": "code",
      "metadata": {
        "id": "5eH8zRoSvVAp",
        "outputId": "9f7dae0e-fb14-4f86-e192-6fa8907d57dc",
        "colab": {
          "base_uri": "https://localhost:8080/"
        }
      },
      "source": [
        "x = int(input(\"첫 번째 정수: \"))\n",
        "y = int(input(\"두 번째 정수: \"))\n",
        "sum = x + y\n",
        "print(\"합은 \", sum)"
      ],
      "execution_count": 15,
      "outputs": [
        {
          "output_type": "stream",
          "text": [
            "첫 번째 정수: 10\n",
            "두 번째 정수: 20\n",
            "합은  30\n"
          ],
          "name": "stdout"
        }
      ]
    }
  ]
}