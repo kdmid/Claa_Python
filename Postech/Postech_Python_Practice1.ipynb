{
  "nbformat": 4,
  "nbformat_minor": 0,
  "metadata": {
    "colab": {
      "name": "Postech_Python_Practice1.ipynb",
      "provenance": [],
      "authorship_tag": "ABX9TyNh34CsVu2NdPTpJu1sqw3B",
      "include_colab_link": true
    },
    "kernelspec": {
      "name": "python3",
      "display_name": "Python 3"
    }
  },
  "cells": [
    {
      "cell_type": "markdown",
      "metadata": {
        "id": "view-in-github",
        "colab_type": "text"
      },
      "source": [
        "<a href=\"https://colab.research.google.com/github/kdmid/Class_Python/blob/main/Postech/Postech_Python_Practice1.ipynb\" target=\"_parent\"><img src=\"https://colab.research.google.com/assets/colab-badge.svg\" alt=\"Open In Colab\"/></a>"
      ]
    },
    {
      "cell_type": "markdown",
      "metadata": {
        "id": "oNNyK5NQs5lH"
      },
      "source": [
        "# 변수와 메모리\n",
        "- 파이썬에서 변수의 데이터 형식은 값을 넣는 순간마다 변경될 수 있\n",
        "는 유연한 구조"
      ]
    },
    {
      "cell_type": "code",
      "metadata": {
        "id": "5l0VoOICl_z5",
        "outputId": "70190afc-7243-4ab9-ba25-e2f93ab3488a",
        "colab": {
          "base_uri": "https://localhost:8080/"
        }
      },
      "source": [
        "a = 10 #정수형\n",
        "type(a)"
      ],
      "execution_count": null,
      "outputs": [
        {
          "output_type": "execute_result",
          "data": {
            "text/plain": [
              "int"
            ]
          },
          "metadata": {
            "tags": []
          },
          "execution_count": 2
        }
      ]
    },
    {
      "cell_type": "code",
      "metadata": {
        "id": "XpqswEm4mWIW",
        "outputId": "15b14084-68b8-4820-eff1-b3b733704d0d",
        "colab": {
          "base_uri": "https://localhost:8080/"
        }
      },
      "source": [
        " a = 10.5 #실수형\n",
        "type(a)"
      ],
      "execution_count": null,
      "outputs": [
        {
          "output_type": "execute_result",
          "data": {
            "text/plain": [
              "float"
            ]
          },
          "metadata": {
            "tags": []
          },
          "execution_count": 3
        }
      ]
    },
    {
      "cell_type": "markdown",
      "metadata": {
        "id": "AalRoaNFtZEe"
      },
      "source": [
        "- 변수에는 다른 변수의 값도 저장 가능"
      ]
    },
    {
      "cell_type": "code",
      "metadata": {
        "id": "ElH8GmeLtZ8G",
        "outputId": "1bbef176-5fe5-4878-93b2-a391d26d6709",
        "colab": {
          "base_uri": "https://localhost:8080/"
        }
      },
      "source": [
        "width = 10\n",
        "height = 20\n",
        "area = width * height\n",
        "print(area)"
      ],
      "execution_count": null,
      "outputs": [
        {
          "output_type": "stream",
          "text": [
            "200\n"
          ],
          "name": "stdout"
        }
      ]
    },
    {
      "cell_type": "markdown",
      "metadata": {
        "id": "viqM7NjztglF"
      },
      "source": [
        "- 문자열, 실수 저장"
      ]
    },
    {
      "cell_type": "code",
      "metadata": {
        "id": "4pVaZKP4thY2",
        "outputId": "05a992c2-81bc-438d-b7f7-493b78038a22",
        "colab": {
          "base_uri": "https://localhost:8080/"
        }
      },
      "source": [
        "s = '안녕하세요?'\n",
        "print(s)"
      ],
      "execution_count": null,
      "outputs": [
        {
          "output_type": "stream",
          "text": [
            "안녕하세요?\n"
          ],
          "name": "stdout"
        }
      ]
    },
    {
      "cell_type": "code",
      "metadata": {
        "id": "VJu_UR0Etoek",
        "outputId": "13040549-b493-4d30-c2f5-82aa65dc0d15",
        "colab": {
          "base_uri": "https://localhost:8080/"
        }
      },
      "source": [
        "pi = 3.141592\n",
        "print(pi)"
      ],
      "execution_count": null,
      "outputs": [
        {
          "output_type": "stream",
          "text": [
            "3.141592\n"
          ],
          "name": "stdout"
        }
      ]
    },
    {
      "cell_type": "markdown",
      "metadata": {
        "id": "WlsMOFGVtznF"
      },
      "source": [
        "- 문제 해결 : 변수 x 와 변수 y의 값을 서로 바꾸는 프로그램을 작성\n",
        "- 다음과 같은 프로그램으로는 변수의 값을 교환할 수 없음\n",
        "- 왜 그럴까? 그리고 해결 방법은 무엇일까?\n",
        "\n",
        "      a = 10 # a : 10  \n",
        "      b = 20 # b : 20  \n",
        "      a = b # a : 20  \n",
        "      b = a # b : 20  "
      ]
    },
    {
      "cell_type": "markdown",
      "metadata": {
        "id": "riSu1r1QuMQZ"
      },
      "source": [
        "- 해결 방법 1"
      ]
    },
    {
      "cell_type": "code",
      "metadata": {
        "id": "b51-emMluPaY",
        "outputId": "6a3c4af1-afb1-4c89-a376-a03b93f565db",
        "colab": {
          "base_uri": "https://localhost:8080/"
        }
      },
      "source": [
        "x = 90\n",
        "y = 95\n",
        "print(x, y)"
      ],
      "execution_count": null,
      "outputs": [
        {
          "output_type": "stream",
          "text": [
            "90 95\n"
          ],
          "name": "stdout"
        }
      ]
    },
    {
      "cell_type": "code",
      "metadata": {
        "id": "TNhaxuM0uXdX",
        "outputId": "3dd73e36-4328-4208-ca4a-77053b2abcb4",
        "colab": {
          "base_uri": "https://localhost:8080/"
        }
      },
      "source": [
        "temp= x\n",
        "x = y\n",
        "y= temp\n",
        "print(x, y)"
      ],
      "execution_count": null,
      "outputs": [
        {
          "output_type": "stream",
          "text": [
            "95 90\n"
          ],
          "name": "stdout"
        }
      ]
    },
    {
      "cell_type": "markdown",
      "metadata": {
        "id": "0nZZVHgkuaNk"
      },
      "source": [
        "- 해결 방법 2"
      ]
    },
    {
      "cell_type": "code",
      "metadata": {
        "id": "twuidCuuub8M",
        "outputId": "31781810-8436-4761-afc4-9a6c51191b6a",
        "colab": {
          "base_uri": "https://localhost:8080/"
        }
      },
      "source": [
        "a = 10\n",
        "b = 20\n",
        "a,b = b,a\n",
        "print (a,b)"
      ],
      "execution_count": null,
      "outputs": [
        {
          "output_type": "stream",
          "text": [
            "20 10\n"
          ],
          "name": "stdout"
        }
      ]
    },
    {
      "cell_type": "markdown",
      "metadata": {
        "id": "AcB0temquowA"
      },
      "source": [
        "# 입출력 \n",
        "- 입력 함수 : `input()`\n",
        "- 출력함수 : `print()`\n"
      ]
    },
    {
      "cell_type": "code",
      "metadata": {
        "id": "eu6pIbhgv7_q",
        "outputId": "712bcc84-e831-4aae-d727-8f66366d3152",
        "colab": {
          "base_uri": "https://localhost:8080/"
        }
      },
      "source": [
        "name = input('이름을 입력해주세요: ')\n",
        "print(name, \"님 만나서 반갑습니다.\")"
      ],
      "execution_count": null,
      "outputs": [
        {
          "output_type": "stream",
          "text": [
            "이름을 입력해주세요: 포닉스\n",
            "포닉스 님 만나서 반갑습니다.\n"
          ],
          "name": "stdout"
        }
      ]
    },
    {
      "cell_type": "code",
      "metadata": {
        "id": "5w4nZibUwOUF",
        "outputId": "f9457863-ebe0-4430-f841-cbf54f60c348",
        "colab": {
          "base_uri": "https://localhost:8080/"
        }
      },
      "source": [
        "x = input(\"첫 번째 정수: \")\n",
        "y = input(\"두 번째 정수: \")\n",
        "sum = x + y\n",
        "print(\"합은 \", sum)"
      ],
      "execution_count": null,
      "outputs": [
        {
          "output_type": "stream",
          "text": [
            "첫 번째 정수: 10\n",
            "두 번째 정수: 20\n",
            "합은  1020\n"
          ],
          "name": "stdout"
        }
      ]
    },
    {
      "cell_type": "markdown",
      "metadata": {
        "id": "gnH8at8TwTBC"
      },
      "source": [
        "- `input`만 입력하게 될 경우 문자형으로 인식하게 된다.\n",
        "- 따라서 `int`을 넣어 정수형으로 인식하게끔 만들어줘야 한다."
      ]
    },
    {
      "cell_type": "code",
      "metadata": {
        "id": "5eH8zRoSvVAp",
        "outputId": "9f7dae0e-fb14-4f86-e192-6fa8907d57dc",
        "colab": {
          "base_uri": "https://localhost:8080/"
        }
      },
      "source": [
        "x = int(input(\"첫 번째 정수: \"))\n",
        "y = int(input(\"두 번째 정수: \"))\n",
        "sum = x + y\n",
        "print(\"합은 \", sum)"
      ],
      "execution_count": null,
      "outputs": [
        {
          "output_type": "stream",
          "text": [
            "첫 번째 정수: 10\n",
            "두 번째 정수: 20\n",
            "합은  30\n"
          ],
          "name": "stdout"
        }
      ]
    },
    {
      "cell_type": "markdown",
      "metadata": {
        "id": "q5j21iQYsqDR"
      },
      "source": [
        "# 연산자"
      ]
    },
    {
      "cell_type": "markdown",
      "metadata": {
        "id": "6YpQP2kDvSCe"
      },
      "source": [
        "## 산술연산자"
      ]
    },
    {
      "cell_type": "code",
      "metadata": {
        "id": "ZuQ1p5JBstDH",
        "outputId": "9568ea6f-c9c0-489f-dd5f-b4cc765c34e8",
        "colab": {
          "base_uri": "https://localhost:8080/"
        }
      },
      "source": [
        "a = 5; b = 3\n",
        "print(a+b, a-b, a*b, a/b, a//b, a%b, a**b) #더하기, 빼기, 곱, 나누기, 나누기(몫), 나누기(나머지), 제곱 "
      ],
      "execution_count": 2,
      "outputs": [
        {
          "output_type": "stream",
          "text": [
            "8 2 15 1.6666666666666667 1 2 125\n"
          ],
          "name": "stdout"
        }
      ]
    },
    {
      "cell_type": "code",
      "metadata": {
        "id": "dLbG9NguuA0S",
        "outputId": "6f6c5bdd-68eb-4c1b-e49c-db5b31208061",
        "colab": {
          "base_uri": "https://localhost:8080/"
        }
      },
      "source": [
        "a,b,c = 2,3,4\n",
        "print(a+b-c, a+b*c, a*b/c) #사칙연산처럼 우선순위가 적용됨"
      ],
      "execution_count": 3,
      "outputs": [
        {
          "output_type": "stream",
          "text": [
            "1 14 1.5\n"
          ],
          "name": "stdout"
        }
      ]
    },
    {
      "cell_type": "markdown",
      "metadata": {
        "id": "MZplp54Iuj09"
      },
      "source": [
        "- 문자열이 int() 함수에 의해서 정수로, float() 함수에 의해서 실수로 변경\n",
        "- 숫자를 문자열로 변환하기 위해서는 str() 함수를 사용"
      ]
    },
    {
      "cell_type": "code",
      "metadata": {
        "id": "WaV7dlDPun_Z",
        "outputId": "f6473baf-0c7b-4626-a929-d693ad66616a",
        "colab": {
          "base_uri": "https://localhost:8080/"
        }
      },
      "source": [
        "s1, s2, s3 = \"100\", \"100.123\", \"9999999999999\"\n",
        "print(int(s1)+1, float(s2)+1, int(s3)+1)"
      ],
      "execution_count": 4,
      "outputs": [
        {
          "output_type": "stream",
          "text": [
            "101 101.123 10000000000000\n"
          ],
          "name": "stdout"
        }
      ]
    },
    {
      "cell_type": "code",
      "metadata": {
        "id": "PIxuQMnKu7EK",
        "outputId": "5926af2b-1dd6-4e52-8c6f-fb59309f1556",
        "colab": {
          "base_uri": "https://localhost:8080/",
          "height": 35
        }
      },
      "source": [
        "a = 100; b = 100.123\n",
        "str(a) + '1'; str(b) + '1'"
      ],
      "execution_count": 7,
      "outputs": [
        {
          "output_type": "execute_result",
          "data": {
            "application/vnd.google.colaboratory.intrinsic+json": {
              "type": "string"
            },
            "text/plain": [
              "'100.1231'"
            ]
          },
          "metadata": {
            "tags": []
          },
          "execution_count": 7
        }
      ]
    },
    {
      "cell_type": "markdown",
      "metadata": {
        "id": "8YwPxGIbx-H9"
      },
      "source": [
        "- a는 10에서 시작하여 프로그램이 진행될수록 값이 누적됨"
      ]
    },
    {
      "cell_type": "code",
      "metadata": {
        "id": "_jC34_CLx_GZ",
        "outputId": "b4ad67b7-e2ce-46ed-ead8-a51492530916",
        "colab": {
          "base_uri": "https://localhost:8080/"
        }
      },
      "source": [
        "a = 10\n",
        "a += 5; print(a)\n",
        "a -= 5; print(a)\n",
        "a *= 5; print(a)\n",
        "a /= 5; print(a)\n",
        "a //= 5; print(a)\n",
        "a %= 5; print(a)\n",
        "a **= 5; print(a)"
      ],
      "execution_count": 17,
      "outputs": [
        {
          "output_type": "stream",
          "text": [
            "15\n",
            "10\n",
            "50\n",
            "10.0\n",
            "2.0\n",
            "2.0\n",
            "32.0\n"
          ],
          "name": "stdout"
        }
      ]
    },
    {
      "cell_type": "markdown",
      "metadata": {
        "id": "Zs3CUOrTzocd"
      },
      "source": [
        "- 동전 교환 프로그램"
      ]
    },
    {
      "cell_type": "code",
      "metadata": {
        "id": "f6ncCu15yWMD",
        "outputId": "9890fc4b-b62b-4912-c374-9b6785db2abb",
        "colab": {
          "base_uri": "https://localhost:8080/"
        }
      },
      "source": [
        "##변수 선언 부분\n",
        "money, c500, c100, c50, c20 = 0,0,0,0,0\n",
        "\n",
        "##메인(main) 코드 부분\n",
        "money = int(input(\"교환할 돈은 얼마 ? \"))\n",
        "\n",
        "c500 = money//500\n",
        "money %= 500\n",
        "\n",
        "c100 = money//100\n",
        "money %= 100\n",
        "\n",
        "c50 = money//50\n",
        "money %= 50\n",
        "\n",
        "c10 = money//10\n",
        "money %= 10\n",
        "\n",
        "print(\"\\n 오백원짜리 ==> %d 개\" % c500)\n",
        "print(\"백원짜리 ==> %d 개\" % c100)\n",
        "print(\"오십원짜리 ==> %d 개\" % c50)\n",
        "print(\"십원짜리 ==> %d 개\" % c10)\n",
        "print(\"바꾸지 못한 잔돈  ==> %d 원 \\n\"% money)"
      ],
      "execution_count": 20,
      "outputs": [
        {
          "output_type": "stream",
          "text": [
            "교환할 돈은 얼마 ? 34821\n",
            "\n",
            " 오백원짜리 ==> 69 개\n",
            "백원짜리 ==> 3 개\n",
            "오십원짜리 ==> 0 개\n",
            "십원짜리 ==> 2 개\n",
            "바꾸지 못한 잔돈  ==> 1 원 \n",
            "\n"
          ],
          "name": "stdout"
        }
      ]
    },
    {
      "cell_type": "markdown",
      "metadata": {
        "id": "QgraIzLKvUO2"
      },
      "source": [
        "## 대입연산자\n",
        "- 변수의 저장 값을 대입하는 = 기호가 대입(할당) 연산자\n",
        "- = 연산자 오른쪽 수식을 먼저 계산하고 결과 값을 왼쪽 변수에 대입하\n",
        "는 기능\n",
        "- 대입 연산자의 왼쪽 부분에는 반드시 변수만이 가능, 대입 연산자 왼쪽에\n",
        "온 변수는 값이 변경\n",
        "- 수식의 결과 값을 변수에 대입하지 않으면 프로그램에는 영향이 없음"
      ]
    },
    {
      "cell_type": "markdown",
      "metadata": {
        "id": "FpKkAoCAvvtx"
      },
      "source": [
        "## 관계 연산자\n",
        "- 어떤 것이 큰지, 작은지, 같은지를 비교하는 것, 결과는 참(True)\n",
        "이나 거짓(False)"
      ]
    },
    {
      "cell_type": "code",
      "metadata": {
        "id": "HHsFzfimvWNn",
        "outputId": "213b9d80-fb6f-4012-a042-0730b3b03e00",
        "colab": {
          "base_uri": "https://localhost:8080/"
        }
      },
      "source": [
        "a, b = 100, 200\n",
        "print(a==b, a!=b, a>b, a<b, a>=b, a<=b)"
      ],
      "execution_count": 9,
      "outputs": [
        {
          "output_type": "stream",
          "text": [
            "False True False True False True\n"
          ],
          "name": "stdout"
        }
      ]
    },
    {
      "cell_type": "markdown",
      "metadata": {
        "id": "togKpkwjvbfT"
      },
      "source": [
        "## 논리 연산자"
      ]
    },
    {
      "cell_type": "code",
      "metadata": {
        "id": "Ttlw8NLJwlFj",
        "outputId": "1063c906-6807-4f12-f171-282a22f3f3ab",
        "colab": {
          "base_uri": "https://localhost:8080/"
        }
      },
      "source": [
        "a = 99\n",
        "(a > 100) and (a < 200)"
      ],
      "execution_count": 12,
      "outputs": [
        {
          "output_type": "execute_result",
          "data": {
            "text/plain": [
              "False"
            ]
          },
          "metadata": {
            "tags": []
          },
          "execution_count": 12
        }
      ]
    },
    {
      "cell_type": "code",
      "metadata": {
        "id": "XnwjrZCmw51n",
        "outputId": "e6c16ac4-9bb1-4fe0-c002-5913b2719daa",
        "colab": {
          "base_uri": "https://localhost:8080/"
        }
      },
      "source": [
        "(a > 100) or (a < 200)"
      ],
      "execution_count": 11,
      "outputs": [
        {
          "output_type": "execute_result",
          "data": {
            "text/plain": [
              "True"
            ]
          },
          "metadata": {
            "tags": []
          },
          "execution_count": 11
        }
      ]
    },
    {
      "cell_type": "code",
      "metadata": {
        "id": "wkTqJC5Rw8Pe",
        "outputId": "853d2dad-dfd9-4bc1-8752-b3c66a312bff",
        "colab": {
          "base_uri": "https://localhost:8080/"
        }
      },
      "source": [
        "not (a == 100)"
      ],
      "execution_count": 13,
      "outputs": [
        {
          "output_type": "execute_result",
          "data": {
            "text/plain": [
              "True"
            ]
          },
          "metadata": {
            "tags": []
          },
          "execution_count": 13
        }
      ]
    },
    {
      "cell_type": "code",
      "metadata": {
        "id": "CsOPd7rbxcWg",
        "outputId": "29e166ff-5bab-40b9-eefd-0afca8b67b48",
        "colab": {
          "base_uri": "https://localhost:8080/"
        }
      },
      "source": [
        ""
      ],
      "execution_count": 15,
      "outputs": [
        {
          "output_type": "stream",
          "text": [
            "100200\n"
          ],
          "name": "stdout"
        }
      ]
    },
    {
      "cell_type": "markdown",
      "metadata": {
        "id": "lkOXgou3z74V"
      },
      "source": [
        "- 일상 생활 문제 해결 : 윤년(leap year)\n",
        "    - 윤년을 계산하는 방법 조사하기(치윤법)\n",
        "    - ① 기원 연수가 4로 나누어 떨어지는 해는 우선 윤년으로 하고, (year % 4 == 0) \n",
        "    - ② 그 중에서 100으로 나누어 떨어지는 해는 평년으로 하며, (year % 100 != 0)\n",
        "    - ③ 다만 400으로 나누어 떨어지는 해는 다시 윤년으로 정하였다. (year % 400 == 0)"
      ]
    },
    {
      "cell_type": "code",
      "metadata": {
        "id": "XHv0HD3czzkG",
        "outputId": "e14d4add-34ff-4adf-a9ea-3cfb2e0fa627",
        "colab": {
          "base_uri": "https://localhost:8080/"
        }
      },
      "source": [
        "## 변수 선언 부분\n",
        "year = 0\n",
        "\n",
        "## 메인(main) 코드 부분\n",
        "year = int(input(\"연도를 입력하세요 : \"))\n",
        "\n",
        "if(((year % 4 == 0) and (year % 100 != 0)) or (year % 400 == 0)) :\n",
        "   print(\"%d 년은 윤년입니다.\" %year);\n",
        "else :\n",
        "  print(\"%d 년은 윤년이 아닙니다.\" %year);"
      ],
      "execution_count": 22,
      "outputs": [
        {
          "output_type": "stream",
          "text": [
            "연도를 입력하세요 : 2020\n",
            "2020 년은 윤년입니다.\n"
          ],
          "name": "stdout"
        }
      ]
    },
    {
      "cell_type": "markdown",
      "metadata": {
        "id": "MQd9nH2a2Vt5"
      },
      "source": [
        "# 조건문 (if else)"
      ]
    },
    {
      "cell_type": "markdown",
      "metadata": {
        "id": "gGZj-uxx2ml_"
      },
      "source": [
        "- 일상 생활 문제 : 성적처리\n",
        "```\n",
        "P대학교 Y교수는 학생들 성적 처리를 고민하고 있다.  \n",
        "학생들의 점수를 입력 받아 점수에 따라 성적을 산출하는 일을 컴퓨터를 활용하여 해결하고자 한다.\n",
        "```\n",
        "```\n",
        "점수 학점\n",
        "90 ~ 100 A\n",
        "80 ~ 89  B\n",
        "70 ~ 79  C\n",
        "60 ~ 69  D\n",
        " 0 ~ 59  F\n",
        "```\n",
        "\n",
        "- 문제 해결을 위해 필요한 것들..\n",
        "    - 1. 성적자료를 입력 받아 변수에 저장하는 방법\n",
        "        - 1. 변수선언 (python101)\n",
        "        - 2. 입력 함수 : input 함수 (int 형으로 입력 받기)\n",
        "    - 2. 점수에 따라 학점을 계산하기 위해서 필요한 연산자\n",
        "        - 1. 관계 연산자 : (python101 >= 90)\n",
        "    - 3. 조건에 따라 프로그램의 흐름을 제어하는 명령어\n",
        "       - 1. 조건 명령어 : if else\n",
        "        - 2. 여러 조건비교 명령어 : if elif"
      ]
    },
    {
      "cell_type": "markdown",
      "metadata": {
        "id": "prBWmqal3vMq"
      },
      "source": [
        "- 조건문(if)\n",
        "```\n",
        "if (expression):\n",
        "    statement1\n",
        "next_statement\n",
        "```\n",
        "    - 들여쓰기로 구역을 나눔\n",
        "\n",
        "- if else\n",
        "```\n",
        "if (expression) :\n",
        "    statement_true\n",
        "else :\n",
        "    statement_false\n",
        "next_statement\n",
        "```\n",
        "- 중첩 if\n",
        "```\n",
        "if 조건A :\n",
        "    if 조건1 :\n",
        "        수행할 문장 A1\n",
        "    else :\n",
        "        수행할 문장 A2\n",
        "else :\n",
        "    수행할 문장 B\n",
        "```"
      ]
    },
    {
      "cell_type": "markdown",
      "metadata": {
        "id": "4wUZcQza44J0"
      },
      "source": [
        "- 중첩 if 예제\n",
        "```\n",
        "마트에서 사과가 신선하면 사과를 사기로 한다.\n",
        "만약 사과가 개당 1000원 미만이면 10개를 산다.\n",
        "하지만 사과가 개당 1000원 이상이면 5개만 산다. \n",
        "```"
      ]
    },
    {
      "cell_type": "code",
      "metadata": {
        "id": "10NSgllo3uyt",
        "outputId": "d1149eff-b828-434d-ba05-85982a680a26",
        "colab": {
          "base_uri": "https://localhost:8080/"
        }
      },
      "source": [
        "appleQuality = input(\"사과의 상태를 입력하시오: \")\n",
        "\n",
        "applePrice = int(input(\"사과 1개의 가격을 입력하시오: \"))\n",
        "\n",
        "if appleQuality == \"신선\":\n",
        "  if applePrice < 1000:\n",
        "    print(\"10개를 산다\")\n",
        "  else:\n",
        "    print(\"5개를 산다\")\n",
        "else:\n",
        "  print(\"사과를 사지 않는다.\")"
      ],
      "execution_count": 27,
      "outputs": [
        {
          "output_type": "stream",
          "text": [
            "사과의 상태를 입력하시오: 신선\n",
            "사과 1개의 가격을 입력하시오: 1500\n",
            "5개를 산다\n"
          ],
          "name": "stdout"
        }
      ]
    },
    {
      "cell_type": "markdown",
      "metadata": {
        "id": "nF9y4g0b5Ymf"
      },
      "source": [
        "- 다중 if(if elif)\n",
        "    - 조건 여러 개를 비교하여 조건에 맞는 문장을 수행\n",
        "\n",
        "```\n",
        "if (expression1) :\n",
        "  statement1\n",
        "elif (expression2):\n",
        "  statement2\n",
        "elif (expression3):\n",
        "  statement3\n",
        "else :\n",
        "  statement4\n",
        "next_statement\n",
        "```"
      ]
    },
    {
      "cell_type": "markdown",
      "metadata": {
        "id": "V9zyxdv-55S1"
      },
      "source": [
        "- if elif 예제 : 1개의 정수 값을 입력 받아 양수, 0, 음수를 판별"
      ]
    },
    {
      "cell_type": "code",
      "metadata": {
        "id": "WmjbWStT1vmY",
        "outputId": "4ea9c2f1-c6e6-4dc4-be3a-b133a5278ee2",
        "colab": {
          "base_uri": "https://localhost:8080/"
        }
      },
      "source": [
        "number=int(input(\"정수를 입력하시오: \"))\n",
        "if number<0:\n",
        "  print(\"입력된 정수는 음수입니다.\")\n",
        "elif number ==0 :\n",
        "  print(\"입력된 정수는 0입니다.\")\n",
        "else :\n",
        "  print(\"입력된 정수는 양수입니다.\")"
      ],
      "execution_count": 28,
      "outputs": [
        {
          "output_type": "stream",
          "text": [
            "정수를 입력하시오: -1\n",
            "입력된 정수는 음수입니다.\n"
          ],
          "name": "stdout"
        }
      ]
    },
    {
      "cell_type": "markdown",
      "metadata": {
        "id": "r_Gdydxb6H91"
      },
      "source": [
        "## 실습\n",
        "\n",
        "- 일상 생활 문제 : 성적처리\n",
        "```\n",
        "P대학교 Y교수는 학생들 성적 처리를 고민하고 있다.\n",
        "학생들의 점수를 입력 받아 점수에 따라 성적을 산출하는 일을 컴퓨터를 활용하여 해결하고자 한다.\n",
        "```\n",
        "```\n",
        "성적 산출 방법 점수 학점\n",
        "90 ~ 100 A\n",
        "80 ~ 89 B\n",
        "70 ~ 79 C\n",
        "60 ~ 69 D\n",
        "0 ~ 59 F\n",
        "```"
      ]
    },
    {
      "cell_type": "markdown",
      "metadata": {
        "id": "yaeW0P6r618y"
      },
      "source": [
        "1. 성적자료를 입력 받아 변수에 저장하는 방법\n",
        "    1. 변수선언 (python101)\n",
        "    2. 입력 함수 : input 함수 (int 형으로 입력 받기)\n",
        "2. 점수에 따라 학점을 계산하기 위해서 필요한 연산자\n",
        "    1. 관계 연산자 : (python101 >= 90)\n",
        "3. 조건에 따라 프로그램의 흐름을 제어하는 명령어\n",
        "    1. 조건 명령어 : if else\n",
        "    2. 여러 조건비교 명령어 : if elif"
      ]
    },
    {
      "cell_type": "code",
      "metadata": {
        "id": "BYCNC-4f6N26",
        "outputId": "8925abf8-0cdf-4ae7-dbe0-e75fbcbbbb84",
        "colab": {
          "base_uri": "https://localhost:8080/"
        }
      },
      "source": [
        "python101 = int(input(\"파이썬 점수를 입력하세요: \"))\n",
        "if (python101 >= 90) :\n",
        "  print(\"파이썬 프로그래밍 학점은 A 입니다.\")\n",
        "elif (python101 >= 80) :\n",
        "=  print(\"파이썬 프로그래밍 학점은 B 입니다.\")\n",
        "elif python101 >= 70 :\n",
        "  print(\"파이썬 프로그래밍 학점은 C 입니다.\")\n",
        "elif python101 >= 60 :\n",
        "  print(\"파이썬 프로그래밍 학점은 D 입니다.\")\n",
        "else :\n",
        "  print(\"파이썬 프로그래밍 학점은 F 입니다.\")\n",
        "\n",
        "print(\"수고 많으셨습니다!!\")"
      ],
      "execution_count": 30,
      "outputs": [
        {
          "output_type": "stream",
          "text": [
            "파이썬 점수를 입력하세요: 97\n",
            "파이썬 프로그래밍 학점은 A 입니다.\n",
            "수고 많으셨습니다!!\n"
          ],
          "name": "stdout"
        }
      ]
    },
    {
      "cell_type": "markdown",
      "metadata": {
        "id": "TMJJ4-hZ7I0c"
      },
      "source": [
        "- 일상 생활 문제 : 성적처리 확장(스스로 실습하기)\n",
        "```\n",
        "P대학교 Y교수는 학생들 성적 처리를 고민하다가 문제를 해결하고 자신감을 얻어 프로그램을 다음과 같이 확장하고자 한다.\n",
        "• 수학과 영어 점수를 입력 받아 평균과 학점을 구하는 프로그램으로 확장하여 실습하기\n",
        "```\n",
        "```\n",
        "성적 산출 방법 점수 학점\n",
        "90 ~ 100 A\n",
        "80 ~ 89 B\n",
        "70 ~ 79 C\n",
        "60 ~ 69 D\n",
        "0 ~ 59 F\n",
        "```"
      ]
    },
    {
      "cell_type": "code",
      "metadata": {
        "id": "uJF_fZGQ7WHt",
        "outputId": "c69ed8e6-49e3-4d5f-d3ad-bad84f15651b",
        "colab": {
          "base_uri": "https://localhost:8080/"
        }
      },
      "source": [
        "math = int(input(\"수학점수: \"))\n",
        "english = int(input(\"영어점수: \"))\n",
        "score = (math + english)/2\n",
        "\n",
        "if (score >= 90) :\n",
        "  print(\"A\")\n",
        "elif(score >= 80) :\n",
        "  print(\"B\")\n",
        "elif(score >= 70) :\n",
        "  print(\"C\")\n",
        "elif(score >= 60) :\n",
        "  print(\"D\")\n",
        "else :\n",
        "  print(\"F\")"
      ],
      "execution_count": 34,
      "outputs": [
        {
          "output_type": "stream",
          "text": [
            "수학점수: 70\n",
            "영어점수: 85\n",
            "C\n"
          ],
          "name": "stdout"
        }
      ]
    },
    {
      "cell_type": "markdown",
      "metadata": {
        "id": "VOMFiMW38os2"
      },
      "source": [
        "- 일상 생활 문제 : 가위 바위 보 게임\n",
        "```\n",
        "P대학교 Y교수는 학생들과 가위, 바위, 보 게임을 만들기 위해 고민하고 있다.\n",
        "학생들이 가위, 바위, 보 게임을 즐길 수 있도록 컴퓨터를 활용하여 해결하고자 한다.\n",
        "```\n",
        "- 사용자가 가위, 바위, 보 중에서 하나를 선택하고 컴퓨터도 난수로\n",
        "가위, 바위, 보 중에서 하나를 선택\n",
        "- 사용자의 선택과 컴퓨터의 선택을 비교하여서 승패를 화면에"
      ]
    },
    {
      "cell_type": "markdown",
      "metadata": {
        "id": "q_KrPRL98_6a"
      },
      "source": [
        "1. 난수 생성하기 (컴퓨터가 선택하는 가위, 바위, 보를 위해)\n",
        "    1. 라이브러리 함수 활용(import random)\n",
        "2. 사용자 선택 변수를 입력 받아 변수에 저장하는 방법\n",
        "    1. 변수선언 (player)\n",
        "    2. 입력 함수 : input 함수\n",
        "3. 조건에 따라 난수 생성하기\n",
        "    1. 난수 함수 활용(number = random.randint(0,2))\n",
        "4. 생성된 난수를 활용하여 가위바위보 게임 알고리즘 만들기\n",
        "    1. 게임 규칙에 따라 알고리즘 만들기\n",
        "    2. 여러 조건에 따라 수행되는 문장 만들기 (if elif)"
      ]
    },
    {
      "cell_type": "code",
      "metadata": {
        "id": "iTm8SBx689Zd",
        "outputId": "e2ec6093-2823-4eaf-a760-dda9d8f35fc2",
        "colab": {
          "base_uri": "https://localhost:8080/"
        }
      },
      "source": [
        "import random # 난수를 생성하기 위해 포함\n",
        "\n",
        "player = input(\"(가위, 바위, 보) 중에서 하나를 선택하세요: \")\n",
        "\n",
        "number = random.randint(0,2) # 정수 난수 0,1,2 중에 1개 생성\n",
        "\n",
        "\n",
        "if (number == 0):\n",
        "  computer = ＂가위＂\n",
        "elif (number == 1):\n",
        "  computer = ＂바위＂\n",
        "elif (number == 2):\n",
        "  computer = ＂보＂\n",
        "\n",
        "print(\"사용자: \", player, \"컴퓨터: \", computer)\n",
        "\n",
        "if (player == computer):\n",
        "  print(\"비겼음!\")\n",
        "elif (player == \"바위\"):\n",
        "  if (computer == \"보\"):\n",
        "    print(\"컴퓨터가 이겼음!\")\n",
        "  else:\n",
        "    print(\"사용자가 이겼음!\")\n",
        "elif (player == \"보\"):\n",
        "  if (computer == \"바위\"):\n",
        "    print(\"사용자가 이겼음!\")\n",
        "  else:\n",
        "    print(\"컴퓨터가 이겼음!\")\n",
        "elif (player == \"가위\"):\n",
        "  if (computer == \"바위\"):\n",
        "    print(\"컴퓨터가 이겼음!\")\n",
        "  else:\n",
        "    print(\"사용자가 이겼음!\")"
      ],
      "execution_count": 43,
      "outputs": [
        {
          "output_type": "stream",
          "text": [
            "(가위, 바위, 보) 중에서 하나를 선택하세요: 바위\n",
            "1\n"
          ],
          "name": "stdout"
        }
      ]
    }
  ]
}