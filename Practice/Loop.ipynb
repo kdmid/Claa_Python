{
  "nbformat": 4,
  "nbformat_minor": 0,
  "metadata": {
    "kernelspec": {
      "display_name": "Python 3",
      "language": "python",
      "name": "python3"
    },
    "language_info": {
      "codemirror_mode": {
        "name": "ipython",
        "version": 3
      },
      "file_extension": ".py",
      "mimetype": "text/x-python",
      "name": "python",
      "nbconvert_exporter": "python",
      "pygments_lexer": "ipython3",
      "version": "3.8.3"
    },
    "colab": {
      "name": "Loop.ipynb",
      "provenance": [],
      "include_colab_link": true
    }
  },
  "cells": [
    {
      "cell_type": "markdown",
      "metadata": {
        "id": "view-in-github",
        "colab_type": "text"
      },
      "source": [
        "<a href=\"https://colab.research.google.com/github/kdmid/Class_Python/blob/main/Practice/Loop.ipynb\" target=\"_parent\"><img src=\"https://colab.research.google.com/assets/colab-badge.svg\" alt=\"Open In Colab\"/></a>"
      ]
    },
    {
      "cell_type": "markdown",
      "metadata": {
        "id": "TSrbtU9iPIUR"
      },
      "source": [
        "# Loop\n",
        "- 파이썬의 기본 문법은 아래와 같다. \n",
        "\n",
        "```python\n",
        "for <변수> in <iterable>:\n",
        "    <코드>\n",
        "```\n",
        "- 여기에서 `iterable`의 개념은 `list`와 `tuple`을 의미한다. \n",
        "- 간단하게 `for_loop` 코드를 작성해보자. \n",
        "  + 우선, class_names라는 리스트 객체를 작성한다. \n",
        "  + `for_loop`를 활용해서 리스트 안에 있는 것을 하나씩 출력한다. "
      ]
    },
    {
      "cell_type": "code",
      "metadata": {
        "id": "aseMizlQPIUS",
        "outputId": "58dce59f-02c1-4aad-eb70-f4d127ff983c"
      },
      "source": [
        "class_names = [\"신형\", \"나은\", \"동호\", \"득중\", \"치원\", \"형철\"]\n",
        "print(class_names[0])\n",
        "print(class_names[1])\n",
        "print(class_names[2])\n",
        "print(class_names[3])\n",
        "print(class_names[4])\n",
        "print(class_names[5])"
      ],
      "execution_count": null,
      "outputs": [
        {
          "output_type": "stream",
          "text": [
            "신형\n",
            "나은\n",
            "동호\n",
            "득중\n",
            "치원\n",
            "형철\n"
          ],
          "name": "stdout"
        }
      ]
    },
    {
      "cell_type": "code",
      "metadata": {
        "id": "IcGT5JkQPIUX",
        "outputId": "4898ac08-247f-491f-9cb5-7a25ee2cd02c"
      },
      "source": [
        "class_names = [\"신형\", \"나은\", \"동호\", \"득중\", \"치원\", \"형철\"]\n",
        "for name in class_names:\n",
        "    print(name)"
      ],
      "execution_count": null,
      "outputs": [
        {
          "output_type": "stream",
          "text": [
            "신형\n",
            "나은\n",
            "동호\n",
            "득중\n",
            "치원\n",
            "형철\n"
          ],
          "name": "stdout"
        }
      ]
    },
    {
      "cell_type": "markdown",
      "metadata": {
        "id": "BOoAJXy6PIUb"
      },
      "source": [
        "## 1. Iterables\n",
        "- `Iteration`을 한국어로 번역하면 되풀이다. \n",
        "- 그런데, 어떤 데이터 유형이 `되풀이`를 할 수 있을가?\n",
        "  + `List`와 `Tuple`이 되풀이가 될 수 있는 소재인 것은 확실하다. \n",
        "- 어떤 `객체(=Object)`가 있을 때, 이 객체가 `iterable` 한것인지, 또는 아닌지 확인하는 함수(`iter()`)도 있다."
      ]
    },
    {
      "cell_type": "code",
      "metadata": {
        "id": "wIgppsk_PIUb",
        "outputId": "f0e8e218-5662-41e0-9b21-ae1893131108"
      },
      "source": [
        "iter(class_names) #반복문이 사용가능한지 알려주는 함수"
      ],
      "execution_count": null,
      "outputs": [
        {
          "output_type": "execute_result",
          "data": {
            "text/plain": [
              "<list_iterator at 0x2b680ebadc0>"
            ]
          },
          "metadata": {
            "tags": []
          },
          "execution_count": 4
        }
      ]
    },
    {
      "cell_type": "code",
      "metadata": {
        "scrolled": false,
        "id": "FR7Njer2PIUe",
        "outputId": "3cf40525-123b-4499-9fc8-c4c335ef183b"
      },
      "source": [
        "num = 100\n",
        "iter(num) #반복문 사용 불가시 에러가 뜬다 "
      ],
      "execution_count": null,
      "outputs": [
        {
          "output_type": "error",
          "ename": "TypeError",
          "evalue": "'int' object is not iterable",
          "traceback": [
            "\u001b[1;31m---------------------------------------------------------------------------\u001b[0m",
            "\u001b[1;31mTypeError\u001b[0m                                 Traceback (most recent call last)",
            "\u001b[1;32m<ipython-input-5-2cef87a5ddb5>\u001b[0m in \u001b[0;36m<module>\u001b[1;34m\u001b[0m\n\u001b[0;32m      1\u001b[0m \u001b[0mnum\u001b[0m \u001b[1;33m=\u001b[0m \u001b[1;36m100\u001b[0m\u001b[1;33m\u001b[0m\u001b[1;33m\u001b[0m\u001b[0m\n\u001b[1;32m----> 2\u001b[1;33m \u001b[0miter\u001b[0m\u001b[1;33m(\u001b[0m\u001b[0mnum\u001b[0m\u001b[1;33m)\u001b[0m\u001b[1;33m\u001b[0m\u001b[1;33m\u001b[0m\u001b[0m\n\u001b[0m",
            "\u001b[1;31mTypeError\u001b[0m: 'int' object is not iterable"
          ]
        }
      ]
    },
    {
      "cell_type": "markdown",
      "metadata": {
        "id": "kun8AaEJPIUh"
      },
      "source": [
        "## 2. next()\n",
        "- next()는 iterator에서의 next value를 의미한다."
      ]
    },
    {
      "cell_type": "code",
      "metadata": {
        "id": "epWp5QGVPIUh",
        "outputId": "b5fbea14-b649-4ec7-bf60-9b08d05225c9"
      },
      "source": [
        "A = [\"철수\", \"영희\", \"길동\"]\n",
        "iterable = iter(A)\n",
        "iterable"
      ],
      "execution_count": null,
      "outputs": [
        {
          "output_type": "execute_result",
          "data": {
            "text/plain": [
              "<list_iterator at 0x2b680f97dc0>"
            ]
          },
          "metadata": {
            "tags": []
          },
          "execution_count": 45
        }
      ]
    },
    {
      "cell_type": "code",
      "metadata": {
        "id": "diFoaikqPIUk",
        "outputId": "2bebb345-d002-4160-e785-079a8ed2d021"
      },
      "source": [
        "print(next(iterable))\n",
        "print(next(iterable))\n",
        "print(next(iterable))"
      ],
      "execution_count": null,
      "outputs": [
        {
          "output_type": "stream",
          "text": [
            "철수\n",
            "영희\n",
            "길동\n"
          ],
          "name": "stdout"
        }
      ]
    },
    {
      "cell_type": "markdown",
      "metadata": {
        "id": "ou0D1loGPIUn"
      },
      "source": [
        "## 3.Dictionary"
      ]
    },
    {
      "cell_type": "code",
      "metadata": {
        "scrolled": true,
        "id": "_q8dedgDPIUo",
        "outputId": "60da6d93-8225-4b4f-deba-80429be230bb"
      },
      "source": [
        "dict = {\"신형\":80, \"나은\":90, \"동호\":95}\n",
        "print(dict)"
      ],
      "execution_count": null,
      "outputs": [
        {
          "output_type": "stream",
          "text": [
            "{'신형': 80, '나은': 90, '동호': 95}\n"
          ],
          "name": "stdout"
        }
      ]
    },
    {
      "cell_type": "code",
      "metadata": {
        "scrolled": true,
        "id": "fPvxPhtEPIUs",
        "outputId": "813072fc-a063-402d-b7ca-ce8f4a4394cf"
      },
      "source": [
        "for i in dict:\n",
        "    print(i)"
      ],
      "execution_count": null,
      "outputs": [
        {
          "output_type": "stream",
          "text": [
            "신형\n",
            "나은\n",
            "동호\n"
          ],
          "name": "stdout"
        }
      ]
    },
    {
      "cell_type": "markdown",
      "metadata": {
        "id": "N5gpKvtoPIUu"
      },
      "source": [
        "- `i`와 `key`값에 대응되어 `Value`값을 출력하는 형태다.\n",
        "- 또 다른 방법은 `.values()`를 이용하는 것이다."
      ]
    },
    {
      "cell_type": "code",
      "metadata": {
        "id": "Q82Ek7jGPIUv",
        "outputId": "2d1fd3ec-cf00-4524-8039-e23205763fbf"
      },
      "source": [
        "for v in dict.values():\n",
        "    print(v)"
      ],
      "execution_count": null,
      "outputs": [
        {
          "output_type": "stream",
          "text": [
            "80\n",
            "90\n",
            "95\n"
          ],
          "name": "stdout"
        }
      ]
    },
    {
      "cell_type": "code",
      "metadata": {
        "id": "bpKFmJYWPIUx",
        "outputId": "5edab4b6-a28f-405d-d6d1-852396bff0f4"
      },
      "source": [
        "dict.values()"
      ],
      "execution_count": null,
      "outputs": [
        {
          "output_type": "execute_result",
          "data": {
            "text/plain": [
              "dict_values([80, 90, 95])"
            ]
          },
          "metadata": {
            "tags": []
          },
          "execution_count": 16
        }
      ]
    },
    {
      "cell_type": "code",
      "metadata": {
        "id": "PdmAA-nKPIU0",
        "outputId": "154abdb7-9b32-4457-86c6-b2bb32d696cb"
      },
      "source": [
        "dict.items()"
      ],
      "execution_count": null,
      "outputs": [
        {
          "output_type": "execute_result",
          "data": {
            "text/plain": [
              "dict_items([('신형', 80), ('나은', 90), ('동호', 95)])"
            ]
          },
          "metadata": {
            "tags": []
          },
          "execution_count": 18
        }
      ]
    },
    {
      "cell_type": "code",
      "metadata": {
        "id": "lGDdAFI2PIU2",
        "outputId": "9478af52-238c-4480-c3f4-e4c26599f944"
      },
      "source": [
        "for k, v in dict.items():\n",
        "    print(\"key = \", k, '|', \"value = \", v)"
      ],
      "execution_count": null,
      "outputs": [
        {
          "output_type": "stream",
          "text": [
            "key =  신형 | value =  80\n",
            "key =  나은 | value =  90\n",
            "key =  동호 | value =  95\n"
          ],
          "name": "stdout"
        }
      ]
    },
    {
      "cell_type": "code",
      "metadata": {
        "scrolled": true,
        "id": "Q7KHWRm0PIU6",
        "outputId": "bc1ded35-cef0-497d-ae77-e81f35c5de37"
      },
      "source": [
        "for i, col enumerate(data[continuous_vars].colums[0:]):\n",
        "    if i <= 3:\n",
        "        sns. scatterplot()"
      ],
      "execution_count": null,
      "outputs": [
        {
          "output_type": "error",
          "ename": "SyntaxError",
          "evalue": "invalid syntax (<ipython-input-25-0612cb25d8b7>, line 1)",
          "traceback": [
            "\u001b[1;36m  File \u001b[1;32m\"<ipython-input-25-0612cb25d8b7>\"\u001b[1;36m, line \u001b[1;32m1\u001b[0m\n\u001b[1;33m    for i, col enumerate(data[continuous_vars].colums[0:]):\u001b[0m\n\u001b[1;37m               ^\u001b[0m\n\u001b[1;31mSyntaxError\u001b[0m\u001b[1;31m:\u001b[0m invalid syntax\n"
          ]
        }
      ]
    },
    {
      "cell_type": "markdown",
      "metadata": {
        "id": "V3p9MJrgPIU9"
      },
      "source": [
        "## 4. Range()"
      ]
    },
    {
      "cell_type": "code",
      "metadata": {
        "id": "13acE24KPIU9",
        "outputId": "85d06b6d-8159-4422-8a8f-db1ba5a49368"
      },
      "source": [
        "x = range(5)\n",
        "print(x)"
      ],
      "execution_count": null,
      "outputs": [
        {
          "output_type": "stream",
          "text": [
            "range(0, 5)\n"
          ],
          "name": "stdout"
        }
      ]
    },
    {
      "cell_type": "code",
      "metadata": {
        "scrolled": true,
        "id": "CAEcdgT8PIVA",
        "outputId": "0ac189d2-990e-4d46-b585-bb6a5019f6bf"
      },
      "source": [
        "for num in range(5):\n",
        "    print(num)"
      ],
      "execution_count": null,
      "outputs": [
        {
          "output_type": "stream",
          "text": [
            "0\n",
            "1\n",
            "2\n",
            "3\n",
            "4\n"
          ],
          "name": "stdout"
        }
      ]
    },
    {
      "cell_type": "markdown",
      "metadata": {
        "id": "pTqAX82hPIVE"
      },
      "source": [
        "## 5. Lambda\n",
        "- input값 : 표현하려는 값\n",
        "- x, y : x + y"
      ]
    },
    {
      "cell_type": "code",
      "metadata": {
        "id": "rFXUzYJRPIVE",
        "outputId": "7f90cfdf-6085-45f1-a5ac-f4e5f04b7a86"
      },
      "source": [
        "def temp_sum(x, y):\n",
        "    return x + y\n",
        "\n",
        "temp_sum(5, 7)"
      ],
      "execution_count": null,
      "outputs": [
        {
          "output_type": "execute_result",
          "data": {
            "text/plain": [
              "12"
            ]
          },
          "metadata": {
            "tags": []
          },
          "execution_count": 28
        }
      ]
    },
    {
      "cell_type": "code",
      "metadata": {
        "id": "PTiivnOLPIVH",
        "outputId": "aa39d521-dbd8-4fdb-c618-3c4f11df39be"
      },
      "source": [
        "temp2_sum = (lambda x, y: x + y)(5, 7)\n",
        "print(temp2_sum)"
      ],
      "execution_count": null,
      "outputs": [
        {
          "output_type": "stream",
          "text": [
            "12\n"
          ],
          "name": "stdout"
        }
      ]
    },
    {
      "cell_type": "code",
      "metadata": {
        "scrolled": true,
        "id": "2TnQQmIgPIVK",
        "outputId": "a774dcd8-740f-43f7-fbb1-a2845d9b7aac"
      },
      "source": [
        "num_list = [5, 6, 7]\n",
        "increased = list(map(lambda x : x + 3, num_list))\n",
        "print(increased)"
      ],
      "execution_count": null,
      "outputs": [
        {
          "output_type": "stream",
          "text": [
            "[8, 9, 10]\n"
          ],
          "name": "stdout"
        }
      ]
    },
    {
      "cell_type": "code",
      "metadata": {
        "id": "YzQyORBxPIVN",
        "outputId": "f0660042-fbf0-435a-ea72-df1fedda7ecc"
      },
      "source": [
        "num_list = [1, 2, 3, 4, 5, 6, 7, 8, 9, 10]\n",
        "sqrt_list = []\n",
        "for x in num_list:\n",
        "    if x%2 == 0 :\n",
        "        sqrt_list.append(x*x)\n",
        "        \n",
        "print(sqrt_list)"
      ],
      "execution_count": null,
      "outputs": [
        {
          "output_type": "stream",
          "text": [
            "[4, 16, 36, 64, 100]\n"
          ],
          "name": "stdout"
        }
      ]
    },
    {
      "cell_type": "markdown",
      "metadata": {
        "id": "I9DsnCdSPIVP"
      },
      "source": [
        "- 아래와 같이 간편히 할 수 있다."
      ]
    },
    {
      "cell_type": "code",
      "metadata": {
        "id": "oWG5PsaLPIVQ",
        "outputId": "c52012a7-ce11-401a-f21f-60c642c867e6"
      },
      "source": [
        "num_list = [1, 2, 3, 4, 5, 6, 7, 8, 9, 10]\n",
        "sqrt_list = [(lambda x : x*x)(x) for x in num_list if x%2 == 0]\n",
        "print(sqrt_list)"
      ],
      "execution_count": null,
      "outputs": [
        {
          "output_type": "stream",
          "text": [
            "[4, 16, 36, 64, 100]\n"
          ],
          "name": "stdout"
        }
      ]
    }
  ]
}