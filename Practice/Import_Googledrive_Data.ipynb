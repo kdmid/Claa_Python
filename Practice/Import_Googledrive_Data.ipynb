{
  "nbformat": 4,
  "nbformat_minor": 0,
  "metadata": {
    "colab": {
      "name": "Import_Googledrive_Data.ipynb",
      "provenance": [],
      "collapsed_sections": [],
      "authorship_tag": "ABX9TyM0lUKpN0GF62C+huhqD84F",
      "include_colab_link": true
    },
    "kernelspec": {
      "name": "python3",
      "display_name": "Python 3"
    }
  },
  "cells": [
    {
      "cell_type": "markdown",
      "metadata": {
        "id": "view-in-github",
        "colab_type": "text"
      },
      "source": [
        "<a href=\"https://colab.research.google.com/github/kdmid/Class_Python/blob/main/Practice/Import_Googledrive_Data.ipynb\" target=\"_parent\"><img src=\"https://colab.research.google.com/assets/colab-badge.svg\" alt=\"Open In Colab\"/></a>"
      ]
    },
    {
      "cell_type": "markdown",
      "metadata": {
        "id": "BQs1OhRmEVG4"
      },
      "source": [
        "# 구글 코랩에 구글 드라이브 데이터 불러오기"
      ]
    },
    {
      "cell_type": "code",
      "metadata": {
        "id": "Rr9F2NHEDsV1"
      },
      "source": [
        "# Mount Google Drive\n",
        "from google.colab import drive # import drive from google colab\n",
        "\n",
        "ROOT = \"/content/drive\"     # default location for the drive\n",
        "print(ROOT)                 # print content of ROOT (Optional)\n",
        "drive.mount(ROOT)           # we mount the google drive at /content/drive"
      ],
      "execution_count": null,
      "outputs": []
    },
    {
      "cell_type": "markdown",
      "metadata": {
        "id": "0IO320hND9BK"
      },
      "source": [
        "경로 설정만 변경해주시면 됩니다."
      ]
    },
    {
      "cell_type": "code",
      "metadata": {
        "id": "kbOkGhZOD81J"
      },
      "source": [
        "# import join used to join ROOT path and MY_GOOGLE_DRIVE_PATH\n",
        "from os.path import join  \n",
        "\n",
        "# path to your project on Google Drive\n",
        "MY_GOOGLE_DRIVE_PATH = 'My Drive/Colab Notebooks/한국IT비즈니스진흥협회/week_1_Basic_1116_21/04_Pandas/연습/data'\n",
        "\n",
        "PROJECT_PATH = join(ROOT, MY_GOOGLE_DRIVE_PATH)\n",
        "print(PROJECT_PATH)"
      ],
      "execution_count": null,
      "outputs": []
    },
    {
      "cell_type": "markdown",
      "metadata": {
        "id": "WTg8voMlEAGn"
      },
      "source": [
        "마지막으로 데이터가 있는 폴더로 이동합니다."
      ]
    },
    {
      "cell_type": "code",
      "metadata": {
        "id": "AvzjvatGECCp"
      },
      "source": [
        "%cd \"{PROJECT_PATH}\""
      ],
      "execution_count": null,
      "outputs": []
    },
    {
      "cell_type": "markdown",
      "metadata": {
        "id": "EvGQ7Wh3JbB5"
      },
      "source": [
        "# 쥬피터에 불러오기"
      ]
    },
    {
      "cell_type": "code",
      "metadata": {
        "id": "OwPPvVqLJePO"
      },
      "source": [
        "train_data = pd.read_csv('./train.csv')"
      ],
      "execution_count": null,
      "outputs": []
    },
    {
      "cell_type": "code",
      "metadata": {
        "id": "aOad6uxmJf3n"
      },
      "source": [
        "train_data = pd.read_csv('../train.csv') # ..은 한개의 폴더 뒤로가기"
      ],
      "execution_count": null,
      "outputs": []
    }
  ]
}