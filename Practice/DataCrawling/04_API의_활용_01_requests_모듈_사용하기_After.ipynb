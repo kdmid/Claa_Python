{
  "nbformat": 4,
  "nbformat_minor": 0,
  "metadata": {
    "kernelspec": {
      "display_name": "Python 3",
      "language": "python",
      "name": "python3"
    },
    "language_info": {
      "codemirror_mode": {
        "name": "ipython",
        "version": 3
      },
      "file_extension": ".py",
      "mimetype": "text/x-python",
      "name": "python",
      "nbconvert_exporter": "python",
      "pygments_lexer": "ipython3",
      "version": "3.7.3"
    },
    "colab": {
      "name": "04.API의 활용 - 01.requests 모듈 사용하기_After.ipynb",
      "provenance": [],
      "include_colab_link": true
    }
  },
  "cells": [
    {
      "cell_type": "markdown",
      "metadata": {
        "id": "view-in-github",
        "colab_type": "text"
      },
      "source": [
        "<a href=\"https://colab.research.google.com/github/kdmid/Class_Python/blob/main/Practice/DataCrawling/04_API%EC%9D%98_%ED%99%9C%EC%9A%A9_01_requests_%EB%AA%A8%EB%93%88_%EC%82%AC%EC%9A%A9%ED%95%98%EA%B8%B0_After.ipynb\" target=\"_parent\"><img src=\"https://colab.research.google.com/assets/colab-badge.svg\" alt=\"Open In Colab\"/></a>"
      ]
    },
    {
      "cell_type": "markdown",
      "metadata": {
        "id": "U75PBQkEv_QW"
      },
      "source": [
        "### 학습목표 \n",
        " 1. requests 모듈 사용하여 http request/response 확인하기"
      ]
    },
    {
      "cell_type": "markdown",
      "metadata": {
        "id": "TA3VH2Chv_Qh"
      },
      "source": [
        "#### requests 모듈\n",
        "1. http request/response를 위한 모듈\n",
        "2. HTTP method를 메소드 명으로 사용하여 request 요청 예) get, post"
      ]
    },
    {
      "cell_type": "code",
      "metadata": {
        "id": "8kZbwh-Kv_Qi"
      },
      "source": [
        "import requests"
      ],
      "execution_count": null,
      "outputs": []
    },
    {
      "cell_type": "markdown",
      "metadata": {
        "id": "xTcV86rov_Qj"
      },
      "source": [
        "#### get 요청하기\n",
        "1. http get 요청하기\n",
        "2. query parameter 이용하여 데이터 전달하기"
      ]
    },
    {
      "cell_type": "code",
      "metadata": {
        "id": "MlTMJrLKv_Qk"
      },
      "source": [
        "url = 'https://news.v.daum.net/v/20190728165812603'\n",
        "resp = requests.get(url)\n",
        "resp.text"
      ],
      "execution_count": null,
      "outputs": []
    },
    {
      "cell_type": "markdown",
      "metadata": {
        "id": "A8sZUo_Mv_Qk"
      },
      "source": [
        "#### post 요청하기\n",
        "1. http post 요청하기\n",
        "2. post data 이용하여 데이터 전달하기"
      ]
    },
    {
      "cell_type": "code",
      "metadata": {
        "id": "EU_njTz1v_Qk"
      },
      "source": [
        "url = 'https://www.kangcom.com/member/member_check.asp'\n",
        "data = {\n",
        "    'id': 'macmath22',\n",
        "    'pwd': 'T'\n",
        "}\n",
        "\n",
        "resp = requests.post(url, data=data)\n",
        "resp.text"
      ],
      "execution_count": null,
      "outputs": []
    },
    {
      "cell_type": "markdown",
      "metadata": {
        "id": "eUhsj7X_v_Ql"
      },
      "source": [
        "#### HTTP header 데이터 이용하기\n",
        "1. header 데이터 구성하기\n",
        "2. header 데이터 전달하기"
      ]
    },
    {
      "cell_type": "code",
      "metadata": {
        "id": "gftGuVOyv_Ql"
      },
      "source": [
        "url = 'https://news.v.daum.net/v/20190728165812603'\n",
        "headers = {\n",
        "    'user-agent': 'Mozilla/5.0 (Macintosh; Intel Mac OS X 10_14_6) AppleWebKit/537.36 (KHTML, like Gecko) Chrome/75.0.3770.142 Safari/537.36'\n",
        "}\n",
        "\n",
        "resp = requests.get(url, headers=headers)\n",
        "resp.text"
      ],
      "execution_count": null,
      "outputs": []
    },
    {
      "cell_type": "markdown",
      "metadata": {
        "id": "EAhmWRN1v_Ql"
      },
      "source": [
        "#### HTTP response 처리하기\n",
        "1. response 객체의 이해\n",
        "2. status_code 확인하기\n",
        "3. text 속성 확인하기"
      ]
    },
    {
      "cell_type": "code",
      "metadata": {
        "id": "2SDrk4Mjv_Ql"
      },
      "source": [
        "url = 'https://news.v.daum.net/v/20190728165812603'\n",
        "resp = requests.get(url)\n",
        "if resp.status_code == 200:\n",
        "    resp.headers\n",
        "else:\n",
        "    print('error')"
      ],
      "execution_count": null,
      "outputs": []
    }
  ]
}