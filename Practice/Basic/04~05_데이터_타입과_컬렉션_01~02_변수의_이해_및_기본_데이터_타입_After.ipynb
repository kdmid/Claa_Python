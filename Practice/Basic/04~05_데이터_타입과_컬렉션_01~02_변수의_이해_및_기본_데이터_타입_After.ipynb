{
  "nbformat": 4,
  "nbformat_minor": 0,
  "metadata": {
    "kernelspec": {
      "display_name": "Python 3",
      "language": "python",
      "name": "python3"
    },
    "language_info": {
      "codemirror_mode": {
        "name": "ipython",
        "version": 3
      },
      "file_extension": ".py",
      "mimetype": "text/x-python",
      "name": "python",
      "nbconvert_exporter": "python",
      "pygments_lexer": "ipython3",
      "version": "3.7.3"
    },
    "colab": {
      "name": "04~05.데이터 타입과 컬렉션 - 01~02.변수의 이해 및 기본 데이터 타입_After.ipynb",
      "provenance": [],
      "include_colab_link": true
    }
  },
  "cells": [
    {
      "cell_type": "markdown",
      "metadata": {
        "id": "view-in-github",
        "colab_type": "text"
      },
      "source": [
        "<a href=\"https://colab.research.google.com/github/kdmid/Class_Python/blob/main/Practice/Basic/04~05_%EB%8D%B0%EC%9D%B4%ED%84%B0_%ED%83%80%EC%9E%85%EA%B3%BC_%EC%BB%AC%EB%A0%89%EC%85%98_01~02_%EB%B3%80%EC%88%98%EC%9D%98_%EC%9D%B4%ED%95%B4_%EB%B0%8F_%EA%B8%B0%EB%B3%B8_%EB%8D%B0%EC%9D%B4%ED%84%B0_%ED%83%80%EC%9E%85_After.ipynb\" target=\"_parent\"><img src=\"https://colab.research.google.com/assets/colab-badge.svg\" alt=\"Open In Colab\"/></a>"
      ]
    },
    {
      "cell_type": "markdown",
      "metadata": {
        "id": "iHfcsTe9PjgK"
      },
      "source": [
        "### 학습목표\n",
        "1. python 언어에서 변수의 의미 이해하기\n",
        "2. 기본 데이터 타입 선언하기\n",
        " - int, float, str, bool"
      ]
    },
    {
      "cell_type": "markdown",
      "metadata": {
        "id": "Tjhfd0-UPjg4"
      },
      "source": [
        "### 기본 데이터 타입\n",
        "* variable declaration & value assignment (변수 선언 및 값 할당)"
      ]
    },
    {
      "cell_type": "markdown",
      "metadata": {
        "id": "Nj2HHxvaPjg9"
      },
      "source": [
        "##### =  대입 연산자,  ==  비교 연산자 \n",
        " - 대입의 경우, 오른쪽의 수식이나 값을 evaluation(여기서는 계산이라는 의미로 사용) 한 뒤, \n",
        " - 왼쪽에 명시된 변수에 해당 값을 대입\n",
        " - 변수는 해당 값을 가지게 됨"
      ]
    },
    {
      "cell_type": "code",
      "metadata": {
        "id": "oPicpvllPjhE"
      },
      "source": [
        "a = 10 # int \n",
        "b = 11.4 # float "
      ],
      "execution_count": null,
      "outputs": []
    },
    {
      "cell_type": "markdown",
      "metadata": {
        "id": "7sslxhzLPjh1"
      },
      "source": [
        "#### **comment(주석)**\n",
        "  - 코드에서 #으로 시작하는 뒷 부분은 실행되지 않음\n",
        "  - python이 소스코드를 실행하면서 #를 만나면 무시\n",
        "  - 개발자(사람)가 보기 위한 용도로 사용"
      ]
    },
    {
      "cell_type": "code",
      "metadata": {
        "id": "z0U1c1QaPjh3"
      },
      "source": [
        "# this line is very important\n",
        "# so don't delete those lines\n",
        "\n",
        "a = 10\n",
        "b = 11.4"
      ],
      "execution_count": null,
      "outputs": []
    },
    {
      "cell_type": "markdown",
      "metadata": {
        "id": "GiZLuVDYPjiD"
      },
      "source": [
        "#### **print 함수**\n",
        "  - 함수란 특정 기능을 반복적으로 호출하여 사용가능한 코드블럭\n",
        "  - 해당 변수의 값을 출력\n",
        "  - , 로 여러 변수를 나열하면 한줄에 출력\n",
        "  - 기본적으로는 한칸 띄어쓰기 후 출력"
      ]
    },
    {
      "cell_type": "code",
      "metadata": {
        "id": "BAfYrbCtPjiJ",
        "colab": {
          "base_uri": "https://localhost:8080/"
        },
        "outputId": "e5e78744-dd44-4d8d-f181-8e772e16ed41"
      },
      "source": [
        "print(a, b)\n",
        "print(a, 10, 200, b)"
      ],
      "execution_count": null,
      "outputs": [
        {
          "output_type": "stream",
          "text": [
            "10 11.4\n",
            "10 10 200 11.4\n"
          ],
          "name": "stdout"
        }
      ]
    },
    {
      "cell_type": "markdown",
      "metadata": {
        "id": "OsPFOByyPjis"
      },
      "source": [
        "* **print함수 설정**\n",
        " - sep : 구분자, 각 출력할 변수 사이에서 구별하는 역할을 함\n",
        " - end : 마지막에 출력할 문자열"
      ]
    },
    {
      "cell_type": "code",
      "metadata": {
        "id": "Q5Cb8qQXPjiy",
        "colab": {
          "base_uri": "https://localhost:8080/"
        },
        "outputId": "9dee114a-4778-4479-c059-28d69e231085"
      },
      "source": [
        "print(a, b, 10, 100, sep='*', end='!!')"
      ],
      "execution_count": null,
      "outputs": [
        {
          "output_type": "stream",
          "text": [
            "10*11.4*10*100!!"
          ],
          "name": "stdout"
        }
      ]
    },
    {
      "cell_type": "markdown",
      "metadata": {
        "id": "WFS4Je7oPjjG"
      },
      "source": [
        "#### **변수 값 확인법**\n",
        " - print() 함수 사용\n",
        " - 변수 값을 코드의 마지막에 위치 시킨 후 실행\n",
        "   - 이 경우 output으로 변수의 값이 출력"
      ]
    },
    {
      "cell_type": "code",
      "metadata": {
        "id": "TDBdUzyGPjjK",
        "colab": {
          "base_uri": "https://localhost:8080/"
        },
        "outputId": "f1ae9070-5870-409f-9287-80b859c8d976"
      },
      "source": [
        "a = 10\n",
        "b = 11.4\n",
        "a\n",
        "b"
      ],
      "execution_count": null,
      "outputs": [
        {
          "output_type": "execute_result",
          "data": {
            "text/plain": [
              "11.4"
            ]
          },
          "metadata": {
            "tags": []
          },
          "execution_count": 5
        }
      ]
    },
    {
      "cell_type": "markdown",
      "metadata": {
        "id": "tGwbikzUPjjZ"
      },
      "source": [
        "#### **variable naming (변수 이름 규칙)**\n",
        "  - 숫자로 시작하는 이름을 제외하고 영문 대소문자, _, 숫자로 구성가능 \n",
        "  - 아래의 예제는 모두 valid한 변수 이름\n",
        "  - 일반적으로 해당 변수를 표현하고자 하는 정확하고 간결한 이름을 사용하는 것이 원칙\n",
        "    - 코드를 읽은 것을 더 쉽게 할 수 있음\n",
        "    - e.g) a = 1000의 경우보다 **student_num = 1000**로 명시한 것이 변수에 대한 이해가 빠름"
      ]
    },
    {
      "cell_type": "code",
      "metadata": {
        "id": "7_5Nso2iPjjb"
      },
      "source": [
        "abcABC = 100\n",
        "_abc124 = 200\n",
        "ABC124 = 200\n",
        "a456BC = 100\n",
        "\n",
        "a = 200\n",
        "number_of_students = 200"
      ],
      "execution_count": null,
      "outputs": []
    },
    {
      "cell_type": "markdown",
      "metadata": {
        "id": "6fRJ7r6SPjju"
      },
      "source": [
        "* **invalid한 변수 이름의 예**\n",
        " - 숫자로 시작하면 안되는 이유는?"
      ]
    },
    {
      "cell_type": "code",
      "metadata": {
        "id": "Sj5HM4LTPjj5",
        "colab": {
          "base_uri": "https://localhost:8080/",
          "height": 134
        },
        "outputId": "e2919cbc-a966-40a8-cca8-a62c225f1fbd"
      },
      "source": [
        "4 = 9"
      ],
      "execution_count": null,
      "outputs": [
        {
          "output_type": "error",
          "ename": "SyntaxError",
          "evalue": "ignored",
          "traceback": [
            "\u001b[0;36m  File \u001b[0;32m\"<ipython-input-8-b72f2b497a0c>\"\u001b[0;36m, line \u001b[0;32m1\u001b[0m\n\u001b[0;31m    4 = 9\u001b[0m\n\u001b[0m         ^\u001b[0m\n\u001b[0;31mSyntaxError\u001b[0m\u001b[0;31m:\u001b[0m can't assign to literal\n"
          ]
        }
      ]
    },
    {
      "cell_type": "markdown",
      "metadata": {
        "id": "y0hM1Z4GPjkL"
      },
      "source": [
        "#### **reserved keywords (예약어)**\n",
        "  - python에서 미리 선점하여 사용중인 키워드\n",
        "  - 변수, 함수, 클래스 등등의 사용자 정의 이름으로 사용할 수 없음"
      ]
    },
    {
      "cell_type": "code",
      "metadata": {
        "id": "JVoW5AH5PjkN",
        "colab": {
          "base_uri": "https://localhost:8080/",
          "height": 134
        },
        "outputId": "5258bfc1-6394-4f56-9206-d80196c5b327"
      },
      "source": [
        "for\n",
        "while \n",
        "if\n",
        "elif \n",
        "else \n",
        "class\n",
        "try\n",
        "except\n",
        "class\n",
        "# ...\n",
        "\n",
        "_class = 100\n",
        "print(_class)"
      ],
      "execution_count": null,
      "outputs": [
        {
          "output_type": "error",
          "ename": "SyntaxError",
          "evalue": "ignored",
          "traceback": [
            "\u001b[0;36m  File \u001b[0;32m\"<ipython-input-9-ce2fd3744be8>\"\u001b[0;36m, line \u001b[0;32m1\u001b[0m\n\u001b[0;31m    for\u001b[0m\n\u001b[0m       ^\u001b[0m\n\u001b[0;31mSyntaxError\u001b[0m\u001b[0;31m:\u001b[0m invalid syntax\n"
          ]
        }
      ]
    },
    {
      "cell_type": "markdown",
      "metadata": {
        "id": "W8qltDwEPjke"
      },
      "source": [
        "### 기본 데이터 타입 \n",
        "  - 정수 (int)\n",
        "  - 실수 (float)\n",
        "  - 문자열 (str)\n",
        "  - 불리언 (boolean)"
      ]
    },
    {
      "cell_type": "markdown",
      "metadata": {
        "id": "VImUf7w9Pjkg"
      },
      "source": [
        "#### type 함수\n",
        " - 해당 변수, 값의 타입(type)을 알고자 할 때 사용"
      ]
    },
    {
      "cell_type": "code",
      "metadata": {
        "id": "j13xejXsPjkq",
        "colab": {
          "base_uri": "https://localhost:8080/"
        },
        "outputId": "41a85228-c05e-49cf-f8bd-3584203b6a13"
      },
      "source": [
        "a = 10\n",
        "b = 11.45\n",
        "\n",
        "type(b)"
      ],
      "execution_count": null,
      "outputs": [
        {
          "output_type": "execute_result",
          "data": {
            "text/plain": [
              "float"
            ]
          },
          "metadata": {
            "tags": []
          },
          "execution_count": 10
        }
      ]
    },
    {
      "cell_type": "markdown",
      "metadata": {
        "id": "5Gp3B3uSPjk4"
      },
      "source": [
        "#### **None**\n",
        " - 아무런 값을 갖지 않을 때 사용\n",
        " - 일반적으로 변수가 초기값을 갖지 않게 하여 해당 변수를 생성할 때 사용\n",
        " - 기타 언어의 NULL, nil등과 같은 의미로 사용"
      ]
    },
    {
      "cell_type": "code",
      "metadata": {
        "id": "ERCFfWhJPjk6",
        "colab": {
          "base_uri": "https://localhost:8080/"
        },
        "outputId": "5b202327-4c53-4a10-8b72-7cc1ffb0a36c"
      },
      "source": [
        "c = None\n",
        "print(c)"
      ],
      "execution_count": null,
      "outputs": [
        {
          "output_type": "stream",
          "text": [
            "None\n"
          ],
          "name": "stdout"
        }
      ]
    },
    {
      "cell_type": "markdown",
      "metadata": {
        "id": "9t6bV_RYPjlN"
      },
      "source": [
        "#### **comparison operator(비교 연산자)** \n",
        "  - 프로그래밍에서는 비교를 할 경우, = 대신 **==**를 사용\n",
        "  - <, > (작다, 크다)\n",
        "  - <=, >= (작거나 같다, 크거나 같다)\n",
        "  - == 같다\n",
        "  - != 같지 않다\n",
        "  - 비교 연산자의 결과는 bool 타입"
      ]
    },
    {
      "cell_type": "code",
      "metadata": {
        "id": "3nVTomRzPjlP",
        "colab": {
          "base_uri": "https://localhost:8080/"
        },
        "outputId": "2217ce0d-eae0-4690-ad9d-d821fe2883da"
      },
      "source": [
        "a = 5\n",
        "b = 4\n",
        "\n",
        "print(a > b) # True\n",
        "print(a < b) # False\n",
        "print(a >= b) # True\n",
        "print(a <= b) # False\n",
        "print(a == b) # False\n",
        "print(a != b) # True\n",
        "\n",
        "c = a > b\n",
        "c = True\n",
        "print(type(c))\n",
        "print(c)"
      ],
      "execution_count": null,
      "outputs": [
        {
          "output_type": "stream",
          "text": [
            "True\n",
            "False\n",
            "True\n",
            "False\n",
            "False\n",
            "True\n",
            "<class 'bool'>\n",
            "True\n"
          ],
          "name": "stdout"
        }
      ]
    },
    {
      "cell_type": "markdown",
      "metadata": {
        "id": "qAwNqA5uPjlc"
      },
      "source": [
        "#### **numbers (숫자형 타입)**\n",
        " - 정수, 실수로 구성\n",
        " - 수학의 기본 연산자(가감승제) 사용 가능"
      ]
    },
    {
      "cell_type": "code",
      "metadata": {
        "id": "GbOpxNjEPjle",
        "colab": {
          "base_uri": "https://localhost:8080/"
        },
        "outputId": "fb5f54cf-80f5-4ed7-ad66-95b3a6205979"
      },
      "source": [
        "a = 5\n",
        "b = 4\n",
        "\n",
        "print(a + b)\n",
        "print(a * b)\n",
        "print(a - b)\n",
        "print(a / b)\n",
        "print(a % b)\n",
        "print(a ** b)"
      ],
      "execution_count": null,
      "outputs": [
        {
          "output_type": "stream",
          "text": [
            "9\n",
            "20\n",
            "1\n",
            "1.25\n",
            "1\n",
            "625\n"
          ],
          "name": "stdout"
        }
      ]
    },
    {
      "cell_type": "markdown",
      "metadata": {
        "id": "S6Q8cyx_Pjlw"
      },
      "source": [
        "#### **operator priorities (연산자 우선순위)**\n",
        "  - 기본적인 수학의 연산자와 동일\n",
        "  - 강제로 연산을 선수하기 위해선, 괄호()를 사용"
      ]
    },
    {
      "cell_type": "code",
      "metadata": {
        "id": "yoICCGr5Pjlx",
        "colab": {
          "base_uri": "https://localhost:8080/"
        },
        "outputId": "a976c461-bc97-47e2-887f-e8a065960464"
      },
      "source": [
        "a = 5\n",
        "b = 4\n",
        "\n",
        "print(a + b * 4)\n",
        "print((a + b) * 4)"
      ],
      "execution_count": null,
      "outputs": [
        {
          "output_type": "stream",
          "text": [
            "21\n",
            "36\n"
          ],
          "name": "stdout"
        }
      ]
    },
    {
      "cell_type": "markdown",
      "metadata": {
        "id": "Vw5AoQBWPjmD"
      },
      "source": [
        "*  **연습문제** 다음의 각 a값을 출력 했을 때 결과는? \n"
      ]
    },
    {
      "cell_type": "code",
      "metadata": {
        "id": "1woaTqVjPjmE",
        "colab": {
          "base_uri": "https://localhost:8080/"
        },
        "outputId": "b4b97984-a5e5-411a-fa47-f5062f5484cb"
      },
      "source": [
        "a = 9\n",
        "print(a) # 9\n",
        "print(a - 3) # 6\n",
        "print(a) #9, 6"
      ],
      "execution_count": null,
      "outputs": [
        {
          "output_type": "stream",
          "text": [
            "9\n",
            "6\n",
            "9\n"
          ],
          "name": "stdout"
        }
      ]
    },
    {
      "cell_type": "markdown",
      "metadata": {
        "id": "E_1up33YPjmR"
      },
      "source": [
        "#### **expression evaluation & assignment (식평가 & 대입)**\n",
        " - 변수의 값이 변경되기 위해서는 =를 사용하여 대입이 발생하는 경우에만 해당"
      ]
    },
    {
      "cell_type": "code",
      "metadata": {
        "id": "cnEuLVa5PjmS",
        "colab": {
          "base_uri": "https://localhost:8080/"
        },
        "outputId": "ae334697-4920-4cf3-ac3e-1bdf42434f27"
      },
      "source": [
        "a = 9\n",
        "a-3\n",
        "print(a)"
      ],
      "execution_count": null,
      "outputs": [
        {
          "output_type": "stream",
          "text": [
            "9\n"
          ],
          "name": "stdout"
        }
      ]
    },
    {
      "cell_type": "code",
      "metadata": {
        "id": "W0uZL6zKPjmg",
        "colab": {
          "base_uri": "https://localhost:8080/"
        },
        "outputId": "3240247a-04de-4792-de56-028ffd3d46ca"
      },
      "source": [
        "a = 9\n",
        "t = a - 3\n",
        "a = t\n",
        "\n",
        "print(a)"
      ],
      "execution_count": null,
      "outputs": [
        {
          "output_type": "stream",
          "text": [
            "6\n"
          ],
          "name": "stdout"
        }
      ]
    },
    {
      "cell_type": "code",
      "metadata": {
        "id": "FbYbf8UcPjmx",
        "colab": {
          "base_uri": "https://localhost:8080/"
        },
        "outputId": "9b6811d2-6c4c-4ced-b6f5-d383f871bdb9"
      },
      "source": [
        "a = 9\n",
        "a = a - 3\n",
        "print(a)"
      ],
      "execution_count": null,
      "outputs": [
        {
          "output_type": "stream",
          "text": [
            "6\n"
          ],
          "name": "stdout"
        }
      ]
    },
    {
      "cell_type": "code",
      "metadata": {
        "id": "FAoxEEUPPjm8",
        "colab": {
          "base_uri": "https://localhost:8080/"
        },
        "outputId": "94f795b2-b49f-4847-a3e9-91b35a73858a"
      },
      "source": [
        "a = 9\n",
        "# a = a - 3\n",
        "a **= 3\n",
        "print(a)"
      ],
      "execution_count": null,
      "outputs": [
        {
          "output_type": "stream",
          "text": [
            "729\n"
          ],
          "name": "stdout"
        }
      ]
    }
  ]
}