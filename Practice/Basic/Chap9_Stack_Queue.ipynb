{
  "nbformat": 4,
  "nbformat_minor": 0,
  "metadata": {
    "colab": {
      "name": "Chap9_Stack_Queue.ipynb",
      "provenance": [],
      "authorship_tag": "ABX9TyM4s1f/EaJY6SD+d93VVXMn",
      "include_colab_link": true
    },
    "kernelspec": {
      "name": "python3",
      "display_name": "Python 3"
    }
  },
  "cells": [
    {
      "cell_type": "markdown",
      "metadata": {
        "id": "view-in-github",
        "colab_type": "text"
      },
      "source": [
        "<a href=\"https://colab.research.google.com/github/kdmid/Class_Python/blob/main/Practice/Basic/Chap9_Stack_Queue.ipynb\" target=\"_parent\"><img src=\"https://colab.research.google.com/assets/colab-badge.svg\" alt=\"Open In Colab\"/></a>"
      ]
    },
    {
      "cell_type": "markdown",
      "metadata": {
        "id": "_NwOAPklbLOT"
      },
      "source": [
        "# Chap 9 스택, 큐\r\n",
        "\r\n",
        "스택(Stack)과 큐(Queue)는 프로그래밍이라는 개념이 탄생할 때부터 사용된 가장 고전적인 자료구조로, 자료를 담아두는 자료형이다.  \r\n",
        "**스택은 LIFO(Last-In-First-Out, 후입선출)**, **큐는 FIFO(First-In-First-Out, 선입선출)**로 처리된다.  \r\n",
        "파이썬은 스택 자료형을 별도로 제공하지는 않지만, 리스트가 사실상 스택의 모든 연산을 지원한다.  \r\n",
        "큐 또한 리스트가 큐의 모든 연산을 지원한다. 다만 리스트는 동적 배열로 구현되어 있어 큐의 연산을 수행하기에는 효율적이지 않기 때문에, 큐를 위해서는 데크(Deque)라는 별도의 자료형을 사용해야 좋은 성능을 낼 수 있다.  \r\n",
        "리스트는 스택과 큐의 모든 연산을 지원하기 때문에 사실상 리스트를 잘 사용하기만 해도 충분하다.\r\n",
        "![stack](https://user-images.githubusercontent.com/72365663/102454044-b31dd380-4080-11eb-8522-47c8cd4f4927.png)\r\n",
        "![queue](https://user-images.githubusercontent.com/72365663/102454049-b44f0080-4080-11eb-932e-f02011b7527f.png)\r\n",
        "\r\n"
      ]
    },
    {
      "cell_type": "markdown",
      "metadata": {
        "id": "kMpaKQ-SeiHz"
      },
      "source": [
        "## 스택\r\n",
        "스택은 다음과 같은 2가지 주요 연산을 지원하는 요소의 컬렉션으로 사용되는 추상 자료형이다.\r\n",
        "- `push()`: 요소를 컬렉션에 추가한다.\r\n",
        "- `pop()`: 아직 제거되지 않은 가장 최근에 삽입된 요소를 제거한다.\r\n",
        "\r\n"
      ]
    },
    {
      "cell_type": "markdown",
      "metadata": {
        "id": "hwo5VTzwIAH8"
      },
      "source": [
        "### 연결 리스트를 이용한 스택 ADT 구현\r\n",
        "\r\n",
        "연결 리스트를 이용해 실제로 스택을 한번 구현해보자.  \r\n",
        "먼저 다음과 같이 연결 리스트를 담을 Node 클래스부터 정의한다."
      ]
    },
    {
      "cell_type": "code",
      "metadata": {
        "id": "7ThgEaenbE9Y"
      },
      "source": [
        "class Node:\r\n",
        "  def __init__(self, item, next):\r\n",
        "    self.item = item\r\n",
        "    self.next = next"
      ],
      "execution_count": null,
      "outputs": []
    },
    {
      "cell_type": "markdown",
      "metadata": {
        "id": "y6HvdlF7IbMk"
      },
      "source": [
        "초기화 함수 `__init__()`에서 노드의 값은 `item`으로, 다음 노드를 가리키는 포인터는 `next`로 정의한다.  \r\n",
        "이제 스택의 연산인 `push()`와 `pop()`을 담은 Stack 클래스를 다음과 같이 정의한다."
      ]
    },
    {
      "cell_type": "code",
      "metadata": {
        "id": "np5W8E5hj6Fq"
      },
      "source": [
        "class Stack:\r\n",
        "  def __init__(self):\r\n",
        "      self.last = None\r\n",
        "\r\n",
        "  def push(self, item):\r\n",
        "     self.last = Node(item, self.last)\r\n",
        "  \r\n",
        "  def pop(self):\r\n",
        "        item = self.last.item\r\n",
        "        self.last = self.last.next\r\n",
        "        return item"
      ],
      "execution_count": null,
      "outputs": []
    },
    {
      "cell_type": "markdown",
      "metadata": {
        "id": "_9DnwOqBJCpU"
      },
      "source": [
        "`push()`는 연결 리스트에 요소를 추가하면서 가장 마지막 값을 next로 지정하고, 포인터인 last는 가장 마지막으로 이동시킨다.  \r\n",
        "`pop()`은 가장 마지막 아이템을 끄집어내고 last 포인터를 한 칸 앞으로 전진시킨다. 즉 이전에 추가된 값을 가리키게 한다.  \r\n",
        "이제 다음과 같이 1부터 5까지의 값을 스택에 입력해보자."
      ]
    },
    {
      "cell_type": "code",
      "metadata": {
        "id": "bK7T30dJlBe-"
      },
      "source": [
        "stack = Stack()\r\n",
        "stack.push(1)\r\n",
        "stack.push(2)\r\n",
        "stack.push(3)\r\n",
        "stack.push(4)\r\n",
        "stack.push(5)"
      ],
      "execution_count": null,
      "outputs": []
    },
    {
      "cell_type": "markdown",
      "metadata": {
        "id": "8_oQXXdWJqe9"
      },
      "source": [
        "스택 변수 stack의 입력된 값을 도식화하면 아래 그림과 같다.  \r\n",
        "![stack](https://user-images.githubusercontent.com/72365663/102710304-c76a0680-42f4-11eb-97a3-13c7473c0bc3.JPG)  \r\n",
        "stack은 각각 이전 값을 가리키는 연결 리스트로 구현되어 있으며, 가장 마지막 값은 last 포인터가 가리킨다.  \r\n",
        "이제 `pop()` 메소드로 스택의 값을 차례대로 출력해보자."
      ]
    },
    {
      "cell_type": "code",
      "metadata": {
        "colab": {
          "base_uri": "https://localhost:8080/"
        },
        "id": "NIyCUlSjl8AR",
        "outputId": "c5e5aa92-8035-46c6-d81e-cfc7a115624f"
      },
      "source": [
        "  for _ in range(5):\r\n",
        "    print(stack.pop())"
      ],
      "execution_count": null,
      "outputs": [
        {
          "output_type": "stream",
          "text": [
            "5\n",
            "4\n",
            "3\n",
            "2\n",
            "1\n"
          ],
          "name": "stdout"
        }
      ]
    },
    {
      "cell_type": "markdown",
      "metadata": {
        "id": "iKpHArkik5oh"
      },
      "source": [
        "가장 최근에 입력된 순서대로(LIFO) 출력되는 것을 확인할 수 있다."
      ]
    },
    {
      "cell_type": "markdown",
      "metadata": {
        "id": "qdPNJZ9CydSw"
      },
      "source": [
        "## Q20 유효한 괄호\r\n",
        "\r\n",
        "괄호로 된 입력값이 올바른지 판별하라\r\n",
        "\r\n",
        "- 입력\r\n",
        "```\r\n",
        "(){}[]\r\n",
        "```\r\n",
        "\r\n",
        "- 출력\r\n",
        "```\r\n",
        "True\r\n",
        "```"
      ]
    },
    {
      "cell_type": "markdown",
      "metadata": {
        "id": "VGuaffBMzWBe"
      },
      "source": [
        "### Solution 1 스택 일치 여부 판별\r\n"
      ]
    },
    {
      "cell_type": "code",
      "metadata": {
        "colab": {
          "base_uri": "https://localhost:8080/"
        },
        "id": "Pu9HMCVEpXhQ",
        "outputId": "aaf6f4d1-20f4-48b8-ae3a-097b32747b4d"
      },
      "source": [
        "# Dictionary 조회 원리\r\n",
        "a = {'Korea': 'Seoul', \r\n",
        "     'Canada': 'Ottawa', \r\n",
        "     'USA': 'Washington D.C'}\r\n",
        "\r\n",
        "print(\"Korea in a: \",\"Korea\" in a)    # Key는 바로 조회 가능\r\n",
        "print(\"Seoul in a: \",\"Seoul\" in a)    # Value는 바로 조회 불가\r\n",
        "print(\"Value값 조회: \", a[\"Korea\"])   # Key값을 입력하면 Value값 추출"
      ],
      "execution_count": null,
      "outputs": [
        {
          "output_type": "stream",
          "text": [
            "Korea in a:  True\n",
            "Seoul in a:  False\n",
            "Value값 조회:  Seoul\n"
          ],
          "name": "stdout"
        }
      ]
    },
    {
      "cell_type": "markdown",
      "metadata": {
        "id": "M98OAuZY06Nf"
      },
      "source": [
        "![ValidParen](https://user-images.githubusercontent.com/72365663/102711632-aad2cc00-42fe-11eb-99e3-fad2e085cb19.JPG)"
      ]
    },
    {
      "cell_type": "code",
      "metadata": {
        "colab": {
          "base_uri": "https://localhost:8080/"
        },
        "id": "z-SfTjBZvTkY",
        "outputId": "d7253d3e-e66d-45d8-f337-6d8bfa765ebf"
      },
      "source": [
        "class Solution:\r\n",
        "    def isValid(self, s: str) -> bool:\r\n",
        "        stack = []\r\n",
        "        # 괄호로 이루어진 dictionary 생성\r\n",
        "        table = {\r\n",
        "            ')': '(',\r\n",
        "            '}': '{',\r\n",
        "            ']': '[',\r\n",
        "        }\r\n",
        "        \r\n",
        "        # 스택 이용 예외 처리 및 일치 여부 판별\r\n",
        "        for char in s:\r\n",
        "            if char not in table:\r\n",
        "                stack.append(char)    # stack에 table 키에 없는 char 추가 \r\n",
        "            elif not stack or table[char] != stack.pop():   # stack의 마지막 값을 추출해내서 비교\r\n",
        "                return False\r\n",
        "        return len(stack) == 0\r\n",
        "        \r\n",
        "\r\n",
        "if __name__ == '__main__':\r\n",
        "  s = Solution()\r\n",
        "  print(s.isValid(\"()[]{}\"))\r\n",
        "  print(s.isValid(()))\r\n",
        "  print(s.isValid({}))\r\n",
        "  print(s.isValid([]))"
      ],
      "execution_count": null,
      "outputs": [
        {
          "output_type": "stream",
          "text": [
            "True\n",
            "True\n",
            "True\n",
            "True\n"
          ],
          "name": "stdout"
        }
      ]
    },
    {
      "cell_type": "markdown",
      "metadata": {
        "id": "TyZNM2rU0FDP"
      },
      "source": [
        "## Q21 중복 문자 제거\r\n",
        "\r\n",
        "중복된 문자를 제외하고 사전식 순서로 나열하라  \r\n",
        "  \r\n",
        "예제1\r\n",
        "- 입력\r\n",
        "```\r\n",
        "\"bcabc\"\r\n",
        "```\r\n",
        "- 출력\r\n",
        "```\r\n",
        "\"abc\"\r\n",
        "```\r\n",
        "  \r\n",
        "예제2\r\n",
        "- 입력\r\n",
        "```\r\n",
        "\"cbacdcbc\"\r\n",
        "```\r\n",
        "- 출력\r\n",
        "```\r\n",
        "\"acdb\"\r\n",
        "```\r\n",
        "\r\n",
        "- 설명\r\n",
        "    - 사전식 순서란 글자 그대로 사전에서 가장 먼저 찾을 수 있는 순서를 말한다.\r\n",
        "    - bcabc에서 중복 문자를 제거하면 앞에 bc가 제거되고 사전식 순서대로 abc가 남을 것이다.\r\n",
        "    - ebcabc의 경우 순서상으로는 abce가 맞지만, e는 딱 한 번만 등장하여 중복문자가 아니므로 제거할 수가 없기 때문에 eabc가 출력되게 된다.\r\n",
        "    - ebcabce라면 첫 번째 e는 중복으로 제거할 수 있기 때문에 abce가 출력된다.  \r\n",
        "![removeletter](https://user-images.githubusercontent.com/72365663/102712126-ecb14180-4301-11eb-8cd1-43228e06da06.JPG)\r\n"
      ]
    },
    {
      "cell_type": "markdown",
      "metadata": {
        "id": "iOawtAqp2pvI"
      },
      "source": [
        "### Solution 1 재귀를 이용한 분리\r\n",
        "\r\n",
        "![removeletter2](https://user-images.githubusercontent.com/72365663/102713357-0c009c80-430b-11eb-8686-1e249b9938ac.JPG)"
      ]
    },
    {
      "cell_type": "code",
      "metadata": {
        "colab": {
          "base_uri": "https://localhost:8080/"
        },
        "id": "qX3hym5O9CJR",
        "outputId": "b24ce653-0d87-4c5a-f510-4dcd81c7ab6c"
      },
      "source": [
        "s = \"cbacdcbc\"\r\n",
        "print(set(s))   # 중복 문자 제거\r\n",
        "print(sorted(set(s)))   # 문자 정렬\r\n",
        "print(s[s.index(\"a\"):])   # 해당 문자부터 끝까지"
      ],
      "execution_count": null,
      "outputs": [
        {
          "output_type": "stream",
          "text": [
            "{'d', 'c', 'b', 'a'}\n",
            "['a', 'b', 'c', 'd']\n",
            "acdcbc\n"
          ],
          "name": "stdout"
        }
      ]
    },
    {
      "cell_type": "code",
      "metadata": {
        "colab": {
          "base_uri": "https://localhost:8080/"
        },
        "id": "KC4KQF0r4wQs",
        "outputId": "6393fd1c-70ab-4bc4-ea3d-0c23a6595ca0"
      },
      "source": [
        "class Solution:\r\n",
        "    def removeDuplicateLetters(self, s: str) -> str:\r\n",
        "        # 집합으로 정렬\r\n",
        "        for char in sorted(set(s)):   # 중복 문자를 제외한 알파벳 순으로 문자열 입력값을 모두 정렬\r\n",
        "            suffix = s[s.index(char):]\r\n",
        "            print(\"suffix:\", suffix)\r\n",
        "\r\n",
        "            # 전체 집합과 접미사 집합이 일치할때 분리 진행\r\n",
        "            if set(s) == set(suffix):\r\n",
        "                return char + self.removeDuplicateLetters(suffix.replace(char, ''))   # 해당문자 + suffix에서 해당문자 제거한 문자\r\n",
        "            print(\"s:\",s)\r\n",
        "        return ''\r\n",
        "\r\n",
        "if __name__ == '__main__':\r\n",
        "  s = Solution()\r\n",
        "  print(s.removeDuplicateLetters(\"bcabc\"))\r\n",
        "  print(s.removeDuplicateLetters(\"cbacdcbc\"))"
      ],
      "execution_count": null,
      "outputs": [
        {
          "output_type": "stream",
          "text": [
            "suffix: abc\n",
            "suffix: bc\n",
            "suffix: c\n",
            "abc\n",
            "suffix: acdcbc\n",
            "suffix: bc\n",
            "s: cdcbc\n",
            "suffix: cdcbc\n",
            "suffix: b\n",
            "s: db\n",
            "suffix: db\n",
            "suffix: b\n",
            "acdb\n"
          ],
          "name": "stdout"
        }
      ]
    },
    {
      "cell_type": "markdown",
      "metadata": {
        "id": "G_mSGY5V5hr7"
      },
      "source": [
        "### Solution 2 스택을 이용한 문자 제거"
      ]
    },
    {
      "cell_type": "code",
      "metadata": {
        "colab": {
          "base_uri": "https://localhost:8080/"
        },
        "id": "W1Om4MwmPBmZ",
        "outputId": "ebfcd0b8-4cee-4369-8796-87b70baa7504"
      },
      "source": [
        "import collections\r\n",
        "\r\n",
        "s = \"cbacdcbc\"\r\n",
        "\r\n",
        "print(collections.Counter(s))   # 중복문자가 몇개인지 알려줌"
      ],
      "execution_count": null,
      "outputs": [
        {
          "output_type": "stream",
          "text": [
            "Counter({'c': 4, 'b': 2, 'a': 1, 'd': 1})\n"
          ],
          "name": "stdout"
        }
      ]
    },
    {
      "cell_type": "code",
      "metadata": {
        "colab": {
          "base_uri": "https://localhost:8080/"
        },
        "id": "puGs93ldTKWu",
        "outputId": "775c60d5-71c5-4909-b313-a5017710dd7a"
      },
      "source": [
        "print('a' < 'b')\r\n",
        "print('d' < 'c')"
      ],
      "execution_count": null,
      "outputs": [
        {
          "output_type": "stream",
          "text": [
            "True\n",
            "False\n"
          ],
          "name": "stdout"
        }
      ]
    },
    {
      "cell_type": "markdown",
      "metadata": {
        "id": "5SBi5_L-WCiu"
      },
      "source": [
        "![removeletter3](https://user-images.githubusercontent.com/72365663/102720827-01113080-433a-11eb-909e-3d29bf2c549d.png)"
      ]
    },
    {
      "cell_type": "code",
      "metadata": {
        "colab": {
          "base_uri": "https://localhost:8080/"
        },
        "id": "DFk7inu156Pp",
        "outputId": "903d8f6e-c655-4516-8258-d6178222bde8"
      },
      "source": [
        "import collections\r\n",
        "\r\n",
        "class Solution:\r\n",
        "    def removeDuplicateLetters(self, s: str) -> str:\r\n",
        "        counter, seen, stack = collections.Counter(s), set(), []\r\n",
        "\r\n",
        "        for char in s:\r\n",
        "            counter[char] -= 1\r\n",
        "            if char in seen:    # char이 seen에 속해 있을 경우 스킵\r\n",
        "                continue\r\n",
        "\r\n",
        "            # 뒤에 붙일 문자가 남아 있다면 스택에서 제거\r\n",
        "            while stack and char < stack[-1] and counter[stack[-1]] > 0:\r\n",
        "                seen.remove(stack.pop())\r\n",
        "            stack.append(char)\r\n",
        "            seen.add(char)\r\n",
        "            print(\"stack:\",stack)\r\n",
        "            print(\"seen2:\",seen)\r\n",
        "\r\n",
        "        return ''.join(stack)\r\n",
        "\r\n",
        "if __name__ == '__main__':\r\n",
        "  s = Solution()\r\n",
        "  print(s.removeDuplicateLetters(\"bcabc\"))\r\n",
        "  print(s.removeDuplicateLetters(\"cbacdcbc\"))"
      ],
      "execution_count": null,
      "outputs": [
        {
          "output_type": "stream",
          "text": [
            "stack: ['b']\n",
            "seen2: {'b'}\n",
            "stack: ['b', 'c']\n",
            "seen2: {'c', 'b'}\n",
            "stack: ['a']\n",
            "seen2: {'a'}\n",
            "stack: ['a', 'b']\n",
            "seen2: {'b', 'a'}\n",
            "stack: ['a', 'b', 'c']\n",
            "seen2: {'c', 'b', 'a'}\n",
            "abc\n",
            "stack: ['c']\n",
            "seen2: {'c'}\n",
            "stack: ['b']\n",
            "seen2: {'b'}\n",
            "stack: ['a']\n",
            "seen2: {'a'}\n",
            "stack: ['a', 'c']\n",
            "seen2: {'c', 'a'}\n",
            "stack: ['a', 'c', 'd']\n",
            "seen2: {'c', 'd', 'a'}\n",
            "stack: ['a', 'c', 'd', 'b']\n",
            "seen2: {'b', 'c', 'd', 'a'}\n",
            "acdb\n"
          ],
          "name": "stdout"
        }
      ]
    },
    {
      "cell_type": "markdown",
      "metadata": {
        "id": "QNbMPcYJ6lJZ"
      },
      "source": [
        "## Q22 일일 온도\r\n",
        "\r\n",
        "매일의 화씨 온도(F) 리스트 T를 입력받아서, 더 따뜻한 날씨를 위해서는 며칠을 더 기다려야 하는지를 출력하라.\r\n",
        "\r\n",
        "- 입력\r\n",
        "```\r\n",
        "T = [73, 74, 75, 71, 69, 72, 76, 73]\r\n",
        "```\r\n",
        "\r\n",
        "- 출력\r\n",
        "```\r\n",
        "[1, 1, 4, 2, 1, 1, 0, 0]\r\n",
        "```\r\n",
        "\r\n",
        "- 설명\r\n",
        "첫째 날(73도)에서 더 따뜻한 날을 위해서는 하루만 기다리면 된다. 셋째 날(75도)에서 더 따뜻한 날을 기다리기 위해서는(71, 69, 72, 76) 4일을 기다려야 한다."
      ]
    },
    {
      "cell_type": "markdown",
      "metadata": {
        "id": "42v_ECAWgZ0R"
      },
      "source": [
        "### Solution 1 스택 값 비교\r\n",
        "\r\n",
        "![dailytemp](https://user-images.githubusercontent.com/72365663/102715607-f181ef80-4319-11eb-97b1-cc6509335479.JPG)  \r\n",
        "현재의 인덱스를 계속 스택에 쌓아두다가, 이전보다 상승하는 지점에서 현재 온도와 스택에 쌓아둔 인덱스 지점의 온도 차이를 비교해서, 더 높다면 스택의 값을 pop으로 꺼내고 현재 인덱스와 스택에 쌓아둔 인덱스의 차이를 정답으로 처리한다.  \r\n",
        "![dailytemp2](https://user-images.githubusercontent.com/72365663/102716286-432c7900-431e-11eb-9798-b296dd7ea5ed.png)  "
      ]
    },
    {
      "cell_type": "code",
      "metadata": {
        "colab": {
          "base_uri": "https://localhost:8080/"
        },
        "id": "mWWXTpJPgZEi",
        "outputId": "885e53d6-32bd-4e40-dfb0-977ca26bc30f"
      },
      "source": [
        "from typing import List\r\n",
        "\r\n",
        "\r\n",
        "class Solution:\r\n",
        "    def dailyTemperatures(self, T: List[int]) -> List[int]:\r\n",
        "        answer = [0] * len(T)\r\n",
        "        stack = []\r\n",
        "        print(\"answer_initial:\", answer)\r\n",
        "        for i, cur in enumerate(T):\r\n",
        "            # 현재 온도가 스택 값보다 높다면 정답 처리\r\n",
        "            while stack and cur > T[stack[-1]]:\r\n",
        "                last = stack.pop()\r\n",
        "                answer[last] = i - last\r\n",
        "            stack.append(i)\r\n",
        "            print(\"answer:\", answer)\r\n",
        "\r\n",
        "        return answer\r\n",
        "\r\n",
        "if __name__ == '__main__':\r\n",
        "  s = Solution()\r\n",
        "  print(s.dailyTemperatures([73, 74, 75, 71, 69, 72, 76, 73]))"
      ],
      "execution_count": null,
      "outputs": [
        {
          "output_type": "stream",
          "text": [
            "answer_initial: [0, 0, 0, 0, 0, 0, 0, 0]\n",
            "answer: [0, 0, 0, 0, 0, 0, 0, 0]\n",
            "answer: [1, 0, 0, 0, 0, 0, 0, 0]\n",
            "answer: [1, 1, 0, 0, 0, 0, 0, 0]\n",
            "answer: [1, 1, 0, 0, 0, 0, 0, 0]\n",
            "answer: [1, 1, 0, 0, 0, 0, 0, 0]\n",
            "answer: [1, 1, 0, 2, 1, 0, 0, 0]\n",
            "answer: [1, 1, 4, 2, 1, 1, 0, 0]\n",
            "answer: [1, 1, 4, 2, 1, 1, 0, 0]\n",
            "[1, 1, 4, 2, 1, 1, 0, 0]\n"
          ],
          "name": "stdout"
        }
      ]
    },
    {
      "cell_type": "markdown",
      "metadata": {
        "id": "rsf_vdFFpc4E"
      },
      "source": [
        "## 큐\r\n",
        "\r\n",
        "큐(Queue)는 시퀀스의 한쪽 끝에는 엔티티를 추가하고, 다른 반대쪽 끝에는 제거할 수 있는 엔티티 컬렉션이다.  "
      ]
    },
    {
      "cell_type": "markdown",
      "metadata": {
        "id": "ziEjmLbogtny"
      },
      "source": [
        "## Q23 큐를 이용한 스택 구현\r\n",
        "\r\n",
        "큐를 이용해 다음 연산을 지원하는 스택을 구현하라.\r\n",
        "\r\n",
        "- push(x): 요소x를 스택에 삽입한다.\r\n",
        "- pop(): 스택의 첫 번째 요소를 삭제한다.\r\n",
        "- top():스택의 첫 번째 요소를 가져온다.\r\n",
        "- empty(): 스택이 비어 있는지 여부를 리턴한다.\r\n",
        "  \r\n",
        "  \r\n",
        "MyStack stack = new MyStack();\r\n",
        "\r\n",
        "stack.push(1);  \r\n",
        "stack.push(2);  \r\n",
        "stack.top();    // 2 리턴  \r\n",
        "stack.pop();    // 2 리턴  \r\n",
        "stack.empty()    // false 리턴  "
      ]
    },
    {
      "cell_type": "markdown",
      "metadata": {
        "id": "ibx30URwqIUN"
      },
      "source": [
        "### Solution 1 `push()`할 때 큐를 이용해 재정렬\r\n",
        "\r\n",
        "- popleft(): 가장 왼쪽에 있는 값을 뺀다."
      ]
    },
    {
      "cell_type": "code",
      "metadata": {
        "colab": {
          "base_uri": "https://localhost:8080/"
        },
        "id": "rD_lzf_zhe88",
        "outputId": "8048febd-d022-443e-dab0-78b28e18836a"
      },
      "source": [
        "import collections\r\n",
        "\r\n",
        "class MyStack:\r\n",
        "    def __init__(self):\r\n",
        "        self.q = collections.deque()\r\n",
        "\r\n",
        "    def push(self, x):\r\n",
        "        self.q.append(x)\r\n",
        "        # 요소 삽입 후 맨 앞에 두는 상태로 재정렬\r\n",
        "        for _ in range(len(self.q) - 1):\r\n",
        "            self.q.append(self.q.popleft())   # 가장 왼쪽에 있는 값을 오른쪽에 넣어준다. [1,2] -> [2,1]\r\n",
        "        print(\"큐:\", self.q)\r\n",
        "\r\n",
        "    def pop(self):\r\n",
        "        return self.q.popleft()\r\n",
        "\r\n",
        "    def top(self):\r\n",
        "        return self.q[0]\r\n",
        "\r\n",
        "    def empty(self):\r\n",
        "        return len(self.q) == 0\r\n",
        "\r\n",
        "if __name__ == '__main__':\r\n",
        "  stack = MyStack()\r\n",
        "  print(stack.push(1))\r\n",
        "  print(stack.push(2))\r\n",
        "  print(stack.top())\r\n",
        "  print(stack.pop())\r\n",
        "  print(stack.empty())"
      ],
      "execution_count": null,
      "outputs": [
        {
          "output_type": "stream",
          "text": [
            "큐: deque([1])\n",
            "None\n",
            "큐: deque([2, 1])\n",
            "None\n",
            "2\n",
            "2\n",
            "False\n"
          ],
          "name": "stdout"
        }
      ]
    },
    {
      "cell_type": "markdown",
      "metadata": {
        "id": "boT7igs0uKmt"
      },
      "source": [
        "## Q24 스택을 이용한 큐 구현\r\n",
        "\r\n",
        "스택을 이용해 다음 연산을 지원하는 큐를 구현하라.\r\n",
        "\r\n",
        "- push(x): 요소x를 큐 마지막에 삽입한다.\r\n",
        "- pop(): 큐 처음에 있는 요소를 제거한다.\r\n",
        "- peek():큐 처음에 있는 요소를 조회한다.\r\n",
        "- empty(): 큐이 비어 있는지 여부를 리턴한다.\r\n",
        "  \r\n",
        "```\r\n",
        "MyQueue queue = new MyQueue();  \r\n",
        "  \r\n",
        "queue.push(1);  \r\n",
        "queue.push(2);  \r\n",
        "queue.peek();  // 1 리턴  \r\n",
        "queue.pop();   // 1 리턴  \r\n",
        "queue.empty()  // false 리턴  \r\n",
        "```"
      ]
    },
    {
      "cell_type": "markdown",
      "metadata": {
        "id": "_tX2_AvxqNpV"
      },
      "source": [
        "### Solution 1 스택 2개 사용\r\n",
        "\r\n",
        "![que](https://user-images.githubusercontent.com/72365663/102717338-fef0a700-4324-11eb-94a8-8be073487ecd.JPG)"
      ]
    },
    {
      "cell_type": "code",
      "metadata": {
        "colab": {
          "base_uri": "https://localhost:8080/"
        },
        "id": "tfxgozZNuyym",
        "outputId": "45c5e266-cd00-4184-8f2f-86e0adaf2d86"
      },
      "source": [
        "class MyQueue:\r\n",
        "    def __init__(self):\r\n",
        "        self.input = []\r\n",
        "        self.output = []\r\n",
        "\r\n",
        "    def push(self, x):\r\n",
        "        self.input.append(x)\r\n",
        "\r\n",
        "    def pop(self):\r\n",
        "        self.peek()\r\n",
        "        return self.output.pop()\r\n",
        "\r\n",
        "    def peek(self):\r\n",
        "        # output이 없으면 모두 재입력\r\n",
        "        if not self.output:\r\n",
        "            while self.input:\r\n",
        "                self.output.append(self.input.pop())    # input 스택에 있는 오른쪽 값부터 output 스택에 넣는다\r\n",
        "        return self.output[-1]\r\n",
        "\r\n",
        "    def empty(self):\r\n",
        "        return self.input == [] and self.output == []\r\n",
        "\r\n",
        "if __name__ == '__main__':\r\n",
        "  queue = MyQueue()\r\n",
        "  print(queue.push(1))\r\n",
        "  print(queue.push(2))\r\n",
        "  print(queue.peek())\r\n",
        "  print(queue.pop())\r\n",
        "  print(queue.empty())"
      ],
      "execution_count": null,
      "outputs": [
        {
          "output_type": "stream",
          "text": [
            "None\n",
            "None\n",
            "1\n",
            "1\n",
            "False\n"
          ],
          "name": "stdout"
        }
      ]
    },
    {
      "cell_type": "markdown",
      "metadata": {
        "id": "bDik3NEnztiS"
      },
      "source": [
        "## Q25 원형 큐 디자인\r\n",
        "\r\n",
        "원형 큐를 디자인하라.\r\n",
        "\r\n",
        "```\r\n",
        "MyCircularQueue circularQueue = new MyCircularQueue(5);  //크기를 5로 지정  \r\n",
        "circularQueue.enQueue(10);  //  true 리턴  \r\n",
        "circularQueue.enQueue(20);  //  true 리턴  \r\n",
        "circularQueue.enQueue(30);  //  true 리턴  \r\n",
        "circularQueue.enQueue(40);  //  true 리턴  \r\n",
        "circularQueue.Rear();       //  40 리턴  \r\n",
        "circularQueue.isFull();     //  false 리턴  \r\n",
        "circularQueue.deQueue();    //  true 리턴  \r\n",
        "circularQueue.deQueue();    //  true 리턴  \r\n",
        "circularQueue.enQueue(50);  //  true 리턴  \r\n",
        "circularQueue.enQueue(60);  //  true 리턴  \r\n",
        "circularQueue.Rear();       //  60 리턴  \r\n",
        "circularQueue.Front();      //  30 리턴  \r\n",
        "```\r\n",
        "  \r\n",
        "'원형 큐'는 기존의 큐처럼 FIFO 구조를 지니면서, 마지막 위치가 시작 위치와 연결되는 아래의 그림과 같은 원형구조를 띠는 큐이다.  \r\n",
        "기존의 큐는 공간이 꽉 차게 되면 더 이상 요소를 추가할 수 없었다. 앞쪽에 요소들이 deQueue()로 모두 빠져서 충분한 공간이 남게 돼도 그쪽으로는 추가할 수 있는 방법이 없다.  \r\n",
        "그래서 앞쪽에 공간이 남아 있다면 그림처럼 동그랗게 연결해 앞쪽으로 추가할 수 있도록 재활용 가능한 구조가 바로 원형 큐이다.\r\n",
        "![circularQ](https://user-images.githubusercontent.com/72365663/102717955-c5ba3600-4328-11eb-97dd-373476c65649.png)"
      ]
    },
    {
      "cell_type": "markdown",
      "metadata": {
        "id": "Jvm0am1lqOjG"
      },
      "source": [
        "### Solution 1 배열을 이용한 풀이"
      ]
    },
    {
      "cell_type": "code",
      "metadata": {
        "colab": {
          "base_uri": "https://localhost:8080/"
        },
        "id": "mA98bSEivieO",
        "outputId": "4b3aa62c-02d2-4af5-d30a-9e99f3ae5c48"
      },
      "source": [
        "class MyCircularQueue:\r\n",
        "    def __init__(self, k: int):\r\n",
        "        self.q = [None] * k\r\n",
        "        self.maxlen = k   # 최대길이\r\n",
        "        self.p1 = 0   # front\r\n",
        "        self.p2 = 0   # rear\r\n",
        "        print(\"q:\",self.q)\r\n",
        "\r\n",
        "    # enQueue(): 리어(rear) 포인터 이동\r\n",
        "    def enQueue(self, value: int) -> bool:\r\n",
        "        if self.q[self.p2] is None:\r\n",
        "            self.q[self.p2] = value   # rear위치의 값이 비어있을 경우 입력된 value 값으로 채운다\r\n",
        "            self.p2 = (self.p2 + 1) % self.maxlen   # rear의 위치를 다음칸으로 이동시킨다(전체길의 나머지 이므로 5의 경우 0, 6의 경우 1 출력)\r\n",
        "            return True\r\n",
        "        else:\r\n",
        "            return False\r\n",
        "\r\n",
        "    # deQueue(): 프론트(front) 포인터 이동\r\n",
        "    def deQueue(self) -> bool:\r\n",
        "        if self.q[self.p1] is None:\r\n",
        "            return False\r\n",
        "        else:\r\n",
        "            self.q[self.p1] = None    # 기존 front 위치의 값을 None으로 바꾼다(지워버린다)\r\n",
        "            self.p1 = (self.p1 + 1) % self.maxlen   # front의 위치를 다음칸으로 이동시킨다\r\n",
        "            return True\r\n",
        "\r\n",
        "    def Front(self) -> int:\r\n",
        "        return -1 if self.q[self.p1] is None else self.q[self.p1]   # 현재 front 위치의 값 출력\r\n",
        "\r\n",
        "    def Rear(self) -> int:\r\n",
        "        return -1 if self.q[self.p2 - 1] is None else self.q[self.p2 - 1]   # rear은 현재 값이 채워져 있는 다음의 빈 칸에 위치해 있으므로 현위치에서 앞으로 이동해야 한다.\r\n",
        "\r\n",
        "    def isEmpty(self) -> bool:\r\n",
        "        return self.p1 == self.p2 and self.q[self.p1] is None   # rear와 front가 같은 위치에 있으며 해당값이 None일 경우 비어있는 걸로 간주\r\n",
        "\r\n",
        "    def isFull(self) -> bool:\r\n",
        "        return self.p1 == self.p2 and self.q[self.p1] is not None   # rear와 front가 같은 위치에 있으며 해당값이 None이 아닐 경우 꽉 차있는 걸로 간주\r\n",
        "\r\n",
        "\r\n",
        "if __name__ == '__main__':\r\n",
        "  circularQueue = MyCircularQueue(5)    # 크기를 5로 지정\r\n",
        "  print(circularQueue.enQueue(10))\r\n",
        "  print(circularQueue.enQueue(20))\r\n",
        "  print(circularQueue.enQueue(30))\r\n",
        "  print(circularQueue.enQueue(40))\r\n",
        "  print(circularQueue.Rear())\r\n",
        "  print(circularQueue.isFull())\r\n",
        "  print(circularQueue.deQueue()) \r\n",
        "  print(circularQueue.deQueue()) \r\n",
        "  print(circularQueue.enQueue(50)) \r\n",
        "  print(circularQueue.enQueue(60))\r\n",
        "  print(circularQueue.Rear())\r\n",
        "  print(circularQueue.Front())"
      ],
      "execution_count": null,
      "outputs": [
        {
          "output_type": "stream",
          "text": [
            "q: [None, None, None, None, None]\n",
            "True\n",
            "True\n",
            "True\n",
            "True\n",
            "40\n",
            "False\n",
            "True\n",
            "True\n",
            "True\n",
            "True\n",
            "60\n",
            "30\n"
          ],
          "name": "stdout"
        }
      ]
    },
    {
      "cell_type": "code",
      "metadata": {
        "colab": {
          "base_uri": "https://localhost:8080/"
        },
        "id": "iLuxUgpYp0PH",
        "outputId": "03c2aeb2-a1a5-48da-bd2a-dff9b1fe47eb"
      },
      "source": [
        "import heapq\r\n",
        "\r\n",
        "from typing import List\r\n",
        "\r\n",
        "# Definition for singly-linked list.\r\n",
        "class ListNode:\r\n",
        "    def __init__(self, x):\r\n",
        "        self.val = x\r\n",
        "        self.next = None\r\n",
        "\r\n",
        "class Solution:\r\n",
        "    def mergeKLists(self, lists: List[ListNode]) -> ListNode:\r\n",
        "        root = result = ListNode(None)\r\n",
        "        heap = []\r\n",
        "        # 각 연결 리스트의 루트를 힙에 저장\r\n",
        "        for i in range(len(lists)):\r\n",
        "            if lists[i]:\r\n",
        "                heapq.heappush(heap, (lists[i].val, i, lists[i]))\r\n",
        "        # 힙 추출 이후 다음 노드는 다시 저장\r\n",
        "        while heap:\r\n",
        "            node = heapq.heappop(heap)\r\n",
        "            idx = node[1]\r\n",
        "            result.next = node[2]\r\n",
        "            result = result.next\r\n",
        "            if result.next:\r\n",
        "                heapq.heappush(heap, (result.next.val, idx, result.next))\r\n",
        "            print(node)\r\n",
        "        return root.next\r\n",
        "\r\n",
        "\r\n",
        "l1 = ListNode(1)\r\n",
        "l1.next = ListNode(4)\r\n",
        "l1.next.next = ListNode(5)\r\n",
        "\r\n",
        "l2 = ListNode(1)\r\n",
        "l2.next = ListNode(3)\r\n",
        "l2.next.next = ListNode(4)\r\n",
        "\r\n",
        "l3 = ListNode(2)\r\n",
        "l3.next = ListNode(6)\r\n",
        "\r\n",
        "Solution().mergeKLists([l1, l2, l3])"
      ],
      "execution_count": null,
      "outputs": [
        {
          "output_type": "stream",
          "text": [
            "(1, 0, <__main__.ListNode object at 0x7f16b30d39b0>)\n",
            "(1, 1, <__main__.ListNode object at 0x7f16b30d3860>)\n",
            "(2, 2, <__main__.ListNode object at 0x7f16b30d3978>)\n",
            "(3, 1, <__main__.ListNode object at 0x7f16b30d3a20>)\n",
            "(4, 0, <__main__.ListNode object at 0x7f16b30d38d0>)\n",
            "(4, 1, <__main__.ListNode object at 0x7f16b30d3390>)\n",
            "(5, 0, <__main__.ListNode object at 0x7f16b30d3a58>)\n",
            "(6, 2, <__main__.ListNode object at 0x7f16b30d3240>)\n"
          ],
          "name": "stdout"
        },
        {
          "output_type": "execute_result",
          "data": {
            "text/plain": [
              "<__main__.ListNode at 0x7f16b30d39b0>"
            ]
          },
          "metadata": {
            "tags": []
          },
          "execution_count": 38
        }
      ]
    },
    {
      "cell_type": "code",
      "metadata": {
        "colab": {
          "base_uri": "https://localhost:8080/"
        },
        "id": "E8tsAzv5wL6G",
        "outputId": "de94b009-44fd-43bd-b75f-31eb75c2aa6b"
      },
      "source": [
        "import heapq\r\n",
        "\r\n",
        "from typing import List\r\n",
        "\r\n",
        "# Definition for singly-linked list.\r\n",
        "class ListNode:\r\n",
        "    def __init__(self, x):\r\n",
        "        self.val = x\r\n",
        "        self.next = None\r\n",
        "\r\n",
        "class Solution:\r\n",
        "    def mergeKLists(self, lists: List[ListNode]) -> ListNode:\r\n",
        "        root = result = ListNode(None)\r\n",
        "        heap = []\r\n",
        "        # 각 연결 리스트의 루트를 힙에 저장\r\n",
        "        for i in range(len(lists)):\r\n",
        "            if lists[i]:\r\n",
        "                heapq.heappush(heap, (lists[i].val, i, lists[i]))\r\n",
        "        # 힙 추출 이후 다음 노드는 다시 저장\r\n",
        "        while heap:\r\n",
        "            node = heapq.heappop(heap)\r\n",
        "            extract = node[0]\r\n",
        "            idx = node[1]\r\n",
        "            result.next = node[2]\r\n",
        "            result = result.next\r\n",
        "            if result.next:\r\n",
        "                heapq.heappush(heap, (result.next.val, idx, result.next))\r\n",
        "            print(extract)\r\n",
        "        return root.next\r\n",
        "\r\n",
        "\r\n",
        "l1 = ListNode(1)\r\n",
        "l1.next = ListNode(4)\r\n",
        "l1.next.next = ListNode(5)\r\n",
        "\r\n",
        "l2 = ListNode(1)\r\n",
        "l2.next = ListNode(3)\r\n",
        "l2.next.next = ListNode(4)\r\n",
        "\r\n",
        "l3 = ListNode(2)\r\n",
        "l3.next = ListNode(6)\r\n",
        "\r\n",
        "Solution().mergeKLists([l1, l2, l3])"
      ],
      "execution_count": null,
      "outputs": [
        {
          "output_type": "stream",
          "text": [
            "1\n",
            "1\n",
            "2\n",
            "3\n",
            "4\n",
            "4\n",
            "5\n",
            "6\n"
          ],
          "name": "stdout"
        },
        {
          "output_type": "execute_result",
          "data": {
            "text/plain": [
              "<__main__.ListNode at 0x7f16b3086400>"
            ]
          },
          "metadata": {
            "tags": []
          },
          "execution_count": 40
        }
      ]
    }
  ]
}