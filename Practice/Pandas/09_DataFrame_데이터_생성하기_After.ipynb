{
  "nbformat": 4,
  "nbformat_minor": 0,
  "metadata": {
    "kernelspec": {
      "display_name": "Python 3",
      "language": "python",
      "name": "python3"
    },
    "language_info": {
      "codemirror_mode": {
        "name": "ipython",
        "version": 3
      },
      "file_extension": ".py",
      "mimetype": "text/x-python",
      "name": "python",
      "nbconvert_exporter": "python",
      "pygments_lexer": "ipython3",
      "version": "3.7.3"
    },
    "colab": {
      "name": "09. DataFrame 데이터 생성하기_After.ipynb",
      "provenance": [],
      "include_colab_link": true
    }
  },
  "cells": [
    {
      "cell_type": "markdown",
      "metadata": {
        "id": "view-in-github",
        "colab_type": "text"
      },
      "source": [
        "<a href=\"https://colab.research.google.com/github/kdmid/Class_Python/blob/main/Practice/Pandas/09_DataFrame_%EB%8D%B0%EC%9D%B4%ED%84%B0_%EC%83%9D%EC%84%B1%ED%95%98%EA%B8%B0_After.ipynb\" target=\"_parent\"><img src=\"https://colab.research.google.com/assets/colab-badge.svg\" alt=\"Open In Colab\"/></a>"
      ]
    },
    {
      "cell_type": "markdown",
      "metadata": {
        "id": "ZuRqNIvVcgtV"
      },
      "source": [
        "## 학습목표\n",
        " 1. 수치해석 라이브러리인 numpy의 이해 및 사용\n",
        " 2. 데이터 분석 라이브러이인 pandas의 이해 및 사용"
      ]
    },
    {
      "cell_type": "markdown",
      "metadata": {
        "id": "8RwnzW4Lcgth"
      },
      "source": [
        "#### DataFrame 생성하기\n",
        " - 일반적으로 분석을 위한 데이터는 다른 데이터 소스(database, 외부 파일)을 통해 dataframe을 생성\n",
        " - 여기서는 실습을 통해, dummy 데이터를 생성하는 방법을 다룰 예정"
      ]
    },
    {
      "cell_type": "code",
      "metadata": {
        "id": "r1v2pg_Icgtj"
      },
      "source": [
        "import pandas as pd"
      ],
      "execution_count": null,
      "outputs": []
    },
    {
      "cell_type": "markdown",
      "metadata": {
        "id": "LSADGsjocgtj"
      },
      "source": [
        "#### dictionary로 부터 생성하기\n",
        " - dict의 key -> column"
      ]
    },
    {
      "cell_type": "code",
      "metadata": {
        "id": "aeGfOhNtcgtk"
      },
      "source": [
        "data = {'a' : 100, 'b' : 200, 'c' : 300}\n",
        "pd.DataFrame(data, index=['x', 'y', 'z'])"
      ],
      "execution_count": null,
      "outputs": []
    },
    {
      "cell_type": "code",
      "metadata": {
        "id": "Jij0QqFFcgtl"
      },
      "source": [
        "data = {'a' : [1, 2, 3], 'b' : [4, 5, 6], 'c' : [10, 11, 12]}\n",
        "pd.DataFrame(data, index=[0, 1, 2])"
      ],
      "execution_count": null,
      "outputs": []
    },
    {
      "cell_type": "markdown",
      "metadata": {
        "id": "aIzfD3tIcgtl"
      },
      "source": [
        "#### Series로 부터 생성하기\n",
        " - 각 Series의 인덱스 -> column"
      ]
    },
    {
      "cell_type": "code",
      "metadata": {
        "id": "LYvLN90Vcgtm"
      },
      "source": [
        "a = pd.Series([100, 200, 300], ['a', 'b', 'd'])\n",
        "b = pd.Series([101, 201, 301], ['a', 'b', 'k'])\n",
        "c = pd.Series([110, 210, 310], ['a', 'b', 'c'])\n",
        "\n",
        "pd.DataFrame([a, b, c], index=[100, 101, 102])"
      ],
      "execution_count": null,
      "outputs": []
    },
    {
      "cell_type": "code",
      "metadata": {
        "id": "wVwCvBWicgtm"
      },
      "source": [
        ""
      ],
      "execution_count": null,
      "outputs": []
    }
  ]
}