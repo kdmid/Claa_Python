{
  "nbformat": 4,
  "nbformat_minor": 0,
  "metadata": {
    "kernelspec": {
      "display_name": "Python 3",
      "language": "python",
      "name": "python3"
    },
    "language_info": {
      "codemirror_mode": {
        "name": "ipython",
        "version": 3
      },
      "file_extension": ".py",
      "mimetype": "text/x-python",
      "name": "python",
      "nbconvert_exporter": "python",
      "pygments_lexer": "ipython3",
      "version": "3.7.3"
    },
    "colab": {
      "name": "02. Series 데이터 생성하기(index, value 활용)_After.ipynb",
      "provenance": [],
      "include_colab_link": true
    }
  },
  "cells": [
    {
      "cell_type": "markdown",
      "metadata": {
        "id": "view-in-github",
        "colab_type": "text"
      },
      "source": [
        "<a href=\"https://colab.research.google.com/github/kdmid/Class_Python/blob/main/Practice/Pandas/02_Series_%EB%8D%B0%EC%9D%B4%ED%84%B0_%EC%83%9D%EC%84%B1%ED%95%98%EA%B8%B0(index%2C_value_%ED%99%9C%EC%9A%A9)_After.ipynb\" target=\"_parent\"><img src=\"https://colab.research.google.com/assets/colab-badge.svg\" alt=\"Open In Colab\"/></a>"
      ]
    },
    {
      "cell_type": "markdown",
      "metadata": {
        "id": "O5YkSOKSCF3G"
      },
      "source": [
        "## 학습목표\n",
        " 1. pandas Series 데이터 생성하기"
      ]
    },
    {
      "cell_type": "code",
      "metadata": {
        "id": "oZbddXcICF3N"
      },
      "source": [
        "import numpy as np\n",
        "import pandas as pd"
      ],
      "execution_count": null,
      "outputs": []
    },
    {
      "cell_type": "markdown",
      "metadata": {
        "id": "KNnGnqHgCF3P"
      },
      "source": [
        "#### Series\n",
        "  - pandas의 기본 객체 중 하나\n",
        "  - numpy의 ndarray를 기반으로 인덱싱을 기능을 추가하여 1차원 배열을 나타냄\n",
        "  - index를 지정하지 않을 시, 기본적으로 ndarray와 같이 0-based 인덱스 생성, 지정할 경우 명시적으로 지정된 index를 사용\n",
        "  - 같은 타입의 0개 이상의 데이터를 가질 수 있음"
      ]
    },
    {
      "cell_type": "markdown",
      "metadata": {
        "id": "bLqmCWG7CF3Q"
      },
      "source": [
        "* data로만 생성하기\n",
        " - index는 기본적으로 0부터 자동적으로 생성"
      ]
    },
    {
      "cell_type": "code",
      "metadata": {
        "id": "PTVKp00fCF3Q"
      },
      "source": [
        "s1 = pd.Series([1, 2, 3])\n",
        "s1"
      ],
      "execution_count": null,
      "outputs": []
    },
    {
      "cell_type": "code",
      "metadata": {
        "id": "VgcNDmApCF3R"
      },
      "source": [
        "s2 = pd.Series(['a', 'b', 'c'])\n",
        "s2"
      ],
      "execution_count": null,
      "outputs": []
    },
    {
      "cell_type": "code",
      "metadata": {
        "id": "ZNC1Zq_oCF3R"
      },
      "source": [
        "s3 = pd.Series(np.arange(200))\n",
        "s3"
      ],
      "execution_count": null,
      "outputs": []
    },
    {
      "cell_type": "markdown",
      "metadata": {
        "id": "lfpvHrzeCF3S"
      },
      "source": [
        "* data, index함께 명시하기"
      ]
    },
    {
      "cell_type": "code",
      "metadata": {
        "id": "9xFMTowdCF3S"
      },
      "source": [
        "s4 = pd.Series([1, 2, 3], [100, 200, 300])\n",
        "s4"
      ],
      "execution_count": null,
      "outputs": []
    },
    {
      "cell_type": "code",
      "metadata": {
        "id": "ZhkQzfDbCF3T"
      },
      "source": [
        "s5 = pd.Series([1, 2, 3], ['a', 'm', 'k'])\n",
        "s5"
      ],
      "execution_count": null,
      "outputs": []
    },
    {
      "cell_type": "markdown",
      "metadata": {
        "id": "K4muq-DeCF3T"
      },
      "source": [
        "* data, index, data type 함께 명시하기"
      ]
    },
    {
      "cell_type": "code",
      "metadata": {
        "id": "h2df574NCF3U"
      },
      "source": [
        "s6 = pd.Series(np.arange(5), np.arange(100, 105), dtype=np.int16)\n",
        "s6"
      ],
      "execution_count": null,
      "outputs": []
    },
    {
      "cell_type": "markdown",
      "metadata": {
        "id": "TccR_5ylCF3U"
      },
      "source": [
        "#### 인덱스 활용하기"
      ]
    },
    {
      "cell_type": "code",
      "metadata": {
        "id": "U2QXg6LyCF3V"
      },
      "source": [
        "s6.index"
      ],
      "execution_count": null,
      "outputs": []
    },
    {
      "cell_type": "code",
      "metadata": {
        "id": "OU_9pOhqCF3V"
      },
      "source": [
        "s6.values"
      ],
      "execution_count": null,
      "outputs": []
    },
    {
      "cell_type": "markdown",
      "metadata": {
        "id": "AYmn7zTyCF3W"
      },
      "source": [
        "1. 인덱스를 통한 데이터 접근"
      ]
    },
    {
      "cell_type": "code",
      "metadata": {
        "id": "gNZ88YeVCF3W"
      },
      "source": [
        "s6[104]"
      ],
      "execution_count": null,
      "outputs": []
    },
    {
      "cell_type": "code",
      "metadata": {
        "id": "tVSBcevtCF3W"
      },
      "source": [
        "s6[105]"
      ],
      "execution_count": null,
      "outputs": []
    },
    {
      "cell_type": "markdown",
      "metadata": {
        "id": "wJxaiBkKCF3X"
      },
      "source": [
        "2. 인덱스를 통한 데이터 업데이트"
      ]
    },
    {
      "cell_type": "code",
      "metadata": {
        "id": "u7JD-7AMCF3X"
      },
      "source": [
        "s6[104] = 70\n",
        "s6"
      ],
      "execution_count": null,
      "outputs": []
    },
    {
      "cell_type": "code",
      "metadata": {
        "id": "lidAKkmLCF3Y"
      },
      "source": [
        "s6[105] = 90\n",
        "s6[200] = 80\n",
        "s6"
      ],
      "execution_count": null,
      "outputs": []
    },
    {
      "cell_type": "markdown",
      "metadata": {
        "id": "1Jrn7HjgCF3Y"
      },
      "source": [
        "3. 인덱스 재사용하기"
      ]
    },
    {
      "cell_type": "code",
      "metadata": {
        "id": "STiyY775CF3Z"
      },
      "source": [
        "s7 = pd.Series(np.arange(7), s6.index)\n",
        "s7"
      ],
      "execution_count": null,
      "outputs": []
    },
    {
      "cell_type": "code",
      "metadata": {
        "id": "SU3nQKhwCF3a"
      },
      "source": [
        ""
      ],
      "execution_count": null,
      "outputs": []
    }
  ]
}