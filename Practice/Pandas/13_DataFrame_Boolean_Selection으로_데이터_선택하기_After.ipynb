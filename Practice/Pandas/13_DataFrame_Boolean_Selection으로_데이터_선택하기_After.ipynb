{
  "nbformat": 4,
  "nbformat_minor": 0,
  "metadata": {
    "kernelspec": {
      "display_name": "Python 3",
      "language": "python",
      "name": "python3"
    },
    "language_info": {
      "codemirror_mode": {
        "name": "ipython",
        "version": 3
      },
      "file_extension": ".py",
      "mimetype": "text/x-python",
      "name": "python",
      "nbconvert_exporter": "python",
      "pygments_lexer": "ipython3",
      "version": "3.7.3"
    },
    "colab": {
      "name": "13. DataFrame Boolean Selection으로 데이터 선택하기_After.ipynb",
      "provenance": [],
      "include_colab_link": true
    }
  },
  "cells": [
    {
      "cell_type": "markdown",
      "metadata": {
        "id": "view-in-github",
        "colab_type": "text"
      },
      "source": [
        "<a href=\"https://colab.research.google.com/github/kdmid/Class_Python/blob/main/Practice/Pandas/13_DataFrame_Boolean_Selection%EC%9C%BC%EB%A1%9C_%EB%8D%B0%EC%9D%B4%ED%84%B0_%EC%84%A0%ED%83%9D%ED%95%98%EA%B8%B0_After.ipynb\" target=\"_parent\"><img src=\"https://colab.research.google.com/assets/colab-badge.svg\" alt=\"Open In Colab\"/></a>"
      ]
    },
    {
      "cell_type": "markdown",
      "metadata": {
        "id": "zxlP9h0yBXlo"
      },
      "source": [
        "## 학습목표\n",
        " 1. Dataframe boolean selection 이해하기"
      ]
    },
    {
      "cell_type": "code",
      "metadata": {
        "id": "jVeE4swMBXlr"
      },
      "source": [
        "import pandas as pd"
      ],
      "execution_count": null,
      "outputs": []
    },
    {
      "cell_type": "code",
      "metadata": {
        "id": "LI_B7PthBXls"
      },
      "source": [
        "# data 출처: https://www.kaggle.com/hesh97/titanicdataset-traincsv/data\n",
        "train_data = pd.read_csv('./train.csv')"
      ],
      "execution_count": null,
      "outputs": []
    },
    {
      "cell_type": "code",
      "metadata": {
        "id": "kHr4tmgvBXlu"
      },
      "source": [
        "train_data.head()"
      ],
      "execution_count": null,
      "outputs": []
    },
    {
      "cell_type": "markdown",
      "metadata": {
        "id": "qzvoE-UWBXlv"
      },
      "source": [
        "#### **boolean selection으로 row 선택하기**\n",
        " - numpy에서와 동일한 방식으로 해당 조건에 맞는 row만 선택"
      ]
    },
    {
      "cell_type": "markdown",
      "metadata": {
        "id": "IsFeSEUcBXlv"
      },
      "source": [
        "#### 30대이면서 1등석에 탄 사람 선택하기 "
      ]
    },
    {
      "cell_type": "code",
      "metadata": {
        "id": "dH0fDi1yBXlw"
      },
      "source": [
        "class_ = train_data['Pclass'] == 1\n",
        "age_ = (train_data['Age'] >= 30) & (train_data['Age'] < 40)\n",
        "\n",
        "train_data[class_ & age_]"
      ],
      "execution_count": null,
      "outputs": []
    },
    {
      "cell_type": "code",
      "metadata": {
        "id": "NBRY8QvcBXlx"
      },
      "source": [
        ""
      ],
      "execution_count": null,
      "outputs": []
    }
  ]
}