{
  "nbformat": 4,
  "nbformat_minor": 0,
  "metadata": {
    "kernelspec": {
      "display_name": "Python 3",
      "language": "python",
      "name": "python3"
    },
    "language_info": {
      "codemirror_mode": {
        "name": "ipython",
        "version": 3
      },
      "file_extension": ".py",
      "mimetype": "text/x-python",
      "name": "python",
      "nbconvert_exporter": "python",
      "pygments_lexer": "ipython3",
      "version": "3.7.3"
    },
    "colab": {
      "name": "04. Series 데이터 연산하기_After.ipynb",
      "provenance": [],
      "include_colab_link": true
    }
  },
  "cells": [
    {
      "cell_type": "markdown",
      "metadata": {
        "id": "view-in-github",
        "colab_type": "text"
      },
      "source": [
        "<a href=\"https://colab.research.google.com/github/kdmid/Class_Python/blob/main/Practice/Pandas/04_Series_%EB%8D%B0%EC%9D%B4%ED%84%B0_%EC%97%B0%EC%82%B0%ED%95%98%EA%B8%B0_After.ipynb\" target=\"_parent\"><img src=\"https://colab.research.google.com/assets/colab-badge.svg\" alt=\"Open In Colab\"/></a>"
      ]
    },
    {
      "cell_type": "markdown",
      "metadata": {
        "id": "WVpwnZN5iTQN"
      },
      "source": [
        "## 학습목표\n",
        " 1. Series 데이터 연산하기"
      ]
    },
    {
      "cell_type": "code",
      "metadata": {
        "id": "bvZud5e_iTQd"
      },
      "source": [
        "import numpy as np\n",
        "import pandas as pd"
      ],
      "execution_count": null,
      "outputs": []
    },
    {
      "cell_type": "markdown",
      "metadata": {
        "id": "kTl8EAxXiTQg"
      },
      "source": [
        "#### index를 기준으로 연산"
      ]
    },
    {
      "cell_type": "code",
      "metadata": {
        "id": "Kz0sqTiziTQi"
      },
      "source": [
        "s1 = pd.Series([1, 2, 3, 4], ['a', 'b', 'c', 'd'])\n",
        "s2 = pd.Series([6, 3, 2, 1], ['d', 'c', 'b', 'a'])\n",
        "\n",
        "s1"
      ],
      "execution_count": null,
      "outputs": []
    },
    {
      "cell_type": "code",
      "metadata": {
        "id": "XDCuSj3WiTQi"
      },
      "source": [
        "s2"
      ],
      "execution_count": null,
      "outputs": []
    },
    {
      "cell_type": "code",
      "metadata": {
        "id": "QGBQeE4TiTQj"
      },
      "source": [
        "s1 + s2"
      ],
      "execution_count": null,
      "outputs": []
    },
    {
      "cell_type": "markdown",
      "metadata": {
        "id": "iqfwSR4fiTQj"
      },
      "source": [
        "#### **산술연산**\n",
        " - Series의 경우에도 스칼라와의 연산은 각 원소별로 스칼라와의 연산이 적용\n",
        " - Series와의 연산은 각 인덱스에 맞는 값끼리 연산이 적용\n",
        "   - 이때, 인덱스의 pair가 맞지 않으면, 결과는 NaN "
      ]
    },
    {
      "cell_type": "code",
      "metadata": {
        "id": "jCTVjFJaiTQk"
      },
      "source": [
        "s1 ** 2"
      ],
      "execution_count": null,
      "outputs": []
    },
    {
      "cell_type": "code",
      "metadata": {
        "id": "fBHuFA2biTQk"
      },
      "source": [
        "s1 ** s2"
      ],
      "execution_count": null,
      "outputs": []
    },
    {
      "cell_type": "code",
      "metadata": {
        "id": "H8IlcIfEiTQk"
      },
      "source": [
        "4 ** 6"
      ],
      "execution_count": null,
      "outputs": []
    },
    {
      "cell_type": "markdown",
      "metadata": {
        "id": "ZS3pE45biTQl"
      },
      "source": [
        "#### **index pair가 맞지 않는 경우**\n",
        " - 해당 index에 대해선 NaN 값 생성"
      ]
    },
    {
      "cell_type": "code",
      "metadata": {
        "id": "lKSb_CYeiTQl"
      },
      "source": [
        "s1['k'] = 7\n",
        "s2['e'] = 9"
      ],
      "execution_count": null,
      "outputs": []
    },
    {
      "cell_type": "code",
      "metadata": {
        "id": "-ognVMKwiTQl"
      },
      "source": [
        "s1"
      ],
      "execution_count": null,
      "outputs": []
    },
    {
      "cell_type": "code",
      "metadata": {
        "id": "0JRWIA7riTQm"
      },
      "source": [
        "s2"
      ],
      "execution_count": null,
      "outputs": []
    },
    {
      "cell_type": "code",
      "metadata": {
        "id": "hXWDoleSiTQm"
      },
      "source": [
        "s1 + s2"
      ],
      "execution_count": null,
      "outputs": []
    },
    {
      "cell_type": "code",
      "metadata": {
        "id": "h3y9wsx0iTQm"
      },
      "source": [
        ""
      ],
      "execution_count": null,
      "outputs": []
    }
  ]
}