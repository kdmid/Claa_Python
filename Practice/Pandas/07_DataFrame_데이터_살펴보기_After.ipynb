{
  "nbformat": 4,
  "nbformat_minor": 0,
  "metadata": {
    "kernelspec": {
      "display_name": "Python 3",
      "language": "python",
      "name": "python3"
    },
    "language_info": {
      "codemirror_mode": {
        "name": "ipython",
        "version": 3
      },
      "file_extension": ".py",
      "mimetype": "text/x-python",
      "name": "python",
      "nbconvert_exporter": "python",
      "pygments_lexer": "ipython3",
      "version": "3.7.3"
    },
    "colab": {
      "name": "07. DataFrame 데이터 살펴보기_After.ipynb",
      "provenance": [],
      "include_colab_link": true
    }
  },
  "cells": [
    {
      "cell_type": "markdown",
      "metadata": {
        "id": "view-in-github",
        "colab_type": "text"
      },
      "source": [
        "<a href=\"https://colab.research.google.com/github/kdmid/Class_Python/blob/main/Practice/Pandas/07_DataFrame_%EB%8D%B0%EC%9D%B4%ED%84%B0_%EC%82%B4%ED%8E%B4%EB%B3%B4%EA%B8%B0_After.ipynb\" target=\"_parent\"><img src=\"https://colab.research.google.com/assets/colab-badge.svg\" alt=\"Open In Colab\"/></a>"
      ]
    },
    {
      "cell_type": "markdown",
      "metadata": {
        "id": "5988IWgsdJIh"
      },
      "source": [
        "## 학습목표\n",
        " 1. Dataframe data 살펴보기"
      ]
    },
    {
      "cell_type": "markdown",
      "metadata": {
        "id": "Ud9JGBCTdJIj"
      },
      "source": [
        "#### DataFrame\n",
        "  - Series가 1차원이라면 DataFrame은 2차원으로 확대된 버젼\n",
        "  - Excel spreadsheet이라고 생각하면 이해하기 쉬움\n",
        "  - 2차원이기 때문에 인덱스가 row, column로 구성됨\n",
        "   - row는 각 개별 데이터를, column은 개별 속성을 의미\n",
        "  - Data Analysis, Machine Learning에서 data 변형을 위해 가장 많이 사용"
      ]
    },
    {
      "cell_type": "code",
      "metadata": {
        "id": "JFa1VhIddJIl"
      },
      "source": [
        "import pandas as pd"
      ],
      "execution_count": null,
      "outputs": []
    },
    {
      "cell_type": "code",
      "metadata": {
        "id": "tEC-uksadJIl"
      },
      "source": [
        "# data 출처: https://www.kaggle.com/hesh97/titanicdataset-traincsv/data\n",
        "train_data = pd.read_csv('./train.csv')"
      ],
      "execution_count": null,
      "outputs": []
    },
    {
      "cell_type": "markdown",
      "metadata": {
        "id": "g86dpiHVdJIl"
      },
      "source": [
        "#### head, tail 함수\n",
        " - 데이터 전체가 아닌, 일부(처음부터, 혹은 마지막부터)를 간단히 보기 위한 함수"
      ]
    },
    {
      "cell_type": "code",
      "metadata": {
        "id": "wDzgElSWdJIm"
      },
      "source": [
        "train_data.head(n=3)"
      ],
      "execution_count": null,
      "outputs": []
    },
    {
      "cell_type": "code",
      "metadata": {
        "id": "xHIw_6lCdJIm"
      },
      "source": [
        "train_data.tail(n=10)"
      ],
      "execution_count": null,
      "outputs": []
    },
    {
      "cell_type": "markdown",
      "metadata": {
        "id": "QkoG9PbZdJIm"
      },
      "source": [
        "#### dataframe 데이터 파악하기\n",
        " - shape 속성 (row, column)\n",
        " - describe 함수 - 숫자형 데이터의 통계치 계산\n",
        " - info 함수 - 데이터 타입, 각 아이템의 개수 등 출력"
      ]
    },
    {
      "cell_type": "code",
      "metadata": {
        "id": "n7WRYcvEdJIn"
      },
      "source": [
        "train_data.shape"
      ],
      "execution_count": null,
      "outputs": []
    },
    {
      "cell_type": "code",
      "metadata": {
        "id": "KIvRMu2XdJIn"
      },
      "source": [
        "train_data.describe()"
      ],
      "execution_count": null,
      "outputs": []
    },
    {
      "cell_type": "code",
      "metadata": {
        "id": "mbz1QSQedJIn"
      },
      "source": [
        "train_data.info()"
      ],
      "execution_count": null,
      "outputs": []
    },
    {
      "cell_type": "code",
      "metadata": {
        "id": "oPyUnFdWdJIo"
      },
      "source": [
        ""
      ],
      "execution_count": null,
      "outputs": []
    }
  ]
}