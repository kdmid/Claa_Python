{
  "nbformat": 4,
  "nbformat_minor": 0,
  "metadata": {
    "kernelspec": {
      "display_name": "Python 3",
      "language": "python",
      "name": "python3"
    },
    "language_info": {
      "codemirror_mode": {
        "name": "ipython",
        "version": 3
      },
      "file_extension": ".py",
      "mimetype": "text/x-python",
      "name": "python",
      "nbconvert_exporter": "python",
      "pygments_lexer": "ipython3",
      "version": "3.7.3"
    },
    "colab": {
      "name": "03. Series 데이터 심플 분석(개수, 빈도 등 계산하기)_After.ipynb",
      "provenance": [],
      "include_colab_link": true
    }
  },
  "cells": [
    {
      "cell_type": "markdown",
      "metadata": {
        "id": "view-in-github",
        "colab_type": "text"
      },
      "source": [
        "<a href=\"https://colab.research.google.com/github/kdmid/Class_Python/blob/main/Practice/Pandas/03_Series_%EB%8D%B0%EC%9D%B4%ED%84%B0_%EC%8B%AC%ED%94%8C_%EB%B6%84%EC%84%9D(%EA%B0%9C%EC%88%98%2C_%EB%B9%88%EB%8F%84_%EB%93%B1_%EA%B3%84%EC%82%B0%ED%95%98%EA%B8%B0)_After.ipynb\" target=\"_parent\"><img src=\"https://colab.research.google.com/assets/colab-badge.svg\" alt=\"Open In Colab\"/></a>"
      ]
    },
    {
      "cell_type": "markdown",
      "metadata": {
        "id": "hSTPWJd4CJqb"
      },
      "source": [
        "## 학습목표\n",
        " 1. Series 함수 활용하여 데이터 분석하기"
      ]
    },
    {
      "cell_type": "code",
      "metadata": {
        "id": "0lZuFWioCJqo"
      },
      "source": [
        "import numpy as np\n",
        "import pandas as pd"
      ],
      "execution_count": null,
      "outputs": []
    },
    {
      "cell_type": "markdown",
      "metadata": {
        "id": "5cdYcd_uCJqp"
      },
      "source": [
        "#### **Series size, shape, unique, count, value_counts 함수**\n",
        " - size : 개수 반환\n",
        " - shape : 튜플형태로 shape반환\n",
        " - unique: 유일한 값만 ndarray로 반환\n",
        " - count : NaN을 제외한 개수를 반환\n",
        " - mean: NaN을 제외한 평균 \n",
        " - value_counts: NaN을 제외하고 각 값들의 빈도를 반환 "
      ]
    },
    {
      "cell_type": "code",
      "metadata": {
        "id": "Bo_BNtloCJqq"
      },
      "source": [
        "s = pd.Series([1, 1, 2, 1, 2, 2, 2, 1, 1, 3, 3, 4, 5, 5, 7, np.NaN])\n",
        "s"
      ],
      "execution_count": null,
      "outputs": []
    },
    {
      "cell_type": "code",
      "metadata": {
        "id": "T9-ue5LBCJqq"
      },
      "source": [
        "len(s)"
      ],
      "execution_count": null,
      "outputs": []
    },
    {
      "cell_type": "code",
      "metadata": {
        "id": "_wkBjf4vCJqq"
      },
      "source": [
        "s.size"
      ],
      "execution_count": null,
      "outputs": []
    },
    {
      "cell_type": "code",
      "metadata": {
        "id": "0JHAp1QECJqr"
      },
      "source": [
        "s.shape"
      ],
      "execution_count": null,
      "outputs": []
    },
    {
      "cell_type": "code",
      "metadata": {
        "id": "8WQu-P7BCJqs"
      },
      "source": [
        "s.unique()"
      ],
      "execution_count": null,
      "outputs": []
    },
    {
      "cell_type": "code",
      "metadata": {
        "id": "_luLzWNnCJqs"
      },
      "source": [
        "s.count()"
      ],
      "execution_count": null,
      "outputs": []
    },
    {
      "cell_type": "code",
      "metadata": {
        "id": "5-VxzwLNCJqt"
      },
      "source": [
        "a = np.array([2, 2, 2, 2, np.NaN])\n",
        "a.mean()\n",
        "\n",
        "b = pd.Series(a)\n",
        "b.mean()"
      ],
      "execution_count": null,
      "outputs": []
    },
    {
      "cell_type": "code",
      "metadata": {
        "id": "wbU93Jp5CJqt"
      },
      "source": [
        "s.mean()"
      ],
      "execution_count": null,
      "outputs": []
    },
    {
      "cell_type": "code",
      "metadata": {
        "id": "twHGx_voCJqu"
      },
      "source": [
        "s"
      ],
      "execution_count": null,
      "outputs": []
    },
    {
      "cell_type": "code",
      "metadata": {
        "id": "pmp5dWThCJqu"
      },
      "source": [
        "s.value_counts()"
      ],
      "execution_count": null,
      "outputs": []
    },
    {
      "cell_type": "markdown",
      "metadata": {
        "id": "cpBZcTYACJqu"
      },
      "source": [
        "index를 활용하여 멀티플한 값에 접근"
      ]
    },
    {
      "cell_type": "code",
      "metadata": {
        "id": "mrF1hhbtCJqu"
      },
      "source": [
        "s[[5, 7, 8, 10]].value_counts()"
      ],
      "execution_count": null,
      "outputs": []
    },
    {
      "cell_type": "code",
      "metadata": {
        "id": "-Uxrc9PoCJqv"
      },
      "source": [
        ""
      ],
      "execution_count": null,
      "outputs": []
    },
    {
      "cell_type": "markdown",
      "metadata": {
        "id": "XZRxgL8LCJqv"
      },
      "source": [
        "#### **head, tail 함수**\n",
        " - head : 상위 n개 출력 기본 5개\n",
        " - tail : 하위 n개 출력 기본 5개"
      ]
    },
    {
      "cell_type": "code",
      "metadata": {
        "id": "V-5C-QukCJqv"
      },
      "source": [
        "s.head(n=7)"
      ],
      "execution_count": null,
      "outputs": []
    },
    {
      "cell_type": "code",
      "metadata": {
        "id": "TLE0UTFpCJqv"
      },
      "source": [
        "s.tail()"
      ],
      "execution_count": null,
      "outputs": []
    },
    {
      "cell_type": "code",
      "metadata": {
        "id": "v6H1E7bOCJqw"
      },
      "source": [
        "s"
      ],
      "execution_count": null,
      "outputs": []
    },
    {
      "cell_type": "code",
      "metadata": {
        "id": "RgFVsiP1CJqw"
      },
      "source": [
        ""
      ],
      "execution_count": null,
      "outputs": []
    }
  ]
}