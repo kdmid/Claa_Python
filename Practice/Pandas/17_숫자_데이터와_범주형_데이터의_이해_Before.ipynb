{
  "nbformat": 4,
  "nbformat_minor": 0,
  "metadata": {
    "kernelspec": {
      "display_name": "Python 3",
      "language": "python",
      "name": "python3"
    },
    "language_info": {
      "codemirror_mode": {
        "name": "ipython",
        "version": 3
      },
      "file_extension": ".py",
      "mimetype": "text/x-python",
      "name": "python",
      "nbconvert_exporter": "python",
      "pygments_lexer": "ipython3",
      "version": "3.7.3"
    },
    "colab": {
      "name": "17. 숫자 데이터와 범주형 데이터의 이해_Before.ipynb",
      "provenance": [],
      "include_colab_link": true
    }
  },
  "cells": [
    {
      "cell_type": "markdown",
      "metadata": {
        "id": "view-in-github",
        "colab_type": "text"
      },
      "source": [
        "<a href=\"https://colab.research.google.com/github/kdmid/Class_Python/blob/main/Practice/Pandas/17_%EC%88%AB%EC%9E%90_%EB%8D%B0%EC%9D%B4%ED%84%B0%EC%99%80_%EB%B2%94%EC%A3%BC%ED%98%95_%EB%8D%B0%EC%9D%B4%ED%84%B0%EC%9D%98_%EC%9D%B4%ED%95%B4_Before.ipynb\" target=\"_parent\"><img src=\"https://colab.research.google.com/assets/colab-badge.svg\" alt=\"Open In Colab\"/></a>"
      ]
    },
    {
      "cell_type": "markdown",
      "metadata": {
        "id": "c-NYAZmp7xjM"
      },
      "source": [
        "## 학습목표\n",
        " 1. 숫자 & 범주형 데이터의 이해"
      ]
    },
    {
      "cell_type": "code",
      "metadata": {
        "id": "vu7Jjxtf7xjU"
      },
      "source": [
        "import pandas as pd"
      ],
      "execution_count": null,
      "outputs": []
    },
    {
      "cell_type": "code",
      "metadata": {
        "id": "oBjll_7l7xjW"
      },
      "source": [
        "# data 출처: https://www.kaggle.com/hesh97/titanicdataset-traincsv/data\n",
        "train_data = pd.read_csv('./train.csv')\n",
        "train_data.head()"
      ],
      "execution_count": null,
      "outputs": []
    },
    {
      "cell_type": "markdown",
      "metadata": {
        "id": "Ri16jlnt7xjW"
      },
      "source": [
        "#### info함수로 각 변수의 데이터 타입 확인\n",
        " - 타입 변경은 astype함수를 사용"
      ]
    },
    {
      "cell_type": "code",
      "metadata": {
        "id": "L0Z6JQxL7xjX"
      },
      "source": [
        "train_data['Pclass'] = train_data['Pclass'].astype(str)\n",
        "train_data.info()"
      ],
      "execution_count": null,
      "outputs": []
    },
    {
      "cell_type": "markdown",
      "metadata": {
        "id": "ClCtmVt27xjX"
      },
      "source": [
        "#### 숫자형(Numerical Type) 데이터\n",
        " - 연속성을 띄는 숫자로 이루어진 데이터\n",
        "   - 예) Age, Fare 등"
      ]
    },
    {
      "cell_type": "code",
      "metadata": {
        "id": "h7rMg7Cl7xjY"
      },
      "source": [
        ""
      ],
      "execution_count": null,
      "outputs": []
    },
    {
      "cell_type": "markdown",
      "metadata": {
        "id": "axnWQdzO7xjY"
      },
      "source": [
        "#### 범주형(Categorical Type) 데이터\n",
        " - 연속적이지 않은 값(대부분의 경우 숫자를 제외한 나머지 값)을 갖는 데이터를 의미\n",
        "   - 예) Name, Sex, Ticket, Cabin, Embarked \n",
        " - 어떤 경우, 숫자형 타입이라 할지라도 개념적으로 범주형으로 처리해야할 경우가 있음\n",
        "   - 예) Pclass"
      ]
    },
    {
      "cell_type": "code",
      "metadata": {
        "id": "CGxqCcT57xjY"
      },
      "source": [
        ""
      ],
      "execution_count": null,
      "outputs": []
    }
  ]
}