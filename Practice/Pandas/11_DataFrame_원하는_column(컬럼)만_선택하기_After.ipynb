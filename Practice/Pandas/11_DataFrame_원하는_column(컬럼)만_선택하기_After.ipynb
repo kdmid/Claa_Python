{
  "nbformat": 4,
  "nbformat_minor": 0,
  "metadata": {
    "kernelspec": {
      "display_name": "Python 3",
      "language": "python",
      "name": "python3"
    },
    "language_info": {
      "codemirror_mode": {
        "name": "ipython",
        "version": 3
      },
      "file_extension": ".py",
      "mimetype": "text/x-python",
      "name": "python",
      "nbconvert_exporter": "python",
      "pygments_lexer": "ipython3",
      "version": "3.7.3"
    },
    "colab": {
      "name": "11. DataFrame 원하는 column(컬럼)만 선택하기_After.ipynb",
      "provenance": [],
      "include_colab_link": true
    }
  },
  "cells": [
    {
      "cell_type": "markdown",
      "metadata": {
        "id": "view-in-github",
        "colab_type": "text"
      },
      "source": [
        "<a href=\"https://colab.research.google.com/github/kdmid/Class_Python/blob/main/Practice/Pandas/11_DataFrame_%EC%9B%90%ED%95%98%EB%8A%94_column(%EC%BB%AC%EB%9F%BC)%EB%A7%8C_%EC%84%A0%ED%83%9D%ED%95%98%EA%B8%B0_After.ipynb\" target=\"_parent\"><img src=\"https://colab.research.google.com/assets/colab-badge.svg\" alt=\"Open In Colab\"/></a>"
      ]
    },
    {
      "cell_type": "markdown",
      "metadata": {
        "id": "GXFus9cfYs01"
      },
      "source": [
        "## 학습목표\n",
        " 1. dataframe column 선택하기"
      ]
    },
    {
      "cell_type": "markdown",
      "metadata": {
        "id": "YZ8uD8G7Ys04"
      },
      "source": [
        "#### column 선택하기\n",
        "  - 기본적으로 [ ]는 column을 추출 \n",
        "  - 컬럼 인덱스일 경우 인덱스의 리스트 사용 가능\n",
        "    - 리스트를 전달할 경우 결과는 Dataframe\n",
        "    - 하나의 컬럼명을 전달할 경우 결과는 Series"
      ]
    },
    {
      "cell_type": "code",
      "metadata": {
        "id": "v037lAQNYs06"
      },
      "source": [
        "import pandas as pd"
      ],
      "execution_count": null,
      "outputs": []
    },
    {
      "cell_type": "code",
      "metadata": {
        "id": "2QXwH97HYs07"
      },
      "source": [
        "# data 출처: https://www.kaggle.com/hesh97/titanicdataset-traincsv/data\n",
        "train_data = pd.read_csv('./train.csv')\n",
        "train_data.head()"
      ],
      "execution_count": null,
      "outputs": []
    },
    {
      "cell_type": "markdown",
      "metadata": {
        "id": "VumcgR4xYs07"
      },
      "source": [
        "#### 하나의 컬럼 선택하기"
      ]
    },
    {
      "cell_type": "code",
      "metadata": {
        "id": "Sndb5z1QYs08"
      },
      "source": [
        "train_data['Survived']"
      ],
      "execution_count": null,
      "outputs": []
    },
    {
      "cell_type": "markdown",
      "metadata": {
        "id": "76eNIJ27Ys08"
      },
      "source": [
        "#### 복수의 컬럼 선택하기"
      ]
    },
    {
      "cell_type": "code",
      "metadata": {
        "id": "pVip6b2NYs09"
      },
      "source": [
        "train_data[['Survived', 'Name', 'Age', 'Embarked']]"
      ],
      "execution_count": null,
      "outputs": []
    },
    {
      "cell_type": "code",
      "metadata": {
        "id": "1UZ6-8TYYs09"
      },
      "source": [
        ""
      ],
      "execution_count": null,
      "outputs": []
    }
  ]
}