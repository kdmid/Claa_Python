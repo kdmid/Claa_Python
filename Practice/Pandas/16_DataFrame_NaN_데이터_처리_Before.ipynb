{
  "nbformat": 4,
  "nbformat_minor": 0,
  "metadata": {
    "kernelspec": {
      "display_name": "Python 3",
      "language": "python",
      "name": "python3"
    },
    "language_info": {
      "codemirror_mode": {
        "name": "ipython",
        "version": 3
      },
      "file_extension": ".py",
      "mimetype": "text/x-python",
      "name": "python",
      "nbconvert_exporter": "python",
      "pygments_lexer": "ipython3",
      "version": "3.7.3"
    },
    "colab": {
      "name": "16. DataFrame NaN 데이터 처리_Before.ipynb",
      "provenance": [],
      "include_colab_link": true
    }
  },
  "cells": [
    {
      "cell_type": "markdown",
      "metadata": {
        "id": "view-in-github",
        "colab_type": "text"
      },
      "source": [
        "<a href=\"https://colab.research.google.com/github/kdmid/Class_Python/blob/main/Practice/Pandas/16_DataFrame_NaN_%EB%8D%B0%EC%9D%B4%ED%84%B0_%EC%B2%98%EB%A6%AC_Before.ipynb\" target=\"_parent\"><img src=\"https://colab.research.google.com/assets/colab-badge.svg\" alt=\"Open In Colab\"/></a>"
      ]
    },
    {
      "cell_type": "markdown",
      "metadata": {
        "id": "SuT9h3mBtnN-"
      },
      "source": [
        "## 학습목표\n",
        " 1. NaN 처리 방법 이해하기\n"
      ]
    },
    {
      "cell_type": "code",
      "metadata": {
        "id": "JnDMom1ptnOJ"
      },
      "source": [
        "import pandas as pd"
      ],
      "execution_count": null,
      "outputs": []
    },
    {
      "cell_type": "code",
      "metadata": {
        "id": "Sv-xOURLtnOL"
      },
      "source": [
        "# data 출처: https://www.kaggle.com/hesh97/titanicdataset-traincsv/data\n",
        "train_data = pd.read_csv('./train.csv')\n",
        "train_data.head()"
      ],
      "execution_count": null,
      "outputs": []
    },
    {
      "cell_type": "markdown",
      "metadata": {
        "id": "MfB0N8xNtnOL"
      },
      "source": [
        "#### NaN 값 확인\n",
        " - info함수를 통하여 개수 확인\n",
        " - isna함수를 통해 boolean 타입으로 확인"
      ]
    },
    {
      "cell_type": "code",
      "metadata": {
        "id": "2Youy56TtnOM"
      },
      "source": [
        ""
      ],
      "execution_count": null,
      "outputs": []
    },
    {
      "cell_type": "markdown",
      "metadata": {
        "id": "roCqj6k8tnOM"
      },
      "source": [
        "#### NaN 처리 방법\n",
        " - 데이터에서 삭제\n",
        "   - dropna 함수 \n",
        " - 다른 값으로 치환\n",
        "   - fillna 함수"
      ]
    },
    {
      "cell_type": "markdown",
      "metadata": {
        "id": "raEEL6JxtnOM"
      },
      "source": [
        "* NaN 데이터 삭제하기"
      ]
    },
    {
      "cell_type": "code",
      "metadata": {
        "id": "_c7nTSeptnOM"
      },
      "source": [
        ""
      ],
      "execution_count": null,
      "outputs": []
    },
    {
      "cell_type": "markdown",
      "metadata": {
        "id": "yXst0FC_tnON"
      },
      "source": [
        "* NaN 값 대체하기\n",
        " - 평균으로 대체하기\n",
        " - 생존자/사망자 별 평균으로 대체하기"
      ]
    },
    {
      "cell_type": "code",
      "metadata": {
        "id": "SZLX9sCXtnON"
      },
      "source": [
        ""
      ],
      "execution_count": null,
      "outputs": []
    },
    {
      "cell_type": "code",
      "metadata": {
        "id": "WG-Ue7vntnOO"
      },
      "source": [
        ""
      ],
      "execution_count": null,
      "outputs": []
    }
  ]
}