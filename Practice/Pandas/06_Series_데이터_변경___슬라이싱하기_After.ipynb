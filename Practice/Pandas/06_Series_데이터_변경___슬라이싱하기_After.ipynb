{
  "nbformat": 4,
  "nbformat_minor": 0,
  "metadata": {
    "kernelspec": {
      "display_name": "Python 3",
      "language": "python",
      "name": "python3"
    },
    "language_info": {
      "codemirror_mode": {
        "name": "ipython",
        "version": 3
      },
      "file_extension": ".py",
      "mimetype": "text/x-python",
      "name": "python",
      "nbconvert_exporter": "python",
      "pygments_lexer": "ipython3",
      "version": "3.7.3"
    },
    "colab": {
      "name": "06. Series 데이터 변경 _ 슬라이싱하기_After.ipynb",
      "provenance": [],
      "include_colab_link": true
    }
  },
  "cells": [
    {
      "cell_type": "markdown",
      "metadata": {
        "id": "view-in-github",
        "colab_type": "text"
      },
      "source": [
        "<a href=\"https://colab.research.google.com/github/kdmid/Class_Python/blob/main/Practice/Pandas/06_Series_%EB%8D%B0%EC%9D%B4%ED%84%B0_%EB%B3%80%EA%B2%BD___%EC%8A%AC%EB%9D%BC%EC%9D%B4%EC%8B%B1%ED%95%98%EA%B8%B0_After.ipynb\" target=\"_parent\"><img src=\"https://colab.research.google.com/assets/colab-badge.svg\" alt=\"Open In Colab\"/></a>"
      ]
    },
    {
      "cell_type": "markdown",
      "metadata": {
        "id": "7944mI5CdH2F"
      },
      "source": [
        "## 학습목표\n",
        " 1. pandas Series 이해하기"
      ]
    },
    {
      "cell_type": "code",
      "metadata": {
        "id": "xmXIkAC2dH2O"
      },
      "source": [
        "import numpy as np\n",
        "import pandas as pd"
      ],
      "execution_count": null,
      "outputs": []
    },
    {
      "cell_type": "markdown",
      "metadata": {
        "id": "OqKR7WBYdH2P"
      },
      "source": [
        "#### **Series 값 변경**\n",
        "  - 추가 및 업데이트: 인덱스를 이용\n",
        "  - 삭제: drop함수 이용\n"
      ]
    },
    {
      "cell_type": "code",
      "metadata": {
        "id": "j-shxjS0dH2P"
      },
      "source": [
        "s = pd.Series(np.arange(100, 105), ['a', 'b', 'c', 'd', 'e'])\n",
        "s"
      ],
      "execution_count": null,
      "outputs": []
    },
    {
      "cell_type": "code",
      "metadata": {
        "id": "8SVRdMfSdH2Q"
      },
      "source": [
        "s['a'] = 200\n",
        "s"
      ],
      "execution_count": null,
      "outputs": []
    },
    {
      "cell_type": "code",
      "metadata": {
        "id": "7S41gMLDdH2Q"
      },
      "source": [
        "s['k'] = 300\n",
        "s"
      ],
      "execution_count": null,
      "outputs": []
    },
    {
      "cell_type": "code",
      "metadata": {
        "id": "oWkCGydCdH2Q"
      },
      "source": [
        "s.drop('k', inplace=True)"
      ],
      "execution_count": null,
      "outputs": []
    },
    {
      "cell_type": "code",
      "metadata": {
        "id": "P2oSEBYOdH2R"
      },
      "source": [
        "s"
      ],
      "execution_count": null,
      "outputs": []
    },
    {
      "cell_type": "code",
      "metadata": {
        "id": "6tlphxqHdH2R"
      },
      "source": [
        "s[['a', 'b']] = [300, 900]\n",
        "s"
      ],
      "execution_count": null,
      "outputs": []
    },
    {
      "cell_type": "markdown",
      "metadata": {
        "id": "j2vs3bk5dH2R"
      },
      "source": [
        "#### **Slicing**\n",
        " - 리스트, ndarray와 동일하게 적용"
      ]
    },
    {
      "cell_type": "code",
      "metadata": {
        "id": "vcU923zodH2R"
      },
      "source": [
        "s1 = pd.Series(np.arange(100, 105))\n",
        "s1"
      ],
      "execution_count": null,
      "outputs": []
    },
    {
      "cell_type": "code",
      "metadata": {
        "id": "F7FKvimudH2S"
      },
      "source": [
        "s1[1:3]"
      ],
      "execution_count": null,
      "outputs": []
    },
    {
      "cell_type": "code",
      "metadata": {
        "id": "buBKCux_dH2T"
      },
      "source": [
        "s2 = pd.Series(np.arange(100, 105), ['a', 'c', 'b', 'd', 'e'])\n",
        "s2"
      ],
      "execution_count": null,
      "outputs": []
    },
    {
      "cell_type": "code",
      "metadata": {
        "id": "FLWkxNNsdH2T"
      },
      "source": [
        "s2[1:3]"
      ],
      "execution_count": null,
      "outputs": []
    },
    {
      "cell_type": "code",
      "metadata": {
        "id": "5pFxOuBHdH2U"
      },
      "source": [
        "s2['c':'d']"
      ],
      "execution_count": null,
      "outputs": []
    },
    {
      "cell_type": "code",
      "metadata": {
        "id": "sdqBwzAHdH2U"
      },
      "source": [
        ""
      ],
      "execution_count": null,
      "outputs": []
    }
  ]
}