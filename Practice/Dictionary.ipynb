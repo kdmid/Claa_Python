{
  "nbformat": 4,
  "nbformat_minor": 0,
  "metadata": {
    "kernelspec": {
      "display_name": "Python 3",
      "language": "python",
      "name": "python3"
    },
    "language_info": {
      "codemirror_mode": {
        "name": "ipython",
        "version": 3
      },
      "file_extension": ".py",
      "mimetype": "text/x-python",
      "name": "python",
      "nbconvert_exporter": "python",
      "pygments_lexer": "ipython3",
      "version": "3.8.3"
    },
    "colab": {
      "name": "Dictionary.ipynb",
      "provenance": [],
      "include_colab_link": true
    }
  },
  "cells": [
    {
      "cell_type": "markdown",
      "metadata": {
        "id": "view-in-github",
        "colab_type": "text"
      },
      "source": [
        "<a href=\"https://colab.research.google.com/github/kdmid/Class_Python/blob/main/Practice/Dictionary.ipynb\" target=\"_parent\"><img src=\"https://colab.research.google.com/assets/colab-badge.svg\" alt=\"Open In Colab\"/></a>"
      ]
    },
    {
      "cell_type": "markdown",
      "metadata": {
        "id": "BFSd5nZuieCz"
      },
      "source": [
        "# Dictionary `{}` 정의\n",
        "- [\"keys\"] = [\"values\"]\n",
        "- List와 유사하나 List는 index에 의존하고, Dictionary는 keys에 의존한다.\n",
        "- rename 할 때 자주 사용한다.\n",
        "\n",
        "```\n",
        "d = {\n",
        "  <키>: <값>,\n",
        "  <키>: <값>,\n",
        "    .\n",
        "    .\n",
        "    .\n",
        "  <키>: <값>,\n",
        "}\n",
        "```"
      ]
    },
    {
      "cell_type": "code",
      "metadata": {
        "id": "YuxqXBc5ieC-",
        "outputId": "68022307-5d14-4325-db73-7a071c457a41"
      },
      "source": [
        "kbo = {\n",
        "    \"인천\"  : \"SK\", \n",
        "    \"서울1\" : \"LG\", \n",
        "    \"서울2\" : \"두산\", \n",
        "    \"창원\"  : \"NC\",\n",
        "    \"광주\"  : \"기아\",\n",
        "    \"대구\"  : \"삼성\",\n",
        "    \"대전\"  : \"한화\",\n",
        "    \"부산\"  : \"롯데\",\n",
        "    \"수원\"  : \"KT\",\n",
        "    \"고척\"  : \"키움\",\n",
        "}\n",
        "kbo"
      ],
      "execution_count": null,
      "outputs": [
        {
          "output_type": "execute_result",
          "data": {
            "text/plain": [
              "{'인천': 'SK',\n",
              " '서울1': 'LG',\n",
              " '서울2': '두산',\n",
              " '창원': 'NC',\n",
              " '광주': '기아',\n",
              " '대구': '삼성',\n",
              " '대전': '한화',\n",
              " '부산': '롯데',\n",
              " '수원': 'KT',\n",
              " '고척': '키움'}"
            ]
          },
          "metadata": {
            "tags": []
          },
          "execution_count": 1
        }
      ]
    },
    {
      "cell_type": "code",
      "metadata": {
        "id": "46bOpjCHieDB",
        "outputId": "88eed1e0-f477-4796-967c-590014293d03"
      },
      "source": [
        "print(kbo[0])"
      ],
      "execution_count": null,
      "outputs": [
        {
          "output_type": "error",
          "ename": "KeyError",
          "evalue": "0",
          "traceback": [
            "\u001b[1;31m---------------------------------------------------------------------------\u001b[0m",
            "\u001b[1;31mKeyError\u001b[0m                                  Traceback (most recent call last)",
            "\u001b[1;32m<ipython-input-2-b18007c6de43>\u001b[0m in \u001b[0;36m<module>\u001b[1;34m\u001b[0m\n\u001b[1;32m----> 1\u001b[1;33m \u001b[0mprint\u001b[0m\u001b[1;33m(\u001b[0m\u001b[0mkbo\u001b[0m\u001b[1;33m[\u001b[0m\u001b[1;36m0\u001b[0m\u001b[1;33m]\u001b[0m\u001b[1;33m)\u001b[0m\u001b[1;33m\u001b[0m\u001b[1;33m\u001b[0m\u001b[0m\n\u001b[0m",
            "\u001b[1;31mKeyError\u001b[0m: 0"
          ]
        }
      ]
    },
    {
      "cell_type": "code",
      "metadata": {
        "id": "ZNVhphlQieDB",
        "outputId": "ddce0a59-6ca2-4783-eded-a9bb104a636f"
      },
      "source": [
        "print(kbo[\"인천\"])"
      ],
      "execution_count": null,
      "outputs": [
        {
          "output_type": "stream",
          "text": [
            "SK\n"
          ],
          "name": "stdout"
        }
      ]
    },
    {
      "cell_type": "code",
      "metadata": {
        "id": "uQitTIVvieDC",
        "outputId": "29eb3d80-b639-4268-bacb-d13f31870b44"
      },
      "source": [
        "kbo[\"전주\"] = \"현대\"\n",
        "print(kbo)"
      ],
      "execution_count": null,
      "outputs": [
        {
          "output_type": "stream",
          "text": [
            "{'인천': 'SK', '서울1': 'LG', '서울2': '두산', '창원': 'NC', '광주': '기아', '대구': '삼성', '대전': '한화', '부산': '롯데', '수원': 'KT', '고척': '키움', '멸망': '한화', '전주': '현대'}\n"
          ],
          "name": "stdout"
        }
      ]
    },
    {
      "cell_type": "code",
      "metadata": {
        "id": "KMCyTOrdieDC",
        "outputId": "3d280675-49e2-418f-d4d1-46f52d0d65b9"
      },
      "source": [
        "kbo[0:2]"
      ],
      "execution_count": null,
      "outputs": [
        {
          "output_type": "error",
          "ename": "TypeError",
          "evalue": "unhashable type: 'slice'",
          "traceback": [
            "\u001b[1;31m---------------------------------------------------------------------------\u001b[0m",
            "\u001b[1;31mTypeError\u001b[0m                                 Traceback (most recent call last)",
            "\u001b[1;32m<ipython-input-8-95144d23e163>\u001b[0m in \u001b[0;36m<module>\u001b[1;34m\u001b[0m\n\u001b[1;32m----> 1\u001b[1;33m \u001b[0mkbo\u001b[0m\u001b[1;33m[\u001b[0m\u001b[1;36m0\u001b[0m\u001b[1;33m:\u001b[0m\u001b[1;36m2\u001b[0m\u001b[1;33m]\u001b[0m\u001b[1;33m\u001b[0m\u001b[1;33m\u001b[0m\u001b[0m\n\u001b[0m",
            "\u001b[1;31mTypeError\u001b[0m: unhashable type: 'slice'"
          ]
        }
      ]
    },
    {
      "cell_type": "markdown",
      "metadata": {
        "id": "KahviCEQieDD"
      },
      "source": [
        "- 삭제 방법"
      ]
    },
    {
      "cell_type": "code",
      "metadata": {
        "scrolled": true,
        "id": "A4vy1maoieDD",
        "outputId": "0ec92f4d-8dd0-4c6d-c2dd-a35d226d1a17"
      },
      "source": [
        "del kbo['전주']\n",
        "kbo"
      ],
      "execution_count": null,
      "outputs": [
        {
          "output_type": "execute_result",
          "data": {
            "text/plain": [
              "{'인천': 'SK',\n",
              " '서울1': 'LG',\n",
              " '서울2': '두산',\n",
              " '창원': 'NC',\n",
              " '광주': '기아',\n",
              " '대구': '삼성',\n",
              " '대전': '한화',\n",
              " '부산': '롯데',\n",
              " '수원': 'KT',\n",
              " '고척': '키움',\n",
              " '멸망': '한화'}"
            ]
          },
          "metadata": {
            "tags": []
          },
          "execution_count": 10
        }
      ]
    },
    {
      "cell_type": "markdown",
      "metadata": {
        "id": "JIfJLYmlieDE"
      },
      "source": [
        "# Dictionary 관련 함수들\n",
        "## 1. `d.clear()`\n",
        "- 모두 삭제"
      ]
    },
    {
      "cell_type": "code",
      "metadata": {
        "id": "wkSfYNzrieDE",
        "outputId": "5883721d-ea58-454f-a246-fa7ab66cac56"
      },
      "source": [
        "dic = {'A': 1, 'B': 2, 'C': 3}\n",
        "dic"
      ],
      "execution_count": null,
      "outputs": [
        {
          "output_type": "execute_result",
          "data": {
            "text/plain": [
              "{'A': 1, 'B': 2, 'C': 3}"
            ]
          },
          "metadata": {
            "tags": []
          },
          "execution_count": 11
        }
      ]
    },
    {
      "cell_type": "code",
      "metadata": {
        "id": "OutTjb-MieDE",
        "outputId": "a38f226d-cf80-439e-d9bd-6b0e648737e2"
      },
      "source": [
        "dic.clear()\n",
        "dic"
      ],
      "execution_count": null,
      "outputs": [
        {
          "output_type": "execute_result",
          "data": {
            "text/plain": [
              "{}"
            ]
          },
          "metadata": {
            "tags": []
          },
          "execution_count": 12
        }
      ]
    },
    {
      "cell_type": "markdown",
      "metadata": {
        "id": "o6eHDi0EieDF"
      },
      "source": [
        "## 2. `d.get()`\n",
        "- key값을 활용해서 value값을 가져오는 함수다."
      ]
    },
    {
      "cell_type": "code",
      "metadata": {
        "id": "bOlRUYM3ieDF",
        "outputId": "29c7fc46-2783-4b8e-839d-5e307adde1a7"
      },
      "source": [
        "dic = {'A': 1, 'B': 2, 'C': 3}\n",
        "print(dic.get('B'))\n",
        "print(dic.get('Z'))"
      ],
      "execution_count": null,
      "outputs": [
        {
          "output_type": "stream",
          "text": [
            "2\n",
            "None\n"
          ],
          "name": "stdout"
        }
      ]
    },
    {
      "cell_type": "markdown",
      "metadata": {
        "id": "V0sPYzkCieDF"
      },
      "source": [
        "- `.get('B')`에 해당하는 `Dictionary`값이 존재하기 때문에 2를 반환한다. \n",
        "- `.get('Z')`에 해당하는 `Dictionary`값이 존재하지 않기 때문에 `None`을 반환한다. \n",
        "  + 그런데 `None`을 반환하기 보다 특정 숫자 또는 문자로 출력하고 싶다면 다음과 같이 입력하면 된다. "
      ]
    },
    {
      "cell_type": "code",
      "metadata": {
        "id": "SU7syL-VieDG",
        "outputId": "24462eef-9d46-47c4-b119-fdd6191c2550"
      },
      "source": [
        "print(dic.get('z', 0))\n",
        "print(dic.get('z', \"없음\"))"
      ],
      "execution_count": null,
      "outputs": [
        {
          "output_type": "stream",
          "text": [
            "0\n",
            "없음\n"
          ],
          "name": "stdout"
        }
      ]
    },
    {
      "cell_type": "markdown",
      "metadata": {
        "id": "VemYgnqJieDG"
      },
      "source": [
        "## 3. `d.keys()`\n",
        "- `Dictionary`는 `key`와 `value`로 구성되어 있는데, `keys()`의 뜻은 현재 구성되어 있는 `Dictionary`에서 `keys()`를 `dict_keys` 형태로 반환한다.\n",
        "  + 이 때, `list`로 변환을 하려면 `list()`를 "
      ]
    },
    {
      "cell_type": "code",
      "metadata": {
        "scrolled": true,
        "id": "UVRE2QC_ieDH",
        "outputId": "bb3456ab-c111-456a-c627-4dab05fa884c"
      },
      "source": [
        "dic = {'A': 1, 'B': 2, 'C': 3}\n",
        "print(dic.keys())\n",
        "print(list(dic.keys()))"
      ],
      "execution_count": null,
      "outputs": [
        {
          "output_type": "stream",
          "text": [
            "dict_keys(['A', 'B', 'C'])\n",
            "['A', 'B', 'C']\n"
          ],
          "name": "stdout"
        }
      ]
    },
    {
      "cell_type": "markdown",
      "metadata": {
        "id": "zsm01Hm2ieDH"
      },
      "source": [
        "## 4. `d.values()`\n",
        "- `keys()`를 활용하여 `key`를 반환했던 것처럼, `values()`를 활용하여 `value`를 진행하자. \n",
        "  + 코드는 위와 동일하다. 다만, 함수만 바꾼다."
      ]
    },
    {
      "cell_type": "code",
      "metadata": {
        "id": "Nj7cRSPGieDH",
        "outputId": "bb7972e4-9164-4b67-83aa-fe8bcb75ae86"
      },
      "source": [
        "dic = {'A': 1, 'B': 2, 'C': 3}\n",
        "print(dic.values())\n",
        "print(list(dic.values()))"
      ],
      "execution_count": null,
      "outputs": [
        {
          "output_type": "stream",
          "text": [
            "dict_values([1, 2, 3])\n",
            "[1, 2, 3]\n"
          ],
          "name": "stdout"
        }
      ]
    }
  ]
}