{
  "nbformat": 4,
  "nbformat_minor": 0,
  "metadata": {
    "kernelspec": {
      "display_name": "Python 3",
      "language": "python",
      "name": "python3"
    },
    "language_info": {
      "codemirror_mode": {
        "name": "ipython",
        "version": 3
      },
      "file_extension": ".py",
      "mimetype": "text/x-python",
      "name": "python",
      "nbconvert_exporter": "python",
      "pygments_lexer": "ipython3",
      "version": "3.8.3"
    },
    "colab": {
      "name": "List_and_Tuples.ipynb",
      "provenance": [],
      "include_colab_link": true
    }
  },
  "cells": [
    {
      "cell_type": "markdown",
      "metadata": {
        "id": "view-in-github",
        "colab_type": "text"
      },
      "source": [
        "<a href=\"https://colab.research.google.com/github/kdmid/Class_Python/blob/main/Practice/List_and_Tuples.ipynb\" target=\"_parent\"><img src=\"https://colab.research.google.com/assets/colab-badge.svg\" alt=\"Open In Colab\"/></a>"
      ]
    },
    {
      "cell_type": "markdown",
      "metadata": {
        "id": "FqoQtG1WO9yO"
      },
      "source": [
        "# LSIT `[]`"
      ]
    },
    {
      "cell_type": "markdown",
      "metadata": {
        "id": "LzycCA-wO9yP"
      },
      "source": [
        "## 1. List는 정렬(ordered)되었다."
      ]
    },
    {
      "cell_type": "code",
      "metadata": {
        "id": "PP-QVKL8O9yQ",
        "outputId": "4971c73f-b256-49ea-ba5f-e65f3828d17f"
      },
      "source": [
        "alphabet = ['A', 'B', 'C', 'D']\n",
        "print(alphabet)"
      ],
      "execution_count": null,
      "outputs": [
        {
          "output_type": "stream",
          "text": [
            "['A', 'B', 'C', 'D']\n"
          ],
          "name": "stdout"
        }
      ]
    },
    {
      "cell_type": "markdown",
      "metadata": {
        "id": "tsl1aJMpO9yW"
      },
      "source": [
        "## 2. List는 다양한 형태의 데이터 유형을 담을 수 있다."
      ]
    },
    {
      "cell_type": "code",
      "metadata": {
        "id": "4h5uzhuMO9yW"
      },
      "source": [
        "a1 = [1,2,3,4]\n",
        "a2 = [2,3,4,1]"
      ],
      "execution_count": null,
      "outputs": []
    },
    {
      "cell_type": "code",
      "metadata": {
        "scrolled": true,
        "id": "xh-MaI6JO9yZ",
        "outputId": "3957d773-315f-48a2-9558-3e2b467bda5f"
      },
      "source": [
        "a1==a2 #리스트 안에는 순서가 존재한다"
      ],
      "execution_count": null,
      "outputs": [
        {
          "output_type": "execute_result",
          "data": {
            "text/plain": [
              "False"
            ]
          },
          "metadata": {
            "tags": []
          },
          "execution_count": 3
        }
      ]
    },
    {
      "cell_type": "code",
      "metadata": {
        "id": "s75m7SPJO9yc",
        "outputId": "6b80d72c-799c-4dc8-dc71-6b43081a413d"
      },
      "source": [
        "temp = [11.1, \"foq\", 3, 5, True]\n",
        "print(temp)"
      ],
      "execution_count": null,
      "outputs": [
        {
          "output_type": "stream",
          "text": [
            "[11.1, 'foq', 3, 5, True]\n"
          ],
          "name": "stdout"
        }
      ]
    },
    {
      "cell_type": "code",
      "metadata": {
        "scrolled": true,
        "id": "67U7qYT2O9yg",
        "outputId": "1a228ccc-7e66-45c0-a5aa-3256714e4bca"
      },
      "source": [
        "float"
      ],
      "execution_count": null,
      "outputs": [
        {
          "output_type": "execute_result",
          "data": {
            "text/plain": [
              "float"
            ]
          },
          "metadata": {
            "tags": []
          },
          "execution_count": 5
        }
      ]
    },
    {
      "cell_type": "code",
      "metadata": {
        "id": "b7PIvukzO9yk",
        "outputId": "e576e6c0-ec22-4e3c-a42d-cfd2f8843040"
      },
      "source": [
        "len"
      ],
      "execution_count": null,
      "outputs": [
        {
          "output_type": "execute_result",
          "data": {
            "text/plain": [
              "<function len(obj, /)>"
            ]
          },
          "metadata": {
            "tags": []
          },
          "execution_count": 6
        }
      ]
    },
    {
      "cell_type": "code",
      "metadata": {
        "id": "EZwYijHrO9yn",
        "outputId": "10087eaf-8ac0-4600-cd32-84b6ddee4693"
      },
      "source": [
        "def temp():\n",
        "    pass\n",
        "temp"
      ],
      "execution_count": null,
      "outputs": [
        {
          "output_type": "execute_result",
          "data": {
            "text/plain": [
              "<function __main__.temp()>"
            ]
          },
          "metadata": {
            "tags": []
          },
          "execution_count": 10
        }
      ]
    },
    {
      "cell_type": "code",
      "metadata": {
        "id": "mbZDBnL1O9yr",
        "outputId": "b3cf2c32-8011-46b3-c272-6ca2485e3749"
      },
      "source": [
        "fun_list = [float, temp, len]\n",
        "print(fun_list)"
      ],
      "execution_count": null,
      "outputs": [
        {
          "output_type": "stream",
          "text": [
            "[<class 'float'>, <function temp at 0x0000017D37335160>, <built-in function len>]\n"
          ],
          "name": "stdout"
        }
      ]
    },
    {
      "cell_type": "markdown",
      "metadata": {
        "id": "yQh5j1ywO9yu"
      },
      "source": [
        "## 3. List안에 있는 값은 인덱스로 접근한다."
      ]
    },
    {
      "cell_type": "code",
      "metadata": {
        "id": "08FPYNh8O9yu",
        "outputId": "6ea73df2-381c-43c3-a722-4998cb7364fd"
      },
      "source": [
        "alphabet_temp = [\"A\", \"B\", \"C\", \"D\", \"E\"]\n",
        "print(alphabet_temp)"
      ],
      "execution_count": null,
      "outputs": [
        {
          "output_type": "stream",
          "text": [
            "['A', 'B', 'C', 'D', 'E']\n"
          ],
          "name": "stdout"
        }
      ]
    },
    {
      "cell_type": "code",
      "metadata": {
        "id": "-q3eDlEJO9yy",
        "outputId": "5cca99bf-d280-4422-81ea-b58091cdfbb9"
      },
      "source": [
        "alphabet_temp[0] #Python은 0번부터 시작"
      ],
      "execution_count": null,
      "outputs": [
        {
          "output_type": "execute_result",
          "data": {
            "text/plain": [
              "'A'"
            ]
          },
          "metadata": {
            "tags": []
          },
          "execution_count": 14
        }
      ]
    },
    {
      "cell_type": "code",
      "metadata": {
        "id": "uoWD3zZOO9y1",
        "outputId": "76d09642-fc5c-4095-dda0-b77d9ccf3cfa"
      },
      "source": [
        "alphabet_temp[4]"
      ],
      "execution_count": null,
      "outputs": [
        {
          "output_type": "execute_result",
          "data": {
            "text/plain": [
              "'E'"
            ]
          },
          "metadata": {
            "tags": []
          },
          "execution_count": 15
        }
      ]
    },
    {
      "cell_type": "code",
      "metadata": {
        "id": "aNDDP-NKO9y3",
        "outputId": "14d55185-ba73-44e2-b3cb-c38f305307a9"
      },
      "source": [
        "alphabet_temp[-1] #역으로 불러올때는 -1부터 시작"
      ],
      "execution_count": null,
      "outputs": [
        {
          "output_type": "execute_result",
          "data": {
            "text/plain": [
              "'E'"
            ]
          },
          "metadata": {
            "tags": []
          },
          "execution_count": 16
        }
      ]
    },
    {
      "cell_type": "code",
      "metadata": {
        "id": "lRFe8La4O9y6",
        "outputId": "dfe31cde-29e4-4285-dff0-7359f432f968"
      },
      "source": [
        "alphabet_temp[-3]"
      ],
      "execution_count": null,
      "outputs": [
        {
          "output_type": "execute_result",
          "data": {
            "text/plain": [
              "'C'"
            ]
          },
          "metadata": {
            "tags": []
          },
          "execution_count": 17
        }
      ]
    },
    {
      "cell_type": "markdown",
      "metadata": {
        "id": "_CQYsEpRO9y9"
      },
      "source": [
        "temp[M:N] #M번째이상 N번째미만"
      ]
    },
    {
      "cell_type": "code",
      "metadata": {
        "id": "8d8fNOpQO9y-",
        "outputId": "e4821f7b-db33-4c84-95f1-69cc8b6e803c"
      },
      "source": [
        "alphabet_temp[0:4] #0,1,2,3 까지만 불러온다"
      ],
      "execution_count": null,
      "outputs": [
        {
          "output_type": "execute_result",
          "data": {
            "text/plain": [
              "['A', 'B', 'C', 'D']"
            ]
          },
          "metadata": {
            "tags": []
          },
          "execution_count": 19
        }
      ]
    },
    {
      "cell_type": "markdown",
      "metadata": {
        "id": "Z076-Zx6O9zB"
      },
      "source": [
        "## 4. List안에 또다른 List를 담을 수 있다."
      ]
    },
    {
      "cell_type": "code",
      "metadata": {
        "id": "MexXBqeKO9zD",
        "outputId": "fa732526-4db8-41b5-9351-8dc8ab9947a1"
      },
      "source": [
        "x = ['a', ['bb', ['ccc', 'ddd'], 'ee', 'ff'], 'g', ['hh', 'ii'], 'j']\n",
        "x"
      ],
      "execution_count": null,
      "outputs": [
        {
          "output_type": "execute_result",
          "data": {
            "text/plain": [
              "['a', ['bb', ['ccc', 'ddd'], 'ee', 'ff'], 'g', ['hh', 'ii'], 'j']"
            ]
          },
          "metadata": {
            "tags": []
          },
          "execution_count": 20
        }
      ]
    },
    {
      "cell_type": "code",
      "metadata": {
        "id": "6eQIK4cmO9zH",
        "outputId": "9ff83ef8-3d02-47af-ee71-1f62d7e82a77"
      },
      "source": [
        "x[3]"
      ],
      "execution_count": null,
      "outputs": [
        {
          "output_type": "execute_result",
          "data": {
            "text/plain": [
              "['hh', 'ii']"
            ]
          },
          "metadata": {
            "tags": []
          },
          "execution_count": 31
        }
      ]
    },
    {
      "cell_type": "code",
      "metadata": {
        "id": "1sah5Vw0O9zK",
        "outputId": "fcb6071d-e630-40a5-a5d0-9c44cf7ceb8a"
      },
      "source": [
        "x[3][0]"
      ],
      "execution_count": null,
      "outputs": [
        {
          "output_type": "execute_result",
          "data": {
            "text/plain": [
              "'hh'"
            ]
          },
          "metadata": {
            "tags": []
          },
          "execution_count": 30
        }
      ]
    },
    {
      "cell_type": "code",
      "metadata": {
        "id": "rZqwHVh8O9zN",
        "outputId": "54c496de-cd1a-4a4b-b394-d8fa4b3499ce"
      },
      "source": [
        "x[1]"
      ],
      "execution_count": null,
      "outputs": [
        {
          "output_type": "execute_result",
          "data": {
            "text/plain": [
              "['bb', ['ccc', 'ddd'], 'ee', 'ff']"
            ]
          },
          "metadata": {
            "tags": []
          },
          "execution_count": 22
        }
      ]
    },
    {
      "cell_type": "code",
      "metadata": {
        "id": "SgIH_XMrO9zQ",
        "outputId": "244e7f12-f199-4c06-b12b-716a2b1be56c"
      },
      "source": [
        "x[1][1][1]"
      ],
      "execution_count": null,
      "outputs": [
        {
          "output_type": "execute_result",
          "data": {
            "text/plain": [
              "'ddd'"
            ]
          },
          "metadata": {
            "tags": []
          },
          "execution_count": 24
        }
      ]
    },
    {
      "cell_type": "markdown",
      "metadata": {
        "id": "QtWUHJaQO9zT"
      },
      "source": [
        "## 5. List는 변하기 쉽다."
      ]
    },
    {
      "cell_type": "code",
      "metadata": {
        "id": "VooZ7BwbO9zT",
        "outputId": "279ca47b-9e1b-4981-d6fc-d972bd55371c"
      },
      "source": [
        "message = \"strings immutable\"\n",
        "message[0]"
      ],
      "execution_count": null,
      "outputs": [
        {
          "output_type": "execute_result",
          "data": {
            "text/plain": [
              "'s'"
            ]
          },
          "metadata": {
            "tags": []
          },
          "execution_count": 25
        }
      ]
    },
    {
      "cell_type": "code",
      "metadata": {
        "id": "qkIUSF0xO9zY",
        "outputId": "46ebf0a4-4f27-407a-8ec0-438c1f8bd6f7"
      },
      "source": [
        "message[0] = 'p'\n",
        "print(message)"
      ],
      "execution_count": null,
      "outputs": [
        {
          "output_type": "error",
          "ename": "TypeError",
          "evalue": "'str' object does not support item assignment",
          "traceback": [
            "\u001b[1;31m---------------------------------------------------------------------------\u001b[0m",
            "\u001b[1;31mTypeError\u001b[0m                                 Traceback (most recent call last)",
            "\u001b[1;32m<ipython-input-26-b4b635824af6>\u001b[0m in \u001b[0;36m<module>\u001b[1;34m\u001b[0m\n\u001b[1;32m----> 1\u001b[1;33m \u001b[0mmessage\u001b[0m\u001b[1;33m[\u001b[0m\u001b[1;36m0\u001b[0m\u001b[1;33m]\u001b[0m \u001b[1;33m=\u001b[0m \u001b[1;34m'p'\u001b[0m\u001b[1;33m\u001b[0m\u001b[1;33m\u001b[0m\u001b[0m\n\u001b[0m\u001b[0;32m      2\u001b[0m \u001b[0mprint\u001b[0m\u001b[1;33m(\u001b[0m\u001b[0mmessage\u001b[0m\u001b[1;33m)\u001b[0m\u001b[1;33m\u001b[0m\u001b[1;33m\u001b[0m\u001b[0m\n",
            "\u001b[1;31mTypeError\u001b[0m: 'str' object does not support item assignment"
          ]
        }
      ]
    },
    {
      "cell_type": "markdown",
      "metadata": {
        "id": "Wl4o_GdGO9za"
      },
      "source": [
        "- 에러가 났다. 즉, 문자열은 바로 치환이 되지 않는다. 이러한 것을 문법적으로 Immutable이라고 한다."
      ]
    },
    {
      "cell_type": "code",
      "metadata": {
        "id": "DZqqTXPpO9za",
        "outputId": "a520a6dc-659b-447a-f364-049c36c7667a"
      },
      "source": [
        "a = ['foo', 'bar', 'baz', 'qux', 'quux', 'corge']\n",
        "a[3]"
      ],
      "execution_count": null,
      "outputs": [
        {
          "output_type": "execute_result",
          "data": {
            "text/plain": [
              "'qux'"
            ]
          },
          "metadata": {
            "tags": []
          },
          "execution_count": 28
        }
      ]
    },
    {
      "cell_type": "code",
      "metadata": {
        "id": "BS0XikkbO9zd",
        "outputId": "2780a361-a6aa-4dfd-e8b0-4260bcd24828"
      },
      "source": [
        "a[3]=4\n",
        "a"
      ],
      "execution_count": null,
      "outputs": [
        {
          "output_type": "execute_result",
          "data": {
            "text/plain": [
              "['foo', 'bar', 'baz', 4, 'quux', 'corge']"
            ]
          },
          "metadata": {
            "tags": []
          },
          "execution_count": 29
        }
      ]
    },
    {
      "cell_type": "markdown",
      "metadata": {
        "id": "FhssktxyO9zf"
      },
      "source": [
        "## 6. List는 동적이다.\n",
        "\n",
        "- 사실 `Mutable`이라는 뜻 자체가 매우 동적임을 나타난다. \n",
        "- 필자는 보통 `자유도가 높다`라고 표현하고 싶다. \n",
        "- 다양한 형태로 작업이 가능하다. \n",
        "- 우선 다양한 값을 `Add`추가 하는 것을 진행하자. "
      ]
    },
    {
      "cell_type": "code",
      "metadata": {
        "id": "xbOHFdbhO9zg",
        "outputId": "c0060a54-2537-484b-f987-38cd78c894fe"
      },
      "source": [
        "temp = ['A', 'B', 'C', 'D', 'E', 'F']\n",
        "temp[2:2] = [2, 4, 6, 8]\n",
        "temp"
      ],
      "execution_count": null,
      "outputs": [
        {
          "output_type": "execute_result",
          "data": {
            "text/plain": [
              "['A', 'B', 2, 4, 6, 8, 'C', 'D', 'E', 'F']"
            ]
          },
          "metadata": {
            "tags": []
          },
          "execution_count": 36
        }
      ]
    },
    {
      "cell_type": "code",
      "metadata": {
        "id": "5znUZxvfO9zk",
        "outputId": "8627a266-1885-4606-9569-675571834289"
      },
      "source": [
        "temp = ['A', 'B', 'C', 'D', 'E', 'F']\n",
        "temp[0:3] = [2, 4, 6, 8]\n",
        "temp"
      ],
      "execution_count": null,
      "outputs": [
        {
          "output_type": "execute_result",
          "data": {
            "text/plain": [
              "[2, 4, 6, 8, 'D', 'E', 'F']"
            ]
          },
          "metadata": {
            "tags": []
          },
          "execution_count": 42
        }
      ]
    },
    {
      "cell_type": "markdown",
      "metadata": {
        "id": "VhyluP1UO9zo"
      },
      "source": [
        "# Tuple `()`"
      ]
    },
    {
      "cell_type": "code",
      "metadata": {
        "id": "csX48zZIO9zp",
        "outputId": "eddae2a3-37c6-4d6b-eca0-f2f6fc368f2d"
      },
      "source": [
        "alphabet_tuple_name = (\"A\", \"B\", \"C\")\n",
        "print(alphabet_tuple_name)"
      ],
      "execution_count": null,
      "outputs": [
        {
          "output_type": "stream",
          "text": [
            "('A', 'B', 'C')\n"
          ],
          "name": "stdout"
        }
      ]
    },
    {
      "cell_type": "code",
      "metadata": {
        "id": "ne6D1xZcO9zr",
        "outputId": "e20a22d4-f878-49b7-f644-156d6497f4cf"
      },
      "source": [
        "alphabet_tuple_name[0] = \"alphabet_A\" #Tuple에서는 적용불가\n",
        "print(alphabet_tuple_name)"
      ],
      "execution_count": null,
      "outputs": [
        {
          "output_type": "error",
          "ename": "TypeError",
          "evalue": "'tuple' object does not support item assignment",
          "traceback": [
            "\u001b[1;31m---------------------------------------------------------------------------\u001b[0m",
            "\u001b[1;31mTypeError\u001b[0m                                 Traceback (most recent call last)",
            "\u001b[1;32m<ipython-input-40-7ea7f8539af1>\u001b[0m in \u001b[0;36m<module>\u001b[1;34m\u001b[0m\n\u001b[1;32m----> 1\u001b[1;33m \u001b[0malphabet_tuple_name\u001b[0m\u001b[1;33m[\u001b[0m\u001b[1;36m0\u001b[0m\u001b[1;33m]\u001b[0m \u001b[1;33m=\u001b[0m \u001b[1;34m\"alphabet_A\"\u001b[0m\u001b[1;33m\u001b[0m\u001b[1;33m\u001b[0m\u001b[0m\n\u001b[0m\u001b[0;32m      2\u001b[0m \u001b[0mprint\u001b[0m\u001b[1;33m(\u001b[0m\u001b[0malphabet_tuple_name\u001b[0m\u001b[1;33m)\u001b[0m\u001b[1;33m\u001b[0m\u001b[1;33m\u001b[0m\u001b[0m\n",
            "\u001b[1;31mTypeError\u001b[0m: 'tuple' object does not support item assignment"
          ]
        }
      ]
    },
    {
      "cell_type": "markdown",
      "metadata": {
        "id": "mkJio2lDO9zu"
      },
      "source": [
        "## 1. 왜 Tuple을 사용할까?\n",
        "- 프로그래밍적으로 Tuple이 List보다 연산속도가 빠르다\n",
        "- 데이터 분석적으로 접근하면, 특정 데이터가 변하지 않도록 방지하는 기법으로 Tuple을 사용할 수 있다.\n",
        "- 수정하고 싶으면 다시 값을 입력해야 한다.  ex) alphabet_tuple_name = (\"alphabet_A\", \"B\", \"C\")"
      ]
    },
    {
      "cell_type": "code",
      "metadata": {
        "id": "z2XWTj6nO9zu",
        "outputId": "87afa17c-b08c-4246-fbb8-cc87514ca2cf"
      },
      "source": [
        "t = ('foo', 'bar', 'baz', 'qux')\n",
        "t"
      ],
      "execution_count": null,
      "outputs": [
        {
          "output_type": "execute_result",
          "data": {
            "text/plain": [
              "('foo', 'bar', 'baz', 'qux')"
            ]
          },
          "metadata": {
            "tags": []
          },
          "execution_count": 43
        }
      ]
    },
    {
      "cell_type": "code",
      "metadata": {
        "id": "4RmzsvnAO9zx"
      },
      "source": [
        "(s1, s2, s3, s4) = t "
      ],
      "execution_count": null,
      "outputs": []
    },
    {
      "cell_type": "code",
      "metadata": {
        "id": "wZaHIDrEO9z2",
        "outputId": "61d640a0-0ae6-4b07-fd08-aebdb0a75c64"
      },
      "source": [
        "s1"
      ],
      "execution_count": null,
      "outputs": [
        {
          "output_type": "execute_result",
          "data": {
            "text/plain": [
              "'foo'"
            ]
          },
          "metadata": {
            "tags": []
          },
          "execution_count": 45
        }
      ]
    },
    {
      "cell_type": "code",
      "metadata": {
        "id": "ro9ze3kQO9z4",
        "outputId": "f4db8aff-d78c-4822-8c76-ff5e2300285a"
      },
      "source": [
        "s3"
      ],
      "execution_count": null,
      "outputs": [
        {
          "output_type": "execute_result",
          "data": {
            "text/plain": [
              "'baz'"
            ]
          },
          "metadata": {
            "tags": []
          },
          "execution_count": 46
        }
      ]
    },
    {
      "cell_type": "markdown",
      "metadata": {
        "id": "iqzldCFZO9z7"
      },
      "source": [
        "## 2. swap"
      ]
    },
    {
      "cell_type": "code",
      "metadata": {
        "id": "C5KJBVTXO9z7",
        "outputId": "d8e1b46b-ba6f-48e6-938f-ba78f00f6400"
      },
      "source": [
        "a1 = \"black\"\n",
        "v1 = \"blue\"\n",
        "a2 = \"red\"\n",
        "\n",
        "temp = a1, v1, a2 # Tuple 형태로 표시됨\n",
        "temp"
      ],
      "execution_count": null,
      "outputs": [
        {
          "output_type": "execute_result",
          "data": {
            "text/plain": [
              "('black', 'blue', 'red')"
            ]
          },
          "metadata": {
            "tags": []
          },
          "execution_count": 49
        }
      ]
    },
    {
      "cell_type": "code",
      "metadata": {
        "id": "-maWr_VAO90A",
        "outputId": "8bbce8ed-e815-48fb-a710-ca35b815e62b"
      },
      "source": [
        "a1, a2 = a2, a1\n",
        "temp = a1, v1, a2 # Tuple 형태로 표시됨\n",
        "temp"
      ],
      "execution_count": null,
      "outputs": [
        {
          "output_type": "execute_result",
          "data": {
            "text/plain": [
              "('red', 'blue', 'black')"
            ]
          },
          "metadata": {
            "tags": []
          },
          "execution_count": 50
        }
      ]
    }
  ]
}