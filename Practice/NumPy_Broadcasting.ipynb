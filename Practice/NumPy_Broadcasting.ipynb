{
  "nbformat": 4,
  "nbformat_minor": 0,
  "metadata": {
    "colab": {
      "name": "NumPy_Broadcasting.ipynb",
      "provenance": [],
      "authorship_tag": "ABX9TyOJoP8Bq4LCHg/F4zMsySVV",
      "include_colab_link": true
    },
    "kernelspec": {
      "name": "python3",
      "display_name": "Python 3"
    }
  },
  "cells": [
    {
      "cell_type": "markdown",
      "metadata": {
        "id": "view-in-github",
        "colab_type": "text"
      },
      "source": [
        "<a href=\"https://colab.research.google.com/github/kdmid/Class_Python/blob/main/Practice/NumPy_Broadcasting.ipynb\" target=\"_parent\"><img src=\"https://colab.research.google.com/assets/colab-badge.svg\" alt=\"Open In Colab\"/></a>"
      ]
    },
    {
      "cell_type": "markdown",
      "metadata": {
        "id": "7RH1j7hkNPBv"
      },
      "source": [
        "# 모듈 Import\n",
        "- 패키지 설치방법은 [설치 문서](https://pypi.org/project/numpy/)를 확인한다."
      ]
    },
    {
      "cell_type": "code",
      "metadata": {
        "colab": {
          "base_uri": "https://localhost:8080/"
        },
        "id": "AN4K7rchNAPS",
        "outputId": "cc9664ed-e799-4ae1-ae57-4410d3448105"
      },
      "source": [
        "import numpy as np\n",
        "print(np.__version__)"
      ],
      "execution_count": 1,
      "outputs": [
        {
          "output_type": "stream",
          "text": [
            "1.18.5\n"
          ],
          "name": "stdout"
        }
      ]
    },
    {
      "cell_type": "markdown",
      "metadata": {
        "id": "ZyTKBMWgNgW5"
      },
      "source": [
        "# NumPy 기본 활용법\n",
        "- NumPy 객체 생성을 한 뒤에, 파일 저장, 서로 다른 배열끼리의 사칙연산 등을 수행할 수 있다."
      ]
    },
    {
      "cell_type": "markdown",
      "metadata": {
        "id": "5Btq9DjFNlGH"
      },
      "source": [
        "## (1) NumPy 객체 파일 저장 및 불러오기\n",
        "- `savetxt`, `loadtxt`, 그리고 `genfromtxt` 함수를 활용하여 객체를 불러오는 예제를 실습한다."
      ]
    },
    {
      "cell_type": "code",
      "metadata": {
        "colab": {
          "base_uri": "https://localhost:8080/"
        },
        "id": "2HxYjHNCNqtx",
        "outputId": "cb18840d-891c-43a6-e520-fad3a7b59871"
      },
      "source": [
        "# 객체 생성 후 저장하기\n",
        "x = np.arange(0.0, 50.0, 1.0)\n",
        "print(x)\n",
        "np.savetxt('data.out', x, delimiter=',')"
      ],
      "execution_count": 2,
      "outputs": [
        {
          "output_type": "stream",
          "text": [
            "[ 0.  1.  2.  3.  4.  5.  6.  7.  8.  9. 10. 11. 12. 13. 14. 15. 16. 17.\n",
            " 18. 19. 20. 21. 22. 23. 24. 25. 26. 27. 28. 29. 30. 31. 32. 33. 34. 35.\n",
            " 36. 37. 38. 39. 40. 41. 42. 43. 44. 45. 46. 47. 48. 49.]\n"
          ],
          "name": "stdout"
        }
      ]
    },
    {
      "cell_type": "code",
      "metadata": {
        "colab": {
          "base_uri": "https://localhost:8080/"
        },
        "id": "RyCIC6_iN0fY",
        "outputId": "6bcaf97e-1dfa-4d84-a5bb-71cca33f652a"
      },
      "source": [
        "!ls"
      ],
      "execution_count": 3,
      "outputs": [
        {
          "output_type": "stream",
          "text": [
            "data.out  sample_data\n"
          ],
          "name": "stdout"
        }
      ]
    },
    {
      "cell_type": "markdown",
      "metadata": {
        "id": "QLysTBF1N19C"
      },
      "source": [
        "- 현재 폴더에 `data.out` 파일이 생성된 것을 확인할 수 있다."
      ]
    },
    {
      "cell_type": "code",
      "metadata": {
        "colab": {
          "base_uri": "https://localhost:8080/"
        },
        "id": "5wMU-CsZN4BB",
        "outputId": "1aed2fa9-837a-4cfa-ad04-4a18e5055585"
      },
      "source": [
        "# `data.out` 불러오기\n",
        "z = np.loadtxt('data.out', unpack=True)\n",
        "print(z)"
      ],
      "execution_count": 4,
      "outputs": [
        {
          "output_type": "stream",
          "text": [
            "[ 0.  1.  2.  3.  4.  5.  6.  7.  8.  9. 10. 11. 12. 13. 14. 15. 16. 17.\n",
            " 18. 19. 20. 21. 22. 23. 24. 25. 26. 27. 28. 29. 30. 31. 32. 33. 34. 35.\n",
            " 36. 37. 38. 39. 40. 41. 42. 43. 44. 45. 46. 47. 48. 49.]\n"
          ],
          "name": "stdout"
        }
      ]
    },
    {
      "cell_type": "markdown",
      "metadata": {
        "id": "RPxLaYXVN83G"
      },
      "source": [
        "- 정상적으로 `data.out`을 불러와서 `z`객체에 저장된 것을 확인할 수 있다."
      ]
    },
    {
      "cell_type": "code",
      "metadata": {
        "colab": {
          "base_uri": "https://localhost:8080/"
        },
        "id": "rE8_ER9wN-rK",
        "outputId": "1732c955-471c-4562-c96d-ad76d34061ea"
      },
      "source": [
        "# genfromtxt 활용\n",
        "my_array2 = np.genfromtxt('data.out', \n",
        "                          skip_header=1, \n",
        "                          filling_values=-999)\n",
        "print(my_array2)"
      ],
      "execution_count": 5,
      "outputs": [
        {
          "output_type": "stream",
          "text": [
            "[ 1.  2.  3.  4.  5.  6.  7.  8.  9. 10. 11. 12. 13. 14. 15. 16. 17. 18.\n",
            " 19. 20. 21. 22. 23. 24. 25. 26. 27. 28. 29. 30. 31. 32. 33. 34. 35. 36.\n",
            " 37. 38. 39. 40. 41. 42. 43. 44. 45. 46. 47. 48. 49.]\n"
          ],
          "name": "stdout"
        }
      ]
    },
    {
      "cell_type": "markdown",
      "metadata": {
        "id": "PI4KnaW9OPl6"
      },
      "source": [
        "- `z`객체와 마찬가지로 `my_array2`도 객체가 정상적으로 생성된 것을 확인할 수 있다.\n",
        "\n",
        "- `loadtxt`와 `genfromtxt`의 차이점이 있기는 하다. 결론부터 말하면, `genfromtxt`가 다양한 옵션을 제공한다. 간단한 예를 들면, `genfromtxt`의 경우 열들의 자료형을 자동으로 결정해주어 사용자들이 좀 더 편안하게 사용할 수 있도록 도와준다 (Clinton, 2016, p. 281-2)."
      ]
    },
    {
      "cell_type": "markdown",
      "metadata": {
        "id": "aSNncURZPXw9"
      },
      "source": [
        "## (2) 2차원 배열 Inspection\n",
        "- `ndim`, `size`, `flags`, `itemsize`, `nbytes`를 활용하여 배열의 정보를 획득한다.\n",
        "- 특히, 딥러닝 모형 정의 및 학습할 때, NumPy 배열 에러 등이 종종 발생하기 때문에 기본 개념은 학습하는 것을 추천한다."
      ]
    },
    {
      "cell_type": "code",
      "metadata": {
        "colab": {
          "base_uri": "https://localhost:8080/"
        },
        "id": "Z0TD53LJOSXQ",
        "outputId": "4e3a1a5b-7643-40c3-d444-3d8fac67c901"
      },
      "source": [
        "my2D_Array = np.array([[1,2,3,4], [2,4,6,8], [3,6,9,12]])\n",
        "print(my2D_Array)"
      ],
      "execution_count": 6,
      "outputs": [
        {
          "output_type": "stream",
          "text": [
            "[[ 1  2  3  4]\n",
            " [ 2  4  6  8]\n",
            " [ 3  6  9 12]]\n"
          ],
          "name": "stdout"
        }
      ]
    },
    {
      "cell_type": "code",
      "metadata": {
        "colab": {
          "base_uri": "https://localhost:8080/"
        },
        "id": "iVZOI517PzKj",
        "outputId": "4d0d9f11-9f93-4d8f-b263-b7ff592b95fc"
      },
      "source": [
        "# ndim (차원의 수)\n",
        "print(my2D_Array.ndim)"
      ],
      "execution_count": 7,
      "outputs": [
        {
          "output_type": "stream",
          "text": [
            "2\n"
          ],
          "name": "stdout"
        }
      ]
    },
    {
      "cell_type": "code",
      "metadata": {
        "colab": {
          "base_uri": "https://localhost:8080/"
        },
        "id": "DLWoYP9yP1px",
        "outputId": "ed929584-7f1c-41cb-d864-ecd8f7807aa9"
      },
      "source": [
        "# size (각 item의 개수를 의미)\n",
        "print(my2D_Array.size)"
      ],
      "execution_count": 8,
      "outputs": [
        {
          "output_type": "stream",
          "text": [
            "12\n"
          ],
          "name": "stdout"
        }
      ]
    },
    {
      "cell_type": "code",
      "metadata": {
        "colab": {
          "base_uri": "https://localhost:8080/"
        },
        "id": "ZSHUWhd_QHhe",
        "outputId": "8b0e0920-3794-43f6-87e9-9fe91f038481"
      },
      "source": [
        "# 2차원 배열의 memory layout 확인 \n",
        "print(my2D_Array.flags)"
      ],
      "execution_count": 9,
      "outputs": [
        {
          "output_type": "stream",
          "text": [
            "  C_CONTIGUOUS : True\n",
            "  F_CONTIGUOUS : False\n",
            "  OWNDATA : True\n",
            "  WRITEABLE : True\n",
            "  ALIGNED : True\n",
            "  WRITEBACKIFCOPY : False\n",
            "  UPDATEIFCOPY : False\n",
            "\n"
          ],
          "name": "stdout"
        }
      ]
    },
    {
      "cell_type": "code",
      "metadata": {
        "colab": {
          "base_uri": "https://localhost:8080/"
        },
        "id": "VTfpvweNQHbw",
        "outputId": "4ea09577-6f3b-4254-9046-944a1cd81da6"
      },
      "source": [
        "# 1차원의 길이 in bytes (예. 숫자는 2bytes)\n",
        "print(my2D_Array.itemsize)"
      ],
      "execution_count": 10,
      "outputs": [
        {
          "output_type": "stream",
          "text": [
            "8\n"
          ],
          "name": "stdout"
        }
      ]
    },
    {
      "cell_type": "code",
      "metadata": {
        "colab": {
          "base_uri": "https://localhost:8080/"
        },
        "id": "ewI64bGeQKYe",
        "outputId": "e1f15463-1e8e-4896-ed4d-bad92603af47"
      },
      "source": [
        "# 전체 bytes\n",
        "print(my2D_Array.nbytes)"
      ],
      "execution_count": 11,
      "outputs": [
        {
          "output_type": "stream",
          "text": [
            "96\n"
          ],
          "name": "stdout"
        }
      ]
    },
    {
      "cell_type": "markdown",
      "metadata": {
        "id": "8fMqNi5XQNZ5"
      },
      "source": [
        "# Broadcasting(=브로드 캐스팅)\n",
        "\n",
        "- 브로드캐스팅(Broadcasting)은 모양이 다른 배열들 간의 사칙연산도 가능하게끔 도와주는 일종의 mechanism이다. 그런데, 여기에는 기본적인 Rule이 있다."
      ]
    },
    {
      "cell_type": "markdown",
      "metadata": {
        "id": "CcqJ-8pJQVe_"
      },
      "source": [
        "## (1) Rule 1. Eqaul Dimensions between A and B\n",
        "- 우선 모양이 같은 A와 B NumPy 객체를 생성한다.\n",
        "- A + B를 연산하여 출력한다."
      ]
    },
    {
      "cell_type": "code",
      "metadata": {
        "colab": {
          "base_uri": "https://localhost:8080/"
        },
        "id": "qw1LJtu8QMh_",
        "outputId": "a7ac7a50-52f2-450e-d828-9ffc09f41e3f"
      },
      "source": [
        "# A 객체\n",
        "A = np.ones((5,3))\n",
        "print(A)\n",
        "print(A.shape)"
      ],
      "execution_count": 12,
      "outputs": [
        {
          "output_type": "stream",
          "text": [
            "[[1. 1. 1.]\n",
            " [1. 1. 1.]\n",
            " [1. 1. 1.]\n",
            " [1. 1. 1.]\n",
            " [1. 1. 1.]]\n",
            "(5, 3)\n"
          ],
          "name": "stdout"
        }
      ]
    },
    {
      "cell_type": "code",
      "metadata": {
        "colab": {
          "base_uri": "https://localhost:8080/"
        },
        "id": "yrqXppW8RAL3",
        "outputId": "2b06b2d5-2176-49b2-dd54-da2cc2ddc0f3"
      },
      "source": [
        "# B 객체\n",
        "B = np.random.random((5,3))\n",
        "print(B)\n",
        "print(B.shape)"
      ],
      "execution_count": 13,
      "outputs": [
        {
          "output_type": "stream",
          "text": [
            "[[0.235073   0.8136112  0.45680428]\n",
            " [0.5772974  0.94320458 0.76099305]\n",
            " [0.63310807 0.11558155 0.91393433]\n",
            " [0.1004616  0.41683365 0.83358061]\n",
            " [0.26939634 0.73924856 0.34511621]]\n",
            "(5, 3)\n"
          ],
          "name": "stdout"
        }
      ]
    },
    {
      "cell_type": "code",
      "metadata": {
        "colab": {
          "base_uri": "https://localhost:8080/"
        },
        "id": "IdVMTMi0RCfe",
        "outputId": "c78ebe16-5c05-457f-9e91-07c606a12a37"
      },
      "source": [
        "print(A+B)"
      ],
      "execution_count": 14,
      "outputs": [
        {
          "output_type": "stream",
          "text": [
            "[[1.235073   1.8136112  1.45680428]\n",
            " [1.5772974  1.94320458 1.76099305]\n",
            " [1.63310807 1.11558155 1.91393433]\n",
            " [1.1004616  1.41683365 1.83358061]\n",
            " [1.26939634 1.73924856 1.34511621]]\n"
          ],
          "name": "stdout"
        }
      ]
    },
    {
      "cell_type": "markdown",
      "metadata": {
        "id": "Sw9wCSwnRQOy"
      },
      "source": [
        "## (2) Rule 2. Compatible Dimensions when one of them is 1\n",
        "\n",
        "- 이번에는 X와 Y 객체를 생성하고 shape를 통해 차원이 어떻게 다른지 확인한다."
      ]
    },
    {
      "cell_type": "code",
      "metadata": {
        "colab": {
          "base_uri": "https://localhost:8080/"
        },
        "id": "IwSJ2wkeRWxR",
        "outputId": "82889a9a-99ad-4625-db77-88075128b689"
      },
      "source": [
        "x = np.ones((3,4))\n",
        "print(x)\n",
        "print(x.shape)"
      ],
      "execution_count": 15,
      "outputs": [
        {
          "output_type": "stream",
          "text": [
            "[[1. 1. 1. 1.]\n",
            " [1. 1. 1. 1.]\n",
            " [1. 1. 1. 1.]]\n",
            "(3, 4)\n"
          ],
          "name": "stdout"
        }
      ]
    },
    {
      "cell_type": "code",
      "metadata": {
        "colab": {
          "base_uri": "https://localhost:8080/"
        },
        "id": "WsZc6h3AR5a4",
        "outputId": "cca5fb68-a3e8-4dab-9c7e-ccbadad242b9"
      },
      "source": [
        "y = np.arange(4)\n",
        "print(y)\n",
        "print(y.shape)"
      ],
      "execution_count": 16,
      "outputs": [
        {
          "output_type": "stream",
          "text": [
            "[0 1 2 3]\n",
            "(4,)\n"
          ],
          "name": "stdout"
        }
      ]
    },
    {
      "cell_type": "code",
      "metadata": {
        "colab": {
          "base_uri": "https://localhost:8080/"
        },
        "id": "V8Xe97E2d2eM",
        "outputId": "c86af4be-dbf0-4575-c382-4224141c13d8"
      },
      "source": [
        "# 뺄셈 연산 수행 (x-y)\n",
        "print(x-y)"
      ],
      "execution_count": 17,
      "outputs": [
        {
          "output_type": "stream",
          "text": [
            "[[ 1.  0. -1. -2.]\n",
            " [ 1.  0. -1. -2.]\n",
            " [ 1.  0. -1. -2.]]\n"
          ],
          "name": "stdout"
        }
      ]
    },
    {
      "cell_type": "markdown",
      "metadata": {
        "id": "GZA0lBMhd4Hg"
      },
      "source": [
        "- 위 코드에서 중요한 것은 숫자 4이다. 즉, 1차원 길이가 다르면 연산은 에러가 발생한다.\n",
        "- y의 숫자 4 대신 5를 대입해서 적용해보자."
      ]
    },
    {
      "cell_type": "code",
      "metadata": {
        "colab": {
          "base_uri": "https://localhost:8080/",
          "height": 204
        },
        "id": "bQ0rjlaNd62r",
        "outputId": "4990b190-bc2c-47bc-c188-64a2513f1f8a"
      },
      "source": [
        "x = np.ones((3,4))\n",
        "y = np.arange(5)\n",
        "print(x-y)"
      ],
      "execution_count": 18,
      "outputs": [
        {
          "output_type": "error",
          "ename": "ValueError",
          "evalue": "ignored",
          "traceback": [
            "\u001b[0;31m---------------------------------------------------------------------------\u001b[0m",
            "\u001b[0;31mValueError\u001b[0m                                Traceback (most recent call last)",
            "\u001b[0;32m<ipython-input-18-d91ef8252b95>\u001b[0m in \u001b[0;36m<module>\u001b[0;34m()\u001b[0m\n\u001b[1;32m      1\u001b[0m \u001b[0mx\u001b[0m \u001b[0;34m=\u001b[0m \u001b[0mnp\u001b[0m\u001b[0;34m.\u001b[0m\u001b[0mones\u001b[0m\u001b[0;34m(\u001b[0m\u001b[0;34m(\u001b[0m\u001b[0;36m3\u001b[0m\u001b[0;34m,\u001b[0m\u001b[0;36m4\u001b[0m\u001b[0;34m)\u001b[0m\u001b[0;34m)\u001b[0m\u001b[0;34m\u001b[0m\u001b[0;34m\u001b[0m\u001b[0m\n\u001b[1;32m      2\u001b[0m \u001b[0my\u001b[0m \u001b[0;34m=\u001b[0m \u001b[0mnp\u001b[0m\u001b[0;34m.\u001b[0m\u001b[0marange\u001b[0m\u001b[0;34m(\u001b[0m\u001b[0;36m5\u001b[0m\u001b[0;34m)\u001b[0m\u001b[0;34m\u001b[0m\u001b[0;34m\u001b[0m\u001b[0m\n\u001b[0;32m----> 3\u001b[0;31m \u001b[0mprint\u001b[0m\u001b[0;34m(\u001b[0m\u001b[0mx\u001b[0m\u001b[0;34m-\u001b[0m\u001b[0my\u001b[0m\u001b[0;34m)\u001b[0m\u001b[0;34m\u001b[0m\u001b[0;34m\u001b[0m\u001b[0m\n\u001b[0m",
            "\u001b[0;31mValueError\u001b[0m: operands could not be broadcast together with shapes (3,4) (5,) "
          ]
        }
      ]
    },
    {
      "cell_type": "markdown",
      "metadata": {
        "id": "D7986Ik8d-RV"
      },
      "source": [
        "- 위 에러 문구(operands could not be broadcast together with shapes (3,4) (5,))에서 확인 할 수 있는 것처럼 1차원 길이가 다르면 에러가 발생한다."
      ]
    },
    {
      "cell_type": "markdown",
      "metadata": {
        "id": "VQPwjVKEd_zN"
      },
      "source": [
        "## (3) Rule 3. Compatitble in all of the dimensions\n",
        "- 이번에는 서로 다른 모양의 객체를 확인한다.\n",
        "- 그리고 덧셈을 수행해보자."
      ]
    },
    {
      "cell_type": "code",
      "metadata": {
        "colab": {
          "base_uri": "https://localhost:8080/"
        },
        "id": "SrdtLJ5LeEwr",
        "outputId": "79fb4a8c-6b7a-4592-ef9b-08f865322170"
      },
      "source": [
        "x = np.ones((6,5))\n",
        "print(x)\n",
        "print(x.shape)"
      ],
      "execution_count": 19,
      "outputs": [
        {
          "output_type": "stream",
          "text": [
            "[[1. 1. 1. 1. 1.]\n",
            " [1. 1. 1. 1. 1.]\n",
            " [1. 1. 1. 1. 1.]\n",
            " [1. 1. 1. 1. 1.]\n",
            " [1. 1. 1. 1. 1.]\n",
            " [1. 1. 1. 1. 1.]]\n",
            "(6, 5)\n"
          ],
          "name": "stdout"
        }
      ]
    },
    {
      "cell_type": "code",
      "metadata": {
        "colab": {
          "base_uri": "https://localhost:8080/"
        },
        "id": "5tRu0tcGeGxe",
        "outputId": "34981898-2457-4644-f472-8aff5682a8c4"
      },
      "source": [
        "y = np.random.random((3, 1, 5))\n",
        "print(y)\n",
        "print(y.shape)"
      ],
      "execution_count": 20,
      "outputs": [
        {
          "output_type": "stream",
          "text": [
            "[[[0.36993111 0.57054523 0.3862333  0.71433547 0.65219714]]\n",
            "\n",
            " [[0.21984544 0.71155734 0.3055025  0.50731473 0.39183974]]\n",
            "\n",
            " [[0.06131    0.42006409 0.42250123 0.19589596 0.94938726]]]\n",
            "(3, 1, 5)\n"
          ],
          "name": "stdout"
        }
      ]
    },
    {
      "cell_type": "code",
      "metadata": {
        "colab": {
          "base_uri": "https://localhost:8080/"
        },
        "id": "rvAZGU8weIOL",
        "outputId": "136c65bf-0ad4-44c0-9a95-c12f9f86446e"
      },
      "source": [
        "print(x+y)"
      ],
      "execution_count": 21,
      "outputs": [
        {
          "output_type": "stream",
          "text": [
            "[[[1.36993111 1.57054523 1.3862333  1.71433547 1.65219714]\n",
            "  [1.36993111 1.57054523 1.3862333  1.71433547 1.65219714]\n",
            "  [1.36993111 1.57054523 1.3862333  1.71433547 1.65219714]\n",
            "  [1.36993111 1.57054523 1.3862333  1.71433547 1.65219714]\n",
            "  [1.36993111 1.57054523 1.3862333  1.71433547 1.65219714]\n",
            "  [1.36993111 1.57054523 1.3862333  1.71433547 1.65219714]]\n",
            "\n",
            " [[1.21984544 1.71155734 1.3055025  1.50731473 1.39183974]\n",
            "  [1.21984544 1.71155734 1.3055025  1.50731473 1.39183974]\n",
            "  [1.21984544 1.71155734 1.3055025  1.50731473 1.39183974]\n",
            "  [1.21984544 1.71155734 1.3055025  1.50731473 1.39183974]\n",
            "  [1.21984544 1.71155734 1.3055025  1.50731473 1.39183974]\n",
            "  [1.21984544 1.71155734 1.3055025  1.50731473 1.39183974]]\n",
            "\n",
            " [[1.06131    1.42006409 1.42250123 1.19589596 1.94938726]\n",
            "  [1.06131    1.42006409 1.42250123 1.19589596 1.94938726]\n",
            "  [1.06131    1.42006409 1.42250123 1.19589596 1.94938726]\n",
            "  [1.06131    1.42006409 1.42250123 1.19589596 1.94938726]\n",
            "  [1.06131    1.42006409 1.42250123 1.19589596 1.94938726]\n",
            "  [1.06131    1.42006409 1.42250123 1.19589596 1.94938726]]]\n"
          ],
          "name": "stdout"
        }
      ]
    },
    {
      "cell_type": "markdown",
      "metadata": {
        "id": "BJyLrohVeKgL"
      },
      "source": [
        "만약에 여기에서 y 값을 (3,2,5) 또는 (3,1,6)으로 바꾸면 어떻게 될까?"
      ]
    },
    {
      "cell_type": "code",
      "metadata": {
        "colab": {
          "base_uri": "https://localhost:8080/",
          "height": 134
        },
        "id": "Zh5ZtsnleKPM",
        "outputId": "08b791c9-b0a4-4821-a6c3-5817dfd09331"
      },
      "source": [
        "[[[0.95042186 0.52979398 0.30549682 0.93579665 0.03784094]\n",
        "  [0.27023327 0.19952522 0.68376492 0.11982131 0.45394735]]\n",
        "\n",
        " [[0.69797278 0.85359121 0.01493669 0.06111047 0.25285451]\n",
        "  [0.57293653 0.28453573 0.18296577 0.12696192 0.28530794]]\n",
        "\n",
        " [[0.75410798 0.88487199 0.78635143 0.05059668 0.48753369]\n",
        "  [0.65395856 0.74907103 0.47013049 0.14938089 0.36961655]]]\n",
        "(3, 2, 5)"
      ],
      "execution_count": 22,
      "outputs": [
        {
          "output_type": "error",
          "ename": "SyntaxError",
          "evalue": "ignored",
          "traceback": [
            "\u001b[0;36m  File \u001b[0;32m\"<ipython-input-22-c2de2efd08bc>\"\u001b[0;36m, line \u001b[0;32m1\u001b[0m\n\u001b[0;31m    [[[0.95042186 0.52979398 0.30549682 0.93579665 0.03784094]\u001b[0m\n\u001b[0m                           ^\u001b[0m\n\u001b[0;31mSyntaxError\u001b[0m\u001b[0;31m:\u001b[0m invalid syntax\n"
          ]
        }
      ]
    },
    {
      "cell_type": "markdown",
      "metadata": {
        "id": "L_3ctxpbeOfk"
      },
      "source": [
        "- 에러가 나는 것을 확인할 수 있다.\n",
        "- 왜 에러가 날까? x의 2차원 배열의 숫자가 앞에 6으로 되어 있기 때문이다.\n",
        "- y값은 그대로 놔둔채, x의 값 6 대신 2로 바꿔주고 덧셈을 하면 성공적으로 연산이 수행됨을 알 수 있다."
      ]
    },
    {
      "cell_type": "code",
      "metadata": {
        "colab": {
          "base_uri": "https://localhost:8080/"
        },
        "id": "RkB458GXeOBL",
        "outputId": "947eb0d1-6cb6-4c6a-8810-2cb8caee64ba"
      },
      "source": [
        "x = np.ones((2,5))\n",
        "print(x)\n",
        "print(x.shape)"
      ],
      "execution_count": 23,
      "outputs": [
        {
          "output_type": "stream",
          "text": [
            "[[1. 1. 1. 1. 1.]\n",
            " [1. 1. 1. 1. 1.]]\n",
            "(2, 5)\n"
          ],
          "name": "stdout"
        }
      ]
    },
    {
      "cell_type": "code",
      "metadata": {
        "colab": {
          "base_uri": "https://localhost:8080/"
        },
        "id": "ZwWgR1BgeS14",
        "outputId": "53bce27f-2315-45a2-c829-25246526a89c"
      },
      "source": [
        "print(x+y)"
      ],
      "execution_count": 24,
      "outputs": [
        {
          "output_type": "stream",
          "text": [
            "[[[1.36993111 1.57054523 1.3862333  1.71433547 1.65219714]\n",
            "  [1.36993111 1.57054523 1.3862333  1.71433547 1.65219714]]\n",
            "\n",
            " [[1.21984544 1.71155734 1.3055025  1.50731473 1.39183974]\n",
            "  [1.21984544 1.71155734 1.3055025  1.50731473 1.39183974]]\n",
            "\n",
            " [[1.06131    1.42006409 1.42250123 1.19589596 1.94938726]\n",
            "  [1.06131    1.42006409 1.42250123 1.19589596 1.94938726]]]\n"
          ],
          "name": "stdout"
        }
      ]
    },
    {
      "cell_type": "markdown",
      "metadata": {
        "id": "D3eNO_LoeUpL"
      },
      "source": [
        "# 결론\n",
        "- 머신러닝 & 딥러닝을 수행할 때, NumPy을 활용한 객체 생성은 매우 빈번하다.\n",
        "- 대부분은 서로 다른 차원으로 인해 연산 오류가 자주 발생하는데, 이 때 Broadcasting의 개념을 알고 있으면 연산 오류를 줄일 수 있다."
      ]
    },
    {
      "cell_type": "markdown",
      "metadata": {
        "id": "9f1oKF-qeaFs"
      },
      "source": [
        "# Reference\n",
        "Brownley, Clinton W. Foundations for Analytics with Python. O’Reilly Media, Inc., 2016.\n",
        "\n",
        "Mukhiya, Suresh Kumar, and Usman Ahmed. “Hands-On Exploratory Data Analysis with Python.” Packt Publishing, Mar. 2020, www.packtpub.com/data/hands-on-exploratory-data-analysis-with-python."
      ]
    }
  ]
}