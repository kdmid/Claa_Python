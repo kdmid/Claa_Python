{
  "nbformat": 4,
  "nbformat_minor": 0,
  "metadata": {
    "colab": {
      "name": "Pandas_10minutes_practice.ipynb",
      "provenance": [],
      "toc_visible": true,
      "authorship_tag": "ABX9TyOuLCAE28ZiiZlL43xGOafg",
      "include_colab_link": true
    },
    "kernelspec": {
      "name": "python3",
      "display_name": "Python 3"
    }
  },
  "cells": [
    {
      "cell_type": "markdown",
      "metadata": {
        "id": "view-in-github",
        "colab_type": "text"
      },
      "source": [
        "<a href=\"https://colab.research.google.com/github/kdmid/Class_Python/blob/main/Pandas/Pandas_10minutes_practice.ipynb\" target=\"_parent\"><img src=\"https://colab.research.google.com/assets/colab-badge.svg\" alt=\"Open In Colab\"/></a>"
      ]
    },
    {
      "cell_type": "code",
      "metadata": {
        "id": "InSw-EvL4JM6"
      },
      "source": [
        "import pandas as pd\n",
        "import numpy as np\n",
        "import matplotlib.pyplot as plt"
      ],
      "execution_count": null,
      "outputs": []
    },
    {
      "cell_type": "markdown",
      "metadata": {
        "id": "qmqU0yRe4rZP"
      },
      "source": [
        "# 1. Object Creation (객체 생성)"
      ]
    },
    {
      "cell_type": "markdown",
      "metadata": {
        "id": "NCNsZeUE2peK"
      },
      "source": [
        "[데이터 구조 소개 섹션](https://pandas.pydata.org/pandas-docs/stable/user_guide/dsintro.html)을 참조하세요.\n",
        "\n",
        "Pandas는 값을 가지고 있는 리스트를 통해 [Series](https://pandas.pydata.org/pandas-docs/stable/reference/api/pandas.Series.html)를 만들고, 정수로 만들어진 인덱스를 기본값으로 불러올 것입니다."
      ]
    },
    {
      "cell_type": "code",
      "metadata": {
        "id": "_GqtyBZR4ocI",
        "outputId": "ec4c8331-f6d5-4fa2-90dc-0a7b99585fda",
        "colab": {
          "base_uri": "https://localhost:8080/"
        }
      },
      "source": [
        "s = pd.Series([1,3,5,np.nan,6,8])\n",
        "s"
      ],
      "execution_count": null,
      "outputs": [
        {
          "output_type": "execute_result",
          "data": {
            "text/plain": [
              "0    1.0\n",
              "1    3.0\n",
              "2    5.0\n",
              "3    NaN\n",
              "4    6.0\n",
              "5    8.0\n",
              "dtype: float64"
            ]
          },
          "metadata": {
            "tags": []
          },
          "execution_count": 2
        }
      ]
    },
    {
      "cell_type": "code",
      "metadata": {
        "id": "uiNZT-bx4-9q",
        "outputId": "70a78f48-b9b2-46db-ff88-9d1d52b5af98",
        "colab": {
          "base_uri": "https://localhost:8080/"
        }
      },
      "source": [
        "dates = pd.date_range('20130103', periods=7)\n",
        "dates"
      ],
      "execution_count": null,
      "outputs": [
        {
          "output_type": "execute_result",
          "data": {
            "text/plain": [
              "DatetimeIndex(['2013-01-03', '2013-01-04', '2013-01-05', '2013-01-06',\n",
              "               '2013-01-07', '2013-01-08', '2013-01-09'],\n",
              "              dtype='datetime64[ns]', freq='D')"
            ]
          },
          "metadata": {
            "tags": []
          },
          "execution_count": 5
        }
      ]
    },
    {
      "cell_type": "code",
      "metadata": {
        "id": "sh6yL4jF5GQW",
        "outputId": "f98ef664-8b35-4d0d-dbf7-f0b87ef51db9",
        "colab": {
          "base_uri": "https://localhost:8080/",
          "height": 254
        }
      },
      "source": [
        "df = pd.DataFrame(np.random.randn(7,4), index=dates, columns=list('ABCD'))\n",
        "df"
      ],
      "execution_count": null,
      "outputs": [
        {
          "output_type": "execute_result",
          "data": {
            "text/html": [
              "<div>\n",
              "<style scoped>\n",
              "    .dataframe tbody tr th:only-of-type {\n",
              "        vertical-align: middle;\n",
              "    }\n",
              "\n",
              "    .dataframe tbody tr th {\n",
              "        vertical-align: top;\n",
              "    }\n",
              "\n",
              "    .dataframe thead th {\n",
              "        text-align: right;\n",
              "    }\n",
              "</style>\n",
              "<table border=\"1\" class=\"dataframe\">\n",
              "  <thead>\n",
              "    <tr style=\"text-align: right;\">\n",
              "      <th></th>\n",
              "      <th>A</th>\n",
              "      <th>B</th>\n",
              "      <th>C</th>\n",
              "      <th>D</th>\n",
              "    </tr>\n",
              "  </thead>\n",
              "  <tbody>\n",
              "    <tr>\n",
              "      <th>2013-01-03</th>\n",
              "      <td>-0.709641</td>\n",
              "      <td>0.170795</td>\n",
              "      <td>-0.956588</td>\n",
              "      <td>-0.419814</td>\n",
              "    </tr>\n",
              "    <tr>\n",
              "      <th>2013-01-04</th>\n",
              "      <td>-0.689704</td>\n",
              "      <td>-1.596913</td>\n",
              "      <td>-0.906824</td>\n",
              "      <td>-0.677624</td>\n",
              "    </tr>\n",
              "    <tr>\n",
              "      <th>2013-01-05</th>\n",
              "      <td>-1.956190</td>\n",
              "      <td>-1.838446</td>\n",
              "      <td>-0.558045</td>\n",
              "      <td>0.482557</td>\n",
              "    </tr>\n",
              "    <tr>\n",
              "      <th>2013-01-06</th>\n",
              "      <td>1.876946</td>\n",
              "      <td>1.593526</td>\n",
              "      <td>0.717020</td>\n",
              "      <td>-0.107409</td>\n",
              "    </tr>\n",
              "    <tr>\n",
              "      <th>2013-01-07</th>\n",
              "      <td>-0.703784</td>\n",
              "      <td>-0.505800</td>\n",
              "      <td>0.078013</td>\n",
              "      <td>1.771567</td>\n",
              "    </tr>\n",
              "    <tr>\n",
              "      <th>2013-01-08</th>\n",
              "      <td>-1.217701</td>\n",
              "      <td>2.025393</td>\n",
              "      <td>-0.557288</td>\n",
              "      <td>-0.415036</td>\n",
              "    </tr>\n",
              "    <tr>\n",
              "      <th>2013-01-09</th>\n",
              "      <td>0.180839</td>\n",
              "      <td>-0.102756</td>\n",
              "      <td>0.981322</td>\n",
              "      <td>0.086617</td>\n",
              "    </tr>\n",
              "  </tbody>\n",
              "</table>\n",
              "</div>"
            ],
            "text/plain": [
              "                   A         B         C         D\n",
              "2013-01-03 -0.709641  0.170795 -0.956588 -0.419814\n",
              "2013-01-04 -0.689704 -1.596913 -0.906824 -0.677624\n",
              "2013-01-05 -1.956190 -1.838446 -0.558045  0.482557\n",
              "2013-01-06  1.876946  1.593526  0.717020 -0.107409\n",
              "2013-01-07 -0.703784 -0.505800  0.078013  1.771567\n",
              "2013-01-08 -1.217701  2.025393 -0.557288 -0.415036\n",
              "2013-01-09  0.180839 -0.102756  0.981322  0.086617"
            ]
          },
          "metadata": {
            "tags": []
          },
          "execution_count": 7
        }
      ]
    },
    {
      "cell_type": "code",
      "metadata": {
        "id": "7Xk8WZ8D5Ozb",
        "outputId": "68cc061c-b1e3-4cc3-859f-39e160463a18",
        "colab": {
          "base_uri": "https://localhost:8080/",
          "height": 166
        }
      },
      "source": [
        "df2 = pd.DataFrame({'A' : 2.,\n",
        "                    'B' : pd.Timestamp('20130102'),\n",
        "                    'C' : pd.Series(1,index=list(range(4)),dtype='float32'),\n",
        "                    'D' : np.array([3] * 4,dtype='int32'),\n",
        "                    'E' : pd.Categorical([\"test\",\"train\",\"test\",\"train\"]),\n",
        "                    'F' : 'foo' })\n",
        "df2"
      ],
      "execution_count": null,
      "outputs": [
        {
          "output_type": "execute_result",
          "data": {
            "text/html": [
              "<div>\n",
              "<style scoped>\n",
              "    .dataframe tbody tr th:only-of-type {\n",
              "        vertical-align: middle;\n",
              "    }\n",
              "\n",
              "    .dataframe tbody tr th {\n",
              "        vertical-align: top;\n",
              "    }\n",
              "\n",
              "    .dataframe thead th {\n",
              "        text-align: right;\n",
              "    }\n",
              "</style>\n",
              "<table border=\"1\" class=\"dataframe\">\n",
              "  <thead>\n",
              "    <tr style=\"text-align: right;\">\n",
              "      <th></th>\n",
              "      <th>A</th>\n",
              "      <th>B</th>\n",
              "      <th>C</th>\n",
              "      <th>D</th>\n",
              "      <th>E</th>\n",
              "      <th>F</th>\n",
              "    </tr>\n",
              "  </thead>\n",
              "  <tbody>\n",
              "    <tr>\n",
              "      <th>0</th>\n",
              "      <td>2.0</td>\n",
              "      <td>2013-01-02</td>\n",
              "      <td>1.0</td>\n",
              "      <td>3</td>\n",
              "      <td>test</td>\n",
              "      <td>foo</td>\n",
              "    </tr>\n",
              "    <tr>\n",
              "      <th>1</th>\n",
              "      <td>2.0</td>\n",
              "      <td>2013-01-02</td>\n",
              "      <td>1.0</td>\n",
              "      <td>3</td>\n",
              "      <td>train</td>\n",
              "      <td>foo</td>\n",
              "    </tr>\n",
              "    <tr>\n",
              "      <th>2</th>\n",
              "      <td>2.0</td>\n",
              "      <td>2013-01-02</td>\n",
              "      <td>1.0</td>\n",
              "      <td>3</td>\n",
              "      <td>test</td>\n",
              "      <td>foo</td>\n",
              "    </tr>\n",
              "    <tr>\n",
              "      <th>3</th>\n",
              "      <td>2.0</td>\n",
              "      <td>2013-01-02</td>\n",
              "      <td>1.0</td>\n",
              "      <td>3</td>\n",
              "      <td>train</td>\n",
              "      <td>foo</td>\n",
              "    </tr>\n",
              "  </tbody>\n",
              "</table>\n",
              "</div>"
            ],
            "text/plain": [
              "     A          B    C  D      E    F\n",
              "0  2.0 2013-01-02  1.0  3   test  foo\n",
              "1  2.0 2013-01-02  1.0  3  train  foo\n",
              "2  2.0 2013-01-02  1.0  3   test  foo\n",
              "3  2.0 2013-01-02  1.0  3  train  foo"
            ]
          },
          "metadata": {
            "tags": []
          },
          "execution_count": 10
        }
      ]
    },
    {
      "cell_type": "code",
      "metadata": {
        "id": "hE94uE3W5wBF",
        "outputId": "43cb2c92-dfa7-4de4-85d4-7ccd575f00e4",
        "colab": {
          "base_uri": "https://localhost:8080/"
        }
      },
      "source": [
        "df2.dtypes"
      ],
      "execution_count": null,
      "outputs": [
        {
          "output_type": "execute_result",
          "data": {
            "text/plain": [
              "A           float64\n",
              "B    datetime64[ns]\n",
              "C           float32\n",
              "D             int32\n",
              "E          category\n",
              "F            object\n",
              "dtype: object"
            ]
          },
          "metadata": {
            "tags": []
          },
          "execution_count": 11
        }
      ]
    },
    {
      "cell_type": "markdown",
      "metadata": {
        "id": "KUEzUEz46C0P"
      },
      "source": [
        "# 2. Viewing Data (데이터 확인하기)"
      ]
    },
    {
      "cell_type": "markdown",
      "metadata": {
        "id": "N_yzWtxt2fYs"
      },
      "source": [
        "[Basic Section](https://pandas.pydata.org/pandas-docs/stable/user_guide/basics.html)을 참조하세요."
      ]
    },
    {
      "cell_type": "code",
      "metadata": {
        "id": "P6L3h7rW6EnH",
        "outputId": "092661e5-77a8-4bfb-a1e3-c8799399a6db",
        "colab": {
          "base_uri": "https://localhost:8080/",
          "height": 195
        }
      },
      "source": [
        "df.head() # 앞에서 마지막 5줄 불러옴"
      ],
      "execution_count": null,
      "outputs": [
        {
          "output_type": "execute_result",
          "data": {
            "text/html": [
              "<div>\n",
              "<style scoped>\n",
              "    .dataframe tbody tr th:only-of-type {\n",
              "        vertical-align: middle;\n",
              "    }\n",
              "\n",
              "    .dataframe tbody tr th {\n",
              "        vertical-align: top;\n",
              "    }\n",
              "\n",
              "    .dataframe thead th {\n",
              "        text-align: right;\n",
              "    }\n",
              "</style>\n",
              "<table border=\"1\" class=\"dataframe\">\n",
              "  <thead>\n",
              "    <tr style=\"text-align: right;\">\n",
              "      <th></th>\n",
              "      <th>A</th>\n",
              "      <th>B</th>\n",
              "      <th>C</th>\n",
              "      <th>D</th>\n",
              "    </tr>\n",
              "  </thead>\n",
              "  <tbody>\n",
              "    <tr>\n",
              "      <th>2013-01-03</th>\n",
              "      <td>-0.709641</td>\n",
              "      <td>0.170795</td>\n",
              "      <td>-0.956588</td>\n",
              "      <td>-0.419814</td>\n",
              "    </tr>\n",
              "    <tr>\n",
              "      <th>2013-01-04</th>\n",
              "      <td>-0.689704</td>\n",
              "      <td>-1.596913</td>\n",
              "      <td>-0.906824</td>\n",
              "      <td>-0.677624</td>\n",
              "    </tr>\n",
              "    <tr>\n",
              "      <th>2013-01-05</th>\n",
              "      <td>-1.956190</td>\n",
              "      <td>-1.838446</td>\n",
              "      <td>-0.558045</td>\n",
              "      <td>0.482557</td>\n",
              "    </tr>\n",
              "    <tr>\n",
              "      <th>2013-01-06</th>\n",
              "      <td>1.876946</td>\n",
              "      <td>1.593526</td>\n",
              "      <td>0.717020</td>\n",
              "      <td>-0.107409</td>\n",
              "    </tr>\n",
              "    <tr>\n",
              "      <th>2013-01-07</th>\n",
              "      <td>-0.703784</td>\n",
              "      <td>-0.505800</td>\n",
              "      <td>0.078013</td>\n",
              "      <td>1.771567</td>\n",
              "    </tr>\n",
              "  </tbody>\n",
              "</table>\n",
              "</div>"
            ],
            "text/plain": [
              "                   A         B         C         D\n",
              "2013-01-03 -0.709641  0.170795 -0.956588 -0.419814\n",
              "2013-01-04 -0.689704 -1.596913 -0.906824 -0.677624\n",
              "2013-01-05 -1.956190 -1.838446 -0.558045  0.482557\n",
              "2013-01-06  1.876946  1.593526  0.717020 -0.107409\n",
              "2013-01-07 -0.703784 -0.505800  0.078013  1.771567"
            ]
          },
          "metadata": {
            "tags": []
          },
          "execution_count": 14
        }
      ]
    },
    {
      "cell_type": "code",
      "metadata": {
        "id": "Gqz-MTqa6azx",
        "outputId": "18d3bd85-f74b-44f6-a61f-a5952a9ea980",
        "colab": {
          "base_uri": "https://localhost:8080/",
          "height": 195
        }
      },
      "source": [
        "df.tail() # 끝에서 마지막 5줄 불러옴 "
      ],
      "execution_count": null,
      "outputs": [
        {
          "output_type": "execute_result",
          "data": {
            "text/html": [
              "<div>\n",
              "<style scoped>\n",
              "    .dataframe tbody tr th:only-of-type {\n",
              "        vertical-align: middle;\n",
              "    }\n",
              "\n",
              "    .dataframe tbody tr th {\n",
              "        vertical-align: top;\n",
              "    }\n",
              "\n",
              "    .dataframe thead th {\n",
              "        text-align: right;\n",
              "    }\n",
              "</style>\n",
              "<table border=\"1\" class=\"dataframe\">\n",
              "  <thead>\n",
              "    <tr style=\"text-align: right;\">\n",
              "      <th></th>\n",
              "      <th>A</th>\n",
              "      <th>B</th>\n",
              "      <th>C</th>\n",
              "      <th>D</th>\n",
              "    </tr>\n",
              "  </thead>\n",
              "  <tbody>\n",
              "    <tr>\n",
              "      <th>2013-01-05</th>\n",
              "      <td>-1.956190</td>\n",
              "      <td>-1.838446</td>\n",
              "      <td>-0.558045</td>\n",
              "      <td>0.482557</td>\n",
              "    </tr>\n",
              "    <tr>\n",
              "      <th>2013-01-06</th>\n",
              "      <td>1.876946</td>\n",
              "      <td>1.593526</td>\n",
              "      <td>0.717020</td>\n",
              "      <td>-0.107409</td>\n",
              "    </tr>\n",
              "    <tr>\n",
              "      <th>2013-01-07</th>\n",
              "      <td>-0.703784</td>\n",
              "      <td>-0.505800</td>\n",
              "      <td>0.078013</td>\n",
              "      <td>1.771567</td>\n",
              "    </tr>\n",
              "    <tr>\n",
              "      <th>2013-01-08</th>\n",
              "      <td>-1.217701</td>\n",
              "      <td>2.025393</td>\n",
              "      <td>-0.557288</td>\n",
              "      <td>-0.415036</td>\n",
              "    </tr>\n",
              "    <tr>\n",
              "      <th>2013-01-09</th>\n",
              "      <td>0.180839</td>\n",
              "      <td>-0.102756</td>\n",
              "      <td>0.981322</td>\n",
              "      <td>0.086617</td>\n",
              "    </tr>\n",
              "  </tbody>\n",
              "</table>\n",
              "</div>"
            ],
            "text/plain": [
              "                   A         B         C         D\n",
              "2013-01-05 -1.956190 -1.838446 -0.558045  0.482557\n",
              "2013-01-06  1.876946  1.593526  0.717020 -0.107409\n",
              "2013-01-07 -0.703784 -0.505800  0.078013  1.771567\n",
              "2013-01-08 -1.217701  2.025393 -0.557288 -0.415036\n",
              "2013-01-09  0.180839 -0.102756  0.981322  0.086617"
            ]
          },
          "metadata": {
            "tags": []
          },
          "execution_count": 15
        }
      ]
    },
    {
      "cell_type": "code",
      "metadata": {
        "id": "1oKgzY1V6OBH",
        "outputId": "0fec6f97-23dd-476c-bab3-567c96a12e0d",
        "colab": {
          "base_uri": "https://localhost:8080/",
          "height": 136
        }
      },
      "source": [
        "df.tail(3) # 끝에서 마지막 3줄을 불러옴"
      ],
      "execution_count": null,
      "outputs": [
        {
          "output_type": "execute_result",
          "data": {
            "text/html": [
              "<div>\n",
              "<style scoped>\n",
              "    .dataframe tbody tr th:only-of-type {\n",
              "        vertical-align: middle;\n",
              "    }\n",
              "\n",
              "    .dataframe tbody tr th {\n",
              "        vertical-align: top;\n",
              "    }\n",
              "\n",
              "    .dataframe thead th {\n",
              "        text-align: right;\n",
              "    }\n",
              "</style>\n",
              "<table border=\"1\" class=\"dataframe\">\n",
              "  <thead>\n",
              "    <tr style=\"text-align: right;\">\n",
              "      <th></th>\n",
              "      <th>A</th>\n",
              "      <th>B</th>\n",
              "      <th>C</th>\n",
              "      <th>D</th>\n",
              "    </tr>\n",
              "  </thead>\n",
              "  <tbody>\n",
              "    <tr>\n",
              "      <th>2013-01-07</th>\n",
              "      <td>-0.703784</td>\n",
              "      <td>-0.505800</td>\n",
              "      <td>0.078013</td>\n",
              "      <td>1.771567</td>\n",
              "    </tr>\n",
              "    <tr>\n",
              "      <th>2013-01-08</th>\n",
              "      <td>-1.217701</td>\n",
              "      <td>2.025393</td>\n",
              "      <td>-0.557288</td>\n",
              "      <td>-0.415036</td>\n",
              "    </tr>\n",
              "    <tr>\n",
              "      <th>2013-01-09</th>\n",
              "      <td>0.180839</td>\n",
              "      <td>-0.102756</td>\n",
              "      <td>0.981322</td>\n",
              "      <td>0.086617</td>\n",
              "    </tr>\n",
              "  </tbody>\n",
              "</table>\n",
              "</div>"
            ],
            "text/plain": [
              "                   A         B         C         D\n",
              "2013-01-07 -0.703784 -0.505800  0.078013  1.771567\n",
              "2013-01-08 -1.217701  2.025393 -0.557288 -0.415036\n",
              "2013-01-09  0.180839 -0.102756  0.981322  0.086617"
            ]
          },
          "metadata": {
            "tags": []
          },
          "execution_count": 13
        }
      ]
    },
    {
      "cell_type": "code",
      "metadata": {
        "id": "F65iDRkH6odm",
        "outputId": "350ecc9a-d30f-435e-c265-760274b873c3",
        "colab": {
          "base_uri": "https://localhost:8080/"
        }
      },
      "source": [
        "df.index #데이터의 index 확인"
      ],
      "execution_count": null,
      "outputs": [
        {
          "output_type": "execute_result",
          "data": {
            "text/plain": [
              "DatetimeIndex(['2013-01-03', '2013-01-04', '2013-01-05', '2013-01-06',\n",
              "               '2013-01-07', '2013-01-08', '2013-01-09'],\n",
              "              dtype='datetime64[ns]', freq='D')"
            ]
          },
          "metadata": {
            "tags": []
          },
          "execution_count": 16
        }
      ]
    },
    {
      "cell_type": "code",
      "metadata": {
        "id": "WwXOQSZl6sBt",
        "outputId": "6f22ef8c-52ba-4204-d643-359d707e3b6d",
        "colab": {
          "base_uri": "https://localhost:8080/"
        }
      },
      "source": [
        "df.columns #데이터의 행 확인"
      ],
      "execution_count": null,
      "outputs": [
        {
          "output_type": "execute_result",
          "data": {
            "text/plain": [
              "Index(['A', 'B', 'C', 'D'], dtype='object')"
            ]
          },
          "metadata": {
            "tags": []
          },
          "execution_count": 17
        }
      ]
    },
    {
      "cell_type": "code",
      "metadata": {
        "id": "L1RWNdtH6vOd",
        "outputId": "b83674e1-e2af-4444-a62a-f0e52bd5e8e2",
        "colab": {
          "base_uri": "https://localhost:8080/"
        }
      },
      "source": [
        "df.values #데이터의 객체값 확인"
      ],
      "execution_count": null,
      "outputs": [
        {
          "output_type": "execute_result",
          "data": {
            "text/plain": [
              "array([[-0.70964148,  0.17079531, -0.9565885 , -0.41981426],\n",
              "       [-0.68970448, -1.59691281, -0.90682379, -0.67762367],\n",
              "       [-1.95619001, -1.83844574, -0.5580449 ,  0.48255724],\n",
              "       [ 1.87694611,  1.5935263 ,  0.71701989, -0.10740904],\n",
              "       [-0.70378427, -0.50579975,  0.07801326,  1.77156663],\n",
              "       [-1.21770124,  2.02539298, -0.55728792, -0.41503577],\n",
              "       [ 0.18083905, -0.10275645,  0.98132151,  0.086617  ]])"
            ]
          },
          "metadata": {
            "tags": []
          },
          "execution_count": 18
        }
      ]
    },
    {
      "cell_type": "markdown",
      "metadata": {
        "id": "mxMYaMjV2Xof"
      },
      "source": [
        "[describe()](https://pandas.pydata.org/pandas-docs/stable/reference/api/pandas.DataFrame.describe.html)는 데이터의 대략적인 통계적 정보 요약을 보여줍니다."
      ]
    },
    {
      "cell_type": "code",
      "metadata": {
        "id": "Myh34TOV65nl",
        "outputId": "a6ce7093-4ad6-4390-d9da-19f7acb335cf",
        "colab": {
          "base_uri": "https://localhost:8080/",
          "height": 284
        }
      },
      "source": [
        "df.describe() #데이터의 대략적인 정보 요약"
      ],
      "execution_count": null,
      "outputs": [
        {
          "output_type": "execute_result",
          "data": {
            "text/html": [
              "<div>\n",
              "<style scoped>\n",
              "    .dataframe tbody tr th:only-of-type {\n",
              "        vertical-align: middle;\n",
              "    }\n",
              "\n",
              "    .dataframe tbody tr th {\n",
              "        vertical-align: top;\n",
              "    }\n",
              "\n",
              "    .dataframe thead th {\n",
              "        text-align: right;\n",
              "    }\n",
              "</style>\n",
              "<table border=\"1\" class=\"dataframe\">\n",
              "  <thead>\n",
              "    <tr style=\"text-align: right;\">\n",
              "      <th></th>\n",
              "      <th>A</th>\n",
              "      <th>B</th>\n",
              "      <th>C</th>\n",
              "      <th>D</th>\n",
              "    </tr>\n",
              "  </thead>\n",
              "  <tbody>\n",
              "    <tr>\n",
              "      <th>count</th>\n",
              "      <td>7.000000</td>\n",
              "      <td>7.000000</td>\n",
              "      <td>7.000000</td>\n",
              "      <td>7.000000</td>\n",
              "    </tr>\n",
              "    <tr>\n",
              "      <th>mean</th>\n",
              "      <td>-0.459891</td>\n",
              "      <td>-0.036314</td>\n",
              "      <td>-0.171770</td>\n",
              "      <td>0.102980</td>\n",
              "    </tr>\n",
              "    <tr>\n",
              "      <th>std</th>\n",
              "      <td>1.215127</td>\n",
              "      <td>1.463893</td>\n",
              "      <td>0.778464</td>\n",
              "      <td>0.829034</td>\n",
              "    </tr>\n",
              "    <tr>\n",
              "      <th>min</th>\n",
              "      <td>-1.956190</td>\n",
              "      <td>-1.838446</td>\n",
              "      <td>-0.956588</td>\n",
              "      <td>-0.677624</td>\n",
              "    </tr>\n",
              "    <tr>\n",
              "      <th>25%</th>\n",
              "      <td>-0.963671</td>\n",
              "      <td>-1.051356</td>\n",
              "      <td>-0.732434</td>\n",
              "      <td>-0.417425</td>\n",
              "    </tr>\n",
              "    <tr>\n",
              "      <th>50%</th>\n",
              "      <td>-0.703784</td>\n",
              "      <td>-0.102756</td>\n",
              "      <td>-0.557288</td>\n",
              "      <td>-0.107409</td>\n",
              "    </tr>\n",
              "    <tr>\n",
              "      <th>75%</th>\n",
              "      <td>-0.254433</td>\n",
              "      <td>0.882161</td>\n",
              "      <td>0.397517</td>\n",
              "      <td>0.284587</td>\n",
              "    </tr>\n",
              "    <tr>\n",
              "      <th>max</th>\n",
              "      <td>1.876946</td>\n",
              "      <td>2.025393</td>\n",
              "      <td>0.981322</td>\n",
              "      <td>1.771567</td>\n",
              "    </tr>\n",
              "  </tbody>\n",
              "</table>\n",
              "</div>"
            ],
            "text/plain": [
              "              A         B         C         D\n",
              "count  7.000000  7.000000  7.000000  7.000000\n",
              "mean  -0.459891 -0.036314 -0.171770  0.102980\n",
              "std    1.215127  1.463893  0.778464  0.829034\n",
              "min   -1.956190 -1.838446 -0.956588 -0.677624\n",
              "25%   -0.963671 -1.051356 -0.732434 -0.417425\n",
              "50%   -0.703784 -0.102756 -0.557288 -0.107409\n",
              "75%   -0.254433  0.882161  0.397517  0.284587\n",
              "max    1.876946  2.025393  0.981322  1.771567"
            ]
          },
          "metadata": {
            "tags": []
          },
          "execution_count": 19
        }
      ]
    },
    {
      "cell_type": "code",
      "metadata": {
        "id": "LGqyX2bv8Err",
        "outputId": "02ad9c83-78dd-4b0e-9ae1-e46bc2f27838",
        "colab": {
          "base_uri": "https://localhost:8080/",
          "height": 166
        }
      },
      "source": [
        "df.T #데이터 전치"
      ],
      "execution_count": null,
      "outputs": [
        {
          "output_type": "execute_result",
          "data": {
            "text/html": [
              "<div>\n",
              "<style scoped>\n",
              "    .dataframe tbody tr th:only-of-type {\n",
              "        vertical-align: middle;\n",
              "    }\n",
              "\n",
              "    .dataframe tbody tr th {\n",
              "        vertical-align: top;\n",
              "    }\n",
              "\n",
              "    .dataframe thead th {\n",
              "        text-align: right;\n",
              "    }\n",
              "</style>\n",
              "<table border=\"1\" class=\"dataframe\">\n",
              "  <thead>\n",
              "    <tr style=\"text-align: right;\">\n",
              "      <th></th>\n",
              "      <th>2013-01-03</th>\n",
              "      <th>2013-01-04</th>\n",
              "      <th>2013-01-05</th>\n",
              "      <th>2013-01-06</th>\n",
              "      <th>2013-01-07</th>\n",
              "      <th>2013-01-08</th>\n",
              "      <th>2013-01-09</th>\n",
              "    </tr>\n",
              "  </thead>\n",
              "  <tbody>\n",
              "    <tr>\n",
              "      <th>A</th>\n",
              "      <td>-0.709641</td>\n",
              "      <td>-0.689704</td>\n",
              "      <td>-1.956190</td>\n",
              "      <td>1.876946</td>\n",
              "      <td>-0.703784</td>\n",
              "      <td>-1.217701</td>\n",
              "      <td>0.180839</td>\n",
              "    </tr>\n",
              "    <tr>\n",
              "      <th>B</th>\n",
              "      <td>0.170795</td>\n",
              "      <td>-1.596913</td>\n",
              "      <td>-1.838446</td>\n",
              "      <td>1.593526</td>\n",
              "      <td>-0.505800</td>\n",
              "      <td>2.025393</td>\n",
              "      <td>-0.102756</td>\n",
              "    </tr>\n",
              "    <tr>\n",
              "      <th>C</th>\n",
              "      <td>-0.956588</td>\n",
              "      <td>-0.906824</td>\n",
              "      <td>-0.558045</td>\n",
              "      <td>0.717020</td>\n",
              "      <td>0.078013</td>\n",
              "      <td>-0.557288</td>\n",
              "      <td>0.981322</td>\n",
              "    </tr>\n",
              "    <tr>\n",
              "      <th>D</th>\n",
              "      <td>-0.419814</td>\n",
              "      <td>-0.677624</td>\n",
              "      <td>0.482557</td>\n",
              "      <td>-0.107409</td>\n",
              "      <td>1.771567</td>\n",
              "      <td>-0.415036</td>\n",
              "      <td>0.086617</td>\n",
              "    </tr>\n",
              "  </tbody>\n",
              "</table>\n",
              "</div>"
            ],
            "text/plain": [
              "   2013-01-03  2013-01-04  2013-01-05  ...  2013-01-07  2013-01-08  2013-01-09\n",
              "A   -0.709641   -0.689704   -1.956190  ...   -0.703784   -1.217701    0.180839\n",
              "B    0.170795   -1.596913   -1.838446  ...   -0.505800    2.025393   -0.102756\n",
              "C   -0.956588   -0.906824   -0.558045  ...    0.078013   -0.557288    0.981322\n",
              "D   -0.419814   -0.677624    0.482557  ...    1.771567   -0.415036    0.086617\n",
              "\n",
              "[4 rows x 7 columns]"
            ]
          },
          "metadata": {
            "tags": []
          },
          "execution_count": 20
        }
      ]
    },
    {
      "cell_type": "code",
      "metadata": {
        "id": "9yWAE4hR8IIt",
        "outputId": "91a29c3f-cc8f-49ba-8c12-246081e91295",
        "colab": {
          "base_uri": "https://localhost:8080/",
          "height": 254
        }
      },
      "source": [
        "df.sort_index(axis=1, ascending=False) #축별로 정렬"
      ],
      "execution_count": null,
      "outputs": [
        {
          "output_type": "execute_result",
          "data": {
            "text/html": [
              "<div>\n",
              "<style scoped>\n",
              "    .dataframe tbody tr th:only-of-type {\n",
              "        vertical-align: middle;\n",
              "    }\n",
              "\n",
              "    .dataframe tbody tr th {\n",
              "        vertical-align: top;\n",
              "    }\n",
              "\n",
              "    .dataframe thead th {\n",
              "        text-align: right;\n",
              "    }\n",
              "</style>\n",
              "<table border=\"1\" class=\"dataframe\">\n",
              "  <thead>\n",
              "    <tr style=\"text-align: right;\">\n",
              "      <th></th>\n",
              "      <th>D</th>\n",
              "      <th>C</th>\n",
              "      <th>B</th>\n",
              "      <th>A</th>\n",
              "    </tr>\n",
              "  </thead>\n",
              "  <tbody>\n",
              "    <tr>\n",
              "      <th>2013-01-03</th>\n",
              "      <td>-0.419814</td>\n",
              "      <td>-0.956588</td>\n",
              "      <td>0.170795</td>\n",
              "      <td>-0.709641</td>\n",
              "    </tr>\n",
              "    <tr>\n",
              "      <th>2013-01-04</th>\n",
              "      <td>-0.677624</td>\n",
              "      <td>-0.906824</td>\n",
              "      <td>-1.596913</td>\n",
              "      <td>-0.689704</td>\n",
              "    </tr>\n",
              "    <tr>\n",
              "      <th>2013-01-05</th>\n",
              "      <td>0.482557</td>\n",
              "      <td>-0.558045</td>\n",
              "      <td>-1.838446</td>\n",
              "      <td>-1.956190</td>\n",
              "    </tr>\n",
              "    <tr>\n",
              "      <th>2013-01-06</th>\n",
              "      <td>-0.107409</td>\n",
              "      <td>0.717020</td>\n",
              "      <td>1.593526</td>\n",
              "      <td>1.876946</td>\n",
              "    </tr>\n",
              "    <tr>\n",
              "      <th>2013-01-07</th>\n",
              "      <td>1.771567</td>\n",
              "      <td>0.078013</td>\n",
              "      <td>-0.505800</td>\n",
              "      <td>-0.703784</td>\n",
              "    </tr>\n",
              "    <tr>\n",
              "      <th>2013-01-08</th>\n",
              "      <td>-0.415036</td>\n",
              "      <td>-0.557288</td>\n",
              "      <td>2.025393</td>\n",
              "      <td>-1.217701</td>\n",
              "    </tr>\n",
              "    <tr>\n",
              "      <th>2013-01-09</th>\n",
              "      <td>0.086617</td>\n",
              "      <td>0.981322</td>\n",
              "      <td>-0.102756</td>\n",
              "      <td>0.180839</td>\n",
              "    </tr>\n",
              "  </tbody>\n",
              "</table>\n",
              "</div>"
            ],
            "text/plain": [
              "                   D         C         B         A\n",
              "2013-01-03 -0.419814 -0.956588  0.170795 -0.709641\n",
              "2013-01-04 -0.677624 -0.906824 -1.596913 -0.689704\n",
              "2013-01-05  0.482557 -0.558045 -1.838446 -1.956190\n",
              "2013-01-06 -0.107409  0.717020  1.593526  1.876946\n",
              "2013-01-07  1.771567  0.078013 -0.505800 -0.703784\n",
              "2013-01-08 -0.415036 -0.557288  2.025393 -1.217701\n",
              "2013-01-09  0.086617  0.981322 -0.102756  0.180839"
            ]
          },
          "metadata": {
            "tags": []
          },
          "execution_count": 21
        }
      ]
    },
    {
      "cell_type": "code",
      "metadata": {
        "id": "jyqDDslE8Ml9",
        "outputId": "bec69700-8a52-48fd-fc3e-ffce1d27901b",
        "colab": {
          "base_uri": "https://localhost:8080/",
          "height": 254
        }
      },
      "source": [
        "df.sort_values(by='B') #값별로 정렬"
      ],
      "execution_count": null,
      "outputs": [
        {
          "output_type": "execute_result",
          "data": {
            "text/html": [
              "<div>\n",
              "<style scoped>\n",
              "    .dataframe tbody tr th:only-of-type {\n",
              "        vertical-align: middle;\n",
              "    }\n",
              "\n",
              "    .dataframe tbody tr th {\n",
              "        vertical-align: top;\n",
              "    }\n",
              "\n",
              "    .dataframe thead th {\n",
              "        text-align: right;\n",
              "    }\n",
              "</style>\n",
              "<table border=\"1\" class=\"dataframe\">\n",
              "  <thead>\n",
              "    <tr style=\"text-align: right;\">\n",
              "      <th></th>\n",
              "      <th>A</th>\n",
              "      <th>B</th>\n",
              "      <th>C</th>\n",
              "      <th>D</th>\n",
              "    </tr>\n",
              "  </thead>\n",
              "  <tbody>\n",
              "    <tr>\n",
              "      <th>2013-01-05</th>\n",
              "      <td>-1.956190</td>\n",
              "      <td>-1.838446</td>\n",
              "      <td>-0.558045</td>\n",
              "      <td>0.482557</td>\n",
              "    </tr>\n",
              "    <tr>\n",
              "      <th>2013-01-04</th>\n",
              "      <td>-0.689704</td>\n",
              "      <td>-1.596913</td>\n",
              "      <td>-0.906824</td>\n",
              "      <td>-0.677624</td>\n",
              "    </tr>\n",
              "    <tr>\n",
              "      <th>2013-01-07</th>\n",
              "      <td>-0.703784</td>\n",
              "      <td>-0.505800</td>\n",
              "      <td>0.078013</td>\n",
              "      <td>1.771567</td>\n",
              "    </tr>\n",
              "    <tr>\n",
              "      <th>2013-01-09</th>\n",
              "      <td>0.180839</td>\n",
              "      <td>-0.102756</td>\n",
              "      <td>0.981322</td>\n",
              "      <td>0.086617</td>\n",
              "    </tr>\n",
              "    <tr>\n",
              "      <th>2013-01-03</th>\n",
              "      <td>-0.709641</td>\n",
              "      <td>0.170795</td>\n",
              "      <td>-0.956588</td>\n",
              "      <td>-0.419814</td>\n",
              "    </tr>\n",
              "    <tr>\n",
              "      <th>2013-01-06</th>\n",
              "      <td>1.876946</td>\n",
              "      <td>1.593526</td>\n",
              "      <td>0.717020</td>\n",
              "      <td>-0.107409</td>\n",
              "    </tr>\n",
              "    <tr>\n",
              "      <th>2013-01-08</th>\n",
              "      <td>-1.217701</td>\n",
              "      <td>2.025393</td>\n",
              "      <td>-0.557288</td>\n",
              "      <td>-0.415036</td>\n",
              "    </tr>\n",
              "  </tbody>\n",
              "</table>\n",
              "</div>"
            ],
            "text/plain": [
              "                   A         B         C         D\n",
              "2013-01-05 -1.956190 -1.838446 -0.558045  0.482557\n",
              "2013-01-04 -0.689704 -1.596913 -0.906824 -0.677624\n",
              "2013-01-07 -0.703784 -0.505800  0.078013  1.771567\n",
              "2013-01-09  0.180839 -0.102756  0.981322  0.086617\n",
              "2013-01-03 -0.709641  0.170795 -0.956588 -0.419814\n",
              "2013-01-06  1.876946  1.593526  0.717020 -0.107409\n",
              "2013-01-08 -1.217701  2.025393 -0.557288 -0.415036"
            ]
          },
          "metadata": {
            "tags": []
          },
          "execution_count": 22
        }
      ]
    },
    {
      "cell_type": "markdown",
      "metadata": {
        "id": "iHGGmHc18T0T"
      },
      "source": [
        "# 3. Selection (선택)"
      ]
    },
    {
      "cell_type": "markdown",
      "metadata": {
        "id": "Sv9xqABn2HV8"
      },
      "source": [
        "주석 (Note) : 선택과 설정을 위한 Python / Numpy의 표준화된 표현들이 직관적이며, 코드 작성을 위한 양방향 작업에 유용하지만 우리는 Pandas에 최적화된 데이터 접근 방법인 .at, .iat, .loc 및 .iloc 을 추천합니다.\n",
        "\n",
        "[데이터 인덱싱 및 선택](https://pandas.pydata.org/pandas-docs/stable/user_guide/indexing.html) 문서와 [다중 인덱싱 / 심화 인덱싱](https://pandas.pydata.org/pandas-docs/stable/user_guide/advanced.html) 문서를 참조하세요."
      ]
    },
    {
      "cell_type": "markdown",
      "metadata": {
        "id": "hhAA-Is18Z1-"
      },
      "source": [
        "## Getting (데이터 얻기)"
      ]
    },
    {
      "cell_type": "code",
      "metadata": {
        "id": "hzVRrd4K8W8-",
        "outputId": "74c39392-9cdb-4f54-c213-1f6b31d9d2e3",
        "colab": {
          "base_uri": "https://localhost:8080/"
        }
      },
      "source": [
        "df['A'] #Series를 생성하는 단일 열을 선택"
      ],
      "execution_count": null,
      "outputs": [
        {
          "output_type": "execute_result",
          "data": {
            "text/plain": [
              "2013-01-03   -0.709641\n",
              "2013-01-04   -0.689704\n",
              "2013-01-05   -1.956190\n",
              "2013-01-06    1.876946\n",
              "2013-01-07   -0.703784\n",
              "2013-01-08   -1.217701\n",
              "2013-01-09    0.180839\n",
              "Freq: D, Name: A, dtype: float64"
            ]
          },
          "metadata": {
            "tags": []
          },
          "execution_count": 23
        }
      ]
    },
    {
      "cell_type": "code",
      "metadata": {
        "id": "UJv4h_g-9Apv",
        "outputId": "3434d428-e38a-4aad-9088-444e575c485e",
        "colab": {
          "base_uri": "https://localhost:8080/",
          "height": 166
        }
      },
      "source": [
        "df[0:4] #행을 분할하는 [ ]를 통해 선택"
      ],
      "execution_count": null,
      "outputs": [
        {
          "output_type": "execute_result",
          "data": {
            "text/html": [
              "<div>\n",
              "<style scoped>\n",
              "    .dataframe tbody tr th:only-of-type {\n",
              "        vertical-align: middle;\n",
              "    }\n",
              "\n",
              "    .dataframe tbody tr th {\n",
              "        vertical-align: top;\n",
              "    }\n",
              "\n",
              "    .dataframe thead th {\n",
              "        text-align: right;\n",
              "    }\n",
              "</style>\n",
              "<table border=\"1\" class=\"dataframe\">\n",
              "  <thead>\n",
              "    <tr style=\"text-align: right;\">\n",
              "      <th></th>\n",
              "      <th>A</th>\n",
              "      <th>B</th>\n",
              "      <th>C</th>\n",
              "      <th>D</th>\n",
              "    </tr>\n",
              "  </thead>\n",
              "  <tbody>\n",
              "    <tr>\n",
              "      <th>2013-01-03</th>\n",
              "      <td>-0.709641</td>\n",
              "      <td>0.170795</td>\n",
              "      <td>-0.956588</td>\n",
              "      <td>-0.419814</td>\n",
              "    </tr>\n",
              "    <tr>\n",
              "      <th>2013-01-04</th>\n",
              "      <td>-0.689704</td>\n",
              "      <td>-1.596913</td>\n",
              "      <td>-0.906824</td>\n",
              "      <td>-0.677624</td>\n",
              "    </tr>\n",
              "    <tr>\n",
              "      <th>2013-01-05</th>\n",
              "      <td>-1.956190</td>\n",
              "      <td>-1.838446</td>\n",
              "      <td>-0.558045</td>\n",
              "      <td>0.482557</td>\n",
              "    </tr>\n",
              "    <tr>\n",
              "      <th>2013-01-06</th>\n",
              "      <td>1.876946</td>\n",
              "      <td>1.593526</td>\n",
              "      <td>0.717020</td>\n",
              "      <td>-0.107409</td>\n",
              "    </tr>\n",
              "  </tbody>\n",
              "</table>\n",
              "</div>"
            ],
            "text/plain": [
              "                   A         B         C         D\n",
              "2013-01-03 -0.709641  0.170795 -0.956588 -0.419814\n",
              "2013-01-04 -0.689704 -1.596913 -0.906824 -0.677624\n",
              "2013-01-05 -1.956190 -1.838446 -0.558045  0.482557\n",
              "2013-01-06  1.876946  1.593526  0.717020 -0.107409"
            ]
          },
          "metadata": {
            "tags": []
          },
          "execution_count": 25
        }
      ]
    },
    {
      "cell_type": "code",
      "metadata": {
        "id": "rJOiS9Ya9St3",
        "outputId": "9c678ad4-521d-4b6d-e94e-abffcdb2c6bd",
        "colab": {
          "base_uri": "https://localhost:8080/",
          "height": 166
        }
      },
      "source": [
        "df['20130105':'20130108']"
      ],
      "execution_count": null,
      "outputs": [
        {
          "output_type": "execute_result",
          "data": {
            "text/html": [
              "<div>\n",
              "<style scoped>\n",
              "    .dataframe tbody tr th:only-of-type {\n",
              "        vertical-align: middle;\n",
              "    }\n",
              "\n",
              "    .dataframe tbody tr th {\n",
              "        vertical-align: top;\n",
              "    }\n",
              "\n",
              "    .dataframe thead th {\n",
              "        text-align: right;\n",
              "    }\n",
              "</style>\n",
              "<table border=\"1\" class=\"dataframe\">\n",
              "  <thead>\n",
              "    <tr style=\"text-align: right;\">\n",
              "      <th></th>\n",
              "      <th>A</th>\n",
              "      <th>B</th>\n",
              "      <th>C</th>\n",
              "      <th>D</th>\n",
              "    </tr>\n",
              "  </thead>\n",
              "  <tbody>\n",
              "    <tr>\n",
              "      <th>2013-01-05</th>\n",
              "      <td>-1.956190</td>\n",
              "      <td>-1.838446</td>\n",
              "      <td>-0.558045</td>\n",
              "      <td>0.482557</td>\n",
              "    </tr>\n",
              "    <tr>\n",
              "      <th>2013-01-06</th>\n",
              "      <td>1.876946</td>\n",
              "      <td>1.593526</td>\n",
              "      <td>0.717020</td>\n",
              "      <td>-0.107409</td>\n",
              "    </tr>\n",
              "    <tr>\n",
              "      <th>2013-01-07</th>\n",
              "      <td>-0.703784</td>\n",
              "      <td>-0.505800</td>\n",
              "      <td>0.078013</td>\n",
              "      <td>1.771567</td>\n",
              "    </tr>\n",
              "    <tr>\n",
              "      <th>2013-01-08</th>\n",
              "      <td>-1.217701</td>\n",
              "      <td>2.025393</td>\n",
              "      <td>-0.557288</td>\n",
              "      <td>-0.415036</td>\n",
              "    </tr>\n",
              "  </tbody>\n",
              "</table>\n",
              "</div>"
            ],
            "text/plain": [
              "                   A         B         C         D\n",
              "2013-01-05 -1.956190 -1.838446 -0.558045  0.482557\n",
              "2013-01-06  1.876946  1.593526  0.717020 -0.107409\n",
              "2013-01-07 -0.703784 -0.505800  0.078013  1.771567\n",
              "2013-01-08 -1.217701  2.025393 -0.557288 -0.415036"
            ]
          },
          "metadata": {
            "tags": []
          },
          "execution_count": 27
        }
      ]
    },
    {
      "cell_type": "markdown",
      "metadata": {
        "id": "1gcTclod9agA"
      },
      "source": [
        "## Selection by Label (Label 을 통한 선택)"
      ]
    },
    {
      "cell_type": "markdown",
      "metadata": {
        "id": "FzSOuR_Y2Bhv"
      },
      "source": [
        "[Label을 통한 선택](https://pandas.pydata.org/pandas-docs/stable/user_guide/indexing.html)에서 더 많은 내용을 확인하세요."
      ]
    },
    {
      "cell_type": "code",
      "metadata": {
        "id": "HQI_pQS09cvE",
        "outputId": "728a2afc-15fe-4c4d-8460-3d3df81677fc",
        "colab": {
          "base_uri": "https://localhost:8080/"
        }
      },
      "source": [
        "df.loc[dates[0]]"
      ],
      "execution_count": null,
      "outputs": [
        {
          "output_type": "execute_result",
          "data": {
            "text/plain": [
              "A   -0.709641\n",
              "B    0.170795\n",
              "C   -0.956588\n",
              "D   -0.419814\n",
              "Name: 2013-01-03 00:00:00, dtype: float64"
            ]
          },
          "metadata": {
            "tags": []
          },
          "execution_count": 28
        }
      ]
    },
    {
      "cell_type": "code",
      "metadata": {
        "id": "Zh3BN469MQgU",
        "outputId": "d4ed1416-4fd9-40cc-b9db-ffac6d14c4cb",
        "colab": {
          "base_uri": "https://localhost:8080/",
          "height": 266
        }
      },
      "source": [
        "df.loc[:,['A','B']] #여러 축의 데이터을 얻기"
      ],
      "execution_count": null,
      "outputs": [
        {
          "output_type": "execute_result",
          "data": {
            "text/html": [
              "<div>\n",
              "<style scoped>\n",
              "    .dataframe tbody tr th:only-of-type {\n",
              "        vertical-align: middle;\n",
              "    }\n",
              "\n",
              "    .dataframe tbody tr th {\n",
              "        vertical-align: top;\n",
              "    }\n",
              "\n",
              "    .dataframe thead th {\n",
              "        text-align: right;\n",
              "    }\n",
              "</style>\n",
              "<table border=\"1\" class=\"dataframe\">\n",
              "  <thead>\n",
              "    <tr style=\"text-align: right;\">\n",
              "      <th></th>\n",
              "      <th>A</th>\n",
              "      <th>B</th>\n",
              "    </tr>\n",
              "  </thead>\n",
              "  <tbody>\n",
              "    <tr>\n",
              "      <th>2013-01-03</th>\n",
              "      <td>-0.709641</td>\n",
              "      <td>0.170795</td>\n",
              "    </tr>\n",
              "    <tr>\n",
              "      <th>2013-01-04</th>\n",
              "      <td>-0.689704</td>\n",
              "      <td>-1.596913</td>\n",
              "    </tr>\n",
              "    <tr>\n",
              "      <th>2013-01-05</th>\n",
              "      <td>-1.956190</td>\n",
              "      <td>-1.838446</td>\n",
              "    </tr>\n",
              "    <tr>\n",
              "      <th>2013-01-06</th>\n",
              "      <td>1.876946</td>\n",
              "      <td>1.593526</td>\n",
              "    </tr>\n",
              "    <tr>\n",
              "      <th>2013-01-07</th>\n",
              "      <td>-0.703784</td>\n",
              "      <td>-0.505800</td>\n",
              "    </tr>\n",
              "    <tr>\n",
              "      <th>2013-01-08</th>\n",
              "      <td>-1.217701</td>\n",
              "      <td>2.025393</td>\n",
              "    </tr>\n",
              "    <tr>\n",
              "      <th>2013-01-09</th>\n",
              "      <td>0.180839</td>\n",
              "      <td>-0.102756</td>\n",
              "    </tr>\n",
              "  </tbody>\n",
              "</table>\n",
              "</div>"
            ],
            "text/plain": [
              "                   A         B\n",
              "2013-01-03 -0.709641  0.170795\n",
              "2013-01-04 -0.689704 -1.596913\n",
              "2013-01-05 -1.956190 -1.838446\n",
              "2013-01-06  1.876946  1.593526\n",
              "2013-01-07 -0.703784 -0.505800\n",
              "2013-01-08 -1.217701  2.025393\n",
              "2013-01-09  0.180839 -0.102756"
            ]
          },
          "metadata": {
            "tags": []
          },
          "execution_count": 29
        }
      ]
    },
    {
      "cell_type": "code",
      "metadata": {
        "id": "B387sav6MZ3S",
        "outputId": "93195021-d85c-46da-be6f-ed48561c7169",
        "colab": {
          "base_uri": "https://localhost:8080/",
          "height": 173
        }
      },
      "source": [
        "df.loc['20130105':'20130108', ['A','C']] #양쪽 종단점을 포함"
      ],
      "execution_count": null,
      "outputs": [
        {
          "output_type": "execute_result",
          "data": {
            "text/html": [
              "<div>\n",
              "<style scoped>\n",
              "    .dataframe tbody tr th:only-of-type {\n",
              "        vertical-align: middle;\n",
              "    }\n",
              "\n",
              "    .dataframe tbody tr th {\n",
              "        vertical-align: top;\n",
              "    }\n",
              "\n",
              "    .dataframe thead th {\n",
              "        text-align: right;\n",
              "    }\n",
              "</style>\n",
              "<table border=\"1\" class=\"dataframe\">\n",
              "  <thead>\n",
              "    <tr style=\"text-align: right;\">\n",
              "      <th></th>\n",
              "      <th>A</th>\n",
              "      <th>C</th>\n",
              "    </tr>\n",
              "  </thead>\n",
              "  <tbody>\n",
              "    <tr>\n",
              "      <th>2013-01-05</th>\n",
              "      <td>-1.956190</td>\n",
              "      <td>-0.558045</td>\n",
              "    </tr>\n",
              "    <tr>\n",
              "      <th>2013-01-06</th>\n",
              "      <td>1.876946</td>\n",
              "      <td>0.717020</td>\n",
              "    </tr>\n",
              "    <tr>\n",
              "      <th>2013-01-07</th>\n",
              "      <td>-0.703784</td>\n",
              "      <td>0.078013</td>\n",
              "    </tr>\n",
              "    <tr>\n",
              "      <th>2013-01-08</th>\n",
              "      <td>-1.217701</td>\n",
              "      <td>-0.557288</td>\n",
              "    </tr>\n",
              "  </tbody>\n",
              "</table>\n",
              "</div>"
            ],
            "text/plain": [
              "                   A         C\n",
              "2013-01-05 -1.956190 -0.558045\n",
              "2013-01-06  1.876946  0.717020\n",
              "2013-01-07 -0.703784  0.078013\n",
              "2013-01-08 -1.217701 -0.557288"
            ]
          },
          "metadata": {
            "tags": []
          },
          "execution_count": 32
        }
      ]
    },
    {
      "cell_type": "code",
      "metadata": {
        "id": "goIgJtTBMh65",
        "outputId": "364240ac-a33a-4730-beb3-824f6fe0c1f8",
        "colab": {
          "base_uri": "https://localhost:8080/"
        }
      },
      "source": [
        "df.loc['20130104',['A','B']] #객체의 차원 줄이기"
      ],
      "execution_count": null,
      "outputs": [
        {
          "output_type": "execute_result",
          "data": {
            "text/plain": [
              "A   -0.689704\n",
              "B   -1.596913\n",
              "Name: 2013-01-04 00:00:00, dtype: float64"
            ]
          },
          "metadata": {
            "tags": []
          },
          "execution_count": 34
        }
      ]
    },
    {
      "cell_type": "code",
      "metadata": {
        "id": "xf8PoEOtNO55",
        "outputId": "8d57b9bb-9d0d-4808-cbd3-7b3d790abd9c",
        "colab": {
          "base_uri": "https://localhost:8080/"
        }
      },
      "source": [
        "df.loc[dates[0],'A'] #스칼라값"
      ],
      "execution_count": null,
      "outputs": [
        {
          "output_type": "execute_result",
          "data": {
            "text/plain": [
              "-0.70964147694779"
            ]
          },
          "metadata": {
            "tags": []
          },
          "execution_count": 35
        }
      ]
    },
    {
      "cell_type": "code",
      "metadata": {
        "id": "1STgWJbXNUha",
        "outputId": "a26d99f9-3135-4e29-b662-90a82bab4a60",
        "colab": {
          "base_uri": "https://localhost:8080/"
        }
      },
      "source": [
        "df.at[dates[0],'A'] #스칼라값 더 빠르게 구하기"
      ],
      "execution_count": null,
      "outputs": [
        {
          "output_type": "execute_result",
          "data": {
            "text/plain": [
              "-0.70964147694779"
            ]
          },
          "metadata": {
            "tags": []
          },
          "execution_count": 36
        }
      ]
    },
    {
      "cell_type": "markdown",
      "metadata": {
        "id": "3qFoEpOoNZVU"
      },
      "source": [
        "## Selection by Position (위치로 선택하기)"
      ]
    },
    {
      "cell_type": "markdown",
      "metadata": {
        "id": "kRSNgpwe18rQ"
      },
      "source": [
        "자세한 내용은 [위치로 선택하기](https://pandas.pydata.org/pandas-docs/stable/user_guide/indexing.html)를 참고해주세요."
      ]
    },
    {
      "cell_type": "code",
      "metadata": {
        "id": "EDt47Kz6NbSC",
        "outputId": "3b3afc33-31ff-47ad-d02b-ff18c4111e2c",
        "colab": {
          "base_uri": "https://localhost:8080/"
        }
      },
      "source": [
        "df.iloc[3] #넘겨받은 정수의 위치를 기준으로 선택"
      ],
      "execution_count": null,
      "outputs": [
        {
          "output_type": "execute_result",
          "data": {
            "text/plain": [
              "A    1.876946\n",
              "B    1.593526\n",
              "C    0.717020\n",
              "D   -0.107409\n",
              "Name: 2013-01-06 00:00:00, dtype: float64"
            ]
          },
          "metadata": {
            "tags": []
          },
          "execution_count": 37
        }
      ]
    },
    {
      "cell_type": "code",
      "metadata": {
        "id": "nNq0hyZ-cGQf",
        "outputId": "f685d5d0-1d36-4c5a-a665-23b5c1c1c549",
        "colab": {
          "base_uri": "https://localhost:8080/",
          "height": 111
        }
      },
      "source": [
        "df.iloc[3:5,0:2] "
      ],
      "execution_count": null,
      "outputs": [
        {
          "output_type": "execute_result",
          "data": {
            "text/html": [
              "<div>\n",
              "<style scoped>\n",
              "    .dataframe tbody tr th:only-of-type {\n",
              "        vertical-align: middle;\n",
              "    }\n",
              "\n",
              "    .dataframe tbody tr th {\n",
              "        vertical-align: top;\n",
              "    }\n",
              "\n",
              "    .dataframe thead th {\n",
              "        text-align: right;\n",
              "    }\n",
              "</style>\n",
              "<table border=\"1\" class=\"dataframe\">\n",
              "  <thead>\n",
              "    <tr style=\"text-align: right;\">\n",
              "      <th></th>\n",
              "      <th>A</th>\n",
              "      <th>B</th>\n",
              "    </tr>\n",
              "  </thead>\n",
              "  <tbody>\n",
              "    <tr>\n",
              "      <th>2013-01-06</th>\n",
              "      <td>1.876946</td>\n",
              "      <td>1.593526</td>\n",
              "    </tr>\n",
              "    <tr>\n",
              "      <th>2013-01-07</th>\n",
              "      <td>-0.703784</td>\n",
              "      <td>-0.505800</td>\n",
              "    </tr>\n",
              "  </tbody>\n",
              "</table>\n",
              "</div>"
            ],
            "text/plain": [
              "                   A         B\n",
              "2013-01-06  1.876946  1.593526\n",
              "2013-01-07 -0.703784 -0.505800"
            ]
          },
          "metadata": {
            "tags": []
          },
          "execution_count": 38
        }
      ]
    },
    {
      "cell_type": "code",
      "metadata": {
        "id": "zjt3lXY7cN0e",
        "outputId": "28ff9d5a-7bd6-4c35-d267-c741a5d28dd6",
        "colab": {
          "base_uri": "https://localhost:8080/",
          "height": 142
        }
      },
      "source": [
        "df.iloc[[1,2,4],[0,2]]"
      ],
      "execution_count": null,
      "outputs": [
        {
          "output_type": "execute_result",
          "data": {
            "text/html": [
              "<div>\n",
              "<style scoped>\n",
              "    .dataframe tbody tr th:only-of-type {\n",
              "        vertical-align: middle;\n",
              "    }\n",
              "\n",
              "    .dataframe tbody tr th {\n",
              "        vertical-align: top;\n",
              "    }\n",
              "\n",
              "    .dataframe thead th {\n",
              "        text-align: right;\n",
              "    }\n",
              "</style>\n",
              "<table border=\"1\" class=\"dataframe\">\n",
              "  <thead>\n",
              "    <tr style=\"text-align: right;\">\n",
              "      <th></th>\n",
              "      <th>A</th>\n",
              "      <th>C</th>\n",
              "    </tr>\n",
              "  </thead>\n",
              "  <tbody>\n",
              "    <tr>\n",
              "      <th>2013-01-04</th>\n",
              "      <td>-0.689704</td>\n",
              "      <td>-0.906824</td>\n",
              "    </tr>\n",
              "    <tr>\n",
              "      <th>2013-01-05</th>\n",
              "      <td>-1.956190</td>\n",
              "      <td>-0.558045</td>\n",
              "    </tr>\n",
              "    <tr>\n",
              "      <th>2013-01-07</th>\n",
              "      <td>-0.703784</td>\n",
              "      <td>0.078013</td>\n",
              "    </tr>\n",
              "  </tbody>\n",
              "</table>\n",
              "</div>"
            ],
            "text/plain": [
              "                   A         C\n",
              "2013-01-04 -0.689704 -0.906824\n",
              "2013-01-05 -1.956190 -0.558045\n",
              "2013-01-07 -0.703784  0.078013"
            ]
          },
          "metadata": {
            "tags": []
          },
          "execution_count": 39
        }
      ]
    },
    {
      "cell_type": "code",
      "metadata": {
        "id": "p-8nAC8OcSoV",
        "outputId": "9a1f29ac-d5dd-4221-8465-5e8739ae2201",
        "colab": {
          "base_uri": "https://localhost:8080/",
          "height": 111
        }
      },
      "source": [
        "df.iloc[1:3,:]"
      ],
      "execution_count": null,
      "outputs": [
        {
          "output_type": "execute_result",
          "data": {
            "text/html": [
              "<div>\n",
              "<style scoped>\n",
              "    .dataframe tbody tr th:only-of-type {\n",
              "        vertical-align: middle;\n",
              "    }\n",
              "\n",
              "    .dataframe tbody tr th {\n",
              "        vertical-align: top;\n",
              "    }\n",
              "\n",
              "    .dataframe thead th {\n",
              "        text-align: right;\n",
              "    }\n",
              "</style>\n",
              "<table border=\"1\" class=\"dataframe\">\n",
              "  <thead>\n",
              "    <tr style=\"text-align: right;\">\n",
              "      <th></th>\n",
              "      <th>A</th>\n",
              "      <th>B</th>\n",
              "      <th>C</th>\n",
              "      <th>D</th>\n",
              "    </tr>\n",
              "  </thead>\n",
              "  <tbody>\n",
              "    <tr>\n",
              "      <th>2013-01-04</th>\n",
              "      <td>-0.689704</td>\n",
              "      <td>-1.596913</td>\n",
              "      <td>-0.906824</td>\n",
              "      <td>-0.677624</td>\n",
              "    </tr>\n",
              "    <tr>\n",
              "      <th>2013-01-05</th>\n",
              "      <td>-1.956190</td>\n",
              "      <td>-1.838446</td>\n",
              "      <td>-0.558045</td>\n",
              "      <td>0.482557</td>\n",
              "    </tr>\n",
              "  </tbody>\n",
              "</table>\n",
              "</div>"
            ],
            "text/plain": [
              "                   A         B         C         D\n",
              "2013-01-04 -0.689704 -1.596913 -0.906824 -0.677624\n",
              "2013-01-05 -1.956190 -1.838446 -0.558045  0.482557"
            ]
          },
          "metadata": {
            "tags": []
          },
          "execution_count": 40
        }
      ]
    },
    {
      "cell_type": "code",
      "metadata": {
        "id": "XXcj29Noch_t",
        "outputId": "7a256c76-098a-44a1-beb5-c0e12e80ea76",
        "colab": {
          "base_uri": "https://localhost:8080/",
          "height": 266
        }
      },
      "source": [
        "df.iloc[:,1:3]"
      ],
      "execution_count": null,
      "outputs": [
        {
          "output_type": "execute_result",
          "data": {
            "text/html": [
              "<div>\n",
              "<style scoped>\n",
              "    .dataframe tbody tr th:only-of-type {\n",
              "        vertical-align: middle;\n",
              "    }\n",
              "\n",
              "    .dataframe tbody tr th {\n",
              "        vertical-align: top;\n",
              "    }\n",
              "\n",
              "    .dataframe thead th {\n",
              "        text-align: right;\n",
              "    }\n",
              "</style>\n",
              "<table border=\"1\" class=\"dataframe\">\n",
              "  <thead>\n",
              "    <tr style=\"text-align: right;\">\n",
              "      <th></th>\n",
              "      <th>B</th>\n",
              "      <th>C</th>\n",
              "    </tr>\n",
              "  </thead>\n",
              "  <tbody>\n",
              "    <tr>\n",
              "      <th>2013-01-03</th>\n",
              "      <td>0.170795</td>\n",
              "      <td>-0.956588</td>\n",
              "    </tr>\n",
              "    <tr>\n",
              "      <th>2013-01-04</th>\n",
              "      <td>-1.596913</td>\n",
              "      <td>-0.906824</td>\n",
              "    </tr>\n",
              "    <tr>\n",
              "      <th>2013-01-05</th>\n",
              "      <td>-1.838446</td>\n",
              "      <td>-0.558045</td>\n",
              "    </tr>\n",
              "    <tr>\n",
              "      <th>2013-01-06</th>\n",
              "      <td>1.593526</td>\n",
              "      <td>0.717020</td>\n",
              "    </tr>\n",
              "    <tr>\n",
              "      <th>2013-01-07</th>\n",
              "      <td>-0.505800</td>\n",
              "      <td>0.078013</td>\n",
              "    </tr>\n",
              "    <tr>\n",
              "      <th>2013-01-08</th>\n",
              "      <td>2.025393</td>\n",
              "      <td>-0.557288</td>\n",
              "    </tr>\n",
              "    <tr>\n",
              "      <th>2013-01-09</th>\n",
              "      <td>-0.102756</td>\n",
              "      <td>0.981322</td>\n",
              "    </tr>\n",
              "  </tbody>\n",
              "</table>\n",
              "</div>"
            ],
            "text/plain": [
              "                   B         C\n",
              "2013-01-03  0.170795 -0.956588\n",
              "2013-01-04 -1.596913 -0.906824\n",
              "2013-01-05 -1.838446 -0.558045\n",
              "2013-01-06  1.593526  0.717020\n",
              "2013-01-07 -0.505800  0.078013\n",
              "2013-01-08  2.025393 -0.557288\n",
              "2013-01-09 -0.102756  0.981322"
            ]
          },
          "metadata": {
            "tags": []
          },
          "execution_count": 41
        }
      ]
    },
    {
      "cell_type": "code",
      "metadata": {
        "id": "txJTLwbMcwoN",
        "outputId": "9098155e-c585-488c-dba0-d313d45567e5",
        "colab": {
          "base_uri": "https://localhost:8080/"
        }
      },
      "source": [
        "df.iloc[1,1] #명시적으로 특별한 값 얻기"
      ],
      "execution_count": null,
      "outputs": [
        {
          "output_type": "execute_result",
          "data": {
            "text/plain": [
              "-1.5969128112408273"
            ]
          },
          "metadata": {
            "tags": []
          },
          "execution_count": 42
        }
      ]
    },
    {
      "cell_type": "code",
      "metadata": {
        "id": "BM6U5k_oc3M1",
        "outputId": "d4b69479-b716-4e0b-f147-3471b97e9647",
        "colab": {
          "base_uri": "https://localhost:8080/"
        }
      },
      "source": [
        "df.iat[1,1] #스칼라 값을 빠르게 얻는 방법"
      ],
      "execution_count": null,
      "outputs": [
        {
          "output_type": "execute_result",
          "data": {
            "text/plain": [
              "-1.5969128112408273"
            ]
          },
          "metadata": {
            "tags": []
          },
          "execution_count": 43
        }
      ]
    },
    {
      "cell_type": "markdown",
      "metadata": {
        "id": "-Duh91v0djnN"
      },
      "source": [
        "## Boolean Indexing"
      ]
    },
    {
      "cell_type": "code",
      "metadata": {
        "id": "kr4YKLbIdh_G",
        "outputId": "ce522f6b-7728-418a-a135-6562359e5bba",
        "colab": {
          "base_uri": "https://localhost:8080/",
          "height": 204
        }
      },
      "source": [
        "df[df.A < 0]"
      ],
      "execution_count": null,
      "outputs": [
        {
          "output_type": "execute_result",
          "data": {
            "text/html": [
              "<div>\n",
              "<style scoped>\n",
              "    .dataframe tbody tr th:only-of-type {\n",
              "        vertical-align: middle;\n",
              "    }\n",
              "\n",
              "    .dataframe tbody tr th {\n",
              "        vertical-align: top;\n",
              "    }\n",
              "\n",
              "    .dataframe thead th {\n",
              "        text-align: right;\n",
              "    }\n",
              "</style>\n",
              "<table border=\"1\" class=\"dataframe\">\n",
              "  <thead>\n",
              "    <tr style=\"text-align: right;\">\n",
              "      <th></th>\n",
              "      <th>A</th>\n",
              "      <th>B</th>\n",
              "      <th>C</th>\n",
              "      <th>D</th>\n",
              "    </tr>\n",
              "  </thead>\n",
              "  <tbody>\n",
              "    <tr>\n",
              "      <th>2013-01-03</th>\n",
              "      <td>-0.709641</td>\n",
              "      <td>0.170795</td>\n",
              "      <td>-0.956588</td>\n",
              "      <td>-0.419814</td>\n",
              "    </tr>\n",
              "    <tr>\n",
              "      <th>2013-01-04</th>\n",
              "      <td>-0.689704</td>\n",
              "      <td>-1.596913</td>\n",
              "      <td>-0.906824</td>\n",
              "      <td>-0.677624</td>\n",
              "    </tr>\n",
              "    <tr>\n",
              "      <th>2013-01-05</th>\n",
              "      <td>-1.956190</td>\n",
              "      <td>-1.838446</td>\n",
              "      <td>-0.558045</td>\n",
              "      <td>0.482557</td>\n",
              "    </tr>\n",
              "    <tr>\n",
              "      <th>2013-01-07</th>\n",
              "      <td>-0.703784</td>\n",
              "      <td>-0.505800</td>\n",
              "      <td>0.078013</td>\n",
              "      <td>1.771567</td>\n",
              "    </tr>\n",
              "    <tr>\n",
              "      <th>2013-01-08</th>\n",
              "      <td>-1.217701</td>\n",
              "      <td>2.025393</td>\n",
              "      <td>-0.557288</td>\n",
              "      <td>-0.415036</td>\n",
              "    </tr>\n",
              "  </tbody>\n",
              "</table>\n",
              "</div>"
            ],
            "text/plain": [
              "                   A         B         C         D\n",
              "2013-01-03 -0.709641  0.170795 -0.956588 -0.419814\n",
              "2013-01-04 -0.689704 -1.596913 -0.906824 -0.677624\n",
              "2013-01-05 -1.956190 -1.838446 -0.558045  0.482557\n",
              "2013-01-07 -0.703784 -0.505800  0.078013  1.771567\n",
              "2013-01-08 -1.217701  2.025393 -0.557288 -0.415036"
            ]
          },
          "metadata": {
            "tags": []
          },
          "execution_count": 51
        }
      ]
    },
    {
      "cell_type": "code",
      "metadata": {
        "id": "BkgbRw7edtAP",
        "outputId": "a4388651-cc8d-44b4-dd61-b01c6f83b949",
        "colab": {
          "base_uri": "https://localhost:8080/",
          "height": 266
        }
      },
      "source": [
        "df[df <0]"
      ],
      "execution_count": null,
      "outputs": [
        {
          "output_type": "execute_result",
          "data": {
            "text/html": [
              "<div>\n",
              "<style scoped>\n",
              "    .dataframe tbody tr th:only-of-type {\n",
              "        vertical-align: middle;\n",
              "    }\n",
              "\n",
              "    .dataframe tbody tr th {\n",
              "        vertical-align: top;\n",
              "    }\n",
              "\n",
              "    .dataframe thead th {\n",
              "        text-align: right;\n",
              "    }\n",
              "</style>\n",
              "<table border=\"1\" class=\"dataframe\">\n",
              "  <thead>\n",
              "    <tr style=\"text-align: right;\">\n",
              "      <th></th>\n",
              "      <th>A</th>\n",
              "      <th>B</th>\n",
              "      <th>C</th>\n",
              "      <th>D</th>\n",
              "    </tr>\n",
              "  </thead>\n",
              "  <tbody>\n",
              "    <tr>\n",
              "      <th>2013-01-03</th>\n",
              "      <td>-0.709641</td>\n",
              "      <td>NaN</td>\n",
              "      <td>-0.956588</td>\n",
              "      <td>-0.419814</td>\n",
              "    </tr>\n",
              "    <tr>\n",
              "      <th>2013-01-04</th>\n",
              "      <td>-0.689704</td>\n",
              "      <td>-1.596913</td>\n",
              "      <td>-0.906824</td>\n",
              "      <td>-0.677624</td>\n",
              "    </tr>\n",
              "    <tr>\n",
              "      <th>2013-01-05</th>\n",
              "      <td>-1.956190</td>\n",
              "      <td>-1.838446</td>\n",
              "      <td>-0.558045</td>\n",
              "      <td>NaN</td>\n",
              "    </tr>\n",
              "    <tr>\n",
              "      <th>2013-01-06</th>\n",
              "      <td>NaN</td>\n",
              "      <td>NaN</td>\n",
              "      <td>NaN</td>\n",
              "      <td>-0.107409</td>\n",
              "    </tr>\n",
              "    <tr>\n",
              "      <th>2013-01-07</th>\n",
              "      <td>-0.703784</td>\n",
              "      <td>-0.505800</td>\n",
              "      <td>NaN</td>\n",
              "      <td>NaN</td>\n",
              "    </tr>\n",
              "    <tr>\n",
              "      <th>2013-01-08</th>\n",
              "      <td>-1.217701</td>\n",
              "      <td>NaN</td>\n",
              "      <td>-0.557288</td>\n",
              "      <td>-0.415036</td>\n",
              "    </tr>\n",
              "    <tr>\n",
              "      <th>2013-01-09</th>\n",
              "      <td>NaN</td>\n",
              "      <td>-0.102756</td>\n",
              "      <td>NaN</td>\n",
              "      <td>NaN</td>\n",
              "    </tr>\n",
              "  </tbody>\n",
              "</table>\n",
              "</div>"
            ],
            "text/plain": [
              "                   A         B         C         D\n",
              "2013-01-03 -0.709641       NaN -0.956588 -0.419814\n",
              "2013-01-04 -0.689704 -1.596913 -0.906824 -0.677624\n",
              "2013-01-05 -1.956190 -1.838446 -0.558045       NaN\n",
              "2013-01-06       NaN       NaN       NaN -0.107409\n",
              "2013-01-07 -0.703784 -0.505800       NaN       NaN\n",
              "2013-01-08 -1.217701       NaN -0.557288 -0.415036\n",
              "2013-01-09       NaN -0.102756       NaN       NaN"
            ]
          },
          "metadata": {
            "tags": []
          },
          "execution_count": 50
        }
      ]
    },
    {
      "cell_type": "markdown",
      "metadata": {
        "id": "pzAALWib1vkH"
      },
      "source": [
        "필터링을 위한 메소드 [isin()](https://pandas.pydata.org/pandas-docs/stable/reference/api/pandas.Series.isin.html)을 사용합니다."
      ]
    },
    {
      "cell_type": "code",
      "metadata": {
        "id": "uxRMsxetdv5-",
        "outputId": "af742db7-621e-49ab-ca1f-c42d60415cf1",
        "colab": {
          "base_uri": "https://localhost:8080/",
          "height": 266
        }
      },
      "source": [
        "df2 = df.copy()\n",
        "df2['E'] = ['one', 'one', 'two', 'three', 'four', 'three','two']\n",
        "df2"
      ],
      "execution_count": null,
      "outputs": [
        {
          "output_type": "execute_result",
          "data": {
            "text/html": [
              "<div>\n",
              "<style scoped>\n",
              "    .dataframe tbody tr th:only-of-type {\n",
              "        vertical-align: middle;\n",
              "    }\n",
              "\n",
              "    .dataframe tbody tr th {\n",
              "        vertical-align: top;\n",
              "    }\n",
              "\n",
              "    .dataframe thead th {\n",
              "        text-align: right;\n",
              "    }\n",
              "</style>\n",
              "<table border=\"1\" class=\"dataframe\">\n",
              "  <thead>\n",
              "    <tr style=\"text-align: right;\">\n",
              "      <th></th>\n",
              "      <th>A</th>\n",
              "      <th>B</th>\n",
              "      <th>C</th>\n",
              "      <th>D</th>\n",
              "      <th>E</th>\n",
              "    </tr>\n",
              "  </thead>\n",
              "  <tbody>\n",
              "    <tr>\n",
              "      <th>2013-01-03</th>\n",
              "      <td>-0.709641</td>\n",
              "      <td>0.170795</td>\n",
              "      <td>-0.956588</td>\n",
              "      <td>-0.419814</td>\n",
              "      <td>one</td>\n",
              "    </tr>\n",
              "    <tr>\n",
              "      <th>2013-01-04</th>\n",
              "      <td>-0.689704</td>\n",
              "      <td>-1.596913</td>\n",
              "      <td>-0.906824</td>\n",
              "      <td>-0.677624</td>\n",
              "      <td>one</td>\n",
              "    </tr>\n",
              "    <tr>\n",
              "      <th>2013-01-05</th>\n",
              "      <td>-1.956190</td>\n",
              "      <td>-1.838446</td>\n",
              "      <td>-0.558045</td>\n",
              "      <td>0.482557</td>\n",
              "      <td>two</td>\n",
              "    </tr>\n",
              "    <tr>\n",
              "      <th>2013-01-06</th>\n",
              "      <td>1.876946</td>\n",
              "      <td>1.593526</td>\n",
              "      <td>0.717020</td>\n",
              "      <td>-0.107409</td>\n",
              "      <td>three</td>\n",
              "    </tr>\n",
              "    <tr>\n",
              "      <th>2013-01-07</th>\n",
              "      <td>-0.703784</td>\n",
              "      <td>-0.505800</td>\n",
              "      <td>0.078013</td>\n",
              "      <td>1.771567</td>\n",
              "      <td>four</td>\n",
              "    </tr>\n",
              "    <tr>\n",
              "      <th>2013-01-08</th>\n",
              "      <td>-1.217701</td>\n",
              "      <td>2.025393</td>\n",
              "      <td>-0.557288</td>\n",
              "      <td>-0.415036</td>\n",
              "      <td>three</td>\n",
              "    </tr>\n",
              "    <tr>\n",
              "      <th>2013-01-09</th>\n",
              "      <td>0.180839</td>\n",
              "      <td>-0.102756</td>\n",
              "      <td>0.981322</td>\n",
              "      <td>0.086617</td>\n",
              "      <td>two</td>\n",
              "    </tr>\n",
              "  </tbody>\n",
              "</table>\n",
              "</div>"
            ],
            "text/plain": [
              "                   A         B         C         D      E\n",
              "2013-01-03 -0.709641  0.170795 -0.956588 -0.419814    one\n",
              "2013-01-04 -0.689704 -1.596913 -0.906824 -0.677624    one\n",
              "2013-01-05 -1.956190 -1.838446 -0.558045  0.482557    two\n",
              "2013-01-06  1.876946  1.593526  0.717020 -0.107409  three\n",
              "2013-01-07 -0.703784 -0.505800  0.078013  1.771567   four\n",
              "2013-01-08 -1.217701  2.025393 -0.557288 -0.415036  three\n",
              "2013-01-09  0.180839 -0.102756  0.981322  0.086617    two"
            ]
          },
          "metadata": {
            "tags": []
          },
          "execution_count": 49
        }
      ]
    },
    {
      "cell_type": "code",
      "metadata": {
        "id": "k75oUywXfH-d",
        "outputId": "244d1259-81fd-4df8-81ed-2dc45cf6c00b",
        "colab": {
          "base_uri": "https://localhost:8080/",
          "height": 142
        }
      },
      "source": [
        "df2[df2['E'].isin(['two','four'])] "
      ],
      "execution_count": null,
      "outputs": [
        {
          "output_type": "execute_result",
          "data": {
            "text/html": [
              "<div>\n",
              "<style scoped>\n",
              "    .dataframe tbody tr th:only-of-type {\n",
              "        vertical-align: middle;\n",
              "    }\n",
              "\n",
              "    .dataframe tbody tr th {\n",
              "        vertical-align: top;\n",
              "    }\n",
              "\n",
              "    .dataframe thead th {\n",
              "        text-align: right;\n",
              "    }\n",
              "</style>\n",
              "<table border=\"1\" class=\"dataframe\">\n",
              "  <thead>\n",
              "    <tr style=\"text-align: right;\">\n",
              "      <th></th>\n",
              "      <th>A</th>\n",
              "      <th>B</th>\n",
              "      <th>C</th>\n",
              "      <th>D</th>\n",
              "      <th>E</th>\n",
              "    </tr>\n",
              "  </thead>\n",
              "  <tbody>\n",
              "    <tr>\n",
              "      <th>2013-01-05</th>\n",
              "      <td>-1.956190</td>\n",
              "      <td>-1.838446</td>\n",
              "      <td>-0.558045</td>\n",
              "      <td>0.482557</td>\n",
              "      <td>two</td>\n",
              "    </tr>\n",
              "    <tr>\n",
              "      <th>2013-01-07</th>\n",
              "      <td>-0.703784</td>\n",
              "      <td>-0.505800</td>\n",
              "      <td>0.078013</td>\n",
              "      <td>1.771567</td>\n",
              "      <td>four</td>\n",
              "    </tr>\n",
              "    <tr>\n",
              "      <th>2013-01-09</th>\n",
              "      <td>0.180839</td>\n",
              "      <td>-0.102756</td>\n",
              "      <td>0.981322</td>\n",
              "      <td>0.086617</td>\n",
              "      <td>two</td>\n",
              "    </tr>\n",
              "  </tbody>\n",
              "</table>\n",
              "</div>"
            ],
            "text/plain": [
              "                   A         B         C         D     E\n",
              "2013-01-05 -1.956190 -1.838446 -0.558045  0.482557   two\n",
              "2013-01-07 -0.703784 -0.505800  0.078013  1.771567  four\n",
              "2013-01-09  0.180839 -0.102756  0.981322  0.086617   two"
            ]
          },
          "metadata": {
            "tags": []
          },
          "execution_count": 52
        }
      ]
    },
    {
      "cell_type": "markdown",
      "metadata": {
        "id": "VDe-_gckffFH"
      },
      "source": [
        "## Setting (설정)"
      ]
    },
    {
      "cell_type": "code",
      "metadata": {
        "id": "Eu-vsX5VfPCD",
        "outputId": "e9997648-a5e7-4963-c38b-c29594af2e64",
        "colab": {
          "base_uri": "https://localhost:8080/"
        }
      },
      "source": [
        "s1 = pd.Series([1,2,3,4,5,6,7,8], index=pd.date_range('20130101', periods=8)) #새 열을 설정하면 데이터가 인덱스 별로 자동 정렬\n",
        "s1"
      ],
      "execution_count": null,
      "outputs": [
        {
          "output_type": "execute_result",
          "data": {
            "text/plain": [
              "2013-01-01    1\n",
              "2013-01-02    2\n",
              "2013-01-03    3\n",
              "2013-01-04    4\n",
              "2013-01-05    5\n",
              "2013-01-06    6\n",
              "2013-01-07    7\n",
              "2013-01-08    8\n",
              "Freq: D, dtype: int64"
            ]
          },
          "metadata": {
            "tags": []
          },
          "execution_count": 56
        }
      ]
    },
    {
      "cell_type": "code",
      "metadata": {
        "id": "7leo6_45f2_9",
        "outputId": "5a1faa47-02ab-4332-822c-8c884a34f23e",
        "colab": {
          "base_uri": "https://localhost:8080/",
          "height": 266
        }
      },
      "source": [
        "df['F'] = s1\n",
        "df.at[dates[0],'A'] = 0 #라벨에 의해 값을 설정\n",
        "df.iat[0,1] = 0 #위치에 의해 값을 설정\n",
        "df.loc[:,'D'] = np.array([5] * len(df)) #Numpy 배열을 사용한 할당에 의해 값을 설정\n",
        "\n",
        "df"
      ],
      "execution_count": null,
      "outputs": [
        {
          "output_type": "execute_result",
          "data": {
            "text/html": [
              "<div>\n",
              "<style scoped>\n",
              "    .dataframe tbody tr th:only-of-type {\n",
              "        vertical-align: middle;\n",
              "    }\n",
              "\n",
              "    .dataframe tbody tr th {\n",
              "        vertical-align: top;\n",
              "    }\n",
              "\n",
              "    .dataframe thead th {\n",
              "        text-align: right;\n",
              "    }\n",
              "</style>\n",
              "<table border=\"1\" class=\"dataframe\">\n",
              "  <thead>\n",
              "    <tr style=\"text-align: right;\">\n",
              "      <th></th>\n",
              "      <th>A</th>\n",
              "      <th>B</th>\n",
              "      <th>C</th>\n",
              "      <th>D</th>\n",
              "      <th>F</th>\n",
              "    </tr>\n",
              "  </thead>\n",
              "  <tbody>\n",
              "    <tr>\n",
              "      <th>2013-01-03</th>\n",
              "      <td>0.000000</td>\n",
              "      <td>0.000000</td>\n",
              "      <td>-0.956588</td>\n",
              "      <td>5</td>\n",
              "      <td>3.0</td>\n",
              "    </tr>\n",
              "    <tr>\n",
              "      <th>2013-01-04</th>\n",
              "      <td>-0.689704</td>\n",
              "      <td>-1.596913</td>\n",
              "      <td>-0.906824</td>\n",
              "      <td>5</td>\n",
              "      <td>4.0</td>\n",
              "    </tr>\n",
              "    <tr>\n",
              "      <th>2013-01-05</th>\n",
              "      <td>-1.956190</td>\n",
              "      <td>-1.838446</td>\n",
              "      <td>-0.558045</td>\n",
              "      <td>5</td>\n",
              "      <td>5.0</td>\n",
              "    </tr>\n",
              "    <tr>\n",
              "      <th>2013-01-06</th>\n",
              "      <td>1.876946</td>\n",
              "      <td>1.593526</td>\n",
              "      <td>0.717020</td>\n",
              "      <td>5</td>\n",
              "      <td>6.0</td>\n",
              "    </tr>\n",
              "    <tr>\n",
              "      <th>2013-01-07</th>\n",
              "      <td>-0.703784</td>\n",
              "      <td>-0.505800</td>\n",
              "      <td>0.078013</td>\n",
              "      <td>5</td>\n",
              "      <td>7.0</td>\n",
              "    </tr>\n",
              "    <tr>\n",
              "      <th>2013-01-08</th>\n",
              "      <td>-1.217701</td>\n",
              "      <td>2.025393</td>\n",
              "      <td>-0.557288</td>\n",
              "      <td>5</td>\n",
              "      <td>8.0</td>\n",
              "    </tr>\n",
              "    <tr>\n",
              "      <th>2013-01-09</th>\n",
              "      <td>0.180839</td>\n",
              "      <td>-0.102756</td>\n",
              "      <td>0.981322</td>\n",
              "      <td>5</td>\n",
              "      <td>NaN</td>\n",
              "    </tr>\n",
              "  </tbody>\n",
              "</table>\n",
              "</div>"
            ],
            "text/plain": [
              "                   A         B         C  D    F\n",
              "2013-01-03  0.000000  0.000000 -0.956588  5  3.0\n",
              "2013-01-04 -0.689704 -1.596913 -0.906824  5  4.0\n",
              "2013-01-05 -1.956190 -1.838446 -0.558045  5  5.0\n",
              "2013-01-06  1.876946  1.593526  0.717020  5  6.0\n",
              "2013-01-07 -0.703784 -0.505800  0.078013  5  7.0\n",
              "2013-01-08 -1.217701  2.025393 -0.557288  5  8.0\n",
              "2013-01-09  0.180839 -0.102756  0.981322  5  NaN"
            ]
          },
          "metadata": {
            "tags": []
          },
          "execution_count": 63
        }
      ]
    },
    {
      "cell_type": "code",
      "metadata": {
        "id": "_SfSt_Eqf7se",
        "outputId": "d72fabca-95a4-473f-ff12-8889750d99f7",
        "colab": {
          "base_uri": "https://localhost:8080/",
          "height": 266
        }
      },
      "source": [
        "df2 = df.copy() #where 연산을 설정\n",
        "df2[df2 > 0] = -df2\n",
        "df2"
      ],
      "execution_count": null,
      "outputs": [
        {
          "output_type": "execute_result",
          "data": {
            "text/html": [
              "<div>\n",
              "<style scoped>\n",
              "    .dataframe tbody tr th:only-of-type {\n",
              "        vertical-align: middle;\n",
              "    }\n",
              "\n",
              "    .dataframe tbody tr th {\n",
              "        vertical-align: top;\n",
              "    }\n",
              "\n",
              "    .dataframe thead th {\n",
              "        text-align: right;\n",
              "    }\n",
              "</style>\n",
              "<table border=\"1\" class=\"dataframe\">\n",
              "  <thead>\n",
              "    <tr style=\"text-align: right;\">\n",
              "      <th></th>\n",
              "      <th>A</th>\n",
              "      <th>B</th>\n",
              "      <th>C</th>\n",
              "      <th>D</th>\n",
              "      <th>F</th>\n",
              "    </tr>\n",
              "  </thead>\n",
              "  <tbody>\n",
              "    <tr>\n",
              "      <th>2013-01-03</th>\n",
              "      <td>0.000000</td>\n",
              "      <td>0.000000</td>\n",
              "      <td>-0.956588</td>\n",
              "      <td>-5</td>\n",
              "      <td>-3.0</td>\n",
              "    </tr>\n",
              "    <tr>\n",
              "      <th>2013-01-04</th>\n",
              "      <td>-0.689704</td>\n",
              "      <td>-1.596913</td>\n",
              "      <td>-0.906824</td>\n",
              "      <td>-5</td>\n",
              "      <td>-4.0</td>\n",
              "    </tr>\n",
              "    <tr>\n",
              "      <th>2013-01-05</th>\n",
              "      <td>-1.956190</td>\n",
              "      <td>-1.838446</td>\n",
              "      <td>-0.558045</td>\n",
              "      <td>-5</td>\n",
              "      <td>-5.0</td>\n",
              "    </tr>\n",
              "    <tr>\n",
              "      <th>2013-01-06</th>\n",
              "      <td>-1.876946</td>\n",
              "      <td>-1.593526</td>\n",
              "      <td>-0.717020</td>\n",
              "      <td>-5</td>\n",
              "      <td>-6.0</td>\n",
              "    </tr>\n",
              "    <tr>\n",
              "      <th>2013-01-07</th>\n",
              "      <td>-0.703784</td>\n",
              "      <td>-0.505800</td>\n",
              "      <td>-0.078013</td>\n",
              "      <td>-5</td>\n",
              "      <td>-7.0</td>\n",
              "    </tr>\n",
              "    <tr>\n",
              "      <th>2013-01-08</th>\n",
              "      <td>-1.217701</td>\n",
              "      <td>-2.025393</td>\n",
              "      <td>-0.557288</td>\n",
              "      <td>-5</td>\n",
              "      <td>-8.0</td>\n",
              "    </tr>\n",
              "    <tr>\n",
              "      <th>2013-01-09</th>\n",
              "      <td>-0.180839</td>\n",
              "      <td>-0.102756</td>\n",
              "      <td>-0.981322</td>\n",
              "      <td>-5</td>\n",
              "      <td>NaN</td>\n",
              "    </tr>\n",
              "  </tbody>\n",
              "</table>\n",
              "</div>"
            ],
            "text/plain": [
              "                   A         B         C  D    F\n",
              "2013-01-03  0.000000  0.000000 -0.956588 -5 -3.0\n",
              "2013-01-04 -0.689704 -1.596913 -0.906824 -5 -4.0\n",
              "2013-01-05 -1.956190 -1.838446 -0.558045 -5 -5.0\n",
              "2013-01-06 -1.876946 -1.593526 -0.717020 -5 -6.0\n",
              "2013-01-07 -0.703784 -0.505800 -0.078013 -5 -7.0\n",
              "2013-01-08 -1.217701 -2.025393 -0.557288 -5 -8.0\n",
              "2013-01-09 -0.180839 -0.102756 -0.981322 -5  NaN"
            ]
          },
          "metadata": {
            "tags": []
          },
          "execution_count": 64
        }
      ]
    },
    {
      "cell_type": "markdown",
      "metadata": {
        "id": "O-8YCzZjhZhS"
      },
      "source": [
        "# 4. Missing Data (결측치)"
      ]
    },
    {
      "cell_type": "markdown",
      "metadata": {
        "id": "mMV5-b5s1odW"
      },
      "source": [
        "Pandas는 결측치를 표현하기 위해 주로 np.nan 값을 사용합니다. 이 방법은 기본 설정값이지만 계산에는 포함되지 않습니다. [Missing data section](https://pandas.pydata.org/pandas-docs/stable/user_guide/missing_data.html)을 참조하세요."
      ]
    },
    {
      "cell_type": "code",
      "metadata": {
        "id": "CYn_CJFfghDX",
        "outputId": "475af0c6-ab26-4837-9d60-70e3b5d33b6d",
        "colab": {
          "base_uri": "https://localhost:8080/",
          "height": 173
        }
      },
      "source": [
        "#Reindexing으로 지정된 축 상의 인덱스를 변경 / 추가 / 삭제할 수 있습니다\n",
        "df1 = df.reindex(index=dates[0:4], columns=list(df.columns) + ['E'])\n",
        "df1.loc[dates[0]:dates[1],'E'] = 1\n",
        "df1"
      ],
      "execution_count": null,
      "outputs": [
        {
          "output_type": "execute_result",
          "data": {
            "text/html": [
              "<div>\n",
              "<style scoped>\n",
              "    .dataframe tbody tr th:only-of-type {\n",
              "        vertical-align: middle;\n",
              "    }\n",
              "\n",
              "    .dataframe tbody tr th {\n",
              "        vertical-align: top;\n",
              "    }\n",
              "\n",
              "    .dataframe thead th {\n",
              "        text-align: right;\n",
              "    }\n",
              "</style>\n",
              "<table border=\"1\" class=\"dataframe\">\n",
              "  <thead>\n",
              "    <tr style=\"text-align: right;\">\n",
              "      <th></th>\n",
              "      <th>A</th>\n",
              "      <th>B</th>\n",
              "      <th>C</th>\n",
              "      <th>D</th>\n",
              "      <th>F</th>\n",
              "      <th>E</th>\n",
              "    </tr>\n",
              "  </thead>\n",
              "  <tbody>\n",
              "    <tr>\n",
              "      <th>2013-01-03</th>\n",
              "      <td>0.000000</td>\n",
              "      <td>0.000000</td>\n",
              "      <td>-0.956588</td>\n",
              "      <td>5</td>\n",
              "      <td>3.0</td>\n",
              "      <td>1.0</td>\n",
              "    </tr>\n",
              "    <tr>\n",
              "      <th>2013-01-04</th>\n",
              "      <td>-0.689704</td>\n",
              "      <td>-1.596913</td>\n",
              "      <td>-0.906824</td>\n",
              "      <td>5</td>\n",
              "      <td>4.0</td>\n",
              "      <td>1.0</td>\n",
              "    </tr>\n",
              "    <tr>\n",
              "      <th>2013-01-05</th>\n",
              "      <td>-1.956190</td>\n",
              "      <td>-1.838446</td>\n",
              "      <td>-0.558045</td>\n",
              "      <td>5</td>\n",
              "      <td>5.0</td>\n",
              "      <td>NaN</td>\n",
              "    </tr>\n",
              "    <tr>\n",
              "      <th>2013-01-06</th>\n",
              "      <td>1.876946</td>\n",
              "      <td>1.593526</td>\n",
              "      <td>0.717020</td>\n",
              "      <td>5</td>\n",
              "      <td>6.0</td>\n",
              "      <td>NaN</td>\n",
              "    </tr>\n",
              "  </tbody>\n",
              "</table>\n",
              "</div>"
            ],
            "text/plain": [
              "                   A         B         C  D    F    E\n",
              "2013-01-03  0.000000  0.000000 -0.956588  5  3.0  1.0\n",
              "2013-01-04 -0.689704 -1.596913 -0.906824  5  4.0  1.0\n",
              "2013-01-05 -1.956190 -1.838446 -0.558045  5  5.0  NaN\n",
              "2013-01-06  1.876946  1.593526  0.717020  5  6.0  NaN"
            ]
          },
          "metadata": {
            "tags": []
          },
          "execution_count": 65
        }
      ]
    },
    {
      "cell_type": "code",
      "metadata": {
        "id": "BbYh_Mbugluu",
        "outputId": "b8e42570-f9e7-47fc-a8e2-b0bcedcf6e6f",
        "colab": {
          "base_uri": "https://localhost:8080/",
          "height": 111
        }
      },
      "source": [
        "df1.dropna(how='any') #결측치를 가지고 있는 행들을 지웁니다"
      ],
      "execution_count": null,
      "outputs": [
        {
          "output_type": "execute_result",
          "data": {
            "text/html": [
              "<div>\n",
              "<style scoped>\n",
              "    .dataframe tbody tr th:only-of-type {\n",
              "        vertical-align: middle;\n",
              "    }\n",
              "\n",
              "    .dataframe tbody tr th {\n",
              "        vertical-align: top;\n",
              "    }\n",
              "\n",
              "    .dataframe thead th {\n",
              "        text-align: right;\n",
              "    }\n",
              "</style>\n",
              "<table border=\"1\" class=\"dataframe\">\n",
              "  <thead>\n",
              "    <tr style=\"text-align: right;\">\n",
              "      <th></th>\n",
              "      <th>A</th>\n",
              "      <th>B</th>\n",
              "      <th>C</th>\n",
              "      <th>D</th>\n",
              "      <th>F</th>\n",
              "      <th>E</th>\n",
              "    </tr>\n",
              "  </thead>\n",
              "  <tbody>\n",
              "    <tr>\n",
              "      <th>2013-01-03</th>\n",
              "      <td>0.000000</td>\n",
              "      <td>0.000000</td>\n",
              "      <td>-0.956588</td>\n",
              "      <td>5</td>\n",
              "      <td>3.0</td>\n",
              "      <td>1.0</td>\n",
              "    </tr>\n",
              "    <tr>\n",
              "      <th>2013-01-04</th>\n",
              "      <td>-0.689704</td>\n",
              "      <td>-1.596913</td>\n",
              "      <td>-0.906824</td>\n",
              "      <td>5</td>\n",
              "      <td>4.0</td>\n",
              "      <td>1.0</td>\n",
              "    </tr>\n",
              "  </tbody>\n",
              "</table>\n",
              "</div>"
            ],
            "text/plain": [
              "                   A         B         C  D    F    E\n",
              "2013-01-03  0.000000  0.000000 -0.956588  5  3.0  1.0\n",
              "2013-01-04 -0.689704 -1.596913 -0.906824  5  4.0  1.0"
            ]
          },
          "metadata": {
            "tags": []
          },
          "execution_count": 66
        }
      ]
    },
    {
      "cell_type": "code",
      "metadata": {
        "id": "AAxK4F3Kgwy-",
        "outputId": "5dccce3b-df37-45be-cc34-4b599c148382",
        "colab": {
          "base_uri": "https://localhost:8080/",
          "height": 173
        }
      },
      "source": [
        "df1.fillna(value=4) #결측치를 가지고 있는 행들을 채웁니다"
      ],
      "execution_count": null,
      "outputs": [
        {
          "output_type": "execute_result",
          "data": {
            "text/html": [
              "<div>\n",
              "<style scoped>\n",
              "    .dataframe tbody tr th:only-of-type {\n",
              "        vertical-align: middle;\n",
              "    }\n",
              "\n",
              "    .dataframe tbody tr th {\n",
              "        vertical-align: top;\n",
              "    }\n",
              "\n",
              "    .dataframe thead th {\n",
              "        text-align: right;\n",
              "    }\n",
              "</style>\n",
              "<table border=\"1\" class=\"dataframe\">\n",
              "  <thead>\n",
              "    <tr style=\"text-align: right;\">\n",
              "      <th></th>\n",
              "      <th>A</th>\n",
              "      <th>B</th>\n",
              "      <th>C</th>\n",
              "      <th>D</th>\n",
              "      <th>F</th>\n",
              "      <th>E</th>\n",
              "    </tr>\n",
              "  </thead>\n",
              "  <tbody>\n",
              "    <tr>\n",
              "      <th>2013-01-03</th>\n",
              "      <td>0.000000</td>\n",
              "      <td>0.000000</td>\n",
              "      <td>-0.956588</td>\n",
              "      <td>5</td>\n",
              "      <td>3.0</td>\n",
              "      <td>1.0</td>\n",
              "    </tr>\n",
              "    <tr>\n",
              "      <th>2013-01-04</th>\n",
              "      <td>-0.689704</td>\n",
              "      <td>-1.596913</td>\n",
              "      <td>-0.906824</td>\n",
              "      <td>5</td>\n",
              "      <td>4.0</td>\n",
              "      <td>1.0</td>\n",
              "    </tr>\n",
              "    <tr>\n",
              "      <th>2013-01-05</th>\n",
              "      <td>-1.956190</td>\n",
              "      <td>-1.838446</td>\n",
              "      <td>-0.558045</td>\n",
              "      <td>5</td>\n",
              "      <td>5.0</td>\n",
              "      <td>4.0</td>\n",
              "    </tr>\n",
              "    <tr>\n",
              "      <th>2013-01-06</th>\n",
              "      <td>1.876946</td>\n",
              "      <td>1.593526</td>\n",
              "      <td>0.717020</td>\n",
              "      <td>5</td>\n",
              "      <td>6.0</td>\n",
              "      <td>4.0</td>\n",
              "    </tr>\n",
              "  </tbody>\n",
              "</table>\n",
              "</div>"
            ],
            "text/plain": [
              "                   A         B         C  D    F    E\n",
              "2013-01-03  0.000000  0.000000 -0.956588  5  3.0  1.0\n",
              "2013-01-04 -0.689704 -1.596913 -0.906824  5  4.0  1.0\n",
              "2013-01-05 -1.956190 -1.838446 -0.558045  5  5.0  4.0\n",
              "2013-01-06  1.876946  1.593526  0.717020  5  6.0  4.0"
            ]
          },
          "metadata": {
            "tags": []
          },
          "execution_count": 68
        }
      ]
    },
    {
      "cell_type": "code",
      "metadata": {
        "id": "UEB5NEbVjKOi",
        "outputId": "369eee33-ed39-448f-a216-645f045f0742",
        "colab": {
          "base_uri": "https://localhost:8080/",
          "height": 173
        }
      },
      "source": [
        "pd.isna(df1) #데이터프레임의 모든 값이 boolean 형태로 표시되도록 하며, nan인 값에만 True가 표시되게 하는 함수"
      ],
      "execution_count": null,
      "outputs": [
        {
          "output_type": "execute_result",
          "data": {
            "text/html": [
              "<div>\n",
              "<style scoped>\n",
              "    .dataframe tbody tr th:only-of-type {\n",
              "        vertical-align: middle;\n",
              "    }\n",
              "\n",
              "    .dataframe tbody tr th {\n",
              "        vertical-align: top;\n",
              "    }\n",
              "\n",
              "    .dataframe thead th {\n",
              "        text-align: right;\n",
              "    }\n",
              "</style>\n",
              "<table border=\"1\" class=\"dataframe\">\n",
              "  <thead>\n",
              "    <tr style=\"text-align: right;\">\n",
              "      <th></th>\n",
              "      <th>A</th>\n",
              "      <th>B</th>\n",
              "      <th>C</th>\n",
              "      <th>D</th>\n",
              "      <th>F</th>\n",
              "      <th>E</th>\n",
              "    </tr>\n",
              "  </thead>\n",
              "  <tbody>\n",
              "    <tr>\n",
              "      <th>2013-01-03</th>\n",
              "      <td>False</td>\n",
              "      <td>False</td>\n",
              "      <td>False</td>\n",
              "      <td>False</td>\n",
              "      <td>False</td>\n",
              "      <td>False</td>\n",
              "    </tr>\n",
              "    <tr>\n",
              "      <th>2013-01-04</th>\n",
              "      <td>False</td>\n",
              "      <td>False</td>\n",
              "      <td>False</td>\n",
              "      <td>False</td>\n",
              "      <td>False</td>\n",
              "      <td>False</td>\n",
              "    </tr>\n",
              "    <tr>\n",
              "      <th>2013-01-05</th>\n",
              "      <td>False</td>\n",
              "      <td>False</td>\n",
              "      <td>False</td>\n",
              "      <td>False</td>\n",
              "      <td>False</td>\n",
              "      <td>True</td>\n",
              "    </tr>\n",
              "    <tr>\n",
              "      <th>2013-01-06</th>\n",
              "      <td>False</td>\n",
              "      <td>False</td>\n",
              "      <td>False</td>\n",
              "      <td>False</td>\n",
              "      <td>False</td>\n",
              "      <td>True</td>\n",
              "    </tr>\n",
              "  </tbody>\n",
              "</table>\n",
              "</div>"
            ],
            "text/plain": [
              "                A      B      C      D      F      E\n",
              "2013-01-03  False  False  False  False  False  False\n",
              "2013-01-04  False  False  False  False  False  False\n",
              "2013-01-05  False  False  False  False  False   True\n",
              "2013-01-06  False  False  False  False  False   True"
            ]
          },
          "metadata": {
            "tags": []
          },
          "execution_count": 69
        }
      ]
    },
    {
      "cell_type": "markdown",
      "metadata": {
        "id": "b_4KLAPzjTlX"
      },
      "source": [
        "# 5. Operation (연산)"
      ]
    },
    {
      "cell_type": "markdown",
      "metadata": {
        "id": "aWR925hJ1hFL"
      },
      "source": [
        "[이진 (Binary) 연산의 기본 섹션](https://pandas.pydata.org/pandas-docs/stable/user_guide/basics.html)을 참조하세요."
      ]
    },
    {
      "cell_type": "markdown",
      "metadata": {
        "id": "M-EMdcoAjc3J"
      },
      "source": [
        "## Stats (통계)"
      ]
    },
    {
      "cell_type": "code",
      "metadata": {
        "id": "HGK7VvYwjoRO",
        "outputId": "3a6c2614-84e6-4e01-ff52-14c5d1fcacc3",
        "colab": {
          "base_uri": "https://localhost:8080/",
          "height": 266
        }
      },
      "source": [
        "df"
      ],
      "execution_count": null,
      "outputs": [
        {
          "output_type": "execute_result",
          "data": {
            "text/html": [
              "<div>\n",
              "<style scoped>\n",
              "    .dataframe tbody tr th:only-of-type {\n",
              "        vertical-align: middle;\n",
              "    }\n",
              "\n",
              "    .dataframe tbody tr th {\n",
              "        vertical-align: top;\n",
              "    }\n",
              "\n",
              "    .dataframe thead th {\n",
              "        text-align: right;\n",
              "    }\n",
              "</style>\n",
              "<table border=\"1\" class=\"dataframe\">\n",
              "  <thead>\n",
              "    <tr style=\"text-align: right;\">\n",
              "      <th></th>\n",
              "      <th>A</th>\n",
              "      <th>B</th>\n",
              "      <th>C</th>\n",
              "      <th>D</th>\n",
              "      <th>F</th>\n",
              "    </tr>\n",
              "  </thead>\n",
              "  <tbody>\n",
              "    <tr>\n",
              "      <th>2013-01-03</th>\n",
              "      <td>0.000000</td>\n",
              "      <td>0.000000</td>\n",
              "      <td>-0.956588</td>\n",
              "      <td>5</td>\n",
              "      <td>3.0</td>\n",
              "    </tr>\n",
              "    <tr>\n",
              "      <th>2013-01-04</th>\n",
              "      <td>-0.689704</td>\n",
              "      <td>-1.596913</td>\n",
              "      <td>-0.906824</td>\n",
              "      <td>5</td>\n",
              "      <td>4.0</td>\n",
              "    </tr>\n",
              "    <tr>\n",
              "      <th>2013-01-05</th>\n",
              "      <td>-1.956190</td>\n",
              "      <td>-1.838446</td>\n",
              "      <td>-0.558045</td>\n",
              "      <td>5</td>\n",
              "      <td>5.0</td>\n",
              "    </tr>\n",
              "    <tr>\n",
              "      <th>2013-01-06</th>\n",
              "      <td>1.876946</td>\n",
              "      <td>1.593526</td>\n",
              "      <td>0.717020</td>\n",
              "      <td>5</td>\n",
              "      <td>6.0</td>\n",
              "    </tr>\n",
              "    <tr>\n",
              "      <th>2013-01-07</th>\n",
              "      <td>-0.703784</td>\n",
              "      <td>-0.505800</td>\n",
              "      <td>0.078013</td>\n",
              "      <td>5</td>\n",
              "      <td>7.0</td>\n",
              "    </tr>\n",
              "    <tr>\n",
              "      <th>2013-01-08</th>\n",
              "      <td>-1.217701</td>\n",
              "      <td>2.025393</td>\n",
              "      <td>-0.557288</td>\n",
              "      <td>5</td>\n",
              "      <td>8.0</td>\n",
              "    </tr>\n",
              "    <tr>\n",
              "      <th>2013-01-09</th>\n",
              "      <td>0.180839</td>\n",
              "      <td>-0.102756</td>\n",
              "      <td>0.981322</td>\n",
              "      <td>5</td>\n",
              "      <td>NaN</td>\n",
              "    </tr>\n",
              "  </tbody>\n",
              "</table>\n",
              "</div>"
            ],
            "text/plain": [
              "                   A         B         C  D    F\n",
              "2013-01-03  0.000000  0.000000 -0.956588  5  3.0\n",
              "2013-01-04 -0.689704 -1.596913 -0.906824  5  4.0\n",
              "2013-01-05 -1.956190 -1.838446 -0.558045  5  5.0\n",
              "2013-01-06  1.876946  1.593526  0.717020  5  6.0\n",
              "2013-01-07 -0.703784 -0.505800  0.078013  5  7.0\n",
              "2013-01-08 -1.217701  2.025393 -0.557288  5  8.0\n",
              "2013-01-09  0.180839 -0.102756  0.981322  5  NaN"
            ]
          },
          "metadata": {
            "tags": []
          },
          "execution_count": 71
        }
      ]
    },
    {
      "cell_type": "code",
      "metadata": {
        "id": "UpmbozL6jVE-",
        "outputId": "629285d2-8541-4f91-908d-743f97c5df19",
        "colab": {
          "base_uri": "https://localhost:8080/"
        }
      },
      "source": [
        "df.mean() #일반적으로 결측치를 제외한 후 연산"
      ],
      "execution_count": null,
      "outputs": [
        {
          "output_type": "execute_result",
          "data": {
            "text/plain": [
              "A   -0.358514\n",
              "B   -0.060714\n",
              "C   -0.171770\n",
              "D    5.000000\n",
              "F    5.500000\n",
              "dtype: float64"
            ]
          },
          "metadata": {
            "tags": []
          },
          "execution_count": 70
        }
      ]
    },
    {
      "cell_type": "code",
      "metadata": {
        "id": "V2E4Dl9Wjuh_",
        "outputId": "4834db43-e1ad-45af-fe07-7025e584c888",
        "colab": {
          "base_uri": "https://localhost:8080/"
        }
      },
      "source": [
        "df.mean(1) #다른 축에서 동일한 연산을 수행"
      ],
      "execution_count": null,
      "outputs": [
        {
          "output_type": "execute_result",
          "data": {
            "text/plain": [
              "2013-01-03    1.408682\n",
              "2013-01-04    1.161312\n",
              "2013-01-05    1.129464\n",
              "2013-01-06    3.037498\n",
              "2013-01-07    2.173686\n",
              "2013-01-08    2.650081\n",
              "2013-01-09    1.514851\n",
              "Freq: D, dtype: float64"
            ]
          },
          "metadata": {
            "tags": []
          },
          "execution_count": 72
        }
      ]
    },
    {
      "cell_type": "code",
      "metadata": {
        "id": "NpkMpQw2j06u",
        "outputId": "2ae386c9-b83a-4f13-e997-9ac059907ceb",
        "colab": {
          "base_uri": "https://localhost:8080/"
        }
      },
      "source": [
        "s = pd.Series([1,3,5,np.nan,6,8,10], index=dates).shift(2)\n",
        "s\n"
      ],
      "execution_count": null,
      "outputs": [
        {
          "output_type": "execute_result",
          "data": {
            "text/plain": [
              "2013-01-03    NaN\n",
              "2013-01-04    NaN\n",
              "2013-01-05    1.0\n",
              "2013-01-06    3.0\n",
              "2013-01-07    5.0\n",
              "2013-01-08    NaN\n",
              "2013-01-09    6.0\n",
              "Freq: D, dtype: float64"
            ]
          },
          "metadata": {
            "tags": []
          },
          "execution_count": 76
        }
      ]
    },
    {
      "cell_type": "code",
      "metadata": {
        "id": "FbSRjpdMmUHQ",
        "outputId": "57275204-6c6e-4e32-ca7f-b52cb6d7817e",
        "colab": {
          "base_uri": "https://localhost:8080/",
          "height": 266
        }
      },
      "source": [
        "df.sub(s, axis='index')"
      ],
      "execution_count": null,
      "outputs": [
        {
          "output_type": "execute_result",
          "data": {
            "text/html": [
              "<div>\n",
              "<style scoped>\n",
              "    .dataframe tbody tr th:only-of-type {\n",
              "        vertical-align: middle;\n",
              "    }\n",
              "\n",
              "    .dataframe tbody tr th {\n",
              "        vertical-align: top;\n",
              "    }\n",
              "\n",
              "    .dataframe thead th {\n",
              "        text-align: right;\n",
              "    }\n",
              "</style>\n",
              "<table border=\"1\" class=\"dataframe\">\n",
              "  <thead>\n",
              "    <tr style=\"text-align: right;\">\n",
              "      <th></th>\n",
              "      <th>A</th>\n",
              "      <th>B</th>\n",
              "      <th>C</th>\n",
              "      <th>D</th>\n",
              "      <th>F</th>\n",
              "    </tr>\n",
              "  </thead>\n",
              "  <tbody>\n",
              "    <tr>\n",
              "      <th>2013-01-03</th>\n",
              "      <td>NaN</td>\n",
              "      <td>NaN</td>\n",
              "      <td>NaN</td>\n",
              "      <td>NaN</td>\n",
              "      <td>NaN</td>\n",
              "    </tr>\n",
              "    <tr>\n",
              "      <th>2013-01-04</th>\n",
              "      <td>NaN</td>\n",
              "      <td>NaN</td>\n",
              "      <td>NaN</td>\n",
              "      <td>NaN</td>\n",
              "      <td>NaN</td>\n",
              "    </tr>\n",
              "    <tr>\n",
              "      <th>2013-01-05</th>\n",
              "      <td>-2.956190</td>\n",
              "      <td>-2.838446</td>\n",
              "      <td>-1.558045</td>\n",
              "      <td>4.0</td>\n",
              "      <td>4.0</td>\n",
              "    </tr>\n",
              "    <tr>\n",
              "      <th>2013-01-06</th>\n",
              "      <td>-1.123054</td>\n",
              "      <td>-1.406474</td>\n",
              "      <td>-2.282980</td>\n",
              "      <td>2.0</td>\n",
              "      <td>3.0</td>\n",
              "    </tr>\n",
              "    <tr>\n",
              "      <th>2013-01-07</th>\n",
              "      <td>-5.703784</td>\n",
              "      <td>-5.505800</td>\n",
              "      <td>-4.921987</td>\n",
              "      <td>0.0</td>\n",
              "      <td>2.0</td>\n",
              "    </tr>\n",
              "    <tr>\n",
              "      <th>2013-01-08</th>\n",
              "      <td>NaN</td>\n",
              "      <td>NaN</td>\n",
              "      <td>NaN</td>\n",
              "      <td>NaN</td>\n",
              "      <td>NaN</td>\n",
              "    </tr>\n",
              "    <tr>\n",
              "      <th>2013-01-09</th>\n",
              "      <td>-5.819161</td>\n",
              "      <td>-6.102756</td>\n",
              "      <td>-5.018678</td>\n",
              "      <td>-1.0</td>\n",
              "      <td>NaN</td>\n",
              "    </tr>\n",
              "  </tbody>\n",
              "</table>\n",
              "</div>"
            ],
            "text/plain": [
              "                   A         B         C    D    F\n",
              "2013-01-03       NaN       NaN       NaN  NaN  NaN\n",
              "2013-01-04       NaN       NaN       NaN  NaN  NaN\n",
              "2013-01-05 -2.956190 -2.838446 -1.558045  4.0  4.0\n",
              "2013-01-06 -1.123054 -1.406474 -2.282980  2.0  3.0\n",
              "2013-01-07 -5.703784 -5.505800 -4.921987  0.0  2.0\n",
              "2013-01-08       NaN       NaN       NaN  NaN  NaN\n",
              "2013-01-09 -5.819161 -6.102756 -5.018678 -1.0  NaN"
            ]
          },
          "metadata": {
            "tags": []
          },
          "execution_count": 77
        }
      ]
    },
    {
      "cell_type": "markdown",
      "metadata": {
        "id": "2e-ivZismhzg"
      },
      "source": [
        "## Apply (적용)"
      ]
    },
    {
      "cell_type": "code",
      "metadata": {
        "id": "Pay-SOrdml7w",
        "outputId": "ec09f393-fe3a-4833-c868-60205a44ac30",
        "colab": {
          "base_uri": "https://localhost:8080/",
          "height": 266
        }
      },
      "source": [
        "df.apply(np.cumsum) #데이터에 함수를 적용"
      ],
      "execution_count": null,
      "outputs": [
        {
          "output_type": "execute_result",
          "data": {
            "text/html": [
              "<div>\n",
              "<style scoped>\n",
              "    .dataframe tbody tr th:only-of-type {\n",
              "        vertical-align: middle;\n",
              "    }\n",
              "\n",
              "    .dataframe tbody tr th {\n",
              "        vertical-align: top;\n",
              "    }\n",
              "\n",
              "    .dataframe thead th {\n",
              "        text-align: right;\n",
              "    }\n",
              "</style>\n",
              "<table border=\"1\" class=\"dataframe\">\n",
              "  <thead>\n",
              "    <tr style=\"text-align: right;\">\n",
              "      <th></th>\n",
              "      <th>A</th>\n",
              "      <th>B</th>\n",
              "      <th>C</th>\n",
              "      <th>D</th>\n",
              "      <th>F</th>\n",
              "    </tr>\n",
              "  </thead>\n",
              "  <tbody>\n",
              "    <tr>\n",
              "      <th>2013-01-03</th>\n",
              "      <td>0.000000</td>\n",
              "      <td>0.000000</td>\n",
              "      <td>-0.956588</td>\n",
              "      <td>5</td>\n",
              "      <td>3.0</td>\n",
              "    </tr>\n",
              "    <tr>\n",
              "      <th>2013-01-04</th>\n",
              "      <td>-0.689704</td>\n",
              "      <td>-1.596913</td>\n",
              "      <td>-1.863412</td>\n",
              "      <td>10</td>\n",
              "      <td>7.0</td>\n",
              "    </tr>\n",
              "    <tr>\n",
              "      <th>2013-01-05</th>\n",
              "      <td>-2.645894</td>\n",
              "      <td>-3.435359</td>\n",
              "      <td>-2.421457</td>\n",
              "      <td>15</td>\n",
              "      <td>12.0</td>\n",
              "    </tr>\n",
              "    <tr>\n",
              "      <th>2013-01-06</th>\n",
              "      <td>-0.768948</td>\n",
              "      <td>-1.841832</td>\n",
              "      <td>-1.704437</td>\n",
              "      <td>20</td>\n",
              "      <td>18.0</td>\n",
              "    </tr>\n",
              "    <tr>\n",
              "      <th>2013-01-07</th>\n",
              "      <td>-1.472733</td>\n",
              "      <td>-2.347632</td>\n",
              "      <td>-1.626424</td>\n",
              "      <td>25</td>\n",
              "      <td>25.0</td>\n",
              "    </tr>\n",
              "    <tr>\n",
              "      <th>2013-01-08</th>\n",
              "      <td>-2.690434</td>\n",
              "      <td>-0.322239</td>\n",
              "      <td>-2.183712</td>\n",
              "      <td>30</td>\n",
              "      <td>33.0</td>\n",
              "    </tr>\n",
              "    <tr>\n",
              "      <th>2013-01-09</th>\n",
              "      <td>-2.509595</td>\n",
              "      <td>-0.424995</td>\n",
              "      <td>-1.202390</td>\n",
              "      <td>35</td>\n",
              "      <td>NaN</td>\n",
              "    </tr>\n",
              "  </tbody>\n",
              "</table>\n",
              "</div>"
            ],
            "text/plain": [
              "                   A         B         C   D     F\n",
              "2013-01-03  0.000000  0.000000 -0.956588   5   3.0\n",
              "2013-01-04 -0.689704 -1.596913 -1.863412  10   7.0\n",
              "2013-01-05 -2.645894 -3.435359 -2.421457  15  12.0\n",
              "2013-01-06 -0.768948 -1.841832 -1.704437  20  18.0\n",
              "2013-01-07 -1.472733 -2.347632 -1.626424  25  25.0\n",
              "2013-01-08 -2.690434 -0.322239 -2.183712  30  33.0\n",
              "2013-01-09 -2.509595 -0.424995 -1.202390  35   NaN"
            ]
          },
          "metadata": {
            "tags": []
          },
          "execution_count": 78
        }
      ]
    },
    {
      "cell_type": "code",
      "metadata": {
        "id": "egZ7VEyampK4",
        "outputId": "9b4ef478-effc-4d3f-8775-3829f6eed4d7",
        "colab": {
          "base_uri": "https://localhost:8080/"
        }
      },
      "source": [
        "df.apply(lambda x: x.max() - x.min())"
      ],
      "execution_count": null,
      "outputs": [
        {
          "output_type": "execute_result",
          "data": {
            "text/plain": [
              "A    3.833136\n",
              "B    3.863839\n",
              "C    1.937910\n",
              "D    0.000000\n",
              "F    5.000000\n",
              "dtype: float64"
            ]
          },
          "metadata": {
            "tags": []
          },
          "execution_count": 79
        }
      ]
    },
    {
      "cell_type": "markdown",
      "metadata": {
        "id": "aR90p00KnAsb"
      },
      "source": [
        "## Histogramming (히스토그래밍)"
      ]
    },
    {
      "cell_type": "markdown",
      "metadata": {
        "id": "_g21CZco1YNf"
      },
      "source": [
        "더 많은 내용은 [Histogramming and Discretization (히스토그래밍과 이산화)](https://pandas.pydata.org/pandas-docs/stable/user_guide/basics.html) 항목을 참조하세요."
      ]
    },
    {
      "cell_type": "code",
      "metadata": {
        "id": "tYLEEs_ZnD0Q",
        "outputId": "e2a836e0-a1f1-4560-9666-fca67fae6c82",
        "colab": {
          "base_uri": "https://localhost:8080/"
        }
      },
      "source": [
        "s = pd.Series(np.random.randint(0, 7, size=10))\n",
        "s"
      ],
      "execution_count": null,
      "outputs": [
        {
          "output_type": "execute_result",
          "data": {
            "text/plain": [
              "0    1\n",
              "1    6\n",
              "2    4\n",
              "3    1\n",
              "4    4\n",
              "5    2\n",
              "6    6\n",
              "7    2\n",
              "8    0\n",
              "9    2\n",
              "dtype: int64"
            ]
          },
          "metadata": {
            "tags": []
          },
          "execution_count": 82
        }
      ]
    },
    {
      "cell_type": "code",
      "metadata": {
        "id": "soDjTCLKnYvy",
        "outputId": "64439166-e077-4f64-c7f2-f81a862eba7a",
        "colab": {
          "base_uri": "https://localhost:8080/"
        }
      },
      "source": [
        "s.value_counts()"
      ],
      "execution_count": null,
      "outputs": [
        {
          "output_type": "execute_result",
          "data": {
            "text/plain": [
              "2    3\n",
              "6    2\n",
              "4    2\n",
              "1    2\n",
              "0    1\n",
              "dtype: int64"
            ]
          },
          "metadata": {
            "tags": []
          },
          "execution_count": 83
        }
      ]
    },
    {
      "cell_type": "markdown",
      "metadata": {
        "id": "1iibNLXCncei"
      },
      "source": [
        "## String Methods (문자열 메소드)"
      ]
    },
    {
      "cell_type": "markdown",
      "metadata": {
        "id": "is7JEmI51RoD"
      },
      "source": [
        "Series는 다음의 코드와 같이 문자열 처리 메소드 모음 (set)을 가지고 있습니다.\n",
        "이 모음은 배열의 각 요소를 쉽게 조작할 수 있도록 만들어주는 문자열의 속성에 포함되어 있습니다.\n",
        "\n",
        "문자열의 패턴 일치 확인은 기본적으로 정규 표현식을 사용하며, 몇몇 경우에는 항상 정규 표현식을 사용함에 유의하십시오.\n",
        "\n",
        "좀 더 자세한 내용은 [벡터화된 문자열 메소드 부분](https://pandas.pydata.org/pandas-docs/stable/user_guide/text.html)에서 확인할 수 있습니다."
      ]
    },
    {
      "cell_type": "code",
      "metadata": {
        "id": "XlsX6yJfnbEx",
        "outputId": "b5efd3a0-f51c-4ecc-8a7d-7b9b42ea7e96",
        "colab": {
          "base_uri": "https://localhost:8080/"
        }
      },
      "source": [
        "s = pd.Series(['A', 'B', 'C', 'Aaba', 'Baca', np.nan, 'CABA', 'dog', 'cat'])\n",
        "s.str.lower() #소문자로 바꾸기"
      ],
      "execution_count": null,
      "outputs": [
        {
          "output_type": "execute_result",
          "data": {
            "text/plain": [
              "0       a\n",
              "1       b\n",
              "2       c\n",
              "3    aaba\n",
              "4    baca\n",
              "5     NaN\n",
              "6    caba\n",
              "7     dog\n",
              "8     cat\n",
              "dtype: object"
            ]
          },
          "metadata": {
            "tags": []
          },
          "execution_count": 84
        }
      ]
    },
    {
      "cell_type": "markdown",
      "metadata": {
        "id": "sGt7l0T-okCl"
      },
      "source": [
        "# 6. Merge (병합)"
      ]
    },
    {
      "cell_type": "markdown",
      "metadata": {
        "id": "Gywdz6t2onBc"
      },
      "source": [
        "## Concat (연결)"
      ]
    },
    {
      "cell_type": "markdown",
      "metadata": {
        "id": "UtEO1V9t1C5r"
      },
      "source": [
        "결합 (join) / 병합 (merge) 형태의 연산에 대한 인덱스, 관계 대수 기능을 위한 다양한 형태의 논리를 포함한 Series, 데이터프레임, Panel 객체를 손쉽게 결합할 수 있도록 하는 다양한 기능을 pandas 에서 제공합니다.\n",
        "\n",
        "[Merging](https://pandas.pydata.org/pandas-docs/stable/user_guide/merging.html) 부분을 참조하세요.\n",
        "\n",
        "[concat()](https://pandas.pydata.org/pandas-docs/stable/reference/api/pandas.concat.html)으로 pandas 객체를 연결합니다."
      ]
    },
    {
      "cell_type": "code",
      "metadata": {
        "id": "mm4M6Buhol5Y",
        "outputId": "cf77b1d2-1efa-4c3c-dfe8-f2601847bf16",
        "colab": {
          "base_uri": "https://localhost:8080/",
          "height": 359
        }
      },
      "source": [
        "df = pd.DataFrame(np.random.randn(10, 4))\n",
        "df"
      ],
      "execution_count": null,
      "outputs": [
        {
          "output_type": "execute_result",
          "data": {
            "text/html": [
              "<div>\n",
              "<style scoped>\n",
              "    .dataframe tbody tr th:only-of-type {\n",
              "        vertical-align: middle;\n",
              "    }\n",
              "\n",
              "    .dataframe tbody tr th {\n",
              "        vertical-align: top;\n",
              "    }\n",
              "\n",
              "    .dataframe thead th {\n",
              "        text-align: right;\n",
              "    }\n",
              "</style>\n",
              "<table border=\"1\" class=\"dataframe\">\n",
              "  <thead>\n",
              "    <tr style=\"text-align: right;\">\n",
              "      <th></th>\n",
              "      <th>0</th>\n",
              "      <th>1</th>\n",
              "      <th>2</th>\n",
              "      <th>3</th>\n",
              "    </tr>\n",
              "  </thead>\n",
              "  <tbody>\n",
              "    <tr>\n",
              "      <th>0</th>\n",
              "      <td>0.211595</td>\n",
              "      <td>-1.269767</td>\n",
              "      <td>1.511274</td>\n",
              "      <td>1.391521</td>\n",
              "    </tr>\n",
              "    <tr>\n",
              "      <th>1</th>\n",
              "      <td>-0.359471</td>\n",
              "      <td>0.266051</td>\n",
              "      <td>0.489487</td>\n",
              "      <td>-2.226718</td>\n",
              "    </tr>\n",
              "    <tr>\n",
              "      <th>2</th>\n",
              "      <td>0.613596</td>\n",
              "      <td>-0.061604</td>\n",
              "      <td>-1.549070</td>\n",
              "      <td>-0.782597</td>\n",
              "    </tr>\n",
              "    <tr>\n",
              "      <th>3</th>\n",
              "      <td>2.379370</td>\n",
              "      <td>2.377082</td>\n",
              "      <td>0.733559</td>\n",
              "      <td>1.747865</td>\n",
              "    </tr>\n",
              "    <tr>\n",
              "      <th>4</th>\n",
              "      <td>-0.839425</td>\n",
              "      <td>-1.599834</td>\n",
              "      <td>-0.703559</td>\n",
              "      <td>-0.806176</td>\n",
              "    </tr>\n",
              "    <tr>\n",
              "      <th>5</th>\n",
              "      <td>-0.711269</td>\n",
              "      <td>-1.488278</td>\n",
              "      <td>0.955563</td>\n",
              "      <td>-0.178118</td>\n",
              "    </tr>\n",
              "    <tr>\n",
              "      <th>6</th>\n",
              "      <td>-0.393562</td>\n",
              "      <td>0.084574</td>\n",
              "      <td>0.251664</td>\n",
              "      <td>0.001551</td>\n",
              "    </tr>\n",
              "    <tr>\n",
              "      <th>7</th>\n",
              "      <td>0.431708</td>\n",
              "      <td>2.179479</td>\n",
              "      <td>-0.584830</td>\n",
              "      <td>-0.797098</td>\n",
              "    </tr>\n",
              "    <tr>\n",
              "      <th>8</th>\n",
              "      <td>-0.180647</td>\n",
              "      <td>0.919338</td>\n",
              "      <td>-1.125342</td>\n",
              "      <td>1.307905</td>\n",
              "    </tr>\n",
              "    <tr>\n",
              "      <th>9</th>\n",
              "      <td>2.028558</td>\n",
              "      <td>0.510657</td>\n",
              "      <td>-1.717507</td>\n",
              "      <td>0.477074</td>\n",
              "    </tr>\n",
              "  </tbody>\n",
              "</table>\n",
              "</div>"
            ],
            "text/plain": [
              "          0         1         2         3\n",
              "0  0.211595 -1.269767  1.511274  1.391521\n",
              "1 -0.359471  0.266051  0.489487 -2.226718\n",
              "2  0.613596 -0.061604 -1.549070 -0.782597\n",
              "3  2.379370  2.377082  0.733559  1.747865\n",
              "4 -0.839425 -1.599834 -0.703559 -0.806176\n",
              "5 -0.711269 -1.488278  0.955563 -0.178118\n",
              "6 -0.393562  0.084574  0.251664  0.001551\n",
              "7  0.431708  2.179479 -0.584830 -0.797098\n",
              "8 -0.180647  0.919338 -1.125342  1.307905\n",
              "9  2.028558  0.510657 -1.717507  0.477074"
            ]
          },
          "metadata": {
            "tags": []
          },
          "execution_count": 85
        }
      ]
    },
    {
      "cell_type": "code",
      "metadata": {
        "id": "AABXUF8Wo0IA",
        "outputId": "7e27f6c2-2233-4ccc-d883-02b8b3138119",
        "colab": {
          "base_uri": "https://localhost:8080/",
          "height": 328
        }
      },
      "source": [
        "# break it into pieces\n",
        "pieces = [df[:2], df[3:7], df[7:]] #원하는 부분만 표시 가능\n",
        "\n",
        "pd.concat(pieces)"
      ],
      "execution_count": null,
      "outputs": [
        {
          "output_type": "execute_result",
          "data": {
            "text/html": [
              "<div>\n",
              "<style scoped>\n",
              "    .dataframe tbody tr th:only-of-type {\n",
              "        vertical-align: middle;\n",
              "    }\n",
              "\n",
              "    .dataframe tbody tr th {\n",
              "        vertical-align: top;\n",
              "    }\n",
              "\n",
              "    .dataframe thead th {\n",
              "        text-align: right;\n",
              "    }\n",
              "</style>\n",
              "<table border=\"1\" class=\"dataframe\">\n",
              "  <thead>\n",
              "    <tr style=\"text-align: right;\">\n",
              "      <th></th>\n",
              "      <th>0</th>\n",
              "      <th>1</th>\n",
              "      <th>2</th>\n",
              "      <th>3</th>\n",
              "    </tr>\n",
              "  </thead>\n",
              "  <tbody>\n",
              "    <tr>\n",
              "      <th>0</th>\n",
              "      <td>0.211595</td>\n",
              "      <td>-1.269767</td>\n",
              "      <td>1.511274</td>\n",
              "      <td>1.391521</td>\n",
              "    </tr>\n",
              "    <tr>\n",
              "      <th>1</th>\n",
              "      <td>-0.359471</td>\n",
              "      <td>0.266051</td>\n",
              "      <td>0.489487</td>\n",
              "      <td>-2.226718</td>\n",
              "    </tr>\n",
              "    <tr>\n",
              "      <th>3</th>\n",
              "      <td>2.379370</td>\n",
              "      <td>2.377082</td>\n",
              "      <td>0.733559</td>\n",
              "      <td>1.747865</td>\n",
              "    </tr>\n",
              "    <tr>\n",
              "      <th>4</th>\n",
              "      <td>-0.839425</td>\n",
              "      <td>-1.599834</td>\n",
              "      <td>-0.703559</td>\n",
              "      <td>-0.806176</td>\n",
              "    </tr>\n",
              "    <tr>\n",
              "      <th>5</th>\n",
              "      <td>-0.711269</td>\n",
              "      <td>-1.488278</td>\n",
              "      <td>0.955563</td>\n",
              "      <td>-0.178118</td>\n",
              "    </tr>\n",
              "    <tr>\n",
              "      <th>6</th>\n",
              "      <td>-0.393562</td>\n",
              "      <td>0.084574</td>\n",
              "      <td>0.251664</td>\n",
              "      <td>0.001551</td>\n",
              "    </tr>\n",
              "    <tr>\n",
              "      <th>7</th>\n",
              "      <td>0.431708</td>\n",
              "      <td>2.179479</td>\n",
              "      <td>-0.584830</td>\n",
              "      <td>-0.797098</td>\n",
              "    </tr>\n",
              "    <tr>\n",
              "      <th>8</th>\n",
              "      <td>-0.180647</td>\n",
              "      <td>0.919338</td>\n",
              "      <td>-1.125342</td>\n",
              "      <td>1.307905</td>\n",
              "    </tr>\n",
              "    <tr>\n",
              "      <th>9</th>\n",
              "      <td>2.028558</td>\n",
              "      <td>0.510657</td>\n",
              "      <td>-1.717507</td>\n",
              "      <td>0.477074</td>\n",
              "    </tr>\n",
              "  </tbody>\n",
              "</table>\n",
              "</div>"
            ],
            "text/plain": [
              "          0         1         2         3\n",
              "0  0.211595 -1.269767  1.511274  1.391521\n",
              "1 -0.359471  0.266051  0.489487 -2.226718\n",
              "3  2.379370  2.377082  0.733559  1.747865\n",
              "4 -0.839425 -1.599834 -0.703559 -0.806176\n",
              "5 -0.711269 -1.488278  0.955563 -0.178118\n",
              "6 -0.393562  0.084574  0.251664  0.001551\n",
              "7  0.431708  2.179479 -0.584830 -0.797098\n",
              "8 -0.180647  0.919338 -1.125342  1.307905\n",
              "9  2.028558  0.510657 -1.717507  0.477074"
            ]
          },
          "metadata": {
            "tags": []
          },
          "execution_count": 87
        }
      ]
    },
    {
      "cell_type": "markdown",
      "metadata": {
        "id": "QX8-sb-ZpFDN"
      },
      "source": [
        "## Join (결합)\n"
      ]
    },
    {
      "cell_type": "markdown",
      "metadata": {
        "id": "EHo7D2ic05hT"
      },
      "source": [
        "SQL 방식으로 병합합니다. [데이터베이스 스타일 결합](https://pandas.pydata.org/pandas-docs/stable/user_guide/merging.html) 부분을 참고하세요."
      ]
    },
    {
      "cell_type": "code",
      "metadata": {
        "id": "bYnr5oQCpJk7",
        "outputId": "3b4ff753-27b7-4569-8dd2-be3088a1b74b",
        "colab": {
          "base_uri": "https://localhost:8080/",
          "height": 111
        }
      },
      "source": [
        "left = pd.DataFrame({'key': ['foo', 'foo'], 'lval': [1, 2]})\n",
        "right = pd.DataFrame({'key': ['foo', 'foo'], 'rval': [4, 5]})\n",
        "left"
      ],
      "execution_count": null,
      "outputs": [
        {
          "output_type": "execute_result",
          "data": {
            "text/html": [
              "<div>\n",
              "<style scoped>\n",
              "    .dataframe tbody tr th:only-of-type {\n",
              "        vertical-align: middle;\n",
              "    }\n",
              "\n",
              "    .dataframe tbody tr th {\n",
              "        vertical-align: top;\n",
              "    }\n",
              "\n",
              "    .dataframe thead th {\n",
              "        text-align: right;\n",
              "    }\n",
              "</style>\n",
              "<table border=\"1\" class=\"dataframe\">\n",
              "  <thead>\n",
              "    <tr style=\"text-align: right;\">\n",
              "      <th></th>\n",
              "      <th>key</th>\n",
              "      <th>lval</th>\n",
              "    </tr>\n",
              "  </thead>\n",
              "  <tbody>\n",
              "    <tr>\n",
              "      <th>0</th>\n",
              "      <td>foo</td>\n",
              "      <td>1</td>\n",
              "    </tr>\n",
              "    <tr>\n",
              "      <th>1</th>\n",
              "      <td>foo</td>\n",
              "      <td>2</td>\n",
              "    </tr>\n",
              "  </tbody>\n",
              "</table>\n",
              "</div>"
            ],
            "text/plain": [
              "   key  lval\n",
              "0  foo     1\n",
              "1  foo     2"
            ]
          },
          "metadata": {
            "tags": []
          },
          "execution_count": 88
        }
      ]
    },
    {
      "cell_type": "code",
      "metadata": {
        "id": "r_ipPIyPpOzM",
        "outputId": "e3411d07-f23a-4c1c-c09f-e4cc7917209e",
        "colab": {
          "base_uri": "https://localhost:8080/",
          "height": 111
        }
      },
      "source": [
        "right"
      ],
      "execution_count": null,
      "outputs": [
        {
          "output_type": "execute_result",
          "data": {
            "text/html": [
              "<div>\n",
              "<style scoped>\n",
              "    .dataframe tbody tr th:only-of-type {\n",
              "        vertical-align: middle;\n",
              "    }\n",
              "\n",
              "    .dataframe tbody tr th {\n",
              "        vertical-align: top;\n",
              "    }\n",
              "\n",
              "    .dataframe thead th {\n",
              "        text-align: right;\n",
              "    }\n",
              "</style>\n",
              "<table border=\"1\" class=\"dataframe\">\n",
              "  <thead>\n",
              "    <tr style=\"text-align: right;\">\n",
              "      <th></th>\n",
              "      <th>key</th>\n",
              "      <th>rval</th>\n",
              "    </tr>\n",
              "  </thead>\n",
              "  <tbody>\n",
              "    <tr>\n",
              "      <th>0</th>\n",
              "      <td>foo</td>\n",
              "      <td>4</td>\n",
              "    </tr>\n",
              "    <tr>\n",
              "      <th>1</th>\n",
              "      <td>foo</td>\n",
              "      <td>5</td>\n",
              "    </tr>\n",
              "  </tbody>\n",
              "</table>\n",
              "</div>"
            ],
            "text/plain": [
              "   key  rval\n",
              "0  foo     4\n",
              "1  foo     5"
            ]
          },
          "metadata": {
            "tags": []
          },
          "execution_count": 89
        }
      ]
    },
    {
      "cell_type": "code",
      "metadata": {
        "id": "8ZSYJ4xOpS3j",
        "outputId": "06060de2-e488-4cc3-d478-3e2b9ac5ea65",
        "colab": {
          "base_uri": "https://localhost:8080/",
          "height": 173
        }
      },
      "source": [
        "pd.merge(left, right, on= 'key')"
      ],
      "execution_count": null,
      "outputs": [
        {
          "output_type": "execute_result",
          "data": {
            "text/html": [
              "<div>\n",
              "<style scoped>\n",
              "    .dataframe tbody tr th:only-of-type {\n",
              "        vertical-align: middle;\n",
              "    }\n",
              "\n",
              "    .dataframe tbody tr th {\n",
              "        vertical-align: top;\n",
              "    }\n",
              "\n",
              "    .dataframe thead th {\n",
              "        text-align: right;\n",
              "    }\n",
              "</style>\n",
              "<table border=\"1\" class=\"dataframe\">\n",
              "  <thead>\n",
              "    <tr style=\"text-align: right;\">\n",
              "      <th></th>\n",
              "      <th>key</th>\n",
              "      <th>lval</th>\n",
              "      <th>rval</th>\n",
              "    </tr>\n",
              "  </thead>\n",
              "  <tbody>\n",
              "    <tr>\n",
              "      <th>0</th>\n",
              "      <td>foo</td>\n",
              "      <td>1</td>\n",
              "      <td>4</td>\n",
              "    </tr>\n",
              "    <tr>\n",
              "      <th>1</th>\n",
              "      <td>foo</td>\n",
              "      <td>1</td>\n",
              "      <td>5</td>\n",
              "    </tr>\n",
              "    <tr>\n",
              "      <th>2</th>\n",
              "      <td>foo</td>\n",
              "      <td>2</td>\n",
              "      <td>4</td>\n",
              "    </tr>\n",
              "    <tr>\n",
              "      <th>3</th>\n",
              "      <td>foo</td>\n",
              "      <td>2</td>\n",
              "      <td>5</td>\n",
              "    </tr>\n",
              "  </tbody>\n",
              "</table>\n",
              "</div>"
            ],
            "text/plain": [
              "   key  lval  rval\n",
              "0  foo     1     4\n",
              "1  foo     1     5\n",
              "2  foo     2     4\n",
              "3  foo     2     5"
            ]
          },
          "metadata": {
            "tags": []
          },
          "execution_count": 90
        }
      ]
    },
    {
      "cell_type": "code",
      "metadata": {
        "id": "Jx9SbGfMpYeU",
        "outputId": "05227fd9-caec-4fce-c3dd-8bbc27363d64",
        "colab": {
          "base_uri": "https://localhost:8080/",
          "height": 111
        }
      },
      "source": [
        "#다른 예시\n",
        "left = pd.DataFrame({'key' : ['foo', 'bar'], 'lval' : [1, 2]})\n",
        "right = pd.DataFrame({'key': ['foo', 'bar'], 'rval': [4, 5]})\n",
        "left"
      ],
      "execution_count": null,
      "outputs": [
        {
          "output_type": "execute_result",
          "data": {
            "text/html": [
              "<div>\n",
              "<style scoped>\n",
              "    .dataframe tbody tr th:only-of-type {\n",
              "        vertical-align: middle;\n",
              "    }\n",
              "\n",
              "    .dataframe tbody tr th {\n",
              "        vertical-align: top;\n",
              "    }\n",
              "\n",
              "    .dataframe thead th {\n",
              "        text-align: right;\n",
              "    }\n",
              "</style>\n",
              "<table border=\"1\" class=\"dataframe\">\n",
              "  <thead>\n",
              "    <tr style=\"text-align: right;\">\n",
              "      <th></th>\n",
              "      <th>key</th>\n",
              "      <th>lval</th>\n",
              "    </tr>\n",
              "  </thead>\n",
              "  <tbody>\n",
              "    <tr>\n",
              "      <th>0</th>\n",
              "      <td>foo</td>\n",
              "      <td>1</td>\n",
              "    </tr>\n",
              "    <tr>\n",
              "      <th>1</th>\n",
              "      <td>bar</td>\n",
              "      <td>2</td>\n",
              "    </tr>\n",
              "  </tbody>\n",
              "</table>\n",
              "</div>"
            ],
            "text/plain": [
              "   key  lval\n",
              "0  foo     1\n",
              "1  bar     2"
            ]
          },
          "metadata": {
            "tags": []
          },
          "execution_count": 91
        }
      ]
    },
    {
      "cell_type": "code",
      "metadata": {
        "id": "Q-HlyCL_pamk",
        "outputId": "f7ec2458-a7c9-4045-ab1f-3385c68187f7",
        "colab": {
          "base_uri": "https://localhost:8080/",
          "height": 111
        }
      },
      "source": [
        "right"
      ],
      "execution_count": null,
      "outputs": [
        {
          "output_type": "execute_result",
          "data": {
            "text/html": [
              "<div>\n",
              "<style scoped>\n",
              "    .dataframe tbody tr th:only-of-type {\n",
              "        vertical-align: middle;\n",
              "    }\n",
              "\n",
              "    .dataframe tbody tr th {\n",
              "        vertical-align: top;\n",
              "    }\n",
              "\n",
              "    .dataframe thead th {\n",
              "        text-align: right;\n",
              "    }\n",
              "</style>\n",
              "<table border=\"1\" class=\"dataframe\">\n",
              "  <thead>\n",
              "    <tr style=\"text-align: right;\">\n",
              "      <th></th>\n",
              "      <th>key</th>\n",
              "      <th>rval</th>\n",
              "    </tr>\n",
              "  </thead>\n",
              "  <tbody>\n",
              "    <tr>\n",
              "      <th>0</th>\n",
              "      <td>foo</td>\n",
              "      <td>4</td>\n",
              "    </tr>\n",
              "    <tr>\n",
              "      <th>1</th>\n",
              "      <td>bar</td>\n",
              "      <td>5</td>\n",
              "    </tr>\n",
              "  </tbody>\n",
              "</table>\n",
              "</div>"
            ],
            "text/plain": [
              "   key  rval\n",
              "0  foo     4\n",
              "1  bar     5"
            ]
          },
          "metadata": {
            "tags": []
          },
          "execution_count": 92
        }
      ]
    },
    {
      "cell_type": "code",
      "metadata": {
        "id": "wmnYE6NppgmK",
        "outputId": "52fceefc-3ed1-4580-e4cc-f05c8c04cf0f",
        "colab": {
          "base_uri": "https://localhost:8080/",
          "height": 111
        }
      },
      "source": [
        "pd.merge(left, right, on= 'key')"
      ],
      "execution_count": null,
      "outputs": [
        {
          "output_type": "execute_result",
          "data": {
            "text/html": [
              "<div>\n",
              "<style scoped>\n",
              "    .dataframe tbody tr th:only-of-type {\n",
              "        vertical-align: middle;\n",
              "    }\n",
              "\n",
              "    .dataframe tbody tr th {\n",
              "        vertical-align: top;\n",
              "    }\n",
              "\n",
              "    .dataframe thead th {\n",
              "        text-align: right;\n",
              "    }\n",
              "</style>\n",
              "<table border=\"1\" class=\"dataframe\">\n",
              "  <thead>\n",
              "    <tr style=\"text-align: right;\">\n",
              "      <th></th>\n",
              "      <th>key</th>\n",
              "      <th>lval</th>\n",
              "      <th>rval</th>\n",
              "    </tr>\n",
              "  </thead>\n",
              "  <tbody>\n",
              "    <tr>\n",
              "      <th>0</th>\n",
              "      <td>foo</td>\n",
              "      <td>1</td>\n",
              "      <td>4</td>\n",
              "    </tr>\n",
              "    <tr>\n",
              "      <th>1</th>\n",
              "      <td>bar</td>\n",
              "      <td>2</td>\n",
              "      <td>5</td>\n",
              "    </tr>\n",
              "  </tbody>\n",
              "</table>\n",
              "</div>"
            ],
            "text/plain": [
              "   key  lval  rval\n",
              "0  foo     1     4\n",
              "1  bar     2     5"
            ]
          },
          "metadata": {
            "tags": []
          },
          "execution_count": 93
        }
      ]
    },
    {
      "cell_type": "markdown",
      "metadata": {
        "id": "4g6SB3VbpinJ"
      },
      "source": [
        "## Append (추가)"
      ]
    },
    {
      "cell_type": "markdown",
      "metadata": {
        "id": "VwNM66KH0xZ3"
      },
      "source": [
        "데이터프레임에 행을 추가합니다. [Appending](https://pandas.pydata.org/pandas-docs/stable/user_guide/merging.html) 부분을 참조하세요."
      ]
    },
    {
      "cell_type": "code",
      "metadata": {
        "id": "HgO3uvohpkjA",
        "outputId": "b12ce78d-1e9a-41c8-ba38-58b5713199c0",
        "colab": {
          "base_uri": "https://localhost:8080/",
          "height": 297
        }
      },
      "source": [
        "#데이터프레임에 행을 추가\n",
        "df = pd.DataFrame(np.random.randn(8, 4), columns=['A', 'B', 'C', 'D'])\n",
        "df"
      ],
      "execution_count": null,
      "outputs": [
        {
          "output_type": "execute_result",
          "data": {
            "text/html": [
              "<div>\n",
              "<style scoped>\n",
              "    .dataframe tbody tr th:only-of-type {\n",
              "        vertical-align: middle;\n",
              "    }\n",
              "\n",
              "    .dataframe tbody tr th {\n",
              "        vertical-align: top;\n",
              "    }\n",
              "\n",
              "    .dataframe thead th {\n",
              "        text-align: right;\n",
              "    }\n",
              "</style>\n",
              "<table border=\"1\" class=\"dataframe\">\n",
              "  <thead>\n",
              "    <tr style=\"text-align: right;\">\n",
              "      <th></th>\n",
              "      <th>A</th>\n",
              "      <th>B</th>\n",
              "      <th>C</th>\n",
              "      <th>D</th>\n",
              "    </tr>\n",
              "  </thead>\n",
              "  <tbody>\n",
              "    <tr>\n",
              "      <th>0</th>\n",
              "      <td>1.903619</td>\n",
              "      <td>-0.558748</td>\n",
              "      <td>0.025461</td>\n",
              "      <td>-0.692108</td>\n",
              "    </tr>\n",
              "    <tr>\n",
              "      <th>1</th>\n",
              "      <td>0.140826</td>\n",
              "      <td>-0.036521</td>\n",
              "      <td>0.633131</td>\n",
              "      <td>0.228899</td>\n",
              "    </tr>\n",
              "    <tr>\n",
              "      <th>2</th>\n",
              "      <td>-1.532485</td>\n",
              "      <td>-0.456486</td>\n",
              "      <td>0.753426</td>\n",
              "      <td>-0.673813</td>\n",
              "    </tr>\n",
              "    <tr>\n",
              "      <th>3</th>\n",
              "      <td>1.728973</td>\n",
              "      <td>0.365963</td>\n",
              "      <td>-0.595432</td>\n",
              "      <td>0.572841</td>\n",
              "    </tr>\n",
              "    <tr>\n",
              "      <th>4</th>\n",
              "      <td>0.009179</td>\n",
              "      <td>0.562393</td>\n",
              "      <td>1.984609</td>\n",
              "      <td>0.759945</td>\n",
              "    </tr>\n",
              "    <tr>\n",
              "      <th>5</th>\n",
              "      <td>1.046402</td>\n",
              "      <td>-0.363216</td>\n",
              "      <td>-0.612991</td>\n",
              "      <td>0.311136</td>\n",
              "    </tr>\n",
              "    <tr>\n",
              "      <th>6</th>\n",
              "      <td>-0.933836</td>\n",
              "      <td>-2.206711</td>\n",
              "      <td>0.272736</td>\n",
              "      <td>-0.627315</td>\n",
              "    </tr>\n",
              "    <tr>\n",
              "      <th>7</th>\n",
              "      <td>-1.549597</td>\n",
              "      <td>-1.882291</td>\n",
              "      <td>-1.820476</td>\n",
              "      <td>-0.985045</td>\n",
              "    </tr>\n",
              "  </tbody>\n",
              "</table>\n",
              "</div>"
            ],
            "text/plain": [
              "          A         B         C         D\n",
              "0  1.903619 -0.558748  0.025461 -0.692108\n",
              "1  0.140826 -0.036521  0.633131  0.228899\n",
              "2 -1.532485 -0.456486  0.753426 -0.673813\n",
              "3  1.728973  0.365963 -0.595432  0.572841\n",
              "4  0.009179  0.562393  1.984609  0.759945\n",
              "5  1.046402 -0.363216 -0.612991  0.311136\n",
              "6 -0.933836 -2.206711  0.272736 -0.627315\n",
              "7 -1.549597 -1.882291 -1.820476 -0.985045"
            ]
          },
          "metadata": {
            "tags": []
          },
          "execution_count": 94
        }
      ]
    },
    {
      "cell_type": "code",
      "metadata": {
        "id": "Gp9_fZnZpy3w",
        "outputId": "144f89c0-8a64-4637-dffd-eff80e764f8c",
        "colab": {
          "base_uri": "https://localhost:8080/",
          "height": 328
        }
      },
      "source": [
        "s = df.iloc[3]\n",
        "df.append(s, ignore_index=True)"
      ],
      "execution_count": null,
      "outputs": [
        {
          "output_type": "execute_result",
          "data": {
            "text/html": [
              "<div>\n",
              "<style scoped>\n",
              "    .dataframe tbody tr th:only-of-type {\n",
              "        vertical-align: middle;\n",
              "    }\n",
              "\n",
              "    .dataframe tbody tr th {\n",
              "        vertical-align: top;\n",
              "    }\n",
              "\n",
              "    .dataframe thead th {\n",
              "        text-align: right;\n",
              "    }\n",
              "</style>\n",
              "<table border=\"1\" class=\"dataframe\">\n",
              "  <thead>\n",
              "    <tr style=\"text-align: right;\">\n",
              "      <th></th>\n",
              "      <th>A</th>\n",
              "      <th>B</th>\n",
              "      <th>C</th>\n",
              "      <th>D</th>\n",
              "    </tr>\n",
              "  </thead>\n",
              "  <tbody>\n",
              "    <tr>\n",
              "      <th>0</th>\n",
              "      <td>1.903619</td>\n",
              "      <td>-0.558748</td>\n",
              "      <td>0.025461</td>\n",
              "      <td>-0.692108</td>\n",
              "    </tr>\n",
              "    <tr>\n",
              "      <th>1</th>\n",
              "      <td>0.140826</td>\n",
              "      <td>-0.036521</td>\n",
              "      <td>0.633131</td>\n",
              "      <td>0.228899</td>\n",
              "    </tr>\n",
              "    <tr>\n",
              "      <th>2</th>\n",
              "      <td>-1.532485</td>\n",
              "      <td>-0.456486</td>\n",
              "      <td>0.753426</td>\n",
              "      <td>-0.673813</td>\n",
              "    </tr>\n",
              "    <tr>\n",
              "      <th>3</th>\n",
              "      <td>1.728973</td>\n",
              "      <td>0.365963</td>\n",
              "      <td>-0.595432</td>\n",
              "      <td>0.572841</td>\n",
              "    </tr>\n",
              "    <tr>\n",
              "      <th>4</th>\n",
              "      <td>0.009179</td>\n",
              "      <td>0.562393</td>\n",
              "      <td>1.984609</td>\n",
              "      <td>0.759945</td>\n",
              "    </tr>\n",
              "    <tr>\n",
              "      <th>5</th>\n",
              "      <td>1.046402</td>\n",
              "      <td>-0.363216</td>\n",
              "      <td>-0.612991</td>\n",
              "      <td>0.311136</td>\n",
              "    </tr>\n",
              "    <tr>\n",
              "      <th>6</th>\n",
              "      <td>-0.933836</td>\n",
              "      <td>-2.206711</td>\n",
              "      <td>0.272736</td>\n",
              "      <td>-0.627315</td>\n",
              "    </tr>\n",
              "    <tr>\n",
              "      <th>7</th>\n",
              "      <td>-1.549597</td>\n",
              "      <td>-1.882291</td>\n",
              "      <td>-1.820476</td>\n",
              "      <td>-0.985045</td>\n",
              "    </tr>\n",
              "    <tr>\n",
              "      <th>8</th>\n",
              "      <td>1.728973</td>\n",
              "      <td>0.365963</td>\n",
              "      <td>-0.595432</td>\n",
              "      <td>0.572841</td>\n",
              "    </tr>\n",
              "  </tbody>\n",
              "</table>\n",
              "</div>"
            ],
            "text/plain": [
              "          A         B         C         D\n",
              "0  1.903619 -0.558748  0.025461 -0.692108\n",
              "1  0.140826 -0.036521  0.633131  0.228899\n",
              "2 -1.532485 -0.456486  0.753426 -0.673813\n",
              "3  1.728973  0.365963 -0.595432  0.572841\n",
              "4  0.009179  0.562393  1.984609  0.759945\n",
              "5  1.046402 -0.363216 -0.612991  0.311136\n",
              "6 -0.933836 -2.206711  0.272736 -0.627315\n",
              "7 -1.549597 -1.882291 -1.820476 -0.985045\n",
              "8  1.728973  0.365963 -0.595432  0.572841"
            ]
          },
          "metadata": {
            "tags": []
          },
          "execution_count": 95
        }
      ]
    },
    {
      "cell_type": "markdown",
      "metadata": {
        "id": "UxUbXERsp1kO"
      },
      "source": [
        "# 7. Grouping (그룹화)"
      ]
    },
    {
      "cell_type": "markdown",
      "metadata": {
        "id": "ObbbemWSp5i-"
      },
      "source": [
        "그룹화는 다음 단계 중 하나 이상을 포함하는 과정을 가리킵니다.\n",
        "\n",
        " - 몇몇 기준에 따라 여러 그룹으로 데이터를 분할 (splitting)\n",
        " - 각 그룹에 독립적으로 함수를 적용 (applying)\n",
        " - 결과물들을 하나의 데이터 구조로 결합 (combining)\n",
        "\n",
        " 자세한 내용은 [그룹화](https://pandas.pydata.org/pandas-docs/stable/reference/api/pandas.DataFrame.sum.html) 부분을 참조하세요."
      ]
    },
    {
      "cell_type": "code",
      "metadata": {
        "id": "2DsBnrbTp1EA",
        "outputId": "459b0ced-2969-4872-a23a-a7ab56816e3a",
        "colab": {
          "base_uri": "https://localhost:8080/",
          "height": 297
        }
      },
      "source": [
        "df = pd.DataFrame(\n",
        "    {\n",
        "        'A' : ['foo', 'bar', 'foo', 'bar', 'foo', 'bar', 'foo', 'foo'],\n",
        "        'B' : ['one', 'one', 'two', 'three', 'two', 'two', 'one', 'three'],\n",
        "        'C' : np.random.randn(8),\n",
        "        'D' : np.random.randn(8)\n",
        "    })\n",
        "df"
      ],
      "execution_count": null,
      "outputs": [
        {
          "output_type": "execute_result",
          "data": {
            "text/html": [
              "<div>\n",
              "<style scoped>\n",
              "    .dataframe tbody tr th:only-of-type {\n",
              "        vertical-align: middle;\n",
              "    }\n",
              "\n",
              "    .dataframe tbody tr th {\n",
              "        vertical-align: top;\n",
              "    }\n",
              "\n",
              "    .dataframe thead th {\n",
              "        text-align: right;\n",
              "    }\n",
              "</style>\n",
              "<table border=\"1\" class=\"dataframe\">\n",
              "  <thead>\n",
              "    <tr style=\"text-align: right;\">\n",
              "      <th></th>\n",
              "      <th>A</th>\n",
              "      <th>B</th>\n",
              "      <th>C</th>\n",
              "      <th>D</th>\n",
              "    </tr>\n",
              "  </thead>\n",
              "  <tbody>\n",
              "    <tr>\n",
              "      <th>0</th>\n",
              "      <td>foo</td>\n",
              "      <td>one</td>\n",
              "      <td>0.581136</td>\n",
              "      <td>-0.982266</td>\n",
              "    </tr>\n",
              "    <tr>\n",
              "      <th>1</th>\n",
              "      <td>bar</td>\n",
              "      <td>one</td>\n",
              "      <td>0.401966</td>\n",
              "      <td>0.713657</td>\n",
              "    </tr>\n",
              "    <tr>\n",
              "      <th>2</th>\n",
              "      <td>foo</td>\n",
              "      <td>two</td>\n",
              "      <td>0.471888</td>\n",
              "      <td>-0.089429</td>\n",
              "    </tr>\n",
              "    <tr>\n",
              "      <th>3</th>\n",
              "      <td>bar</td>\n",
              "      <td>three</td>\n",
              "      <td>-0.957264</td>\n",
              "      <td>-0.231471</td>\n",
              "    </tr>\n",
              "    <tr>\n",
              "      <th>4</th>\n",
              "      <td>foo</td>\n",
              "      <td>two</td>\n",
              "      <td>1.214906</td>\n",
              "      <td>0.005248</td>\n",
              "    </tr>\n",
              "    <tr>\n",
              "      <th>5</th>\n",
              "      <td>bar</td>\n",
              "      <td>two</td>\n",
              "      <td>1.315040</td>\n",
              "      <td>-0.907949</td>\n",
              "    </tr>\n",
              "    <tr>\n",
              "      <th>6</th>\n",
              "      <td>foo</td>\n",
              "      <td>one</td>\n",
              "      <td>0.490767</td>\n",
              "      <td>0.059532</td>\n",
              "    </tr>\n",
              "    <tr>\n",
              "      <th>7</th>\n",
              "      <td>foo</td>\n",
              "      <td>three</td>\n",
              "      <td>-1.237964</td>\n",
              "      <td>-0.233660</td>\n",
              "    </tr>\n",
              "  </tbody>\n",
              "</table>\n",
              "</div>"
            ],
            "text/plain": [
              "     A      B         C         D\n",
              "0  foo    one  0.581136 -0.982266\n",
              "1  bar    one  0.401966  0.713657\n",
              "2  foo    two  0.471888 -0.089429\n",
              "3  bar  three -0.957264 -0.231471\n",
              "4  foo    two  1.214906  0.005248\n",
              "5  bar    two  1.315040 -0.907949\n",
              "6  foo    one  0.490767  0.059532\n",
              "7  foo  three -1.237964 -0.233660"
            ]
          },
          "metadata": {
            "tags": []
          },
          "execution_count": 96
        }
      ]
    },
    {
      "cell_type": "markdown",
      "metadata": {
        "id": "-jiO2CAJ0oyT"
      },
      "source": [
        "생성된 데이터프레임을 그룹화한 후 각 그룹에 [sum()](https://pandas.pydata.org/pandas-docs/stable/reference/api/pandas.DataFrame.sum.html) 함수를 적용합니다."
      ]
    },
    {
      "cell_type": "code",
      "metadata": {
        "id": "d3HtrNiCp_6Z",
        "outputId": "344a7ce2-3584-4620-8653-b1ada26274f5",
        "colab": {
          "base_uri": "https://localhost:8080/",
          "height": 142
        }
      },
      "source": [
        "df.groupby('A').sum()"
      ],
      "execution_count": null,
      "outputs": [
        {
          "output_type": "execute_result",
          "data": {
            "text/html": [
              "<div>\n",
              "<style scoped>\n",
              "    .dataframe tbody tr th:only-of-type {\n",
              "        vertical-align: middle;\n",
              "    }\n",
              "\n",
              "    .dataframe tbody tr th {\n",
              "        vertical-align: top;\n",
              "    }\n",
              "\n",
              "    .dataframe thead th {\n",
              "        text-align: right;\n",
              "    }\n",
              "</style>\n",
              "<table border=\"1\" class=\"dataframe\">\n",
              "  <thead>\n",
              "    <tr style=\"text-align: right;\">\n",
              "      <th></th>\n",
              "      <th>C</th>\n",
              "      <th>D</th>\n",
              "    </tr>\n",
              "    <tr>\n",
              "      <th>A</th>\n",
              "      <th></th>\n",
              "      <th></th>\n",
              "    </tr>\n",
              "  </thead>\n",
              "  <tbody>\n",
              "    <tr>\n",
              "      <th>bar</th>\n",
              "      <td>0.759743</td>\n",
              "      <td>-0.425763</td>\n",
              "    </tr>\n",
              "    <tr>\n",
              "      <th>foo</th>\n",
              "      <td>1.520733</td>\n",
              "      <td>-1.240575</td>\n",
              "    </tr>\n",
              "  </tbody>\n",
              "</table>\n",
              "</div>"
            ],
            "text/plain": [
              "            C         D\n",
              "A                      \n",
              "bar  0.759743 -0.425763\n",
              "foo  1.520733 -1.240575"
            ]
          },
          "metadata": {
            "tags": []
          },
          "execution_count": 97
        }
      ]
    },
    {
      "cell_type": "code",
      "metadata": {
        "id": "8Hm_vbG7qKMI",
        "outputId": "119fb81c-58f4-430e-e817-2b283eb6cc66",
        "colab": {
          "base_uri": "https://localhost:8080/",
          "height": 266
        }
      },
      "source": [
        "#여러 열을 기준으로 그룹화하면 계층적 인덱스가 형성\n",
        "#sum() 함수를 적용 가능\n",
        "df.groupby(['A','B']).sum()"
      ],
      "execution_count": null,
      "outputs": [
        {
          "output_type": "execute_result",
          "data": {
            "text/html": [
              "<div>\n",
              "<style scoped>\n",
              "    .dataframe tbody tr th:only-of-type {\n",
              "        vertical-align: middle;\n",
              "    }\n",
              "\n",
              "    .dataframe tbody tr th {\n",
              "        vertical-align: top;\n",
              "    }\n",
              "\n",
              "    .dataframe thead th {\n",
              "        text-align: right;\n",
              "    }\n",
              "</style>\n",
              "<table border=\"1\" class=\"dataframe\">\n",
              "  <thead>\n",
              "    <tr style=\"text-align: right;\">\n",
              "      <th></th>\n",
              "      <th></th>\n",
              "      <th>C</th>\n",
              "      <th>D</th>\n",
              "    </tr>\n",
              "    <tr>\n",
              "      <th>A</th>\n",
              "      <th>B</th>\n",
              "      <th></th>\n",
              "      <th></th>\n",
              "    </tr>\n",
              "  </thead>\n",
              "  <tbody>\n",
              "    <tr>\n",
              "      <th rowspan=\"3\" valign=\"top\">bar</th>\n",
              "      <th>one</th>\n",
              "      <td>0.401966</td>\n",
              "      <td>0.713657</td>\n",
              "    </tr>\n",
              "    <tr>\n",
              "      <th>three</th>\n",
              "      <td>-0.957264</td>\n",
              "      <td>-0.231471</td>\n",
              "    </tr>\n",
              "    <tr>\n",
              "      <th>two</th>\n",
              "      <td>1.315040</td>\n",
              "      <td>-0.907949</td>\n",
              "    </tr>\n",
              "    <tr>\n",
              "      <th rowspan=\"3\" valign=\"top\">foo</th>\n",
              "      <th>one</th>\n",
              "      <td>1.071903</td>\n",
              "      <td>-0.922734</td>\n",
              "    </tr>\n",
              "    <tr>\n",
              "      <th>three</th>\n",
              "      <td>-1.237964</td>\n",
              "      <td>-0.233660</td>\n",
              "    </tr>\n",
              "    <tr>\n",
              "      <th>two</th>\n",
              "      <td>1.686794</td>\n",
              "      <td>-0.084181</td>\n",
              "    </tr>\n",
              "  </tbody>\n",
              "</table>\n",
              "</div>"
            ],
            "text/plain": [
              "                  C         D\n",
              "A   B                        \n",
              "bar one    0.401966  0.713657\n",
              "    three -0.957264 -0.231471\n",
              "    two    1.315040 -0.907949\n",
              "foo one    1.071903 -0.922734\n",
              "    three -1.237964 -0.233660\n",
              "    two    1.686794 -0.084181"
            ]
          },
          "metadata": {
            "tags": []
          },
          "execution_count": 98
        }
      ]
    },
    {
      "cell_type": "markdown",
      "metadata": {
        "id": "gc3O49ulqSFC"
      },
      "source": [
        "# 8. Reshaping (변형)"
      ]
    },
    {
      "cell_type": "markdown",
      "metadata": {
        "id": "x6BP6y_WztUY"
      },
      "source": [
        "[계층적 인덱싱](https://pandas.pydata.org/pandas-docs/stable/user_guide/advanced.html) 및 [변형](https://pandas.pydata.org/pandas-docs/stable/user_guide/reshaping.html) 부분을 참조하세요."
      ]
    },
    {
      "cell_type": "markdown",
      "metadata": {
        "id": "V9NQITRBqVUD"
      },
      "source": [
        "## Stack (스택)"
      ]
    },
    {
      "cell_type": "code",
      "metadata": {
        "id": "q4TGovrzqTq4",
        "outputId": "8b5f0447-76dc-4c11-911e-2cf6ff22d288",
        "colab": {
          "base_uri": "https://localhost:8080/",
          "height": 204
        }
      },
      "source": [
        "tuples = list(zip(*[['bar', 'bar', 'baz', 'baz',\n",
        "                     'foo', 'foo', 'qux', 'qux'],\n",
        "                    ['one', 'two', 'one', 'two',\n",
        "                     'one', 'two', 'one', 'two']]))\n",
        "index = pd.MultiIndex.from_tuples(tuples, names=['first', 'second'])\n",
        "df = pd.DataFrame(np.random.randn(8, 2), index=index, columns=['A', 'B'])\n",
        "df2  =  df[:4]\n",
        "df2"
      ],
      "execution_count": null,
      "outputs": [
        {
          "output_type": "execute_result",
          "data": {
            "text/html": [
              "<div>\n",
              "<style scoped>\n",
              "    .dataframe tbody tr th:only-of-type {\n",
              "        vertical-align: middle;\n",
              "    }\n",
              "\n",
              "    .dataframe tbody tr th {\n",
              "        vertical-align: top;\n",
              "    }\n",
              "\n",
              "    .dataframe thead th {\n",
              "        text-align: right;\n",
              "    }\n",
              "</style>\n",
              "<table border=\"1\" class=\"dataframe\">\n",
              "  <thead>\n",
              "    <tr style=\"text-align: right;\">\n",
              "      <th></th>\n",
              "      <th></th>\n",
              "      <th>A</th>\n",
              "      <th>B</th>\n",
              "    </tr>\n",
              "    <tr>\n",
              "      <th>first</th>\n",
              "      <th>second</th>\n",
              "      <th></th>\n",
              "      <th></th>\n",
              "    </tr>\n",
              "  </thead>\n",
              "  <tbody>\n",
              "    <tr>\n",
              "      <th rowspan=\"2\" valign=\"top\">bar</th>\n",
              "      <th>one</th>\n",
              "      <td>1.676330</td>\n",
              "      <td>0.741953</td>\n",
              "    </tr>\n",
              "    <tr>\n",
              "      <th>two</th>\n",
              "      <td>1.285101</td>\n",
              "      <td>0.289191</td>\n",
              "    </tr>\n",
              "    <tr>\n",
              "      <th rowspan=\"2\" valign=\"top\">baz</th>\n",
              "      <th>one</th>\n",
              "      <td>-1.146522</td>\n",
              "      <td>-1.063702</td>\n",
              "    </tr>\n",
              "    <tr>\n",
              "      <th>two</th>\n",
              "      <td>0.323112</td>\n",
              "      <td>-1.691190</td>\n",
              "    </tr>\n",
              "  </tbody>\n",
              "</table>\n",
              "</div>"
            ],
            "text/plain": [
              "                     A         B\n",
              "first second                    \n",
              "bar   one     1.676330  0.741953\n",
              "      two     1.285101  0.289191\n",
              "baz   one    -1.146522 -1.063702\n",
              "      two     0.323112 -1.691190"
            ]
          },
          "metadata": {
            "tags": []
          },
          "execution_count": 99
        }
      ]
    },
    {
      "cell_type": "markdown",
      "metadata": {
        "id": "yfyQ33Gyz4be"
      },
      "source": [
        "[stack()](https://pandas.pydata.org/pandas-docs/stable/reference/api/pandas.DataFrame.stack.html)메소드는 데이터프레임 열들의 계층을 “압축”합니다."
      ]
    },
    {
      "cell_type": "code",
      "metadata": {
        "id": "JzMNTjJsqkco",
        "outputId": "6497df6b-0fc7-4c26-8a2d-e713cf4471ca",
        "colab": {
          "base_uri": "https://localhost:8080/"
        }
      },
      "source": [
        "stacked = df2.stack()\n",
        "stacked"
      ],
      "execution_count": null,
      "outputs": [
        {
          "output_type": "execute_result",
          "data": {
            "text/plain": [
              "first  second   \n",
              "bar    one     A    1.676330\n",
              "               B    0.741953\n",
              "       two     A    1.285101\n",
              "               B    0.289191\n",
              "baz    one     A   -1.146522\n",
              "               B   -1.063702\n",
              "       two     A    0.323112\n",
              "               B   -1.691190\n",
              "dtype: float64"
            ]
          },
          "metadata": {
            "tags": []
          },
          "execution_count": 100
        }
      ]
    },
    {
      "cell_type": "markdown",
      "metadata": {
        "id": "Ammc4YRK0Cvr"
      },
      "source": [
        "“Stack된” 데이터프레임 또는 (MultiIndex를 인덱스로 사용하는) Series인 경우, [stack()](https://pandas.pydata.org/pandas-docs/stable/reference/api/pandas.DataFrame.stack.html)의 역 연산은 [unstack()](https://pandas.pydata.org/pandas-docs/stable/reference/api/pandas.DataFrame.unstack.html)이며, 기본적으로 **마지막 계층**을 unstack합니다."
      ]
    },
    {
      "cell_type": "code",
      "metadata": {
        "id": "z3Xoi1jNqtPx",
        "outputId": "b7b0f674-b123-4836-d49e-59cb8830f9a1",
        "colab": {
          "base_uri": "https://localhost:8080/",
          "height": 204
        }
      },
      "source": [
        "stacked.unstack()"
      ],
      "execution_count": null,
      "outputs": [
        {
          "output_type": "execute_result",
          "data": {
            "text/html": [
              "<div>\n",
              "<style scoped>\n",
              "    .dataframe tbody tr th:only-of-type {\n",
              "        vertical-align: middle;\n",
              "    }\n",
              "\n",
              "    .dataframe tbody tr th {\n",
              "        vertical-align: top;\n",
              "    }\n",
              "\n",
              "    .dataframe thead th {\n",
              "        text-align: right;\n",
              "    }\n",
              "</style>\n",
              "<table border=\"1\" class=\"dataframe\">\n",
              "  <thead>\n",
              "    <tr style=\"text-align: right;\">\n",
              "      <th></th>\n",
              "      <th></th>\n",
              "      <th>A</th>\n",
              "      <th>B</th>\n",
              "    </tr>\n",
              "    <tr>\n",
              "      <th>first</th>\n",
              "      <th>second</th>\n",
              "      <th></th>\n",
              "      <th></th>\n",
              "    </tr>\n",
              "  </thead>\n",
              "  <tbody>\n",
              "    <tr>\n",
              "      <th rowspan=\"2\" valign=\"top\">bar</th>\n",
              "      <th>one</th>\n",
              "      <td>1.676330</td>\n",
              "      <td>0.741953</td>\n",
              "    </tr>\n",
              "    <tr>\n",
              "      <th>two</th>\n",
              "      <td>1.285101</td>\n",
              "      <td>0.289191</td>\n",
              "    </tr>\n",
              "    <tr>\n",
              "      <th rowspan=\"2\" valign=\"top\">baz</th>\n",
              "      <th>one</th>\n",
              "      <td>-1.146522</td>\n",
              "      <td>-1.063702</td>\n",
              "    </tr>\n",
              "    <tr>\n",
              "      <th>two</th>\n",
              "      <td>0.323112</td>\n",
              "      <td>-1.691190</td>\n",
              "    </tr>\n",
              "  </tbody>\n",
              "</table>\n",
              "</div>"
            ],
            "text/plain": [
              "                     A         B\n",
              "first second                    \n",
              "bar   one     1.676330  0.741953\n",
              "      two     1.285101  0.289191\n",
              "baz   one    -1.146522 -1.063702\n",
              "      two     0.323112 -1.691190"
            ]
          },
          "metadata": {
            "tags": []
          },
          "execution_count": 101
        }
      ]
    },
    {
      "cell_type": "code",
      "metadata": {
        "id": "UFE8KVSeqx-h",
        "outputId": "d16a6212-c882-44b4-fe9e-7cd4e31d4e68",
        "colab": {
          "base_uri": "https://localhost:8080/",
          "height": 204
        }
      },
      "source": [
        "stacked.unstack(1)"
      ],
      "execution_count": null,
      "outputs": [
        {
          "output_type": "execute_result",
          "data": {
            "text/html": [
              "<div>\n",
              "<style scoped>\n",
              "    .dataframe tbody tr th:only-of-type {\n",
              "        vertical-align: middle;\n",
              "    }\n",
              "\n",
              "    .dataframe tbody tr th {\n",
              "        vertical-align: top;\n",
              "    }\n",
              "\n",
              "    .dataframe thead th {\n",
              "        text-align: right;\n",
              "    }\n",
              "</style>\n",
              "<table border=\"1\" class=\"dataframe\">\n",
              "  <thead>\n",
              "    <tr style=\"text-align: right;\">\n",
              "      <th></th>\n",
              "      <th>second</th>\n",
              "      <th>one</th>\n",
              "      <th>two</th>\n",
              "    </tr>\n",
              "    <tr>\n",
              "      <th>first</th>\n",
              "      <th></th>\n",
              "      <th></th>\n",
              "      <th></th>\n",
              "    </tr>\n",
              "  </thead>\n",
              "  <tbody>\n",
              "    <tr>\n",
              "      <th rowspan=\"2\" valign=\"top\">bar</th>\n",
              "      <th>A</th>\n",
              "      <td>1.676330</td>\n",
              "      <td>1.285101</td>\n",
              "    </tr>\n",
              "    <tr>\n",
              "      <th>B</th>\n",
              "      <td>0.741953</td>\n",
              "      <td>0.289191</td>\n",
              "    </tr>\n",
              "    <tr>\n",
              "      <th rowspan=\"2\" valign=\"top\">baz</th>\n",
              "      <th>A</th>\n",
              "      <td>-1.146522</td>\n",
              "      <td>0.323112</td>\n",
              "    </tr>\n",
              "    <tr>\n",
              "      <th>B</th>\n",
              "      <td>-1.063702</td>\n",
              "      <td>-1.691190</td>\n",
              "    </tr>\n",
              "  </tbody>\n",
              "</table>\n",
              "</div>"
            ],
            "text/plain": [
              "second        one       two\n",
              "first                      \n",
              "bar   A  1.676330  1.285101\n",
              "      B  0.741953  0.289191\n",
              "baz   A -1.146522  0.323112\n",
              "      B -1.063702 -1.691190"
            ]
          },
          "metadata": {
            "tags": []
          },
          "execution_count": 102
        }
      ]
    },
    {
      "cell_type": "code",
      "metadata": {
        "id": "cIyi_ghlqzr4",
        "outputId": "c199be4f-9711-43e7-b4fd-8c7fd314024f",
        "colab": {
          "base_uri": "https://localhost:8080/",
          "height": 204
        }
      },
      "source": [
        "stacked.unstack(0)"
      ],
      "execution_count": null,
      "outputs": [
        {
          "output_type": "execute_result",
          "data": {
            "text/html": [
              "<div>\n",
              "<style scoped>\n",
              "    .dataframe tbody tr th:only-of-type {\n",
              "        vertical-align: middle;\n",
              "    }\n",
              "\n",
              "    .dataframe tbody tr th {\n",
              "        vertical-align: top;\n",
              "    }\n",
              "\n",
              "    .dataframe thead th {\n",
              "        text-align: right;\n",
              "    }\n",
              "</style>\n",
              "<table border=\"1\" class=\"dataframe\">\n",
              "  <thead>\n",
              "    <tr style=\"text-align: right;\">\n",
              "      <th></th>\n",
              "      <th>first</th>\n",
              "      <th>bar</th>\n",
              "      <th>baz</th>\n",
              "    </tr>\n",
              "    <tr>\n",
              "      <th>second</th>\n",
              "      <th></th>\n",
              "      <th></th>\n",
              "      <th></th>\n",
              "    </tr>\n",
              "  </thead>\n",
              "  <tbody>\n",
              "    <tr>\n",
              "      <th rowspan=\"2\" valign=\"top\">one</th>\n",
              "      <th>A</th>\n",
              "      <td>1.676330</td>\n",
              "      <td>-1.146522</td>\n",
              "    </tr>\n",
              "    <tr>\n",
              "      <th>B</th>\n",
              "      <td>0.741953</td>\n",
              "      <td>-1.063702</td>\n",
              "    </tr>\n",
              "    <tr>\n",
              "      <th rowspan=\"2\" valign=\"top\">two</th>\n",
              "      <th>A</th>\n",
              "      <td>1.285101</td>\n",
              "      <td>0.323112</td>\n",
              "    </tr>\n",
              "    <tr>\n",
              "      <th>B</th>\n",
              "      <td>0.289191</td>\n",
              "      <td>-1.691190</td>\n",
              "    </tr>\n",
              "  </tbody>\n",
              "</table>\n",
              "</div>"
            ],
            "text/plain": [
              "first          bar       baz\n",
              "second                      \n",
              "one    A  1.676330 -1.146522\n",
              "       B  0.741953 -1.063702\n",
              "two    A  1.285101  0.323112\n",
              "       B  0.289191 -1.691190"
            ]
          },
          "metadata": {
            "tags": []
          },
          "execution_count": 103
        }
      ]
    },
    {
      "cell_type": "markdown",
      "metadata": {
        "id": "BNNa0IAqrK4U"
      },
      "source": [
        "## Pivot Tables (피봇 테이블)"
      ]
    },
    {
      "cell_type": "markdown",
      "metadata": {
        "id": "roe9hspYzV-r"
      },
      "source": [
        "[피봇 테이블](https://pandas.pydata.org/pandas-docs/stable/user_guide/reshaping.html) 부분을 참조하세요."
      ]
    },
    {
      "cell_type": "code",
      "metadata": {
        "id": "OMQ_twHqrNQi",
        "outputId": "a5f55425-f93e-4b1b-a4df-32affe8bcc74",
        "colab": {
          "base_uri": "https://localhost:8080/",
          "height": 421
        }
      },
      "source": [
        "df = pd.DataFrame({'A' : ['one', 'one', 'two', 'three'] * 3,\n",
        "                   'B' : ['A', 'B', 'C'] * 4,\n",
        "                   'C' : ['foo', 'foo', 'foo', 'bar', 'bar', 'bar'] * 2,\n",
        "                   'D' : np.random.randn(12),\n",
        "                   'E' : np.random.randn(12)})\n",
        "df"
      ],
      "execution_count": null,
      "outputs": [
        {
          "output_type": "execute_result",
          "data": {
            "text/html": [
              "<div>\n",
              "<style scoped>\n",
              "    .dataframe tbody tr th:only-of-type {\n",
              "        vertical-align: middle;\n",
              "    }\n",
              "\n",
              "    .dataframe tbody tr th {\n",
              "        vertical-align: top;\n",
              "    }\n",
              "\n",
              "    .dataframe thead th {\n",
              "        text-align: right;\n",
              "    }\n",
              "</style>\n",
              "<table border=\"1\" class=\"dataframe\">\n",
              "  <thead>\n",
              "    <tr style=\"text-align: right;\">\n",
              "      <th></th>\n",
              "      <th>A</th>\n",
              "      <th>B</th>\n",
              "      <th>C</th>\n",
              "      <th>D</th>\n",
              "      <th>E</th>\n",
              "    </tr>\n",
              "  </thead>\n",
              "  <tbody>\n",
              "    <tr>\n",
              "      <th>0</th>\n",
              "      <td>one</td>\n",
              "      <td>A</td>\n",
              "      <td>foo</td>\n",
              "      <td>0.400788</td>\n",
              "      <td>-1.034473</td>\n",
              "    </tr>\n",
              "    <tr>\n",
              "      <th>1</th>\n",
              "      <td>one</td>\n",
              "      <td>B</td>\n",
              "      <td>foo</td>\n",
              "      <td>0.703777</td>\n",
              "      <td>0.570325</td>\n",
              "    </tr>\n",
              "    <tr>\n",
              "      <th>2</th>\n",
              "      <td>two</td>\n",
              "      <td>C</td>\n",
              "      <td>foo</td>\n",
              "      <td>0.382871</td>\n",
              "      <td>-0.195127</td>\n",
              "    </tr>\n",
              "    <tr>\n",
              "      <th>3</th>\n",
              "      <td>three</td>\n",
              "      <td>A</td>\n",
              "      <td>bar</td>\n",
              "      <td>-0.445686</td>\n",
              "      <td>-0.182392</td>\n",
              "    </tr>\n",
              "    <tr>\n",
              "      <th>4</th>\n",
              "      <td>one</td>\n",
              "      <td>B</td>\n",
              "      <td>bar</td>\n",
              "      <td>-0.869076</td>\n",
              "      <td>0.796872</td>\n",
              "    </tr>\n",
              "    <tr>\n",
              "      <th>5</th>\n",
              "      <td>one</td>\n",
              "      <td>C</td>\n",
              "      <td>bar</td>\n",
              "      <td>-0.334316</td>\n",
              "      <td>-0.008143</td>\n",
              "    </tr>\n",
              "    <tr>\n",
              "      <th>6</th>\n",
              "      <td>two</td>\n",
              "      <td>A</td>\n",
              "      <td>foo</td>\n",
              "      <td>-0.289491</td>\n",
              "      <td>1.539096</td>\n",
              "    </tr>\n",
              "    <tr>\n",
              "      <th>7</th>\n",
              "      <td>three</td>\n",
              "      <td>B</td>\n",
              "      <td>foo</td>\n",
              "      <td>-1.534157</td>\n",
              "      <td>-0.929239</td>\n",
              "    </tr>\n",
              "    <tr>\n",
              "      <th>8</th>\n",
              "      <td>one</td>\n",
              "      <td>C</td>\n",
              "      <td>foo</td>\n",
              "      <td>-1.043849</td>\n",
              "      <td>-0.029747</td>\n",
              "    </tr>\n",
              "    <tr>\n",
              "      <th>9</th>\n",
              "      <td>one</td>\n",
              "      <td>A</td>\n",
              "      <td>bar</td>\n",
              "      <td>-0.761419</td>\n",
              "      <td>0.693834</td>\n",
              "    </tr>\n",
              "    <tr>\n",
              "      <th>10</th>\n",
              "      <td>two</td>\n",
              "      <td>B</td>\n",
              "      <td>bar</td>\n",
              "      <td>-0.664304</td>\n",
              "      <td>-2.653813</td>\n",
              "    </tr>\n",
              "    <tr>\n",
              "      <th>11</th>\n",
              "      <td>three</td>\n",
              "      <td>C</td>\n",
              "      <td>bar</td>\n",
              "      <td>0.389816</td>\n",
              "      <td>0.097374</td>\n",
              "    </tr>\n",
              "  </tbody>\n",
              "</table>\n",
              "</div>"
            ],
            "text/plain": [
              "        A  B    C         D         E\n",
              "0     one  A  foo  0.400788 -1.034473\n",
              "1     one  B  foo  0.703777  0.570325\n",
              "2     two  C  foo  0.382871 -0.195127\n",
              "3   three  A  bar -0.445686 -0.182392\n",
              "4     one  B  bar -0.869076  0.796872\n",
              "5     one  C  bar -0.334316 -0.008143\n",
              "6     two  A  foo -0.289491  1.539096\n",
              "7   three  B  foo -1.534157 -0.929239\n",
              "8     one  C  foo -1.043849 -0.029747\n",
              "9     one  A  bar -0.761419  0.693834\n",
              "10    two  B  bar -0.664304 -2.653813\n",
              "11  three  C  bar  0.389816  0.097374"
            ]
          },
          "metadata": {
            "tags": []
          },
          "execution_count": 104
        }
      ]
    },
    {
      "cell_type": "code",
      "metadata": {
        "id": "NEcGKdMnrSP9",
        "outputId": "fef11239-cea2-4de8-a171-92eb369455cd",
        "colab": {
          "base_uri": "https://localhost:8080/",
          "height": 359
        }
      },
      "source": [
        "pd.pivot_table(df, values='D', index=['A', 'B'], columns=['C']) #피벗테이블 생성"
      ],
      "execution_count": null,
      "outputs": [
        {
          "output_type": "execute_result",
          "data": {
            "text/html": [
              "<div>\n",
              "<style scoped>\n",
              "    .dataframe tbody tr th:only-of-type {\n",
              "        vertical-align: middle;\n",
              "    }\n",
              "\n",
              "    .dataframe tbody tr th {\n",
              "        vertical-align: top;\n",
              "    }\n",
              "\n",
              "    .dataframe thead th {\n",
              "        text-align: right;\n",
              "    }\n",
              "</style>\n",
              "<table border=\"1\" class=\"dataframe\">\n",
              "  <thead>\n",
              "    <tr style=\"text-align: right;\">\n",
              "      <th></th>\n",
              "      <th>C</th>\n",
              "      <th>bar</th>\n",
              "      <th>foo</th>\n",
              "    </tr>\n",
              "    <tr>\n",
              "      <th>A</th>\n",
              "      <th>B</th>\n",
              "      <th></th>\n",
              "      <th></th>\n",
              "    </tr>\n",
              "  </thead>\n",
              "  <tbody>\n",
              "    <tr>\n",
              "      <th rowspan=\"3\" valign=\"top\">one</th>\n",
              "      <th>A</th>\n",
              "      <td>-0.761419</td>\n",
              "      <td>0.400788</td>\n",
              "    </tr>\n",
              "    <tr>\n",
              "      <th>B</th>\n",
              "      <td>-0.869076</td>\n",
              "      <td>0.703777</td>\n",
              "    </tr>\n",
              "    <tr>\n",
              "      <th>C</th>\n",
              "      <td>-0.334316</td>\n",
              "      <td>-1.043849</td>\n",
              "    </tr>\n",
              "    <tr>\n",
              "      <th rowspan=\"3\" valign=\"top\">three</th>\n",
              "      <th>A</th>\n",
              "      <td>-0.445686</td>\n",
              "      <td>NaN</td>\n",
              "    </tr>\n",
              "    <tr>\n",
              "      <th>B</th>\n",
              "      <td>NaN</td>\n",
              "      <td>-1.534157</td>\n",
              "    </tr>\n",
              "    <tr>\n",
              "      <th>C</th>\n",
              "      <td>0.389816</td>\n",
              "      <td>NaN</td>\n",
              "    </tr>\n",
              "    <tr>\n",
              "      <th rowspan=\"3\" valign=\"top\">two</th>\n",
              "      <th>A</th>\n",
              "      <td>NaN</td>\n",
              "      <td>-0.289491</td>\n",
              "    </tr>\n",
              "    <tr>\n",
              "      <th>B</th>\n",
              "      <td>-0.664304</td>\n",
              "      <td>NaN</td>\n",
              "    </tr>\n",
              "    <tr>\n",
              "      <th>C</th>\n",
              "      <td>NaN</td>\n",
              "      <td>0.382871</td>\n",
              "    </tr>\n",
              "  </tbody>\n",
              "</table>\n",
              "</div>"
            ],
            "text/plain": [
              "C             bar       foo\n",
              "A     B                    \n",
              "one   A -0.761419  0.400788\n",
              "      B -0.869076  0.703777\n",
              "      C -0.334316 -1.043849\n",
              "three A -0.445686       NaN\n",
              "      B       NaN -1.534157\n",
              "      C  0.389816       NaN\n",
              "two   A       NaN -0.289491\n",
              "      B -0.664304       NaN\n",
              "      C       NaN  0.382871"
            ]
          },
          "metadata": {
            "tags": []
          },
          "execution_count": 105
        }
      ]
    },
    {
      "cell_type": "markdown",
      "metadata": {
        "id": "axbtqE70sa1u"
      },
      "source": [
        "# 9. Time Series (시계열)"
      ]
    },
    {
      "cell_type": "markdown",
      "metadata": {
        "id": "RAD2_2kLs65C"
      },
      "source": [
        "[시계열](https://pandas.pydata.org/pandas-docs/stable/user_guide/timeseries.html) 참고"
      ]
    },
    {
      "cell_type": "code",
      "metadata": {
        "id": "B25Ux06xtCWP",
        "outputId": "e9bf7a25-23ed-419e-afae-08bb76882227",
        "colab": {
          "base_uri": "https://localhost:8080/"
        }
      },
      "source": [
        "rng = pd.date_range('1/1/2012', periods=100, freq='S')\n",
        "ts = pd.Series(np.random.randint(0, 500, len(rng)), index=rng)\n",
        "ts.resample('5Min').sum()"
      ],
      "execution_count": null,
      "outputs": [
        {
          "output_type": "execute_result",
          "data": {
            "text/plain": [
              "2012-01-01    27031\n",
              "Freq: 5T, dtype: int64"
            ]
          },
          "metadata": {
            "tags": []
          },
          "execution_count": 106
        }
      ]
    },
    {
      "cell_type": "code",
      "metadata": {
        "id": "sTB8Vd9YtVCr",
        "outputId": "f1fa4d5f-107e-46ea-9be1-24e0e1524658",
        "colab": {
          "base_uri": "https://localhost:8080/"
        }
      },
      "source": [
        "#시간대를 표현\n",
        "rng = pd.date_range('3/6/2012 00:00', periods=5, freq='D')\n",
        "ts = pd.Series(np.random.randn(len(rng)), rng)\n",
        "ts"
      ],
      "execution_count": null,
      "outputs": [
        {
          "output_type": "execute_result",
          "data": {
            "text/plain": [
              "2012-03-06    1.157900\n",
              "2012-03-07   -1.265382\n",
              "2012-03-08   -0.127102\n",
              "2012-03-09    1.004289\n",
              "2012-03-10   -2.485638\n",
              "Freq: D, dtype: float64"
            ]
          },
          "metadata": {
            "tags": []
          },
          "execution_count": 107
        }
      ]
    },
    {
      "cell_type": "code",
      "metadata": {
        "id": "YaZufY3Xthoi",
        "outputId": "184e8b49-c06a-4b8b-8206-d9b8b8a8be12",
        "colab": {
          "base_uri": "https://localhost:8080/"
        }
      },
      "source": [
        "ts_utc = ts.tz_localize('UTC')\n",
        "ts_utc"
      ],
      "execution_count": null,
      "outputs": [
        {
          "output_type": "execute_result",
          "data": {
            "text/plain": [
              "2012-03-06 00:00:00+00:00    1.157900\n",
              "2012-03-07 00:00:00+00:00   -1.265382\n",
              "2012-03-08 00:00:00+00:00   -0.127102\n",
              "2012-03-09 00:00:00+00:00    1.004289\n",
              "2012-03-10 00:00:00+00:00   -2.485638\n",
              "Freq: D, dtype: float64"
            ]
          },
          "metadata": {
            "tags": []
          },
          "execution_count": 108
        }
      ]
    },
    {
      "cell_type": "code",
      "metadata": {
        "id": "428-cKq9tqEc",
        "outputId": "3348af97-a236-4d96-8424-fb65b5a193a6",
        "colab": {
          "base_uri": "https://localhost:8080/"
        }
      },
      "source": [
        "#다른 시간대로 변환\n",
        "ts_utc.tz_convert('US/Eastern')"
      ],
      "execution_count": null,
      "outputs": [
        {
          "output_type": "execute_result",
          "data": {
            "text/plain": [
              "2012-03-05 19:00:00-05:00    1.157900\n",
              "2012-03-06 19:00:00-05:00   -1.265382\n",
              "2012-03-07 19:00:00-05:00   -0.127102\n",
              "2012-03-08 19:00:00-05:00    1.004289\n",
              "2012-03-09 19:00:00-05:00   -2.485638\n",
              "Freq: D, dtype: float64"
            ]
          },
          "metadata": {
            "tags": []
          },
          "execution_count": 109
        }
      ]
    },
    {
      "cell_type": "code",
      "metadata": {
        "id": "0-_qCY2QtwCZ",
        "outputId": "645b2ded-84e3-4ae4-bcbb-714fdb3160f2",
        "colab": {
          "base_uri": "https://localhost:8080/"
        }
      },
      "source": [
        "#시간 표현 ↔ 기간 표현으로 변환\n",
        "rng = pd.date_range('1/1/2012', periods=5, freq='M')\n",
        "ts = pd.Series(np.random.randn(len(rng)), index=rng)\n",
        "ts"
      ],
      "execution_count": null,
      "outputs": [
        {
          "output_type": "execute_result",
          "data": {
            "text/plain": [
              "2012-01-31   -0.479341\n",
              "2012-02-29    0.190911\n",
              "2012-03-31    0.165073\n",
              "2012-04-30    0.484112\n",
              "2012-05-31    1.606355\n",
              "Freq: M, dtype: float64"
            ]
          },
          "metadata": {
            "tags": []
          },
          "execution_count": 110
        }
      ]
    },
    {
      "cell_type": "code",
      "metadata": {
        "id": "ZOjFtfKht3Pp",
        "outputId": "63e26f5a-b6bb-483f-f836-335051473ec2",
        "colab": {
          "base_uri": "https://localhost:8080/"
        }
      },
      "source": [
        "ps = ts.to_period()\n",
        "ps"
      ],
      "execution_count": null,
      "outputs": [
        {
          "output_type": "execute_result",
          "data": {
            "text/plain": [
              "2012-01   -0.479341\n",
              "2012-02    0.190911\n",
              "2012-03    0.165073\n",
              "2012-04    0.484112\n",
              "2012-05    1.606355\n",
              "Freq: M, dtype: float64"
            ]
          },
          "metadata": {
            "tags": []
          },
          "execution_count": 111
        }
      ]
    },
    {
      "cell_type": "code",
      "metadata": {
        "id": "nzkoze8-t5Xj",
        "outputId": "9f69e7c4-cf8c-47f5-d286-a47697bc1d98",
        "colab": {
          "base_uri": "https://localhost:8080/"
        }
      },
      "source": [
        "ps.to_timestamp()"
      ],
      "execution_count": null,
      "outputs": [
        {
          "output_type": "execute_result",
          "data": {
            "text/plain": [
              "2012-01-01   -0.479341\n",
              "2012-02-01    0.190911\n",
              "2012-03-01    0.165073\n",
              "2012-04-01    0.484112\n",
              "2012-05-01    1.606355\n",
              "Freq: MS, dtype: float64"
            ]
          },
          "metadata": {
            "tags": []
          },
          "execution_count": 112
        }
      ]
    },
    {
      "cell_type": "markdown",
      "metadata": {
        "id": "JWPIEROMuQZ6"
      },
      "source": [
        "기간 ↔ 시간 변환은 편리한 산술 기능들을 사용할 수 있도록 만들어줍니다. 다음 예제에서, 우리는 11월에 끝나는 연말 결산의 분기별 빈도를 분기말 익월의 월말일 오전 9시로 변환합니다."
      ]
    },
    {
      "cell_type": "code",
      "metadata": {
        "id": "AiSpKvDwuQFB",
        "outputId": "32e458a1-3744-4888-ce4d-437463324b53",
        "colab": {
          "base_uri": "https://localhost:8080/"
        }
      },
      "source": [
        "prng = pd.period_range('1990Q1', '2000Q4', freq='Q-NOV')\n",
        "ts = pd.Series(np.random.randn(len(prng)), prng)\n",
        "ts.index = (prng.asfreq('M', 'e') + 1).asfreq('H', 's') + 9\n",
        "ts.head()"
      ],
      "execution_count": null,
      "outputs": [
        {
          "output_type": "execute_result",
          "data": {
            "text/plain": [
              "1990-03-01 09:00    0.663883\n",
              "1990-06-01 09:00   -1.286836\n",
              "1990-09-01 09:00    1.279946\n",
              "1990-12-01 09:00   -0.122535\n",
              "1991-03-01 09:00    1.117964\n",
              "Freq: H, dtype: float64"
            ]
          },
          "metadata": {
            "tags": []
          },
          "execution_count": 113
        }
      ]
    },
    {
      "cell_type": "markdown",
      "metadata": {
        "id": "6GnjMkNfuaVf"
      },
      "source": [
        "# 10. Categoricals (범주화)"
      ]
    },
    {
      "cell_type": "markdown",
      "metadata": {
        "id": "aFp-RdyhudV-"
      },
      "source": [
        "Pandas는 데이터프레임 내에 범주형 데이터를 포함할 수 있습니다.  \n",
        "[범주형 소개](https://pandas.pydata.org/pandas-docs/stable/user_guide/categorical.html) 와 \n",
        "[API 문서](https://pandas.pydata.org/pandas-docs/stable/reference/index.html) 참조"
      ]
    },
    {
      "cell_type": "code",
      "metadata": {
        "id": "WqNxt83Iuq9n",
        "outputId": "2542c286-50a9-4a55-c3ac-f51511b7bc91",
        "colab": {
          "base_uri": "https://localhost:8080/",
          "height": 235
        }
      },
      "source": [
        "df = pd.DataFrame({\"id\":[1,2,3,4,5,6], \"raw_grade\":['a', 'b', 'b', 'a', 'a', 'e']})\n",
        "df"
      ],
      "execution_count": null,
      "outputs": [
        {
          "output_type": "execute_result",
          "data": {
            "text/html": [
              "<div>\n",
              "<style scoped>\n",
              "    .dataframe tbody tr th:only-of-type {\n",
              "        vertical-align: middle;\n",
              "    }\n",
              "\n",
              "    .dataframe tbody tr th {\n",
              "        vertical-align: top;\n",
              "    }\n",
              "\n",
              "    .dataframe thead th {\n",
              "        text-align: right;\n",
              "    }\n",
              "</style>\n",
              "<table border=\"1\" class=\"dataframe\">\n",
              "  <thead>\n",
              "    <tr style=\"text-align: right;\">\n",
              "      <th></th>\n",
              "      <th>id</th>\n",
              "      <th>raw_grade</th>\n",
              "    </tr>\n",
              "  </thead>\n",
              "  <tbody>\n",
              "    <tr>\n",
              "      <th>0</th>\n",
              "      <td>1</td>\n",
              "      <td>a</td>\n",
              "    </tr>\n",
              "    <tr>\n",
              "      <th>1</th>\n",
              "      <td>2</td>\n",
              "      <td>b</td>\n",
              "    </tr>\n",
              "    <tr>\n",
              "      <th>2</th>\n",
              "      <td>3</td>\n",
              "      <td>b</td>\n",
              "    </tr>\n",
              "    <tr>\n",
              "      <th>3</th>\n",
              "      <td>4</td>\n",
              "      <td>a</td>\n",
              "    </tr>\n",
              "    <tr>\n",
              "      <th>4</th>\n",
              "      <td>5</td>\n",
              "      <td>a</td>\n",
              "    </tr>\n",
              "    <tr>\n",
              "      <th>5</th>\n",
              "      <td>6</td>\n",
              "      <td>e</td>\n",
              "    </tr>\n",
              "  </tbody>\n",
              "</table>\n",
              "</div>"
            ],
            "text/plain": [
              "   id raw_grade\n",
              "0   1         a\n",
              "1   2         b\n",
              "2   3         b\n",
              "3   4         a\n",
              "4   5         a\n",
              "5   6         e"
            ]
          },
          "metadata": {
            "tags": []
          },
          "execution_count": 114
        }
      ]
    },
    {
      "cell_type": "code",
      "metadata": {
        "id": "d4zQ6oO8u6Tx",
        "outputId": "87d36292-93d3-46d0-cc56-76c2770faed2",
        "colab": {
          "base_uri": "https://localhost:8080/"
        }
      },
      "source": [
        "#가공하지 않은 성적을 범주형 데이터로 변환\n",
        "df[\"grade\"] = df[\"raw_grade\"].astype(\"category\")\n",
        "df[\"grade\"]"
      ],
      "execution_count": null,
      "outputs": [
        {
          "output_type": "execute_result",
          "data": {
            "text/plain": [
              "0    a\n",
              "1    b\n",
              "2    b\n",
              "3    a\n",
              "4    a\n",
              "5    e\n",
              "Name: grade, dtype: category\n",
              "Categories (3, object): ['a', 'b', 'e']"
            ]
          },
          "metadata": {
            "tags": []
          },
          "execution_count": 115
        }
      ]
    },
    {
      "cell_type": "code",
      "metadata": {
        "id": "F7JgERnHvD_Q",
        "outputId": "de84f46b-01c9-4433-9756-e1bf2a3c006d",
        "colab": {
          "base_uri": "https://localhost:8080/"
        }
      },
      "source": [
        "#범주에 더 의미 있는 이름을 붙이기 (Series.cat.categories로 할당하는 것이 적합)\n",
        "df[\"grade\"].cat.categories = [\"very good\", \"good\", \"very bad\"]\n",
        "df[\"grade\"] "
      ],
      "execution_count": null,
      "outputs": [
        {
          "output_type": "execute_result",
          "data": {
            "text/plain": [
              "0    very good\n",
              "1         good\n",
              "2         good\n",
              "3    very good\n",
              "4    very good\n",
              "5     very bad\n",
              "Name: grade, dtype: category\n",
              "Categories (3, object): ['very good', 'good', 'very bad']"
            ]
          },
          "metadata": {
            "tags": []
          },
          "execution_count": 118
        }
      ]
    },
    {
      "cell_type": "code",
      "metadata": {
        "id": "2OzKZ7pxvZCS",
        "outputId": "c6918629-e575-412e-f16b-dda7c2d06f4d",
        "colab": {
          "base_uri": "https://localhost:8080/",
          "height": 235
        }
      },
      "source": [
        "#정렬은 사전 순서가 아닌, 해당 범주에서 지정된 순서대로 배열\n",
        "#131번에서 very bad, bad, medium, good, very good 의 순서로 기재되어 있기 때문에 정렬 결과도 해당 순서대로 배열\n",
        "df.sort_values(by=\"grade\")"
      ],
      "execution_count": null,
      "outputs": [
        {
          "output_type": "execute_result",
          "data": {
            "text/html": [
              "<div>\n",
              "<style scoped>\n",
              "    .dataframe tbody tr th:only-of-type {\n",
              "        vertical-align: middle;\n",
              "    }\n",
              "\n",
              "    .dataframe tbody tr th {\n",
              "        vertical-align: top;\n",
              "    }\n",
              "\n",
              "    .dataframe thead th {\n",
              "        text-align: right;\n",
              "    }\n",
              "</style>\n",
              "<table border=\"1\" class=\"dataframe\">\n",
              "  <thead>\n",
              "    <tr style=\"text-align: right;\">\n",
              "      <th></th>\n",
              "      <th>id</th>\n",
              "      <th>raw_grade</th>\n",
              "      <th>grade</th>\n",
              "    </tr>\n",
              "  </thead>\n",
              "  <tbody>\n",
              "    <tr>\n",
              "      <th>0</th>\n",
              "      <td>1</td>\n",
              "      <td>a</td>\n",
              "      <td>very good</td>\n",
              "    </tr>\n",
              "    <tr>\n",
              "      <th>3</th>\n",
              "      <td>4</td>\n",
              "      <td>a</td>\n",
              "      <td>very good</td>\n",
              "    </tr>\n",
              "    <tr>\n",
              "      <th>4</th>\n",
              "      <td>5</td>\n",
              "      <td>a</td>\n",
              "      <td>very good</td>\n",
              "    </tr>\n",
              "    <tr>\n",
              "      <th>1</th>\n",
              "      <td>2</td>\n",
              "      <td>b</td>\n",
              "      <td>good</td>\n",
              "    </tr>\n",
              "    <tr>\n",
              "      <th>2</th>\n",
              "      <td>3</td>\n",
              "      <td>b</td>\n",
              "      <td>good</td>\n",
              "    </tr>\n",
              "    <tr>\n",
              "      <th>5</th>\n",
              "      <td>6</td>\n",
              "      <td>e</td>\n",
              "      <td>very bad</td>\n",
              "    </tr>\n",
              "  </tbody>\n",
              "</table>\n",
              "</div>"
            ],
            "text/plain": [
              "   id raw_grade      grade\n",
              "0   1         a  very good\n",
              "3   4         a  very good\n",
              "4   5         a  very good\n",
              "1   2         b       good\n",
              "2   3         b       good\n",
              "5   6         e   very bad"
            ]
          },
          "metadata": {
            "tags": []
          },
          "execution_count": 119
        }
      ]
    },
    {
      "cell_type": "code",
      "metadata": {
        "id": "1YvaI6vvvpW6",
        "outputId": "488d08d0-54a2-442a-f7e3-92def7fccc1f",
        "colab": {
          "base_uri": "https://localhost:8080/"
        }
      },
      "source": [
        "#범주의 열을 기준으로 그룹화하면 빈 범주도 표시\n",
        "df.groupby(\"grade\").size()"
      ],
      "execution_count": null,
      "outputs": [
        {
          "output_type": "execute_result",
          "data": {
            "text/plain": [
              "grade\n",
              "very good    3\n",
              "good         2\n",
              "very bad     1\n",
              "dtype: int64"
            ]
          },
          "metadata": {
            "tags": []
          },
          "execution_count": 120
        }
      ]
    },
    {
      "cell_type": "markdown",
      "metadata": {
        "id": "z-OhgJVZvx_N"
      },
      "source": [
        "# 11. Plotting (그래프)"
      ]
    },
    {
      "cell_type": "markdown",
      "metadata": {
        "id": "hD3ZkLtIv04m"
      },
      "source": [
        "[Plotting](https://pandas.pydata.org/pandas-docs/stable/user_guide/visualization.html)참조"
      ]
    },
    {
      "cell_type": "code",
      "metadata": {
        "id": "M3x1QYfnwAVm",
        "outputId": "c039c1c0-c50b-4948-f5ac-7a395b847653",
        "colab": {
          "base_uri": "https://localhost:8080/",
          "height": 295
        }
      },
      "source": [
        "ts = pd.Series(np.random.randn(1000), index=pd.date_range('1/1/2000', periods=1000))\n",
        "ts = ts.cumsum()\n",
        "ts.plot()"
      ],
      "execution_count": null,
      "outputs": [
        {
          "output_type": "execute_result",
          "data": {
            "text/plain": [
              "<matplotlib.axes._subplots.AxesSubplot at 0x7f0da9fbe9b0>"
            ]
          },
          "metadata": {
            "tags": []
          },
          "execution_count": 121
        },
        {
          "output_type": "display_data",
          "data": {
            "image/png": "[encoded data removed]",
            "text/plain": [
              "<Figure size 432x288 with 1 Axes>"
            ]
          },
          "metadata": {
            "tags": [],
            "needs_background": "light"
          }
        }
      ]
    },
    {
      "cell_type": "code",
      "metadata": {
        "id": "vx2YDWTHwERI",
        "outputId": "bfc0448e-12f5-46b4-ab87-bee76b7a1340",
        "colab": {
          "base_uri": "https://localhost:8080/",
          "height": 316
        }
      },
      "source": [
        "#데이터프레임에서 plot() 메소드는 라벨이 존재하는 모든 열을 그릴 때 편리\n",
        "df = pd.DataFrame(np.random.randn(1000, 4), index=ts.index,\n",
        "                  columns=['A', 'B', 'C', 'D'])  \n",
        "df = df.cumsum()\n",
        "plt.figure(); df.plot(); plt.legend(loc='best')"
      ],
      "execution_count": null,
      "outputs": [
        {
          "output_type": "execute_result",
          "data": {
            "text/plain": [
              "<matplotlib.legend.Legend at 0x7f0da9ef6b38>"
            ]
          },
          "metadata": {
            "tags": []
          },
          "execution_count": 122
        },
        {
          "output_type": "display_data",
          "data": {
            "text/plain": [
              "<Figure size 432x288 with 0 Axes>"
            ]
          },
          "metadata": {
            "tags": []
          }
        },
        {
          "output_type": "display_data",
          "data": {
            "image/png": "[encoded data removed]",
            "text/plain": [
              "<Figure size 432x288 with 1 Axes>"
            ]
          },
          "metadata": {
            "tags": [],
            "needs_background": "light"
          }
        }
      ]
    },
    {
      "cell_type": "markdown",
      "metadata": {
        "id": "GKHwHQkQwWkU"
      },
      "source": [
        "# 12. Getting Data In / Out (데이터 입 / 출력)"
      ]
    },
    {
      "cell_type": "markdown",
      "metadata": {
        "id": "ltCk6bJbwYdm"
      },
      "source": [
        "## CSV"
      ]
    },
    {
      "cell_type": "markdown",
      "metadata": {
        "id": "Ge2MpT1Kweon"
      },
      "source": [
        "[csv 파일에 씁니다.](https://pandas.pydata.org/pandas-docs/stable/user_guide/io.html)"
      ]
    },
    {
      "cell_type": "code",
      "metadata": {
        "id": "EebqpTG2wj_R"
      },
      "source": [
        "df.to_csv('foo.csv')"
      ],
      "execution_count": null,
      "outputs": []
    },
    {
      "cell_type": "markdown",
      "metadata": {
        "id": "nZYVPLLmwlNg"
      },
      "source": [
        "[csv 파일을 읽습니다.](https://pandas.pydata.org/pandas-docs/stable/user_guide/io.html)"
      ]
    },
    {
      "cell_type": "code",
      "metadata": {
        "id": "7TJcCKhuwtNW",
        "outputId": "069322d5-894b-4b30-c73d-47555e887dc3",
        "colab": {
          "base_uri": "https://localhost:8080/",
          "height": 419
        }
      },
      "source": [
        "pd.read_csv('foo.csv')"
      ],
      "execution_count": null,
      "outputs": [
        {
          "output_type": "execute_result",
          "data": {
            "text/html": [
              "<div>\n",
              "<style scoped>\n",
              "    .dataframe tbody tr th:only-of-type {\n",
              "        vertical-align: middle;\n",
              "    }\n",
              "\n",
              "    .dataframe tbody tr th {\n",
              "        vertical-align: top;\n",
              "    }\n",
              "\n",
              "    .dataframe thead th {\n",
              "        text-align: right;\n",
              "    }\n",
              "</style>\n",
              "<table border=\"1\" class=\"dataframe\">\n",
              "  <thead>\n",
              "    <tr style=\"text-align: right;\">\n",
              "      <th></th>\n",
              "      <th>Unnamed: 0</th>\n",
              "      <th>A</th>\n",
              "      <th>B</th>\n",
              "      <th>C</th>\n",
              "      <th>D</th>\n",
              "    </tr>\n",
              "  </thead>\n",
              "  <tbody>\n",
              "    <tr>\n",
              "      <th>0</th>\n",
              "      <td>2000-01-01</td>\n",
              "      <td>0.345767</td>\n",
              "      <td>-0.694926</td>\n",
              "      <td>0.062426</td>\n",
              "      <td>0.810049</td>\n",
              "    </tr>\n",
              "    <tr>\n",
              "      <th>1</th>\n",
              "      <td>2000-01-02</td>\n",
              "      <td>-0.142858</td>\n",
              "      <td>-0.627108</td>\n",
              "      <td>-0.691988</td>\n",
              "      <td>-0.230060</td>\n",
              "    </tr>\n",
              "    <tr>\n",
              "      <th>2</th>\n",
              "      <td>2000-01-03</td>\n",
              "      <td>1.185835</td>\n",
              "      <td>-1.549362</td>\n",
              "      <td>-0.495417</td>\n",
              "      <td>0.356614</td>\n",
              "    </tr>\n",
              "    <tr>\n",
              "      <th>3</th>\n",
              "      <td>2000-01-04</td>\n",
              "      <td>2.206906</td>\n",
              "      <td>-2.540289</td>\n",
              "      <td>0.078394</td>\n",
              "      <td>1.043612</td>\n",
              "    </tr>\n",
              "    <tr>\n",
              "      <th>4</th>\n",
              "      <td>2000-01-05</td>\n",
              "      <td>-0.188699</td>\n",
              "      <td>-3.463636</td>\n",
              "      <td>-0.184281</td>\n",
              "      <td>2.298410</td>\n",
              "    </tr>\n",
              "    <tr>\n",
              "      <th>...</th>\n",
              "      <td>...</td>\n",
              "      <td>...</td>\n",
              "      <td>...</td>\n",
              "      <td>...</td>\n",
              "      <td>...</td>\n",
              "    </tr>\n",
              "    <tr>\n",
              "      <th>995</th>\n",
              "      <td>2002-09-22</td>\n",
              "      <td>3.166395</td>\n",
              "      <td>8.458951</td>\n",
              "      <td>-20.457802</td>\n",
              "      <td>-7.949084</td>\n",
              "    </tr>\n",
              "    <tr>\n",
              "      <th>996</th>\n",
              "      <td>2002-09-23</td>\n",
              "      <td>2.910196</td>\n",
              "      <td>8.427453</td>\n",
              "      <td>-20.354596</td>\n",
              "      <td>-8.672676</td>\n",
              "    </tr>\n",
              "    <tr>\n",
              "      <th>997</th>\n",
              "      <td>2002-09-24</td>\n",
              "      <td>2.330023</td>\n",
              "      <td>7.618326</td>\n",
              "      <td>-20.326948</td>\n",
              "      <td>-8.624537</td>\n",
              "    </tr>\n",
              "    <tr>\n",
              "      <th>998</th>\n",
              "      <td>2002-09-25</td>\n",
              "      <td>2.977270</td>\n",
              "      <td>6.464046</td>\n",
              "      <td>-20.386595</td>\n",
              "      <td>-8.666523</td>\n",
              "    </tr>\n",
              "    <tr>\n",
              "      <th>999</th>\n",
              "      <td>2002-09-26</td>\n",
              "      <td>2.493001</td>\n",
              "      <td>7.447263</td>\n",
              "      <td>-19.976644</td>\n",
              "      <td>-8.604444</td>\n",
              "    </tr>\n",
              "  </tbody>\n",
              "</table>\n",
              "<p>1000 rows × 5 columns</p>\n",
              "</div>"
            ],
            "text/plain": [
              "     Unnamed: 0         A         B          C         D\n",
              "0    2000-01-01  0.345767 -0.694926   0.062426  0.810049\n",
              "1    2000-01-02 -0.142858 -0.627108  -0.691988 -0.230060\n",
              "2    2000-01-03  1.185835 -1.549362  -0.495417  0.356614\n",
              "3    2000-01-04  2.206906 -2.540289   0.078394  1.043612\n",
              "4    2000-01-05 -0.188699 -3.463636  -0.184281  2.298410\n",
              "..          ...       ...       ...        ...       ...\n",
              "995  2002-09-22  3.166395  8.458951 -20.457802 -7.949084\n",
              "996  2002-09-23  2.910196  8.427453 -20.354596 -8.672676\n",
              "997  2002-09-24  2.330023  7.618326 -20.326948 -8.624537\n",
              "998  2002-09-25  2.977270  6.464046 -20.386595 -8.666523\n",
              "999  2002-09-26  2.493001  7.447263 -19.976644 -8.604444\n",
              "\n",
              "[1000 rows x 5 columns]"
            ]
          },
          "metadata": {
            "tags": []
          },
          "execution_count": 124
        }
      ]
    },
    {
      "cell_type": "markdown",
      "metadata": {
        "id": "OcJxuiNaw0oq"
      },
      "source": [
        "## HDF5"
      ]
    },
    {
      "cell_type": "markdown",
      "metadata": {
        "id": "LkSNE_gEw4fO"
      },
      "source": [
        "[HDFStores](https://pandas.pydata.org/pandas-docs/stable/user_guide/io.html)에 읽고 씁니다.  "
      ]
    },
    {
      "cell_type": "code",
      "metadata": {
        "id": "RNVpM5Luwzvy",
        "outputId": "73e18060-4f6e-4026-d872-bad6daaabe47",
        "colab": {
          "base_uri": "https://localhost:8080/",
          "height": 419
        }
      },
      "source": [
        "#HDF5 Store에 씁니다.\n",
        "df.to_hdf('foo.h5','df')\n",
        "\n",
        "#HDF5 Store에서 읽어옵니다.\n",
        "pd.read_hdf('foo.h5','df')"
      ],
      "execution_count": null,
      "outputs": [
        {
          "output_type": "execute_result",
          "data": {
            "text/html": [
              "<div>\n",
              "<style scoped>\n",
              "    .dataframe tbody tr th:only-of-type {\n",
              "        vertical-align: middle;\n",
              "    }\n",
              "\n",
              "    .dataframe tbody tr th {\n",
              "        vertical-align: top;\n",
              "    }\n",
              "\n",
              "    .dataframe thead th {\n",
              "        text-align: right;\n",
              "    }\n",
              "</style>\n",
              "<table border=\"1\" class=\"dataframe\">\n",
              "  <thead>\n",
              "    <tr style=\"text-align: right;\">\n",
              "      <th></th>\n",
              "      <th>A</th>\n",
              "      <th>B</th>\n",
              "      <th>C</th>\n",
              "      <th>D</th>\n",
              "    </tr>\n",
              "  </thead>\n",
              "  <tbody>\n",
              "    <tr>\n",
              "      <th>2000-01-01</th>\n",
              "      <td>0.345767</td>\n",
              "      <td>-0.694926</td>\n",
              "      <td>0.062426</td>\n",
              "      <td>0.810049</td>\n",
              "    </tr>\n",
              "    <tr>\n",
              "      <th>2000-01-02</th>\n",
              "      <td>-0.142858</td>\n",
              "      <td>-0.627108</td>\n",
              "      <td>-0.691988</td>\n",
              "      <td>-0.230060</td>\n",
              "    </tr>\n",
              "    <tr>\n",
              "      <th>2000-01-03</th>\n",
              "      <td>1.185835</td>\n",
              "      <td>-1.549362</td>\n",
              "      <td>-0.495417</td>\n",
              "      <td>0.356614</td>\n",
              "    </tr>\n",
              "    <tr>\n",
              "      <th>2000-01-04</th>\n",
              "      <td>2.206906</td>\n",
              "      <td>-2.540289</td>\n",
              "      <td>0.078394</td>\n",
              "      <td>1.043612</td>\n",
              "    </tr>\n",
              "    <tr>\n",
              "      <th>2000-01-05</th>\n",
              "      <td>-0.188699</td>\n",
              "      <td>-3.463636</td>\n",
              "      <td>-0.184281</td>\n",
              "      <td>2.298410</td>\n",
              "    </tr>\n",
              "    <tr>\n",
              "      <th>...</th>\n",
              "      <td>...</td>\n",
              "      <td>...</td>\n",
              "      <td>...</td>\n",
              "      <td>...</td>\n",
              "    </tr>\n",
              "    <tr>\n",
              "      <th>2002-09-22</th>\n",
              "      <td>3.166395</td>\n",
              "      <td>8.458951</td>\n",
              "      <td>-20.457802</td>\n",
              "      <td>-7.949084</td>\n",
              "    </tr>\n",
              "    <tr>\n",
              "      <th>2002-09-23</th>\n",
              "      <td>2.910196</td>\n",
              "      <td>8.427453</td>\n",
              "      <td>-20.354596</td>\n",
              "      <td>-8.672676</td>\n",
              "    </tr>\n",
              "    <tr>\n",
              "      <th>2002-09-24</th>\n",
              "      <td>2.330023</td>\n",
              "      <td>7.618326</td>\n",
              "      <td>-20.326948</td>\n",
              "      <td>-8.624537</td>\n",
              "    </tr>\n",
              "    <tr>\n",
              "      <th>2002-09-25</th>\n",
              "      <td>2.977270</td>\n",
              "      <td>6.464046</td>\n",
              "      <td>-20.386595</td>\n",
              "      <td>-8.666523</td>\n",
              "    </tr>\n",
              "    <tr>\n",
              "      <th>2002-09-26</th>\n",
              "      <td>2.493001</td>\n",
              "      <td>7.447263</td>\n",
              "      <td>-19.976644</td>\n",
              "      <td>-8.604444</td>\n",
              "    </tr>\n",
              "  </tbody>\n",
              "</table>\n",
              "<p>1000 rows × 4 columns</p>\n",
              "</div>"
            ],
            "text/plain": [
              "                   A         B          C         D\n",
              "2000-01-01  0.345767 -0.694926   0.062426  0.810049\n",
              "2000-01-02 -0.142858 -0.627108  -0.691988 -0.230060\n",
              "2000-01-03  1.185835 -1.549362  -0.495417  0.356614\n",
              "2000-01-04  2.206906 -2.540289   0.078394  1.043612\n",
              "2000-01-05 -0.188699 -3.463636  -0.184281  2.298410\n",
              "...              ...       ...        ...       ...\n",
              "2002-09-22  3.166395  8.458951 -20.457802 -7.949084\n",
              "2002-09-23  2.910196  8.427453 -20.354596 -8.672676\n",
              "2002-09-24  2.330023  7.618326 -20.326948 -8.624537\n",
              "2002-09-25  2.977270  6.464046 -20.386595 -8.666523\n",
              "2002-09-26  2.493001  7.447263 -19.976644 -8.604444\n",
              "\n",
              "[1000 rows x 4 columns]"
            ]
          },
          "metadata": {
            "tags": []
          },
          "execution_count": 128
        }
      ]
    },
    {
      "cell_type": "markdown",
      "metadata": {
        "id": "K_psIU5HxVFi"
      },
      "source": [
        "## Excel"
      ]
    },
    {
      "cell_type": "markdown",
      "metadata": {
        "id": "Nmu-SxE6xZ67"
      },
      "source": [
        "[MS Excel](https://pandas.pydata.org/pandas-docs/stable/user_guide/io.html)에 읽고 씁니다."
      ]
    },
    {
      "cell_type": "code",
      "metadata": {
        "id": "qEVJVaOPxhzL",
        "outputId": "851254d2-8ff1-4b74-b76a-01c82e2c938f",
        "colab": {
          "base_uri": "https://localhost:8080/",
          "height": 419
        }
      },
      "source": [
        "#엑셀 파일에 씁니다.\n",
        "df.to_excel('foo.xlsx', sheet_name='Sheet1')\n",
        "\n",
        "#엑셀 파일을 읽어옵니다.\n",
        "pd.read_excel('foo.xlsx', 'Sheet1', index_col=None, na_values=['NA'])"
      ],
      "execution_count": null,
      "outputs": [
        {
          "output_type": "execute_result",
          "data": {
            "text/html": [
              "<div>\n",
              "<style scoped>\n",
              "    .dataframe tbody tr th:only-of-type {\n",
              "        vertical-align: middle;\n",
              "    }\n",
              "\n",
              "    .dataframe tbody tr th {\n",
              "        vertical-align: top;\n",
              "    }\n",
              "\n",
              "    .dataframe thead th {\n",
              "        text-align: right;\n",
              "    }\n",
              "</style>\n",
              "<table border=\"1\" class=\"dataframe\">\n",
              "  <thead>\n",
              "    <tr style=\"text-align: right;\">\n",
              "      <th></th>\n",
              "      <th>Unnamed: 0</th>\n",
              "      <th>A</th>\n",
              "      <th>B</th>\n",
              "      <th>C</th>\n",
              "      <th>D</th>\n",
              "    </tr>\n",
              "  </thead>\n",
              "  <tbody>\n",
              "    <tr>\n",
              "      <th>0</th>\n",
              "      <td>2000-01-01</td>\n",
              "      <td>0.345767</td>\n",
              "      <td>-0.694926</td>\n",
              "      <td>0.062426</td>\n",
              "      <td>0.810049</td>\n",
              "    </tr>\n",
              "    <tr>\n",
              "      <th>1</th>\n",
              "      <td>2000-01-02</td>\n",
              "      <td>-0.142858</td>\n",
              "      <td>-0.627108</td>\n",
              "      <td>-0.691988</td>\n",
              "      <td>-0.230060</td>\n",
              "    </tr>\n",
              "    <tr>\n",
              "      <th>2</th>\n",
              "      <td>2000-01-03</td>\n",
              "      <td>1.185835</td>\n",
              "      <td>-1.549362</td>\n",
              "      <td>-0.495417</td>\n",
              "      <td>0.356614</td>\n",
              "    </tr>\n",
              "    <tr>\n",
              "      <th>3</th>\n",
              "      <td>2000-01-04</td>\n",
              "      <td>2.206906</td>\n",
              "      <td>-2.540289</td>\n",
              "      <td>0.078394</td>\n",
              "      <td>1.043612</td>\n",
              "    </tr>\n",
              "    <tr>\n",
              "      <th>4</th>\n",
              "      <td>2000-01-05</td>\n",
              "      <td>-0.188699</td>\n",
              "      <td>-3.463636</td>\n",
              "      <td>-0.184281</td>\n",
              "      <td>2.298410</td>\n",
              "    </tr>\n",
              "    <tr>\n",
              "      <th>...</th>\n",
              "      <td>...</td>\n",
              "      <td>...</td>\n",
              "      <td>...</td>\n",
              "      <td>...</td>\n",
              "      <td>...</td>\n",
              "    </tr>\n",
              "    <tr>\n",
              "      <th>995</th>\n",
              "      <td>2002-09-22</td>\n",
              "      <td>3.166395</td>\n",
              "      <td>8.458951</td>\n",
              "      <td>-20.457802</td>\n",
              "      <td>-7.949084</td>\n",
              "    </tr>\n",
              "    <tr>\n",
              "      <th>996</th>\n",
              "      <td>2002-09-23</td>\n",
              "      <td>2.910196</td>\n",
              "      <td>8.427453</td>\n",
              "      <td>-20.354596</td>\n",
              "      <td>-8.672676</td>\n",
              "    </tr>\n",
              "    <tr>\n",
              "      <th>997</th>\n",
              "      <td>2002-09-24</td>\n",
              "      <td>2.330023</td>\n",
              "      <td>7.618326</td>\n",
              "      <td>-20.326948</td>\n",
              "      <td>-8.624537</td>\n",
              "    </tr>\n",
              "    <tr>\n",
              "      <th>998</th>\n",
              "      <td>2002-09-25</td>\n",
              "      <td>2.977270</td>\n",
              "      <td>6.464046</td>\n",
              "      <td>-20.386595</td>\n",
              "      <td>-8.666523</td>\n",
              "    </tr>\n",
              "    <tr>\n",
              "      <th>999</th>\n",
              "      <td>2002-09-26</td>\n",
              "      <td>2.493001</td>\n",
              "      <td>7.447263</td>\n",
              "      <td>-19.976644</td>\n",
              "      <td>-8.604444</td>\n",
              "    </tr>\n",
              "  </tbody>\n",
              "</table>\n",
              "<p>1000 rows × 5 columns</p>\n",
              "</div>"
            ],
            "text/plain": [
              "    Unnamed: 0         A         B          C         D\n",
              "0   2000-01-01  0.345767 -0.694926   0.062426  0.810049\n",
              "1   2000-01-02 -0.142858 -0.627108  -0.691988 -0.230060\n",
              "2   2000-01-03  1.185835 -1.549362  -0.495417  0.356614\n",
              "3   2000-01-04  2.206906 -2.540289   0.078394  1.043612\n",
              "4   2000-01-05 -0.188699 -3.463636  -0.184281  2.298410\n",
              "..         ...       ...       ...        ...       ...\n",
              "995 2002-09-22  3.166395  8.458951 -20.457802 -7.949084\n",
              "996 2002-09-23  2.910196  8.427453 -20.354596 -8.672676\n",
              "997 2002-09-24  2.330023  7.618326 -20.326948 -8.624537\n",
              "998 2002-09-25  2.977270  6.464046 -20.386595 -8.666523\n",
              "999 2002-09-26  2.493001  7.447263 -19.976644 -8.604444\n",
              "\n",
              "[1000 rows x 5 columns]"
            ]
          },
          "metadata": {
            "tags": []
          },
          "execution_count": 127
        }
      ]
    },
    {
      "cell_type": "markdown",
      "metadata": {
        "id": "I6sAdy2dyfSm"
      },
      "source": [
        "# 13. Gotchas (잡았다!)"
      ]
    },
    {
      "cell_type": "code",
      "metadata": {
        "id": "5bI9Y7ecxIea",
        "outputId": "cc8b9dd5-0e7c-4e72-beb3-934818edc0c7",
        "colab": {
          "base_uri": "https://localhost:8080/",
          "height": 316
        }
      },
      "source": [
        "#연산 수행 시 다음과 같은 예외 상황을 볼 수도 있습니다.\n",
        "if pd.Series([False, True, False]):\n",
        "    print(\"I was true\")"
      ],
      "execution_count": null,
      "outputs": [
        {
          "output_type": "error",
          "ename": "ValueError",
          "evalue": "ignored",
          "traceback": [
            "\u001b[0;31m---------------------------------------------------------------------------\u001b[0m",
            "\u001b[0;31mValueError\u001b[0m                                Traceback (most recent call last)",
            "\u001b[0;32m<ipython-input-129-5c782b38cd2f>\u001b[0m in \u001b[0;36m<module>\u001b[0;34m()\u001b[0m\n\u001b[0;32m----> 1\u001b[0;31m \u001b[0;32mif\u001b[0m \u001b[0mpd\u001b[0m\u001b[0;34m.\u001b[0m\u001b[0mSeries\u001b[0m\u001b[0;34m(\u001b[0m\u001b[0;34m[\u001b[0m\u001b[0;32mFalse\u001b[0m\u001b[0;34m,\u001b[0m \u001b[0;32mTrue\u001b[0m\u001b[0;34m,\u001b[0m \u001b[0;32mFalse\u001b[0m\u001b[0;34m]\u001b[0m\u001b[0;34m)\u001b[0m\u001b[0;34m:\u001b[0m\u001b[0;34m\u001b[0m\u001b[0;34m\u001b[0m\u001b[0m\n\u001b[0m\u001b[1;32m      2\u001b[0m     \u001b[0mprint\u001b[0m\u001b[0;34m(\u001b[0m\u001b[0;34m\"I was true\"\u001b[0m\u001b[0;34m)\u001b[0m\u001b[0;34m\u001b[0m\u001b[0;34m\u001b[0m\u001b[0m\n",
            "\u001b[0;32m/usr/local/lib/python3.6/dist-packages/pandas/core/generic.py\u001b[0m in \u001b[0;36m__nonzero__\u001b[0;34m(self)\u001b[0m\n\u001b[1;32m   1328\u001b[0m     \u001b[0;32mdef\u001b[0m \u001b[0m__nonzero__\u001b[0m\u001b[0;34m(\u001b[0m\u001b[0mself\u001b[0m\u001b[0;34m)\u001b[0m\u001b[0;34m:\u001b[0m\u001b[0;34m\u001b[0m\u001b[0;34m\u001b[0m\u001b[0m\n\u001b[1;32m   1329\u001b[0m         raise ValueError(\n\u001b[0;32m-> 1330\u001b[0;31m             \u001b[0;34mf\"The truth value of a {type(self).__name__} is ambiguous. \"\u001b[0m\u001b[0;34m\u001b[0m\u001b[0;34m\u001b[0m\u001b[0m\n\u001b[0m\u001b[1;32m   1331\u001b[0m             \u001b[0;34m\"Use a.empty, a.bool(), a.item(), a.any() or a.all().\"\u001b[0m\u001b[0;34m\u001b[0m\u001b[0;34m\u001b[0m\u001b[0m\n\u001b[1;32m   1332\u001b[0m         )\n",
            "\u001b[0;31mValueError\u001b[0m: The truth value of a Series is ambiguous. Use a.empty, a.bool(), a.item(), a.any() or a.all()."
          ]
        }
      ]
    },
    {
      "cell_type": "code",
      "metadata": {
        "id": "C8cPqIdGysfT",
        "outputId": "b6b1cc66-b295-4ae3-d898-190e307c6a22",
        "colab": {
          "base_uri": "https://localhost:8080/"
        }
      },
      "source": [
        "#이러한 경우에는 any(), all(), empty 등을 사용해서 무엇을 원하는지를 선택 (반영)해주어야 합니다.\n",
        "if pd.Series([False, True, False])is not None:\n",
        "      print(\"I was not None\")"
      ],
      "execution_count": null,
      "outputs": [
        {
          "output_type": "stream",
          "text": [
            "I was not None\n"
          ],
          "name": "stdout"
        }
      ]
    },
    {
      "cell_type": "markdown",
      "metadata": {
        "id": "sd60_-hPyxHQ"
      },
      "source": [
        "위에 대한 설명과 자세한 내용은 [비교](https://pandas.pydata.org/pandas-docs/stable/user_guide/basics.html) 부분을 참조하세요.\n",
        "\n",
        "[Gotchas](https://pandas.pydata.org/pandas-docs/stable/user_guide/gotchas.html) 부분도 참조하세요."
      ]
    },
    {
      "cell_type": "markdown",
      "metadata": {
        "id": "dnwMvhTizACW"
      },
      "source": [
        "본 자료의 저작권은 [BSD-3-Clause](https://opensource.org/licenses/BSD-3-Clause)인 점을 참조하여 주세요.\n",
        "\n",
        "This documentation is a Korean translation material of ‘10 Minutes to Pandas’. Every members of DATAITGIRLS2 program participated in the translation. If you want to know about DATAITGIRLS2 program, please visit [DATAITGIRLS2 program’s homepage](https://annefromk.github.io/dataitgirls2/).\n",
        "\n",
        "The copyright conditions of this documentation are BSD-3-Clause."
      ]
    }
  ]
}